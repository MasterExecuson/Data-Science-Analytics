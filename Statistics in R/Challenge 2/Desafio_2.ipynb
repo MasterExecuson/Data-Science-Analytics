{
  "nbformat": 4,
  "nbformat_minor": 0,
  "metadata": {
    "colab": {
      "provenance": [],
      "collapsed_sections": [
        "CehPJDZ5HmLX"
      ],
      "authorship_tag": "ABX9TyOHrDktmIeULb+R+216+GDM",
      "include_colab_link": true
    },
    "kernelspec": {
      "name": "ir",
      "display_name": "R"
    },
    "language_info": {
      "name": "R"
    }
  },
  "cells": [
    {
      "cell_type": "markdown",
      "metadata": {
        "id": "view-in-github",
        "colab_type": "text"
      },
      "source": [
        "<a href=\"https://colab.research.google.com/github/MasterExecuson/Data-Science-Analytics/blob/main/Statistics%20in%20R/Challenge%202/Desafio_2.ipynb\" target=\"_parent\"><img src=\"https://colab.research.google.com/assets/colab-badge.svg\" alt=\"Open In Colab\"/></a>"
      ]
    },
    {
      "cell_type": "markdown",
      "source": [
        "## Vinícius Marques Matos - atividade 1"
      ],
      "metadata": {
        "id": "iLaQMgmAeiDY"
      }
    },
    {
      "cell_type": "markdown",
      "source": [
        "Instruções:\n",
        "\n",
        "Instale e carregue a biblioteca 'datasets'. Esta biblioteca oferece uma grande quantidade de conjuntos de dados disponíveis para utilização.\n",
        "A biblioteca pode ser carregada utilizando o seguinte comando:\n",
        "\n",
        "library(datasets)\n",
        "\n",
        "Uma vez carregada a biblioteca, carregue o dataset mtcars (https://www.rdocumentation.org/packages/datasets/versions/3.6.2/topics/mtcars). O dataset pode ser carregado com o seguinte comando:\n",
        "\n",
        "data(mtcars)\n",
        "\n",
        "Uma vez carregado o dataset, desenvolva as seguintes análises descritivas com os conteúdos vistos até o momento.\n",
        "\n",
        "1- Identifique o tipo de cada variável presente no dataset.\n",
        "2- Escolha uma variável qualitativa, construa a tabela de frequências e interprete os valores.\n",
        "3- Construa um gráfico de barras para uma variável qualitativa utilizando a biblioteca ggplot2.\n",
        "4- Escolha uma variável quantitativa e construa um gráfico de barras utilizando a biblioteca ggplot2 (lembre-se que a variável deve ser agrupada previamente).\n",
        "\n",
        "\n",
        "Como entrega da atividade, devem ser anexados o script em R e os resultados em word."
      ],
      "metadata": {
        "id": "b-c3HoYdeqkS"
      }
    },
    {
      "cell_type": "code",
      "execution_count": null,
      "metadata": {
        "id": "vbBkwt-P62S1"
      },
      "outputs": [],
      "source": [
        "#install.packages('psych')\n",
        "#install.packages('reshape2')\n"
      ]
    },
    {
      "cell_type": "code",
      "source": [
        "\n",
        "library('readxl')\n",
        "library('data.table')\n",
        "library('datasets')\n",
        "library(psych)\n",
        "library('ggplot2')\n",
        "library('scales')\n",
        "library('reshape2')"
      ],
      "metadata": {
        "id": "nCHRLOpPodw7"
      },
      "execution_count": null,
      "outputs": []
    },
    {
      "cell_type": "code",
      "source": [
        "df <-as.data.table(mtcars)"
      ],
      "metadata": {
        "id": "4dDFQRj7gHah"
      },
      "execution_count": null,
      "outputs": []
    },
    {
      "cell_type": "code",
      "source": [
        "head(df)\n"
      ],
      "metadata": {
        "colab": {
          "base_uri": "https://localhost:8080/",
          "height": 286
        },
        "id": "Nsw8tI-ogVFb",
        "outputId": "808bf610-6d53-431e-8284-798ab2458190"
      },
      "execution_count": null,
      "outputs": [
        {
          "output_type": "display_data",
          "data": {
            "text/html": [
              "<table class=\"dataframe\">\n",
              "<caption>A data.table: 6 × 11</caption>\n",
              "<thead>\n",
              "\t<tr><th scope=col>mpg</th><th scope=col>cyl</th><th scope=col>disp</th><th scope=col>hp</th><th scope=col>drat</th><th scope=col>wt</th><th scope=col>qsec</th><th scope=col>vs</th><th scope=col>am</th><th scope=col>gear</th><th scope=col>carb</th></tr>\n",
              "\t<tr><th scope=col>&lt;dbl&gt;</th><th scope=col>&lt;dbl&gt;</th><th scope=col>&lt;dbl&gt;</th><th scope=col>&lt;dbl&gt;</th><th scope=col>&lt;dbl&gt;</th><th scope=col>&lt;dbl&gt;</th><th scope=col>&lt;dbl&gt;</th><th scope=col>&lt;dbl&gt;</th><th scope=col>&lt;dbl&gt;</th><th scope=col>&lt;dbl&gt;</th><th scope=col>&lt;dbl&gt;</th></tr>\n",
              "</thead>\n",
              "<tbody>\n",
              "\t<tr><td>21.0</td><td>6</td><td>160</td><td>110</td><td>3.90</td><td>2.620</td><td>16.46</td><td>0</td><td>1</td><td>4</td><td>4</td></tr>\n",
              "\t<tr><td>21.0</td><td>6</td><td>160</td><td>110</td><td>3.90</td><td>2.875</td><td>17.02</td><td>0</td><td>1</td><td>4</td><td>4</td></tr>\n",
              "\t<tr><td>22.8</td><td>4</td><td>108</td><td> 93</td><td>3.85</td><td>2.320</td><td>18.61</td><td>1</td><td>1</td><td>4</td><td>1</td></tr>\n",
              "\t<tr><td>21.4</td><td>6</td><td>258</td><td>110</td><td>3.08</td><td>3.215</td><td>19.44</td><td>1</td><td>0</td><td>3</td><td>1</td></tr>\n",
              "\t<tr><td>18.7</td><td>8</td><td>360</td><td>175</td><td>3.15</td><td>3.440</td><td>17.02</td><td>0</td><td>0</td><td>3</td><td>2</td></tr>\n",
              "\t<tr><td>18.1</td><td>6</td><td>225</td><td>105</td><td>2.76</td><td>3.460</td><td>20.22</td><td>1</td><td>0</td><td>3</td><td>1</td></tr>\n",
              "</tbody>\n",
              "</table>\n"
            ],
            "text/markdown": "\nA data.table: 6 × 11\n\n| mpg &lt;dbl&gt; | cyl &lt;dbl&gt; | disp &lt;dbl&gt; | hp &lt;dbl&gt; | drat &lt;dbl&gt; | wt &lt;dbl&gt; | qsec &lt;dbl&gt; | vs &lt;dbl&gt; | am &lt;dbl&gt; | gear &lt;dbl&gt; | carb &lt;dbl&gt; |\n|---|---|---|---|---|---|---|---|---|---|---|\n| 21.0 | 6 | 160 | 110 | 3.90 | 2.620 | 16.46 | 0 | 1 | 4 | 4 |\n| 21.0 | 6 | 160 | 110 | 3.90 | 2.875 | 17.02 | 0 | 1 | 4 | 4 |\n| 22.8 | 4 | 108 |  93 | 3.85 | 2.320 | 18.61 | 1 | 1 | 4 | 1 |\n| 21.4 | 6 | 258 | 110 | 3.08 | 3.215 | 19.44 | 1 | 0 | 3 | 1 |\n| 18.7 | 8 | 360 | 175 | 3.15 | 3.440 | 17.02 | 0 | 0 | 3 | 2 |\n| 18.1 | 6 | 225 | 105 | 2.76 | 3.460 | 20.22 | 1 | 0 | 3 | 1 |\n\n",
            "text/latex": "A data.table: 6 × 11\n\\begin{tabular}{lllllllllll}\n mpg & cyl & disp & hp & drat & wt & qsec & vs & am & gear & carb\\\\\n <dbl> & <dbl> & <dbl> & <dbl> & <dbl> & <dbl> & <dbl> & <dbl> & <dbl> & <dbl> & <dbl>\\\\\n\\hline\n\t 21.0 & 6 & 160 & 110 & 3.90 & 2.620 & 16.46 & 0 & 1 & 4 & 4\\\\\n\t 21.0 & 6 & 160 & 110 & 3.90 & 2.875 & 17.02 & 0 & 1 & 4 & 4\\\\\n\t 22.8 & 4 & 108 &  93 & 3.85 & 2.320 & 18.61 & 1 & 1 & 4 & 1\\\\\n\t 21.4 & 6 & 258 & 110 & 3.08 & 3.215 & 19.44 & 1 & 0 & 3 & 1\\\\\n\t 18.7 & 8 & 360 & 175 & 3.15 & 3.440 & 17.02 & 0 & 0 & 3 & 2\\\\\n\t 18.1 & 6 & 225 & 105 & 2.76 & 3.460 & 20.22 & 1 & 0 & 3 & 1\\\\\n\\end{tabular}\n",
            "text/plain": [
              "  mpg  cyl disp hp  drat wt    qsec  vs am gear carb\n",
              "1 21.0 6   160  110 3.90 2.620 16.46 0  1  4    4   \n",
              "2 21.0 6   160  110 3.90 2.875 17.02 0  1  4    4   \n",
              "3 22.8 4   108   93 3.85 2.320 18.61 1  1  4    1   \n",
              "4 21.4 6   258  110 3.08 3.215 19.44 1  0  3    1   \n",
              "5 18.7 8   360  175 3.15 3.440 17.02 0  0  3    2   \n",
              "6 18.1 6   225  105 2.76 3.460 20.22 1  0  3    1   "
            ]
          },
          "metadata": {}
        }
      ]
    },
    {
      "cell_type": "code",
      "source": [
        "str(df)"
      ],
      "metadata": {
        "colab": {
          "base_uri": "https://localhost:8080/"
        },
        "collapsed": true,
        "id": "TzLFMMIZhZB1",
        "outputId": "373332d8-1ce2-4bb8-84ef-c21472e0da94"
      },
      "execution_count": null,
      "outputs": [
        {
          "output_type": "stream",
          "name": "stdout",
          "text": [
            "Classes ‘data.table’ and 'data.frame':\t32 obs. of  11 variables:\n",
            " $ mpg : num  21 21 22.8 21.4 18.7 18.1 14.3 24.4 22.8 19.2 ...\n",
            " $ cyl : num  6 6 4 6 8 6 8 4 4 6 ...\n",
            " $ disp: num  160 160 108 258 360 ...\n",
            " $ hp  : num  110 110 93 110 175 105 245 62 95 123 ...\n",
            " $ drat: num  3.9 3.9 3.85 3.08 3.15 2.76 3.21 3.69 3.92 3.92 ...\n",
            " $ wt  : num  2.62 2.88 2.32 3.21 3.44 ...\n",
            " $ qsec: num  16.5 17 18.6 19.4 17 ...\n",
            " $ vs  : num  0 0 1 1 0 1 0 1 1 1 ...\n",
            " $ am  : num  1 1 1 0 0 0 0 0 0 0 ...\n",
            " $ gear: num  4 4 4 3 3 3 3 4 4 4 ...\n",
            " $ carb: num  4 4 1 1 2 1 4 2 2 4 ...\n",
            " - attr(*, \".internal.selfref\")=<externalptr> \n"
          ]
        }
      ]
    },
    {
      "cell_type": "markdown",
      "source": [
        "A tabelta mtcars possui 11 colunas, todas com números, e um indice string, que se da pelo nome e modelo de um carro. As colunas vs e am são booleanos, sendo assim valores qualitativos nominais:\n",
        "\n",
        "* [, 8]\tvs\tEngine (0 = V-shaped, 1 = straight)\n",
        "* [, 9]\tam\tTransmission (0 = automatic, 1 = manual)\n",
        "\n",
        "As colunas Gear, Cyl e carb são variáveis quantitativas discretas. Já as variáveis mpg, drat,HP, Disp, wt e qsec são variáveis quantitativas contínuas. \n",
        "\n",
        "Podemos agrupar algumas das variáveis quantitativas discretas e em grupos, a fim de melhor analisar o banco de dados.\n",
        "\n"
      ],
      "metadata": {
        "id": "eigvwSxYhMyj"
      }
    },
    {
      "cell_type": "code",
      "source": [
        "df$cyl <- factor(df$cyl)\n",
        "df$gear <- factor(df$gear)\n",
        "df$carb <- factor(df$carb)\n",
        "df$vs <- factor(df$vs)\n",
        "df$am <- factor(df$am)\n",
        "df[ , gear := as.numeric(gear)]"
      ],
      "metadata": {
        "id": "a5guwuTgko64"
      },
      "execution_count": null,
      "outputs": []
    },
    {
      "cell_type": "code",
      "source": [
        "summary(df)"
      ],
      "metadata": {
        "colab": {
          "base_uri": "https://localhost:8080/",
          "height": 260
        },
        "id": "wSaKBtWPhVjs",
        "outputId": "ac842bdc-b2b3-4868-edbf-7547290352d4"
      },
      "execution_count": null,
      "outputs": [
        {
          "output_type": "display_data",
          "data": {
            "text/plain": [
              "      mpg        cyl         disp             hp             drat      \n",
              " Min.   :10.40   4:11   Min.   : 71.1   Min.   : 52.0   Min.   :2.760  \n",
              " 1st Qu.:15.43   6: 7   1st Qu.:120.8   1st Qu.: 96.5   1st Qu.:3.080  \n",
              " Median :19.20   8:14   Median :196.3   Median :123.0   Median :3.695  \n",
              " Mean   :20.09          Mean   :230.7   Mean   :146.7   Mean   :3.597  \n",
              " 3rd Qu.:22.80          3rd Qu.:326.0   3rd Qu.:180.0   3rd Qu.:3.920  \n",
              " Max.   :33.90          Max.   :472.0   Max.   :335.0   Max.   :4.930  \n",
              "       wt             qsec       vs     am          gear       carb  \n",
              " Min.   :1.513   Min.   :14.50   0:18   0:19   Min.   :1.000   1: 7  \n",
              " 1st Qu.:2.581   1st Qu.:16.89   1:14   1:13   1st Qu.:1.000   2:10  \n",
              " Median :3.325   Median :17.71                 Median :2.000   3: 3  \n",
              " Mean   :3.217   Mean   :17.85                 Mean   :1.688   4:10  \n",
              " 3rd Qu.:3.610   3rd Qu.:18.90                 3rd Qu.:2.000   6: 1  \n",
              " Max.   :5.424   Max.   :22.90                 Max.   :3.000   8: 1  "
            ]
          },
          "metadata": {}
        }
      ]
    },
    {
      "cell_type": "markdown",
      "source": [
        "### Análise Univariada\n",
        "A variável wt será escolhida para uma análise univariada."
      ],
      "metadata": {
        "id": "Dy7iY7GHgirC"
      }
    },
    {
      "cell_type": "code",
      "source": [
        "ggplot(df[!is.na(wt)], aes(x=wt)) + \n",
        "  geom_histogram(bins = 30) + \n",
        "  labs(x=\"wt\", y=\"Frequência\", title=\"Cars\")"
      ],
      "metadata": {
        "colab": {
          "base_uri": "https://localhost:8080/",
          "height": 437
        },
        "id": "5i3ZT3Ow7X1b",
        "outputId": "22c30144-665f-4ccf-83a4-19bbd41a976b"
      },
      "execution_count": null,
      "outputs": [
        {
          "output_type": "display_data",
          "data": {
            "text/plain": [
              "plot without title"
            ],
            "image/png": "[encoded data removed]"
          },
          "metadata": {
            "image/png": {
              "width": 420,
              "height": 420
            }
          }
        }
      ]
    },
    {
      "cell_type": "code",
      "source": [
        "ggplot(df[!is.na(wt)], aes(x=wt)) + \n",
        "  geom_histogram(bins = 20) + \n",
        "  labs(x=\"wt\", y=\"Frequência\", title=\"Cars\")"
      ],
      "metadata": {
        "colab": {
          "base_uri": "https://localhost:8080/",
          "height": 437
        },
        "id": "c92yHKa59BBP",
        "outputId": "9ed955dd-5ae8-4a87-8738-80f795e88f33"
      },
      "execution_count": null,
      "outputs": [
        {
          "output_type": "display_data",
          "data": {
            "text/plain": [
              "plot without title"
            ],
            "image/png": "[encoded data removed]"
          },
          "metadata": {
            "image/png": {
              "width": 420,
              "height": 420
            }
          }
        }
      ]
    },
    {
      "cell_type": "code",
      "source": [
        "ggplot(df[!is.na(wt)], aes(x=wt)) + \n",
        "  geom_histogram(bins = 10) + \n",
        "  labs(x=\"wt\", y=\"Frequência\", title=\"Cars\")"
      ],
      "metadata": {
        "colab": {
          "base_uri": "https://localhost:8080/",
          "height": 437
        },
        "id": "-NIYBeZB9BPy",
        "outputId": "a17247ae-73ed-49df-fd2b-bdba5a102c1f"
      },
      "execution_count": null,
      "outputs": [
        {
          "output_type": "display_data",
          "data": {
            "text/plain": [
              "plot without title"
            ],
            "image/png": "[encoded data removed]"
          },
          "metadata": {
            "image/png": {
              "width": 420,
              "height": 420
            }
          }
        }
      ]
    },
    {
      "cell_type": "markdown",
      "source": [
        "Podemos observar visualmente que os dados de wt se aproximam de uma distribuição normal, porem é visível uma ausência de valores após a média."
      ],
      "metadata": {
        "id": "wBuJ1bNQ9FIP"
      }
    },
    {
      "cell_type": "code",
      "source": [
        "ggplot( df[!is.na(wt)] , aes(y=as.numeric(wt))) + \n",
        "  geom_boxplot() + \n",
        "  labs(x=\"\", y=\"wt\", title=\"Cars\")"
      ],
      "metadata": {
        "colab": {
          "base_uri": "https://localhost:8080/",
          "height": 437
        },
        "id": "nYceGFdC8LCf",
        "outputId": "dab0d924-9c6e-4a95-e5c7-0cd4fc01f5a0"
      },
      "execution_count": null,
      "outputs": [
        {
          "output_type": "display_data",
          "data": {
            "text/plain": [
              "plot without title"
            ],
            "image/png": "[encoded data removed]"
          },
          "metadata": {
            "image/png": {
              "width": 420,
              "height": 420
            }
          }
        }
      ]
    },
    {
      "cell_type": "markdown",
      "source": [
        "### Simetria\n",
        "A simetria da variável wt não é existente em sua codição original. Para tentar tornar a distribuição mais próxima de uma normal, podemos realizar algumas transformações."
      ],
      "metadata": {
        "id": "8C7ogHol8e4K"
      }
    },
    {
      "cell_type": "code",
      "source": [
        "ggplot( df[!is.na(wt)] , aes(y=as.numeric(wt))) + \n",
        "  geom_boxplot() +\n",
        "  scale_x_continuous(trans = 'sqrt') +\n",
        "  scale_y_continuous(trans = 'sqrt') +\n",
        "  labs(x=\"\", y=\"wt\", title=\"Cars\")"
      ],
      "metadata": {
        "colab": {
          "base_uri": "https://localhost:8080/",
          "height": 437
        },
        "id": "un03Ni1J8-su",
        "outputId": "eb5c29fd-632b-46e0-b9cb-1bc4fa766fc1"
      },
      "execution_count": null,
      "outputs": [
        {
          "output_type": "display_data",
          "data": {
            "text/plain": [
              "plot without title"
            ],
            "image/png": "[encoded data removed]"
          },
          "metadata": {
            "image/png": {
              "width": 420,
              "height": 420
            }
          }
        }
      ]
    },
    {
      "cell_type": "code",
      "source": [
        "ggplot( df[!is.na(wt)] , aes(y=log(as.numeric(wt)))) + \n",
        "  geom_boxplot() +\n",
        "#   scale_x_continuous(trans = 'log10') +\n",
        "#   scale_y_continuous(trans = 'log10') +\n",
        "  labs(x=\"\", y=\"wt\", title=\"Cars\")"
      ],
      "metadata": {
        "colab": {
          "base_uri": "https://localhost:8080/",
          "height": 437
        },
        "id": "Tlv6ceqI9wGO",
        "outputId": "316a71f9-ac60-401f-f98c-77268df015b8"
      },
      "execution_count": null,
      "outputs": [
        {
          "output_type": "display_data",
          "data": {
            "text/plain": [
              "plot without title"
            ],
            "image/png": "[encoded data removed]"
          },
          "metadata": {
            "image/png": {
              "width": 420,
              "height": 420
            }
          }
        }
      ]
    },
    {
      "cell_type": "code",
      "source": [
        "ggplot( df[!is.na(wt)] , aes(x =wt^(1/3),y=(as.numeric(wt)^1/3))) + \n",
        "  geom_boxplot() +\n",
        "#   scale_x_continuous(trans = 'log10') +\n",
        "#   scale_y_continuous(trans = 'log10') +\n",
        "  labs(x=\"\", y=\"wt\", title=\"Cars\")"
      ],
      "metadata": {
        "id": "DUSE8cVy-_4-",
        "colab": {
          "base_uri": "https://localhost:8080/",
          "height": 472
        },
        "outputId": "13034c38-48d3-4f17-e125-78365792a885"
      },
      "execution_count": null,
      "outputs": [
        {
          "output_type": "stream",
          "name": "stderr",
          "text": [
            "Warning message:\n",
            "“Continuous x aesthetic -- did you forget aes(group=...)?”\n"
          ]
        },
        {
          "output_type": "display_data",
          "data": {
            "text/plain": [
              "plot without title"
            ],
            "image/png": "[encoded data removed]"
          },
          "metadata": {
            "image/png": {
              "width": 420,
              "height": 420
            }
          }
        }
      ]
    },
    {
      "cell_type": "code",
      "source": [
        "ggplot( df[!is.na(wt)] , aes(x =wt^(1/4), y=(as.numeric(wt)^(1/4)))) + \n",
        "  geom_boxplot() +\n",
        "  labs(x=\"\", y=\"wt\", title=\"Cars\")"
      ],
      "metadata": {
        "colab": {
          "base_uri": "https://localhost:8080/",
          "height": 472
        },
        "id": "4mToz2CAAbPs",
        "outputId": "690d6b6c-5621-478f-d727-afbb4b9fff25"
      },
      "execution_count": null,
      "outputs": [
        {
          "output_type": "stream",
          "name": "stderr",
          "text": [
            "Warning message:\n",
            "“Continuous x aesthetic -- did you forget aes(group=...)?”\n"
          ]
        },
        {
          "output_type": "display_data",
          "data": {
            "text/plain": [
              "plot without title"
            ],
            "image/png": "[encoded data removed]"
          },
          "metadata": {
            "image/png": {
              "width": 420,
              "height": 420
            }
          }
        }
      ]
    },
    {
      "cell_type": "markdown",
      "source": [
        "É visto através do boxplot que os valores estão muito mais concentrados abaixo do segundo quartil e nenhuma das transformações foram efetivas para alterar esse resultado."
      ],
      "metadata": {
        "id": "2PJCtRJJAdnV"
      }
    },
    {
      "cell_type": "markdown",
      "source": [
        "### Análise Bivariada de variáveis Qualitativas"
      ],
      "metadata": {
        "id": "4ovNIvwjBF_I"
      }
    },
    {
      "cell_type": "markdown",
      "source": [
        "Analisando a relação de motos em V com o número de marchas presentes no carro."
      ],
      "metadata": {
        "id": "K_v2JKToB0qe"
      }
    },
    {
      "cell_type": "code",
      "source": [
        "(tabela <- table(df$vs,df$gear))\n",
        "(Total_linha<-margin.table(tabela,2))  # O argumento 2 define a marginal da coluna\n",
        "(Total_coluna<-margin.table(tabela,1)) # O argumento 1 define a marginal da linha\n",
        "tabFinal<-rbind(cbind(tabela,Total_coluna),c(Total_linha, sum(Total_coluna)))\n",
        "dimnames(tabFinal)[[1]][3]<-\"Total_linha\" \n",
        "tabFinal"
      ],
      "metadata": {
        "colab": {
          "base_uri": "https://localhost:8080/",
          "height": 334
        },
        "id": "asjHlFPMCEX9",
        "outputId": "c8f37cc6-9696-4056-f44c-a0a63cc1d9d3"
      },
      "execution_count": null,
      "outputs": [
        {
          "output_type": "display_data",
          "data": {
            "text/plain": [
              "   \n",
              "     1  2  3\n",
              "  0 12  2  4\n",
              "  1  3 10  1"
            ]
          },
          "metadata": {}
        },
        {
          "output_type": "display_data",
          "data": {
            "text/plain": [
              "\n",
              " 1  2  3 \n",
              "15 12  5 "
            ]
          },
          "metadata": {}
        },
        {
          "output_type": "display_data",
          "data": {
            "text/plain": [
              "\n",
              " 0  1 \n",
              "18 14 "
            ]
          },
          "metadata": {}
        },
        {
          "output_type": "display_data",
          "data": {
            "text/html": [
              "<table class=\"dataframe\">\n",
              "<caption>A matrix: 3 × 4 of type int</caption>\n",
              "<thead>\n",
              "\t<tr><th></th><th scope=col>1</th><th scope=col>2</th><th scope=col>3</th><th scope=col>Total_coluna</th></tr>\n",
              "</thead>\n",
              "<tbody>\n",
              "\t<tr><th scope=row>0</th><td>12</td><td> 2</td><td>4</td><td>18</td></tr>\n",
              "\t<tr><th scope=row>1</th><td> 3</td><td>10</td><td>1</td><td>14</td></tr>\n",
              "\t<tr><th scope=row>Total_linha</th><td>15</td><td>12</td><td>5</td><td>32</td></tr>\n",
              "</tbody>\n",
              "</table>\n"
            ],
            "text/markdown": "\nA matrix: 3 × 4 of type int\n\n| <!--/--> | 1 | 2 | 3 | Total_coluna |\n|---|---|---|---|---|\n| 0 | 12 |  2 | 4 | 18 |\n| 1 |  3 | 10 | 1 | 14 |\n| Total_linha | 15 | 12 | 5 | 32 |\n\n",
            "text/latex": "A matrix: 3 × 4 of type int\n\\begin{tabular}{r|llll}\n  & 1 & 2 & 3 & Total\\_coluna\\\\\n\\hline\n\t0 & 12 &  2 & 4 & 18\\\\\n\t1 &  3 & 10 & 1 & 14\\\\\n\tTotal\\_linha & 15 & 12 & 5 & 32\\\\\n\\end{tabular}\n",
            "text/plain": [
              "            1  2  3 Total_coluna\n",
              "0           12  2 4 18          \n",
              "1            3 10 1 14          \n",
              "Total_linha 15 12 5 32          "
            ]
          },
          "metadata": {}
        }
      ]
    },
    {
      "cell_type": "markdown",
      "source": [
        "Analisando a variável vs, podemos ver que a maior parte dos motores vs possuem 4 marchas para frente e a maioria dos motores normais possuem 3 marchas para frente."
      ],
      "metadata": {
        "id": "0Avy0y0aCEoQ"
      }
    },
    {
      "cell_type": "markdown",
      "source": [
        "A probabilidade de um carro ter motor em V é de 14 em 32, ou seja 0,44. Essa probabilidade muda quando consideramos a variável de número de engrenagens. Podemos ver que essa relção se torna 0,2 , 0,83 e 0,2 para 1, 2 e 3 engrenagens respectivamente. Isso nos diz que há dependência entre as duas variáveis.\n",
        "\n"
      ],
      "metadata": {
        "id": "THNBQKVuCM-5"
      }
    },
    {
      "cell_type": "markdown",
      "source": [
        "### Análise bivariada para variáveis quantitativas"
      ],
      "metadata": {
        "id": "PvtNv2O6DGhK"
      }
    },
    {
      "cell_type": "markdown",
      "source": [
        "Será analisado a relação de dependência entre a variável wt e hp."
      ],
      "metadata": {
        "id": "n6RJ8d-WEL-C"
      }
    },
    {
      "cell_type": "code",
      "source": [
        "\n",
        "cor(df$wt,as.numeric(df$hp))\n"
      ],
      "metadata": {
        "colab": {
          "base_uri": "https://localhost:8080/",
          "height": 34
        },
        "id": "N2Y3oFfXFGy9",
        "outputId": "544fd777-6568-44e2-f5d6-df453889ead8"
      },
      "execution_count": null,
      "outputs": [
        {
          "output_type": "display_data",
          "data": {
            "text/html": [
              "0.658747887344759"
            ],
            "text/markdown": "0.658747887344759",
            "text/latex": "0.658747887344759",
            "text/plain": [
              "[1] 0.6587479"
            ]
          },
          "metadata": {}
        }
      ]
    },
    {
      "cell_type": "code",
      "source": [
        "ggplot(df, aes(x=wt, y=hp)) +\n",
        "  geom_point()\n"
      ],
      "metadata": {
        "colab": {
          "base_uri": "https://localhost:8080/",
          "height": 437
        },
        "id": "2bhJIrMWESnZ",
        "outputId": "95de8996-4a5a-46e1-e81b-cc11b7a18157"
      },
      "execution_count": null,
      "outputs": [
        {
          "output_type": "display_data",
          "data": {
            "text/plain": [
              "plot without title"
            ],
            "image/png": "[encoded data removed]"
          },
          "metadata": {
            "image/png": {
              "width": 420,
              "height": 420
            }
          }
        }
      ]
    },
    {
      "cell_type": "markdown",
      "source": [
        "Podemos notar uma correlação positiva relativamente forte. Ela é intuitivamente explicada já que carros mais pesados necessitam de mais potência para alcançar uma mesma velocidade de cruizeiro. Entretanto, a quantidade de cavalos também é influenciada pelo modelo do carro, que caso seja esportivo, tende a ser mais leve e mais potente, por isso que a dependência não é ainda mais forte."
      ],
      "metadata": {
        "id": "DSlqadSaEaMu"
      }
    },
    {
      "cell_type": "markdown",
      "source": [
        "### Análise bivariada para uma variável quantitativa e outra qualitativa"
      ],
      "metadata": {
        "id": "_UI_8bR8F9gs"
      }
    },
    {
      "cell_type": "markdown",
      "source": [
        "Será analisado a relação de dependência entre a variável wt e vs."
      ],
      "metadata": {
        "id": "-vRm6APQGIBc"
      }
    },
    {
      "cell_type": "code",
      "source": [
        "\n",
        "(varglobal <- var(df$wt,na.rm=T))\n",
        "(varsim <- var(df[vs %in% 1]$wt,na.rm=T))\n",
        "(varnao <- var(df[vs %in% 0]$wt,na.rm=T))\n",
        "mean(c(varsim,varnao))\n",
        "\n",
        "(varponderada <- (varsim*nrow(df[vs %in% 1]) + \n",
        "    varnao*nrow(df[vs %in% 0]))/(nrow(df[!is.na(vs)])))\n"
      ],
      "metadata": {
        "id": "3pAjYFhoGBuq"
      },
      "execution_count": null,
      "outputs": []
    },
    {
      "cell_type": "code",
      "source": [
        "\n",
        "(r2 <- (varglobal-varponderada)/varglobal)\n"
      ],
      "metadata": {
        "colab": {
          "base_uri": "https://localhost:8080/",
          "height": 34
        },
        "id": "0wVxcxxzGxiJ",
        "outputId": "0bd8d35a-c512-4c35-9b46-d578cfe2dce1"
      },
      "execution_count": null,
      "outputs": [
        {
          "output_type": "display_data",
          "data": {
            "text/html": [
              "0.286194358232057"
            ],
            "text/markdown": "0.286194358232057",
            "text/latex": "0.286194358232057",
            "text/plain": [
              "[1] 0.2861944"
            ]
          },
          "metadata": {}
        }
      ]
    },
    {
      "cell_type": "markdown",
      "source": [
        "Podemos notar que existe uma correlação fraca entre o tipo do motor e o peso do carro.\n",
        "\n",
        "Vamos analisar a correlação do tipo do motor com a quantidade de cavalos de potência disponíveis\n",
        "\n"
      ],
      "metadata": {
        "id": "DWdyluuoGvT0"
      }
    },
    {
      "cell_type": "code",
      "source": [
        "\n",
        "(varglobal <- var(df$hp,na.rm=T))\n",
        "(varsim <- var(df[vs %in% 1]$hp,na.rm=T))\n",
        "(varnao <- var(df[vs %in% 0]$hp,na.rm=T))\n",
        "mean(c(varsim,varnao))\n",
        "\n",
        "(varponderada <- (varsim*nrow(df[vs %in% 1]) + \n",
        "    varnao*nrow(df[vs %in% 0]))/(nrow(df[!is.na(vs)])))"
      ],
      "metadata": {
        "id": "gI9QIaW-GzrQ"
      },
      "execution_count": null,
      "outputs": []
    },
    {
      "cell_type": "code",
      "source": [
        "\n",
        "(r2 <- (varglobal-varponderada)/varglobal)"
      ],
      "metadata": {
        "colab": {
          "base_uri": "https://localhost:8080/",
          "height": 34
        },
        "id": "qEodY08EHPe5",
        "outputId": "ae175220-489e-44e5-b93f-1e195e59b491"
      },
      "execution_count": null,
      "outputs": [
        {
          "output_type": "display_data",
          "data": {
            "text/html": [
              "0.509656670571845"
            ],
            "text/markdown": "0.509656670571845",
            "text/latex": "0.509656670571845",
            "text/plain": [
              "[1] 0.5096567"
            ]
          },
          "metadata": {}
        }
      ]
    },
    {
      "cell_type": "markdown",
      "source": [
        "Podemos notar que apesar da correlação não ser extremamente forte, o tipo do motor influência em 50% a variável hp."
      ],
      "metadata": {
        "id": "KOcwcCdSHRKj"
      }
    },
    {
      "cell_type": "markdown",
      "source": [
        "## Questão 1"
      ],
      "metadata": {
        "id": "AkVRPQf6Heur"
      }
    },
    {
      "cell_type": "markdown",
      "source": [
        "###1- Na área de ciência de dados, 60% dos profissionais são homens. Além disto, se o profissional é homem, existe uma probabilidade de 0,05 deste profissional ser estatístico, enquanto que para as mulheres esta probabilidade é de 0,02. Se um profissional é escolhido ao acaso e é estatístico(a), qual é a probabilidade de que seja mulher?\n"
      ],
      "metadata": {
        "id": "CehPJDZ5HmLX"
      }
    },
    {
      "cell_type": "markdown",
      "source": [
        "P(M|E) = P(M U E)/P(E) = (P(M)*P(E|M))/(P(E))"
      ],
      "metadata": {
        "id": "_pWNlVm2Z_bD"
      }
    },
    {
      "cell_type": "code",
      "source": [
        "(0.4*0.02)/0.07"
      ],
      "metadata": {
        "colab": {
          "base_uri": "https://localhost:8080/",
          "height": 34
        },
        "id": "-qgSoucTZs4k",
        "outputId": "702ae4b2-c332-4cf8-b054-66e69c03367a"
      },
      "execution_count": 72,
      "outputs": [
        {
          "output_type": "display_data",
          "data": {
            "text/html": [
              "0.114285714285714"
            ],
            "text/markdown": "0.114285714285714",
            "text/latex": "0.114285714285714",
            "text/plain": [
              "[1] 0.1142857"
            ]
          },
          "metadata": {}
        }
      ]
    },
    {
      "cell_type": "markdown",
      "source": [
        "\n",
        "###2- Em quais situações se devem utilizar as distribuições Binomial ou Normal?\n"
      ],
      "metadata": {
        "id": "mmWiibGpZoyL"
      }
    },
    {
      "cell_type": "markdown",
      "source": [
        "Uma distribuição binomial deve ser usada quando à dois falores possíveis, \"Sucesso\" e \"falha\". Podemos extrapolar a ideia e considerar valores específicos de uma variável como sucesso e os demais valores como falha, tornando a distribuição aplicável a diversos casos. Um caso comum da distribuição Binomial é para determinação da porcentagem de chance de um produto apresentar falha. \n",
        "\n",
        "\n",
        "Já para a distribuição Normal, ela pode ser utilizada em qualquer data set desde que seja analisado uma AAS da população com um n grande o bastante, segundo o teorema central do limite. Caso a população tenha uma distribuição normal, o n mínimo tende a ser menor. Pode ser checado isso com base no desvio padrão dos dados."
      ],
      "metadata": {
        "id": "U8C6hubSZtF3"
      }
    },
    {
      "cell_type": "markdown",
      "source": [
        "###3- Sendo X uma variável aleatória contínua que segue distribuição Normal com média 20 e variância 25, qual a probabilidade de X ser maior que 30?\n",
        "\n"
      ],
      "metadata": {
        "id": "OldDIRGtZqCq"
      }
    },
    {
      "cell_type": "markdown",
      "source": [
        "P(X>30) = Integral de 30 a + infinito da equanção da Gaussianaem que mi =20 e sigma=25.\n",
        "\n",
        "Normalizando a curva, temos que Z = 0.4"
      ],
      "metadata": {
        "id": "gvEnyBStZtSS"
      }
    },
    {
      "cell_type": "code",
      "source": [
        "pnorm(0.4,lower.tail = F)"
      ],
      "metadata": {
        "colab": {
          "base_uri": "https://localhost:8080/",
          "height": 34
        },
        "id": "XRwCAKJlcbzI",
        "outputId": "0457cfb5-2849-4863-a7d1-7d9c43bcce64"
      },
      "execution_count": 76,
      "outputs": [
        {
          "output_type": "display_data",
          "data": {
            "text/html": [
              "0.344578258389676"
            ],
            "text/markdown": "0.344578258389676",
            "text/latex": "0.344578258389676",
            "text/plain": [
              "[1] 0.3445783"
            ]
          },
          "metadata": {}
        }
      ]
    },
    {
      "cell_type": "markdown",
      "source": [
        "###4- Sendo X uma variável aleatória contínua que segue uma distribuição assimétrica à direita, qual o tamanho mínimo da amostra necessário para garantir que a distribuição amostral da média seguirá uma distribuição normal?"
      ],
      "metadata": {
        "id": "Rxc16wLnZrQi"
      }
    },
    {
      "cell_type": "code",
      "source": [
        "Z<-qnorm(0.975, mean = 0, sd = 1, lower.tail = TRUE, log.p = FALSE)\n",
        "Z"
      ],
      "metadata": {
        "id": "LlwNclO4HpFV",
        "colab": {
          "base_uri": "https://localhost:8080/",
          "height": 34
        },
        "outputId": "f9423df9-637d-4631-e98f-3fce76e69b45"
      },
      "execution_count": 80,
      "outputs": [
        {
          "output_type": "display_data",
          "data": {
            "text/html": [
              "1.95996398454005"
            ],
            "text/markdown": "1.95996398454005",
            "text/latex": "1.95996398454005",
            "text/plain": [
              "[1] 1.959964"
            ]
          },
          "metadata": {}
        }
      ]
    },
    {
      "cell_type": "markdown",
      "source": [
        "Considerando que o desvio padrão está normalizado, e que o erro é menor do que 10% do desvio padrão, temos:\n"
      ],
      "metadata": {
        "id": "TZvaNqWdiPbE"
      }
    },
    {
      "cell_type": "code",
      "source": [
        "((Z^2)*(1))/0.1"
      ],
      "metadata": {
        "colab": {
          "base_uri": "https://localhost:8080/",
          "height": 34
        },
        "id": "OS_VhkEzi0jM",
        "outputId": "e1096511-dc95-4ae3-83ef-ab5a2e00e01d"
      },
      "execution_count": 81,
      "outputs": [
        {
          "output_type": "display_data",
          "data": {
            "text/html": [
              "38.4145882069412"
            ],
            "text/markdown": "38.4145882069412",
            "text/latex": "38.4145882069412",
            "text/plain": [
              "[1] 38.41459"
            ]
          },
          "metadata": {}
        }
      ]
    },
    {
      "cell_type": "markdown",
      "source": [
        "Logo, precisamos de 39 amostras para considerar essa função como uma distribuição normal."
      ],
      "metadata": {
        "id": "wmyhKh0tjNBC"
      }
    }
  ]
}