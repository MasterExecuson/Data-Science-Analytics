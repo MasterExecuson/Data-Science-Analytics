{
  "nbformat": 4,
  "nbformat_minor": 0,
  "metadata": {
    "colab": {
      "name": "primeira aula de Estatística - R.ipynb",
      "provenance": [],
      "collapsed_sections": []
    },
    "kernelspec": {
      "name": "ir",
      "display_name": "R"
    },
    "language_info": {
      "name": "R"
    }
  },
  "cells": [
    {
      "cell_type": "code",
      "source": [
        "install.packages('readxl')\n",
        "install.packages('httr')\n",
        "library('readxl')\n",
        "library('httr')\n",
        "url1<-'https://github.com/MasterExecuson/Data-Science-Analytics/raw/main/Statistics%20in%20R/Covid%20Sample%20Dataset/state_based_dataset_COVID19_15_07_2020_sample.xlsx'\n",
        "GET(url1, write_disk(tf <- tempfile(fileext = \".xlsx\")))\n",
        "df <- read_excel(tf, 2L)"
      ],
      "metadata": {
        "colab": {
          "base_uri": "https://localhost:8080/",
          "height": 225
        },
        "id": "9vNSyI1ouTT_",
        "outputId": "b301849b-9c1f-4773-bc77-ed1cd59eb6ca"
      },
      "execution_count": null,
      "outputs": [
        {
          "output_type": "stream",
          "name": "stderr",
          "text": [
            "Installing package into ‘/usr/local/lib/R/site-library’\n",
            "(as ‘lib’ is unspecified)\n",
            "\n",
            "Installing package into ‘/usr/local/lib/R/site-library’\n",
            "(as ‘lib’ is unspecified)\n",
            "\n"
          ]
        },
        {
          "output_type": "display_data",
          "data": {
            "text/plain": [
              "Response [https://raw.githubusercontent.com/MasterExecuson/Data-Science-Analytics/main/Statistics%20in%20R/Covid%20Sample%20Dataset/state_based_dataset_COVID19_15_07_2020_sample.xlsx]\n",
              "  Date: 2022-08-23 22:25\n",
              "  Status: 200\n",
              "  Content-Type: application/octet-stream\n",
              "  Size: 820 kB\n",
              "<ON DISK>  /tmp/Rtmp5pYSfE/file3c730645a2.xlsxNULL"
            ]
          },
          "metadata": {}
        }
      ]
    },
    {
      "cell_type": "code",
      "source": [
        "df"
      ],
      "metadata": {
        "colab": {
          "base_uri": "https://localhost:8080/",
          "height": 1000
        },
        "id": "7WTeV6yxuvay",
        "outputId": "b8292e15-77ff-4f11-c706-5efaf481d601"
      },
      "execution_count": null,
      "outputs": [
        {
          "output_type": "display_data",
          "data": {
            "text/html": [
              "<table class=\"dataframe\">\n",
              "<caption>A tibble: 2638 × 12</caption>\n",
              "<thead>\n",
              "\t<tr><th scope=col>DATA OBITO</th><th scope=col>DATA NOTIFICACAO OBITO</th><th scope=col>UF ESTADO</th><th scope=col>MUNICIPIO</th><th scope=col>SEXO</th><th scope=col>IDADE</th><th scope=col>TIPO ORGAO</th><th scope=col>COMORBIDADE</th><th scope=col>LISTA COMORBIDADE</th><th scope=col>IDADE MESES</th><th scope=col>IDADE DIAS</th><th scope=col>MUNICIPIO OCORRENCIA</th></tr>\n",
              "\t<tr><th scope=col>&lt;dttm&gt;</th><th scope=col>&lt;dttm&gt;</th><th scope=col>&lt;chr&gt;</th><th scope=col>&lt;chr&gt;</th><th scope=col>&lt;chr&gt;</th><th scope=col>&lt;dbl&gt;</th><th scope=col>&lt;chr&gt;</th><th scope=col>&lt;chr&gt;</th><th scope=col>&lt;chr&gt;</th><th scope=col>&lt;dbl&gt;</th><th scope=col>&lt;dbl&gt;</th><th scope=col>&lt;chr&gt;</th></tr>\n",
              "</thead>\n",
              "<tbody>\n",
              "\t<tr><td>2020-07-10</td><td>2020-07-15</td><td>BA</td><td>SALVADOR                     </td><td>M</td><td>61</td><td>PUBLICO     </td><td>S </td><td>TABAGISMO                                                                               </td><td>0</td><td>0</td><td>SALVADOR                     </td></tr>\n",
              "\t<tr><td>2020-07-11</td><td>2020-07-15</td><td>BA</td><td>SALVADOR                     </td><td>F</td><td>80</td><td>PUBLICO     </td><td>S </td><td>HIPERTENSÃƒO (HAS),DIABETES MELLITUS (DM)                                               </td><td>0</td><td>0</td><td>SALVADOR                     </td></tr>\n",
              "\t<tr><td>2020-07-06</td><td>2020-07-15</td><td>BA</td><td>TEIXEIRA DE FREITAS          </td><td>M</td><td>58</td><td>PUBLICO     </td><td>SI</td><td>NA                                                                                      </td><td>0</td><td>0</td><td>TEIXEIRA DE FREITAS          </td></tr>\n",
              "\t<tr><td>2020-07-10</td><td>2020-07-15</td><td>BA</td><td>SALVADOR                     </td><td>F</td><td>88</td><td>PUBLICO     </td><td>N </td><td>NA                                                                                      </td><td>0</td><td>0</td><td>SALVADOR                     </td></tr>\n",
              "\t<tr><td>2020-07-10</td><td>2020-07-15</td><td>BA</td><td>SALVADOR                     </td><td>M</td><td>76</td><td>PUBLICO     </td><td>S </td><td>HIPERTENSÃƒO (HAS),DIABETES MELLITUS (DM)                                               </td><td>0</td><td>0</td><td>SALVADOR                     </td></tr>\n",
              "\t<tr><td>2020-07-08</td><td>2020-07-15</td><td>BA</td><td>SANTO ANTÃ”NIO DE JESUS      </td><td>M</td><td>60</td><td>PUBLICO     </td><td>S </td><td>DOENÃ‡A CARDIOVASULAR (DCV)                                                             </td><td>0</td><td>0</td><td>SALVADOR                     </td></tr>\n",
              "\t<tr><td>2020-07-12</td><td>2020-07-15</td><td>BA</td><td>ITAMARAJU                    </td><td>M</td><td>79</td><td>PUBLICO     </td><td>S </td><td>DIABETES MELLITUS (DM)                                                                  </td><td>0</td><td>0</td><td>ITAMARAJU                    </td></tr>\n",
              "\t<tr><td>2020-07-08</td><td>2020-07-15</td><td>BA</td><td>MARACÃS                </td><td>M</td><td>64</td><td>PUBLICO     </td><td>S </td><td>HIPERTENSÃƒO (HAS),DIABETES MELLITUS (DM)                                               </td><td>0</td><td>0</td><td>MARACÃS                </td></tr>\n",
              "\t<tr><td>2020-07-10</td><td>2020-07-15</td><td>BA</td><td>SALVADOR                     </td><td>F</td><td>66</td><td>PUBLICO     </td><td>S </td><td>HIPERTENSÃƒO (HAS),DIABETES MELLITUS (DM)                                               </td><td>0</td><td>0</td><td>SALVADOR                     </td></tr>\n",
              "\t<tr><td>2020-07-07</td><td>2020-07-15</td><td>BA</td><td>SALVADOR                     </td><td>F</td><td>92</td><td>PUBLICO     </td><td>S </td><td>HIPERTENSÃƒO (HAS)                                                                      </td><td>0</td><td>0</td><td>SALVADOR                     </td></tr>\n",
              "\t<tr><td>2020-07-09</td><td>2020-07-15</td><td>BA</td><td>PAULO AFONSO                 </td><td>M</td><td>67</td><td>PUBLICO     </td><td>S </td><td>DOENÃ‡A CARDIOVASULAR (DCV),DOENÃ‡A RESPIRATORIA CRONICA                                </td><td>0</td><td>0</td><td>PAULO AFONSO                 </td></tr>\n",
              "\t<tr><td>2020-06-23</td><td>2020-07-15</td><td>BA</td><td>LUÃS EDUARDO MAGALHÃƒES</td><td>M</td><td>40</td><td>NA          </td><td>N </td><td>NA                                                                                      </td><td>0</td><td>0</td><td>LUÃS EDUARDO MAGALHÃƒES</td></tr>\n",
              "\t<tr><td>2020-07-08</td><td>2020-07-15</td><td>BA</td><td>SALVADOR                     </td><td>M</td><td>86</td><td>PRIVADO     </td><td>S </td><td>HIPERTENSÃƒO (HAS),ALZHEIMER                                                            </td><td>0</td><td>0</td><td>SALVADOR                     </td></tr>\n",
              "\t<tr><td>2020-07-10</td><td>2020-07-15</td><td>BA</td><td>JUAZEIRO                     </td><td>M</td><td>78</td><td>PUBLICO     </td><td>S </td><td>ALZHEIMER                                                                               </td><td>0</td><td>0</td><td>JUAZEIRO                     </td></tr>\n",
              "\t<tr><td>2020-07-09</td><td>2020-07-15</td><td>BA</td><td>JUAZEIRO                     </td><td>M</td><td>61</td><td>PUBLICO     </td><td>S </td><td>DOENÃ‡A RESPIRATORIA CRONICA                                                            </td><td>0</td><td>0</td><td>JUAZEIRO                     </td></tr>\n",
              "\t<tr><td>2020-07-11</td><td>2020-07-15</td><td>BA</td><td>SALVADOR                     </td><td>F</td><td>79</td><td>FILANTROPICO</td><td>S </td><td>OBESIDADE,HIPERTENSÃƒO (HAS),DIABETES MELLITUS (DM),DOENÃ‡AS ENDÃ“CRINAS OU NUTRICIONAIS</td><td>0</td><td>0</td><td>SALVADOR                     </td></tr>\n",
              "\t<tr><td>2020-07-07</td><td>2020-07-15</td><td>BA</td><td>JUAZEIRO                     </td><td>M</td><td>52</td><td>PUBLICO     </td><td>S </td><td>DIABETES MELLITUS (DM)                                                                  </td><td>0</td><td>0</td><td>JUAZEIRO                     </td></tr>\n",
              "\t<tr><td>2020-06-07</td><td>2020-07-15</td><td>BA</td><td>TEIXEIRA DE FREITAS          </td><td>F</td><td>57</td><td>PUBLICO     </td><td>S </td><td>OBESIDADE,HIPERTENSÃƒO (HAS),DIABETES MELLITUS (DM)                                     </td><td>0</td><td>0</td><td>TEIXEIRA DE FREITAS          </td></tr>\n",
              "\t<tr><td>2020-07-14</td><td>2020-07-15</td><td>BA</td><td>NAZARÃ‰                      </td><td>M</td><td>47</td><td>PUBLICO     </td><td>S </td><td>HIPERTENSÃƒO (HAS),DIABETES MELLITUS (DM)                                               </td><td>0</td><td>0</td><td>SANTO ANTÃ”NIO DE JESUS      </td></tr>\n",
              "\t<tr><td>2020-07-13</td><td>2020-07-15</td><td>BA</td><td>MALHADA                      </td><td>M</td><td>57</td><td>PUBLICO     </td><td>S </td><td>DOENÃ‡A CARDIOVASULAR (DCV)                                                             </td><td>0</td><td>0</td><td>VITÃ“RIA DA CONQUISTA        </td></tr>\n",
              "\t<tr><td>2020-07-13</td><td>2020-07-15</td><td>BA</td><td>TANQUINHO                    </td><td>M</td><td>85</td><td>PUBLICO     </td><td>S </td><td>DOENÃ‡A CARDIOVASULAR (DCV)                                                             </td><td>0</td><td>0</td><td>TANQUINHO                    </td></tr>\n",
              "\t<tr><td>2020-07-01</td><td>2020-07-15</td><td>BA</td><td>ITAPETINGA                   </td><td>M</td><td>77</td><td>PUBLICO     </td><td>S </td><td>DOENÃ‡A CARDIOVASULAR (DCV)                                                             </td><td>0</td><td>0</td><td>ITAPETINGA                   </td></tr>\n",
              "\t<tr><td>2020-07-09</td><td>2020-07-15</td><td>BA</td><td>JEQUIÃ‰                      </td><td>F</td><td>63</td><td>PUBLICO     </td><td>S </td><td>HIPERTENSÃƒO (HAS),DIABETES MELLITUS (DM)                                               </td><td>0</td><td>0</td><td>JEQUIÃ‰                      </td></tr>\n",
              "\t<tr><td>2020-07-08</td><td>2020-07-15</td><td>BA</td><td>SALVADOR                     </td><td>F</td><td>89</td><td>PRIVADO     </td><td>S </td><td>HIPERTENSÃƒO (HAS),DIABETES MELLITUS (DM)                                               </td><td>0</td><td>0</td><td>SALVADOR                     </td></tr>\n",
              "\t<tr><td>2020-07-12</td><td>2020-07-15</td><td>BA</td><td>SALVADOR                     </td><td>F</td><td>76</td><td>NA          </td><td>S </td><td>DIABETES MELLITUS (DM)                                                                  </td><td>0</td><td>0</td><td>SALVADOR                     </td></tr>\n",
              "\t<tr><td>2020-07-11</td><td>2020-07-15</td><td>BA</td><td>SALVADOR                     </td><td>M</td><td>45</td><td>PUBLICO     </td><td>N </td><td>NA                                                                                      </td><td>0</td><td>0</td><td>SALVADOR                     </td></tr>\n",
              "\t<tr><td>2020-07-10</td><td>2020-07-15</td><td>BA</td><td>SALVADOR                     </td><td>M</td><td>58</td><td>PUBLICO     </td><td>SI</td><td>NA                                                                                      </td><td>0</td><td>0</td><td>SALVADOR                     </td></tr>\n",
              "\t<tr><td>2020-07-09</td><td>2020-07-15</td><td>BA</td><td>SALVADOR                     </td><td>M</td><td>58</td><td>PUBLICO     </td><td>S </td><td>DIABETES MELLITUS (DM)                                                                  </td><td>0</td><td>0</td><td>SALVADOR                     </td></tr>\n",
              "\t<tr><td>2020-07-08</td><td>2020-07-15</td><td>BA</td><td>SALVADOR                     </td><td>F</td><td>59</td><td>PUBLICO     </td><td>S </td><td>HIPERTENSÃƒO (HAS),DOENÃ‡A CARDIOVASULAR (DCV)                                          </td><td>0</td><td>0</td><td>SALVADOR                     </td></tr>\n",
              "\t<tr><td>2020-07-13</td><td>2020-07-15</td><td>BA</td><td>JEQUIÃ‰                      </td><td>M</td><td>57</td><td>PUBLICO     </td><td>S </td><td>HIPERTENSÃƒO (HAS)                                                                      </td><td>0</td><td>0</td><td>JEQUIÃ‰                      </td></tr>\n",
              "\t<tr><td>⋮</td><td>⋮</td><td>⋮</td><td>⋮</td><td>⋮</td><td>⋮</td><td>⋮</td><td>⋮</td><td>⋮</td><td>⋮</td><td>⋮</td><td>⋮</td></tr>\n",
              "\t<tr><td>2020-04-16</td><td>2020-04-16</td><td>BA</td><td>ILHÃ‰US              </td><td>F</td><td>61</td><td>PUBLICO     </td><td>S</td><td>HIPERTENSÃƒO (HAS),DIABETES MELLITUS (DM),DOENÃ‡A RENAL CRÃ”NICA (DRC),TUBERCULOSE (TB),PNEUMOPATIA CRONICA</td><td>0</td><td>0</td><td>ILHÃ‰US              </td></tr>\n",
              "\t<tr><td>2020-04-16</td><td>2020-04-16</td><td>BA</td><td>URUÃ‡UCA             </td><td>M</td><td>62</td><td>PUBLICO     </td><td>S</td><td>HIPERTENSÃƒO (HAS),TABAGISMO                                                                               </td><td>0</td><td>0</td><td>ILHÃ‰US              </td></tr>\n",
              "\t<tr><td>2020-04-14</td><td>2020-04-15</td><td>BA</td><td>SALVADOR             </td><td>F</td><td>73</td><td>FILANTROPICO</td><td>S</td><td>NEOPLASIA                                                                                                  </td><td>0</td><td>0</td><td>SALVADOR             </td></tr>\n",
              "\t<tr><td>2020-04-14</td><td>2020-04-15</td><td>BA</td><td>SALVADOR             </td><td>M</td><td>52</td><td>FILANTROPICO</td><td>N</td><td>NA                                                                                                         </td><td>0</td><td>0</td><td>SALVADOR             </td></tr>\n",
              "\t<tr><td>2020-04-10</td><td>2020-04-14</td><td>BA</td><td>ITAPÃ‰               </td><td>F</td><td>62</td><td>PUBLICO     </td><td>S</td><td>DOENÃ‡A CARDIOVASULAR (DCV),CIRROSE,HEPATITE B                                                             </td><td>0</td><td>0</td><td>ILHÃ‰US              </td></tr>\n",
              "\t<tr><td>2020-04-13</td><td>2020-04-14</td><td>BA</td><td>SALVADOR             </td><td>F</td><td>84</td><td>PUBLICO     </td><td>S</td><td>HIPERTENSÃƒO (HAS),TUBERCULOSE (TB),DISLIPIDEMIA                                                           </td><td>0</td><td>0</td><td>SALVADOR             </td></tr>\n",
              "\t<tr><td>2020-04-12</td><td>2020-04-14</td><td>BA</td><td>SALVADOR             </td><td>F</td><td>95</td><td>FILANTROPICO</td><td>S</td><td>DOENÃ‡A CARDIOVASULAR (DCV),DIABETES MELLITUS (DM),DOENÃ‡A NEUROLOGICA CRONICA                             </td><td>0</td><td>0</td><td>SALVADOR             </td></tr>\n",
              "\t<tr><td>2020-04-14</td><td>2020-04-14</td><td>BA</td><td>BELMONTE             </td><td>F</td><td>81</td><td>PUBLICO     </td><td>S</td><td>HIPERTENSÃƒO (HAS),DIABETES MELLITUS (DM)                                                                  </td><td>0</td><td>0</td><td>PORTO SEGURO         </td></tr>\n",
              "\t<tr><td>2020-04-13</td><td>2020-04-13</td><td>BA</td><td>VITÃ“RIA DA CONQUISTA</td><td>M</td><td>69</td><td>PUBLICO     </td><td>S</td><td>HIPERTENSÃƒO (HAS),DIABETES MELLITUS (DM),GLAUCOMA                                                         </td><td>0</td><td>0</td><td>VITÃ“RIA DA CONQUISTA</td></tr>\n",
              "\t<tr><td>2020-04-11</td><td>2020-04-11</td><td>RJ</td><td>RIO DE JANEIRO       </td><td>M</td><td>35</td><td>PRIVADO     </td><td>N</td><td>NA                                                                                                         </td><td>0</td><td>0</td><td>LAURO DE FREITAS     </td></tr>\n",
              "\t<tr><td>2020-04-10</td><td>2020-04-10</td><td>BA</td><td>GONGOGI              </td><td>M</td><td>71</td><td>PUBLICO     </td><td>S</td><td>DIABETES MELLITUS (DM)                                                                                     </td><td>0</td><td>0</td><td>ITABUNA              </td></tr>\n",
              "\t<tr><td>2020-04-05</td><td>2020-04-09</td><td>BA</td><td>ILHÃ‰US              </td><td>M</td><td>65</td><td>PUBLICO     </td><td>S</td><td>PNEUMOPATIA CRONICA                                                                                        </td><td>0</td><td>0</td><td>ILHÃ‰US              </td></tr>\n",
              "\t<tr><td>2020-04-07</td><td>2020-04-08</td><td>BA</td><td>URUÃ‡UCA             </td><td>F</td><td>63</td><td>PUBLICO     </td><td>S</td><td>DOENÃ‡A CARDIOVASULAR (DCV),DIABETES MELLITUS (DM)                                                         </td><td>0</td><td>0</td><td>ITABUNA              </td></tr>\n",
              "\t<tr><td>2020-04-08</td><td>2020-04-08</td><td>BA</td><td>ITAGIBÃ        </td><td>F</td><td>72</td><td>PUBLICO     </td><td>S</td><td>DOENÃ‡A CARDIOVASULAR (DCV)                                                                                </td><td>0</td><td>0</td><td>SALVADOR             </td></tr>\n",
              "\t<tr><td>2020-04-08</td><td>2020-04-08</td><td>BA</td><td>ARACI                </td><td>M</td><td>76</td><td>PUBLICO     </td><td>S</td><td>HIPERTENSÃƒO (HAS),DIABETES MELLITUS (DM)                                                                  </td><td>0</td><td>0</td><td>ARACI                </td></tr>\n",
              "\t<tr><td>2020-04-07</td><td>2020-04-08</td><td>BA</td><td>SALVADOR             </td><td>M</td><td>96</td><td>PRIVADO     </td><td>S</td><td>HIPERTENSÃƒO (HAS),DOENÃ‡A RENAL CRÃ”NICA (DRC)                                                            </td><td>0</td><td>0</td><td>SALVADOR             </td></tr>\n",
              "\t<tr><td>2020-04-07</td><td>2020-04-07</td><td>BA</td><td>SALVADOR             </td><td>F</td><td>51</td><td>PRIVADO     </td><td>S</td><td>HIPERTENSÃƒO (HAS),DIABETES MELLITUS (DM),INSUFICIÃŠNCIA RENAL AGUDA (IRA)                                 </td><td>0</td><td>0</td><td>SALVADOR             </td></tr>\n",
              "\t<tr><td>2020-04-06</td><td>2020-04-07</td><td>BA</td><td>LAURO DE FREITAS     </td><td>M</td><td>53</td><td>PUBLICO     </td><td>N</td><td>NA                                                                                                         </td><td>0</td><td>0</td><td>SALVADOR             </td></tr>\n",
              "\t<tr><td>2020-04-07</td><td>2020-04-07</td><td>BA</td><td>ADUSTINA             </td><td>M</td><td>26</td><td>PUBLICO     </td><td>S</td><td>OBESIDADE,HIPERTENSÃƒO (HAS)                                                                               </td><td>0</td><td>0</td><td>SALVADOR             </td></tr>\n",
              "\t<tr><td>2020-04-06</td><td>2020-04-07</td><td>BA</td><td>SALVADOR             </td><td>M</td><td>64</td><td>PUBLICO     </td><td>S</td><td>DIABETES MELLITUS (DM),CARDIOMIOPATIA CHAGÃSICA,HISTORICO DE ANEURISMA DE AORTA ABDOMINAL            </td><td>0</td><td>0</td><td>SALVADOR             </td></tr>\n",
              "\t<tr><td>2020-04-03</td><td>2020-04-06</td><td>BA</td><td>SALVADOR             </td><td>F</td><td>62</td><td>PUBLICO     </td><td>S</td><td>OBESIDADE,HIPERTENSÃƒO (HAS),PNEUMOMATIA NÃƒO ESPECIFICADA                                                 </td><td>0</td><td>0</td><td>SALVADOR             </td></tr>\n",
              "\t<tr><td>2020-04-05</td><td>2020-04-05</td><td>BA</td><td>SALVADOR             </td><td>M</td><td>87</td><td>PUBLICO     </td><td>N</td><td>NA                                                                                                         </td><td>0</td><td>0</td><td>SALVADOR             </td></tr>\n",
              "\t<tr><td>2020-04-04</td><td>2020-04-04</td><td>BA</td><td>SALVADOR             </td><td>M</td><td>55</td><td>PRIVADO     </td><td>N</td><td>NA                                                                                                         </td><td>0</td><td>0</td><td>LAURO DE FREITAS     </td></tr>\n",
              "\t<tr><td>2020-04-01</td><td>2020-04-04</td><td>BA</td><td>ITAPETINGA           </td><td>F</td><td>28</td><td>PUBLICO     </td><td>N</td><td>ASMA                                                                                                       </td><td>0</td><td>0</td><td>ITAPETINGA           </td></tr>\n",
              "\t<tr><td>2020-03-30</td><td>2020-04-04</td><td>BA</td><td>UTINGA               </td><td>M</td><td>80</td><td>PUBLICO     </td><td>S</td><td>DOENÃ‡A CARDIOVASULAR (DCV)                                                                                </td><td>0</td><td>0</td><td>UTINGA               </td></tr>\n",
              "\t<tr><td>2020-04-02</td><td>2020-04-03</td><td>BA</td><td>SALVADOR             </td><td>F</td><td>41</td><td>PUBLICO     </td><td>S</td><td>OBESIDADE,HIPERTENSÃƒO (HAS),ASMA                                                                          </td><td>0</td><td>0</td><td>SALVADOR             </td></tr>\n",
              "\t<tr><td>2020-04-03</td><td>2020-04-03</td><td>BA</td><td>SALVADOR             </td><td>M</td><td>79</td><td>PRIVADO     </td><td>S</td><td>HIPOCALCEMIA                                                                                               </td><td>0</td><td>0</td><td>SALVADOR             </td></tr>\n",
              "\t<tr><td>2020-04-02</td><td>2020-04-02</td><td>BA</td><td>SALVADOR             </td><td>M</td><td>88</td><td>PRIVADO     </td><td>S</td><td>DOENÃ‡A CARDIOVASULAR (DCV),DIABETES MELLITUS (DM)                                                         </td><td>0</td><td>0</td><td>SALVADOR             </td></tr>\n",
              "\t<tr><td>2020-03-30</td><td>2020-03-31</td><td>BA</td><td>SALVADOR             </td><td>M</td><td>64</td><td>PRIVADO     </td><td>S</td><td>HIPERTENSÃƒO (HAS),DIABETES MELLITUS (DM)                                                                  </td><td>0</td><td>0</td><td>SALVADOR             </td></tr>\n",
              "\t<tr><td>2020-03-28</td><td>2020-03-29</td><td>BA</td><td>SALVADOR             </td><td>M</td><td>74</td><td>PRIVADO     </td><td>S</td><td>DOENÃ‡A CARDIOVASULAR (DCV),NEOPLASIA                                                                      </td><td>0</td><td>0</td><td>SALVADOR             </td></tr>\n",
              "</tbody>\n",
              "</table>\n"
            ],
            "text/markdown": "\nA tibble: 2638 × 12\n\n| DATA OBITO &lt;dttm&gt; | DATA NOTIFICACAO OBITO &lt;dttm&gt; | UF ESTADO &lt;chr&gt; | MUNICIPIO &lt;chr&gt; | SEXO &lt;chr&gt; | IDADE &lt;dbl&gt; | TIPO ORGAO &lt;chr&gt; | COMORBIDADE &lt;chr&gt; | LISTA COMORBIDADE &lt;chr&gt; | IDADE MESES &lt;dbl&gt; | IDADE DIAS &lt;dbl&gt; | MUNICIPIO OCORRENCIA &lt;chr&gt; |\n|---|---|---|---|---|---|---|---|---|---|---|---|\n| 2020-07-10 | 2020-07-15 | BA | SALVADOR                      | M | 61 | PUBLICO      | S  | TABAGISMO                                                                                | 0 | 0 | SALVADOR                      |\n| 2020-07-11 | 2020-07-15 | BA | SALVADOR                      | F | 80 | PUBLICO      | S  | HIPERTENSÃƒO (HAS),DIABETES MELLITUS (DM)                                                | 0 | 0 | SALVADOR                      |\n| 2020-07-06 | 2020-07-15 | BA | TEIXEIRA DE FREITAS           | M | 58 | PUBLICO      | SI | NA                                                                                       | 0 | 0 | TEIXEIRA DE FREITAS           |\n| 2020-07-10 | 2020-07-15 | BA | SALVADOR                      | F | 88 | PUBLICO      | N  | NA                                                                                       | 0 | 0 | SALVADOR                      |\n| 2020-07-10 | 2020-07-15 | BA | SALVADOR                      | M | 76 | PUBLICO      | S  | HIPERTENSÃƒO (HAS),DIABETES MELLITUS (DM)                                                | 0 | 0 | SALVADOR                      |\n| 2020-07-08 | 2020-07-15 | BA | SANTO ANTÃ”NIO DE JESUS       | M | 60 | PUBLICO      | S  | DOENÃ‡A CARDIOVASULAR (DCV)                                                              | 0 | 0 | SALVADOR                      |\n| 2020-07-12 | 2020-07-15 | BA | ITAMARAJU                     | M | 79 | PUBLICO      | S  | DIABETES MELLITUS (DM)                                                                   | 0 | 0 | ITAMARAJU                     |\n| 2020-07-08 | 2020-07-15 | BA | MARACÃS                 | M | 64 | PUBLICO      | S  | HIPERTENSÃƒO (HAS),DIABETES MELLITUS (DM)                                                | 0 | 0 | MARACÃS                 |\n| 2020-07-10 | 2020-07-15 | BA | SALVADOR                      | F | 66 | PUBLICO      | S  | HIPERTENSÃƒO (HAS),DIABETES MELLITUS (DM)                                                | 0 | 0 | SALVADOR                      |\n| 2020-07-07 | 2020-07-15 | BA | SALVADOR                      | F | 92 | PUBLICO      | S  | HIPERTENSÃƒO (HAS)                                                                       | 0 | 0 | SALVADOR                      |\n| 2020-07-09 | 2020-07-15 | BA | PAULO AFONSO                  | M | 67 | PUBLICO      | S  | DOENÃ‡A CARDIOVASULAR (DCV),DOENÃ‡A RESPIRATORIA CRONICA                                 | 0 | 0 | PAULO AFONSO                  |\n| 2020-06-23 | 2020-07-15 | BA | LUÃS EDUARDO MAGALHÃƒES | M | 40 | NA           | N  | NA                                                                                       | 0 | 0 | LUÃS EDUARDO MAGALHÃƒES |\n| 2020-07-08 | 2020-07-15 | BA | SALVADOR                      | M | 86 | PRIVADO      | S  | HIPERTENSÃƒO (HAS),ALZHEIMER                                                             | 0 | 0 | SALVADOR                      |\n| 2020-07-10 | 2020-07-15 | BA | JUAZEIRO                      | M | 78 | PUBLICO      | S  | ALZHEIMER                                                                                | 0 | 0 | JUAZEIRO                      |\n| 2020-07-09 | 2020-07-15 | BA | JUAZEIRO                      | M | 61 | PUBLICO      | S  | DOENÃ‡A RESPIRATORIA CRONICA                                                             | 0 | 0 | JUAZEIRO                      |\n| 2020-07-11 | 2020-07-15 | BA | SALVADOR                      | F | 79 | FILANTROPICO | S  | OBESIDADE,HIPERTENSÃƒO (HAS),DIABETES MELLITUS (DM),DOENÃ‡AS ENDÃ“CRINAS OU NUTRICIONAIS | 0 | 0 | SALVADOR                      |\n| 2020-07-07 | 2020-07-15 | BA | JUAZEIRO                      | M | 52 | PUBLICO      | S  | DIABETES MELLITUS (DM)                                                                   | 0 | 0 | JUAZEIRO                      |\n| 2020-06-07 | 2020-07-15 | BA | TEIXEIRA DE FREITAS           | F | 57 | PUBLICO      | S  | OBESIDADE,HIPERTENSÃƒO (HAS),DIABETES MELLITUS (DM)                                      | 0 | 0 | TEIXEIRA DE FREITAS           |\n| 2020-07-14 | 2020-07-15 | BA | NAZARÃ‰                       | M | 47 | PUBLICO      | S  | HIPERTENSÃƒO (HAS),DIABETES MELLITUS (DM)                                                | 0 | 0 | SANTO ANTÃ”NIO DE JESUS       |\n| 2020-07-13 | 2020-07-15 | BA | MALHADA                       | M | 57 | PUBLICO      | S  | DOENÃ‡A CARDIOVASULAR (DCV)                                                              | 0 | 0 | VITÃ“RIA DA CONQUISTA         |\n| 2020-07-13 | 2020-07-15 | BA | TANQUINHO                     | M | 85 | PUBLICO      | S  | DOENÃ‡A CARDIOVASULAR (DCV)                                                              | 0 | 0 | TANQUINHO                     |\n| 2020-07-01 | 2020-07-15 | BA | ITAPETINGA                    | M | 77 | PUBLICO      | S  | DOENÃ‡A CARDIOVASULAR (DCV)                                                              | 0 | 0 | ITAPETINGA                    |\n| 2020-07-09 | 2020-07-15 | BA | JEQUIÃ‰                       | F | 63 | PUBLICO      | S  | HIPERTENSÃƒO (HAS),DIABETES MELLITUS (DM)                                                | 0 | 0 | JEQUIÃ‰                       |\n| 2020-07-08 | 2020-07-15 | BA | SALVADOR                      | F | 89 | PRIVADO      | S  | HIPERTENSÃƒO (HAS),DIABETES MELLITUS (DM)                                                | 0 | 0 | SALVADOR                      |\n| 2020-07-12 | 2020-07-15 | BA | SALVADOR                      | F | 76 | NA           | S  | DIABETES MELLITUS (DM)                                                                   | 0 | 0 | SALVADOR                      |\n| 2020-07-11 | 2020-07-15 | BA | SALVADOR                      | M | 45 | PUBLICO      | N  | NA                                                                                       | 0 | 0 | SALVADOR                      |\n| 2020-07-10 | 2020-07-15 | BA | SALVADOR                      | M | 58 | PUBLICO      | SI | NA                                                                                       | 0 | 0 | SALVADOR                      |\n| 2020-07-09 | 2020-07-15 | BA | SALVADOR                      | M | 58 | PUBLICO      | S  | DIABETES MELLITUS (DM)                                                                   | 0 | 0 | SALVADOR                      |\n| 2020-07-08 | 2020-07-15 | BA | SALVADOR                      | F | 59 | PUBLICO      | S  | HIPERTENSÃƒO (HAS),DOENÃ‡A CARDIOVASULAR (DCV)                                           | 0 | 0 | SALVADOR                      |\n| 2020-07-13 | 2020-07-15 | BA | JEQUIÃ‰                       | M | 57 | PUBLICO      | S  | HIPERTENSÃƒO (HAS)                                                                       | 0 | 0 | JEQUIÃ‰                       |\n| ⋮ | ⋮ | ⋮ | ⋮ | ⋮ | ⋮ | ⋮ | ⋮ | ⋮ | ⋮ | ⋮ | ⋮ |\n| 2020-04-16 | 2020-04-16 | BA | ILHÃ‰US               | F | 61 | PUBLICO      | S | HIPERTENSÃƒO (HAS),DIABETES MELLITUS (DM),DOENÃ‡A RENAL CRÃ”NICA (DRC),TUBERCULOSE (TB),PNEUMOPATIA CRONICA | 0 | 0 | ILHÃ‰US               |\n| 2020-04-16 | 2020-04-16 | BA | URUÃ‡UCA              | M | 62 | PUBLICO      | S | HIPERTENSÃƒO (HAS),TABAGISMO                                                                                | 0 | 0 | ILHÃ‰US               |\n| 2020-04-14 | 2020-04-15 | BA | SALVADOR              | F | 73 | FILANTROPICO | S | NEOPLASIA                                                                                                   | 0 | 0 | SALVADOR              |\n| 2020-04-14 | 2020-04-15 | BA | SALVADOR              | M | 52 | FILANTROPICO | N | NA                                                                                                          | 0 | 0 | SALVADOR              |\n| 2020-04-10 | 2020-04-14 | BA | ITAPÃ‰                | F | 62 | PUBLICO      | S | DOENÃ‡A CARDIOVASULAR (DCV),CIRROSE,HEPATITE B                                                              | 0 | 0 | ILHÃ‰US               |\n| 2020-04-13 | 2020-04-14 | BA | SALVADOR              | F | 84 | PUBLICO      | S | HIPERTENSÃƒO (HAS),TUBERCULOSE (TB),DISLIPIDEMIA                                                            | 0 | 0 | SALVADOR              |\n| 2020-04-12 | 2020-04-14 | BA | SALVADOR              | F | 95 | FILANTROPICO | S | DOENÃ‡A CARDIOVASULAR (DCV),DIABETES MELLITUS (DM),DOENÃ‡A NEUROLOGICA CRONICA                              | 0 | 0 | SALVADOR              |\n| 2020-04-14 | 2020-04-14 | BA | BELMONTE              | F | 81 | PUBLICO      | S | HIPERTENSÃƒO (HAS),DIABETES MELLITUS (DM)                                                                   | 0 | 0 | PORTO SEGURO          |\n| 2020-04-13 | 2020-04-13 | BA | VITÃ“RIA DA CONQUISTA | M | 69 | PUBLICO      | S | HIPERTENSÃƒO (HAS),DIABETES MELLITUS (DM),GLAUCOMA                                                          | 0 | 0 | VITÃ“RIA DA CONQUISTA |\n| 2020-04-11 | 2020-04-11 | RJ | RIO DE JANEIRO        | M | 35 | PRIVADO      | N | NA                                                                                                          | 0 | 0 | LAURO DE FREITAS      |\n| 2020-04-10 | 2020-04-10 | BA | GONGOGI               | M | 71 | PUBLICO      | S | DIABETES MELLITUS (DM)                                                                                      | 0 | 0 | ITABUNA               |\n| 2020-04-05 | 2020-04-09 | BA | ILHÃ‰US               | M | 65 | PUBLICO      | S | PNEUMOPATIA CRONICA                                                                                         | 0 | 0 | ILHÃ‰US               |\n| 2020-04-07 | 2020-04-08 | BA | URUÃ‡UCA              | F | 63 | PUBLICO      | S | DOENÃ‡A CARDIOVASULAR (DCV),DIABETES MELLITUS (DM)                                                          | 0 | 0 | ITABUNA               |\n| 2020-04-08 | 2020-04-08 | BA | ITAGIBÃ         | F | 72 | PUBLICO      | S | DOENÃ‡A CARDIOVASULAR (DCV)                                                                                 | 0 | 0 | SALVADOR              |\n| 2020-04-08 | 2020-04-08 | BA | ARACI                 | M | 76 | PUBLICO      | S | HIPERTENSÃƒO (HAS),DIABETES MELLITUS (DM)                                                                   | 0 | 0 | ARACI                 |\n| 2020-04-07 | 2020-04-08 | BA | SALVADOR              | M | 96 | PRIVADO      | S | HIPERTENSÃƒO (HAS),DOENÃ‡A RENAL CRÃ”NICA (DRC)                                                             | 0 | 0 | SALVADOR              |\n| 2020-04-07 | 2020-04-07 | BA | SALVADOR              | F | 51 | PRIVADO      | S | HIPERTENSÃƒO (HAS),DIABETES MELLITUS (DM),INSUFICIÃŠNCIA RENAL AGUDA (IRA)                                  | 0 | 0 | SALVADOR              |\n| 2020-04-06 | 2020-04-07 | BA | LAURO DE FREITAS      | M | 53 | PUBLICO      | N | NA                                                                                                          | 0 | 0 | SALVADOR              |\n| 2020-04-07 | 2020-04-07 | BA | ADUSTINA              | M | 26 | PUBLICO      | S | OBESIDADE,HIPERTENSÃƒO (HAS)                                                                                | 0 | 0 | SALVADOR              |\n| 2020-04-06 | 2020-04-07 | BA | SALVADOR              | M | 64 | PUBLICO      | S | DIABETES MELLITUS (DM),CARDIOMIOPATIA CHAGÃSICA,HISTORICO DE ANEURISMA DE AORTA ABDOMINAL             | 0 | 0 | SALVADOR              |\n| 2020-04-03 | 2020-04-06 | BA | SALVADOR              | F | 62 | PUBLICO      | S | OBESIDADE,HIPERTENSÃƒO (HAS),PNEUMOMATIA NÃƒO ESPECIFICADA                                                  | 0 | 0 | SALVADOR              |\n| 2020-04-05 | 2020-04-05 | BA | SALVADOR              | M | 87 | PUBLICO      | N | NA                                                                                                          | 0 | 0 | SALVADOR              |\n| 2020-04-04 | 2020-04-04 | BA | SALVADOR              | M | 55 | PRIVADO      | N | NA                                                                                                          | 0 | 0 | LAURO DE FREITAS      |\n| 2020-04-01 | 2020-04-04 | BA | ITAPETINGA            | F | 28 | PUBLICO      | N | ASMA                                                                                                        | 0 | 0 | ITAPETINGA            |\n| 2020-03-30 | 2020-04-04 | BA | UTINGA                | M | 80 | PUBLICO      | S | DOENÃ‡A CARDIOVASULAR (DCV)                                                                                 | 0 | 0 | UTINGA                |\n| 2020-04-02 | 2020-04-03 | BA | SALVADOR              | F | 41 | PUBLICO      | S | OBESIDADE,HIPERTENSÃƒO (HAS),ASMA                                                                           | 0 | 0 | SALVADOR              |\n| 2020-04-03 | 2020-04-03 | BA | SALVADOR              | M | 79 | PRIVADO      | S | HIPOCALCEMIA                                                                                                | 0 | 0 | SALVADOR              |\n| 2020-04-02 | 2020-04-02 | BA | SALVADOR              | M | 88 | PRIVADO      | S | DOENÃ‡A CARDIOVASULAR (DCV),DIABETES MELLITUS (DM)                                                          | 0 | 0 | SALVADOR              |\n| 2020-03-30 | 2020-03-31 | BA | SALVADOR              | M | 64 | PRIVADO      | S | HIPERTENSÃƒO (HAS),DIABETES MELLITUS (DM)                                                                   | 0 | 0 | SALVADOR              |\n| 2020-03-28 | 2020-03-29 | BA | SALVADOR              | M | 74 | PRIVADO      | S | DOENÃ‡A CARDIOVASULAR (DCV),NEOPLASIA                                                                       | 0 | 0 | SALVADOR              |\n\n",
            "text/latex": "A tibble: 2638 × 12\n\\begin{tabular}{llllllllllll}\n DATA OBITO & DATA NOTIFICACAO OBITO & UF ESTADO & MUNICIPIO & SEXO & IDADE & TIPO ORGAO & COMORBIDADE & LISTA COMORBIDADE & IDADE MESES & IDADE DIAS & MUNICIPIO OCORRENCIA\\\\\n <dttm> & <dttm> & <chr> & <chr> & <chr> & <dbl> & <chr> & <chr> & <chr> & <dbl> & <dbl> & <chr>\\\\\n\\hline\n\t 2020-07-10 & 2020-07-15 & BA & SALVADOR                      & M & 61 & PUBLICO      & S  & TABAGISMO                                                                                & 0 & 0 & SALVADOR                     \\\\\n\t 2020-07-11 & 2020-07-15 & BA & SALVADOR                      & F & 80 & PUBLICO      & S  & HIPERTENSÃƒO (HAS),DIABETES MELLITUS (DM)                                                & 0 & 0 & SALVADOR                     \\\\\n\t 2020-07-06 & 2020-07-15 & BA & TEIXEIRA DE FREITAS           & M & 58 & PUBLICO      & SI & NA                                                                                       & 0 & 0 & TEIXEIRA DE FREITAS          \\\\\n\t 2020-07-10 & 2020-07-15 & BA & SALVADOR                      & F & 88 & PUBLICO      & N  & NA                                                                                       & 0 & 0 & SALVADOR                     \\\\\n\t 2020-07-10 & 2020-07-15 & BA & SALVADOR                      & M & 76 & PUBLICO      & S  & HIPERTENSÃƒO (HAS),DIABETES MELLITUS (DM)                                                & 0 & 0 & SALVADOR                     \\\\\n\t 2020-07-08 & 2020-07-15 & BA & SANTO ANTÃ”NIO DE JESUS       & M & 60 & PUBLICO      & S  & DOENÃ‡A CARDIOVASULAR (DCV)                                                              & 0 & 0 & SALVADOR                     \\\\\n\t 2020-07-12 & 2020-07-15 & BA & ITAMARAJU                     & M & 79 & PUBLICO      & S  & DIABETES MELLITUS (DM)                                                                   & 0 & 0 & ITAMARAJU                    \\\\\n\t 2020-07-08 & 2020-07-15 & BA & MARACÃS                 & M & 64 & PUBLICO      & S  & HIPERTENSÃƒO (HAS),DIABETES MELLITUS (DM)                                                & 0 & 0 & MARACÃS                \\\\\n\t 2020-07-10 & 2020-07-15 & BA & SALVADOR                      & F & 66 & PUBLICO      & S  & HIPERTENSÃƒO (HAS),DIABETES MELLITUS (DM)                                                & 0 & 0 & SALVADOR                     \\\\\n\t 2020-07-07 & 2020-07-15 & BA & SALVADOR                      & F & 92 & PUBLICO      & S  & HIPERTENSÃƒO (HAS)                                                                       & 0 & 0 & SALVADOR                     \\\\\n\t 2020-07-09 & 2020-07-15 & BA & PAULO AFONSO                  & M & 67 & PUBLICO      & S  & DOENÃ‡A CARDIOVASULAR (DCV),DOENÃ‡A RESPIRATORIA CRONICA                                 & 0 & 0 & PAULO AFONSO                 \\\\\n\t 2020-06-23 & 2020-07-15 & BA & LUÃS EDUARDO MAGALHÃƒES & M & 40 & NA           & N  & NA                                                                                       & 0 & 0 & LUÃS EDUARDO MAGALHÃƒES\\\\\n\t 2020-07-08 & 2020-07-15 & BA & SALVADOR                      & M & 86 & PRIVADO      & S  & HIPERTENSÃƒO (HAS),ALZHEIMER                                                             & 0 & 0 & SALVADOR                     \\\\\n\t 2020-07-10 & 2020-07-15 & BA & JUAZEIRO                      & M & 78 & PUBLICO      & S  & ALZHEIMER                                                                                & 0 & 0 & JUAZEIRO                     \\\\\n\t 2020-07-09 & 2020-07-15 & BA & JUAZEIRO                      & M & 61 & PUBLICO      & S  & DOENÃ‡A RESPIRATORIA CRONICA                                                             & 0 & 0 & JUAZEIRO                     \\\\\n\t 2020-07-11 & 2020-07-15 & BA & SALVADOR                      & F & 79 & FILANTROPICO & S  & OBESIDADE,HIPERTENSÃƒO (HAS),DIABETES MELLITUS (DM),DOENÃ‡AS ENDÃ“CRINAS OU NUTRICIONAIS & 0 & 0 & SALVADOR                     \\\\\n\t 2020-07-07 & 2020-07-15 & BA & JUAZEIRO                      & M & 52 & PUBLICO      & S  & DIABETES MELLITUS (DM)                                                                   & 0 & 0 & JUAZEIRO                     \\\\\n\t 2020-06-07 & 2020-07-15 & BA & TEIXEIRA DE FREITAS           & F & 57 & PUBLICO      & S  & OBESIDADE,HIPERTENSÃƒO (HAS),DIABETES MELLITUS (DM)                                      & 0 & 0 & TEIXEIRA DE FREITAS          \\\\\n\t 2020-07-14 & 2020-07-15 & BA & NAZARÃ‰                       & M & 47 & PUBLICO      & S  & HIPERTENSÃƒO (HAS),DIABETES MELLITUS (DM)                                                & 0 & 0 & SANTO ANTÃ”NIO DE JESUS      \\\\\n\t 2020-07-13 & 2020-07-15 & BA & MALHADA                       & M & 57 & PUBLICO      & S  & DOENÃ‡A CARDIOVASULAR (DCV)                                                              & 0 & 0 & VITÃ“RIA DA CONQUISTA        \\\\\n\t 2020-07-13 & 2020-07-15 & BA & TANQUINHO                     & M & 85 & PUBLICO      & S  & DOENÃ‡A CARDIOVASULAR (DCV)                                                              & 0 & 0 & TANQUINHO                    \\\\\n\t 2020-07-01 & 2020-07-15 & BA & ITAPETINGA                    & M & 77 & PUBLICO      & S  & DOENÃ‡A CARDIOVASULAR (DCV)                                                              & 0 & 0 & ITAPETINGA                   \\\\\n\t 2020-07-09 & 2020-07-15 & BA & JEQUIÃ‰                       & F & 63 & PUBLICO      & S  & HIPERTENSÃƒO (HAS),DIABETES MELLITUS (DM)                                                & 0 & 0 & JEQUIÃ‰                      \\\\\n\t 2020-07-08 & 2020-07-15 & BA & SALVADOR                      & F & 89 & PRIVADO      & S  & HIPERTENSÃƒO (HAS),DIABETES MELLITUS (DM)                                                & 0 & 0 & SALVADOR                     \\\\\n\t 2020-07-12 & 2020-07-15 & BA & SALVADOR                      & F & 76 & NA           & S  & DIABETES MELLITUS (DM)                                                                   & 0 & 0 & SALVADOR                     \\\\\n\t 2020-07-11 & 2020-07-15 & BA & SALVADOR                      & M & 45 & PUBLICO      & N  & NA                                                                                       & 0 & 0 & SALVADOR                     \\\\\n\t 2020-07-10 & 2020-07-15 & BA & SALVADOR                      & M & 58 & PUBLICO      & SI & NA                                                                                       & 0 & 0 & SALVADOR                     \\\\\n\t 2020-07-09 & 2020-07-15 & BA & SALVADOR                      & M & 58 & PUBLICO      & S  & DIABETES MELLITUS (DM)                                                                   & 0 & 0 & SALVADOR                     \\\\\n\t 2020-07-08 & 2020-07-15 & BA & SALVADOR                      & F & 59 & PUBLICO      & S  & HIPERTENSÃƒO (HAS),DOENÃ‡A CARDIOVASULAR (DCV)                                           & 0 & 0 & SALVADOR                     \\\\\n\t 2020-07-13 & 2020-07-15 & BA & JEQUIÃ‰                       & M & 57 & PUBLICO      & S  & HIPERTENSÃƒO (HAS)                                                                       & 0 & 0 & JEQUIÃ‰                      \\\\\n\t ⋮ & ⋮ & ⋮ & ⋮ & ⋮ & ⋮ & ⋮ & ⋮ & ⋮ & ⋮ & ⋮ & ⋮\\\\\n\t 2020-04-16 & 2020-04-16 & BA & ILHÃ‰US               & F & 61 & PUBLICO      & S & HIPERTENSÃƒO (HAS),DIABETES MELLITUS (DM),DOENÃ‡A RENAL CRÃ”NICA (DRC),TUBERCULOSE (TB),PNEUMOPATIA CRONICA & 0 & 0 & ILHÃ‰US              \\\\\n\t 2020-04-16 & 2020-04-16 & BA & URUÃ‡UCA              & M & 62 & PUBLICO      & S & HIPERTENSÃƒO (HAS),TABAGISMO                                                                                & 0 & 0 & ILHÃ‰US              \\\\\n\t 2020-04-14 & 2020-04-15 & BA & SALVADOR              & F & 73 & FILANTROPICO & S & NEOPLASIA                                                                                                   & 0 & 0 & SALVADOR             \\\\\n\t 2020-04-14 & 2020-04-15 & BA & SALVADOR              & M & 52 & FILANTROPICO & N & NA                                                                                                          & 0 & 0 & SALVADOR             \\\\\n\t 2020-04-10 & 2020-04-14 & BA & ITAPÃ‰                & F & 62 & PUBLICO      & S & DOENÃ‡A CARDIOVASULAR (DCV),CIRROSE,HEPATITE B                                                              & 0 & 0 & ILHÃ‰US              \\\\\n\t 2020-04-13 & 2020-04-14 & BA & SALVADOR              & F & 84 & PUBLICO      & S & HIPERTENSÃƒO (HAS),TUBERCULOSE (TB),DISLIPIDEMIA                                                            & 0 & 0 & SALVADOR             \\\\\n\t 2020-04-12 & 2020-04-14 & BA & SALVADOR              & F & 95 & FILANTROPICO & S & DOENÃ‡A CARDIOVASULAR (DCV),DIABETES MELLITUS (DM),DOENÃ‡A NEUROLOGICA CRONICA                              & 0 & 0 & SALVADOR             \\\\\n\t 2020-04-14 & 2020-04-14 & BA & BELMONTE              & F & 81 & PUBLICO      & S & HIPERTENSÃƒO (HAS),DIABETES MELLITUS (DM)                                                                   & 0 & 0 & PORTO SEGURO         \\\\\n\t 2020-04-13 & 2020-04-13 & BA & VITÃ“RIA DA CONQUISTA & M & 69 & PUBLICO      & S & HIPERTENSÃƒO (HAS),DIABETES MELLITUS (DM),GLAUCOMA                                                          & 0 & 0 & VITÃ“RIA DA CONQUISTA\\\\\n\t 2020-04-11 & 2020-04-11 & RJ & RIO DE JANEIRO        & M & 35 & PRIVADO      & N & NA                                                                                                          & 0 & 0 & LAURO DE FREITAS     \\\\\n\t 2020-04-10 & 2020-04-10 & BA & GONGOGI               & M & 71 & PUBLICO      & S & DIABETES MELLITUS (DM)                                                                                      & 0 & 0 & ITABUNA              \\\\\n\t 2020-04-05 & 2020-04-09 & BA & ILHÃ‰US               & M & 65 & PUBLICO      & S & PNEUMOPATIA CRONICA                                                                                         & 0 & 0 & ILHÃ‰US              \\\\\n\t 2020-04-07 & 2020-04-08 & BA & URUÃ‡UCA              & F & 63 & PUBLICO      & S & DOENÃ‡A CARDIOVASULAR (DCV),DIABETES MELLITUS (DM)                                                          & 0 & 0 & ITABUNA              \\\\\n\t 2020-04-08 & 2020-04-08 & BA & ITAGIBÃ         & F & 72 & PUBLICO      & S & DOENÃ‡A CARDIOVASULAR (DCV)                                                                                 & 0 & 0 & SALVADOR             \\\\\n\t 2020-04-08 & 2020-04-08 & BA & ARACI                 & M & 76 & PUBLICO      & S & HIPERTENSÃƒO (HAS),DIABETES MELLITUS (DM)                                                                   & 0 & 0 & ARACI                \\\\\n\t 2020-04-07 & 2020-04-08 & BA & SALVADOR              & M & 96 & PRIVADO      & S & HIPERTENSÃƒO (HAS),DOENÃ‡A RENAL CRÃ”NICA (DRC)                                                             & 0 & 0 & SALVADOR             \\\\\n\t 2020-04-07 & 2020-04-07 & BA & SALVADOR              & F & 51 & PRIVADO      & S & HIPERTENSÃƒO (HAS),DIABETES MELLITUS (DM),INSUFICIÃŠNCIA RENAL AGUDA (IRA)                                  & 0 & 0 & SALVADOR             \\\\\n\t 2020-04-06 & 2020-04-07 & BA & LAURO DE FREITAS      & M & 53 & PUBLICO      & N & NA                                                                                                          & 0 & 0 & SALVADOR             \\\\\n\t 2020-04-07 & 2020-04-07 & BA & ADUSTINA              & M & 26 & PUBLICO      & S & OBESIDADE,HIPERTENSÃƒO (HAS)                                                                                & 0 & 0 & SALVADOR             \\\\\n\t 2020-04-06 & 2020-04-07 & BA & SALVADOR              & M & 64 & PUBLICO      & S & DIABETES MELLITUS (DM),CARDIOMIOPATIA CHAGÃSICA,HISTORICO DE ANEURISMA DE AORTA ABDOMINAL             & 0 & 0 & SALVADOR             \\\\\n\t 2020-04-03 & 2020-04-06 & BA & SALVADOR              & F & 62 & PUBLICO      & S & OBESIDADE,HIPERTENSÃƒO (HAS),PNEUMOMATIA NÃƒO ESPECIFICADA                                                  & 0 & 0 & SALVADOR             \\\\\n\t 2020-04-05 & 2020-04-05 & BA & SALVADOR              & M & 87 & PUBLICO      & N & NA                                                                                                          & 0 & 0 & SALVADOR             \\\\\n\t 2020-04-04 & 2020-04-04 & BA & SALVADOR              & M & 55 & PRIVADO      & N & NA                                                                                                          & 0 & 0 & LAURO DE FREITAS     \\\\\n\t 2020-04-01 & 2020-04-04 & BA & ITAPETINGA            & F & 28 & PUBLICO      & N & ASMA                                                                                                        & 0 & 0 & ITAPETINGA           \\\\\n\t 2020-03-30 & 2020-04-04 & BA & UTINGA                & M & 80 & PUBLICO      & S & DOENÃ‡A CARDIOVASULAR (DCV)                                                                                 & 0 & 0 & UTINGA               \\\\\n\t 2020-04-02 & 2020-04-03 & BA & SALVADOR              & F & 41 & PUBLICO      & S & OBESIDADE,HIPERTENSÃƒO (HAS),ASMA                                                                           & 0 & 0 & SALVADOR             \\\\\n\t 2020-04-03 & 2020-04-03 & BA & SALVADOR              & M & 79 & PRIVADO      & S & HIPOCALCEMIA                                                                                                & 0 & 0 & SALVADOR             \\\\\n\t 2020-04-02 & 2020-04-02 & BA & SALVADOR              & M & 88 & PRIVADO      & S & DOENÃ‡A CARDIOVASULAR (DCV),DIABETES MELLITUS (DM)                                                          & 0 & 0 & SALVADOR             \\\\\n\t 2020-03-30 & 2020-03-31 & BA & SALVADOR              & M & 64 & PRIVADO      & S & HIPERTENSÃƒO (HAS),DIABETES MELLITUS (DM)                                                                   & 0 & 0 & SALVADOR             \\\\\n\t 2020-03-28 & 2020-03-29 & BA & SALVADOR              & M & 74 & PRIVADO      & S & DOENÃ‡A CARDIOVASULAR (DCV),NEOPLASIA                                                                       & 0 & 0 & SALVADOR             \\\\\n\\end{tabular}\n",
            "text/plain": [
              "     DATA OBITO DATA NOTIFICACAO OBITO UF ESTADO MUNICIPIO                    \n",
              "1    2020-07-10 2020-07-15             BA        SALVADOR                     \n",
              "2    2020-07-11 2020-07-15             BA        SALVADOR                     \n",
              "3    2020-07-06 2020-07-15             BA        TEIXEIRA DE FREITAS          \n",
              "4    2020-07-10 2020-07-15             BA        SALVADOR                     \n",
              "5    2020-07-10 2020-07-15             BA        SALVADOR                     \n",
              "6    2020-07-08 2020-07-15             BA        SANTO ANTÃ”NIO DE JESUS      \n",
              "7    2020-07-12 2020-07-15             BA        ITAMARAJU                    \n",
              "8    2020-07-08 2020-07-15             BA        MARACÃ\\u0081S                \n",
              "9    2020-07-10 2020-07-15             BA        SALVADOR                     \n",
              "10   2020-07-07 2020-07-15             BA        SALVADOR                     \n",
              "11   2020-07-09 2020-07-15             BA        PAULO AFONSO                 \n",
              "12   2020-06-23 2020-07-15             BA        LUÃ\\u008dS EDUARDO MAGALHÃƒES\n",
              "13   2020-07-08 2020-07-15             BA        SALVADOR                     \n",
              "14   2020-07-10 2020-07-15             BA        JUAZEIRO                     \n",
              "15   2020-07-09 2020-07-15             BA        JUAZEIRO                     \n",
              "16   2020-07-11 2020-07-15             BA        SALVADOR                     \n",
              "17   2020-07-07 2020-07-15             BA        JUAZEIRO                     \n",
              "18   2020-06-07 2020-07-15             BA        TEIXEIRA DE FREITAS          \n",
              "19   2020-07-14 2020-07-15             BA        NAZARÃ‰                      \n",
              "20   2020-07-13 2020-07-15             BA        MALHADA                      \n",
              "21   2020-07-13 2020-07-15             BA        TANQUINHO                    \n",
              "22   2020-07-01 2020-07-15             BA        ITAPETINGA                   \n",
              "23   2020-07-09 2020-07-15             BA        JEQUIÃ‰                      \n",
              "24   2020-07-08 2020-07-15             BA        SALVADOR                     \n",
              "25   2020-07-12 2020-07-15             BA        SALVADOR                     \n",
              "26   2020-07-11 2020-07-15             BA        SALVADOR                     \n",
              "27   2020-07-10 2020-07-15             BA        SALVADOR                     \n",
              "28   2020-07-09 2020-07-15             BA        SALVADOR                     \n",
              "29   2020-07-08 2020-07-15             BA        SALVADOR                     \n",
              "30   2020-07-13 2020-07-15             BA        JEQUIÃ‰                      \n",
              "⋮    ⋮          ⋮                      ⋮         ⋮                            \n",
              "2609 2020-04-16 2020-04-16             BA        ILHÃ‰US                      \n",
              "2610 2020-04-16 2020-04-16             BA        URUÃ‡UCA                     \n",
              "2611 2020-04-14 2020-04-15             BA        SALVADOR                     \n",
              "2612 2020-04-14 2020-04-15             BA        SALVADOR                     \n",
              "2613 2020-04-10 2020-04-14             BA        ITAPÃ‰                       \n",
              "2614 2020-04-13 2020-04-14             BA        SALVADOR                     \n",
              "2615 2020-04-12 2020-04-14             BA        SALVADOR                     \n",
              "2616 2020-04-14 2020-04-14             BA        BELMONTE                     \n",
              "2617 2020-04-13 2020-04-13             BA        VITÃ“RIA DA CONQUISTA        \n",
              "2618 2020-04-11 2020-04-11             RJ        RIO DE JANEIRO               \n",
              "2619 2020-04-10 2020-04-10             BA        GONGOGI                      \n",
              "2620 2020-04-05 2020-04-09             BA        ILHÃ‰US                      \n",
              "2621 2020-04-07 2020-04-08             BA        URUÃ‡UCA                     \n",
              "2622 2020-04-08 2020-04-08             BA        ITAGIBÃ\\u0081                \n",
              "2623 2020-04-08 2020-04-08             BA        ARACI                        \n",
              "2624 2020-04-07 2020-04-08             BA        SALVADOR                     \n",
              "2625 2020-04-07 2020-04-07             BA        SALVADOR                     \n",
              "2626 2020-04-06 2020-04-07             BA        LAURO DE FREITAS             \n",
              "2627 2020-04-07 2020-04-07             BA        ADUSTINA                     \n",
              "2628 2020-04-06 2020-04-07             BA        SALVADOR                     \n",
              "2629 2020-04-03 2020-04-06             BA        SALVADOR                     \n",
              "2630 2020-04-05 2020-04-05             BA        SALVADOR                     \n",
              "2631 2020-04-04 2020-04-04             BA        SALVADOR                     \n",
              "2632 2020-04-01 2020-04-04             BA        ITAPETINGA                   \n",
              "2633 2020-03-30 2020-04-04             BA        UTINGA                       \n",
              "2634 2020-04-02 2020-04-03             BA        SALVADOR                     \n",
              "2635 2020-04-03 2020-04-03             BA        SALVADOR                     \n",
              "2636 2020-04-02 2020-04-02             BA        SALVADOR                     \n",
              "2637 2020-03-30 2020-03-31             BA        SALVADOR                     \n",
              "2638 2020-03-28 2020-03-29             BA        SALVADOR                     \n",
              "     SEXO IDADE TIPO ORGAO   COMORBIDADE\n",
              "1    M    61    PUBLICO      S          \n",
              "2    F    80    PUBLICO      S          \n",
              "3    M    58    PUBLICO      SI         \n",
              "4    F    88    PUBLICO      N          \n",
              "5    M    76    PUBLICO      S          \n",
              "6    M    60    PUBLICO      S          \n",
              "7    M    79    PUBLICO      S          \n",
              "8    M    64    PUBLICO      S          \n",
              "9    F    66    PUBLICO      S          \n",
              "10   F    92    PUBLICO      S          \n",
              "11   M    67    PUBLICO      S          \n",
              "12   M    40    NA           N          \n",
              "13   M    86    PRIVADO      S          \n",
              "14   M    78    PUBLICO      S          \n",
              "15   M    61    PUBLICO      S          \n",
              "16   F    79    FILANTROPICO S          \n",
              "17   M    52    PUBLICO      S          \n",
              "18   F    57    PUBLICO      S          \n",
              "19   M    47    PUBLICO      S          \n",
              "20   M    57    PUBLICO      S          \n",
              "21   M    85    PUBLICO      S          \n",
              "22   M    77    PUBLICO      S          \n",
              "23   F    63    PUBLICO      S          \n",
              "24   F    89    PRIVADO      S          \n",
              "25   F    76    NA           S          \n",
              "26   M    45    PUBLICO      N          \n",
              "27   M    58    PUBLICO      SI         \n",
              "28   M    58    PUBLICO      S          \n",
              "29   F    59    PUBLICO      S          \n",
              "30   M    57    PUBLICO      S          \n",
              "⋮    ⋮    ⋮     ⋮            ⋮          \n",
              "2609 F    61    PUBLICO      S          \n",
              "2610 M    62    PUBLICO      S          \n",
              "2611 F    73    FILANTROPICO S          \n",
              "2612 M    52    FILANTROPICO N          \n",
              "2613 F    62    PUBLICO      S          \n",
              "2614 F    84    PUBLICO      S          \n",
              "2615 F    95    FILANTROPICO S          \n",
              "2616 F    81    PUBLICO      S          \n",
              "2617 M    69    PUBLICO      S          \n",
              "2618 M    35    PRIVADO      N          \n",
              "2619 M    71    PUBLICO      S          \n",
              "2620 M    65    PUBLICO      S          \n",
              "2621 F    63    PUBLICO      S          \n",
              "2622 F    72    PUBLICO      S          \n",
              "2623 M    76    PUBLICO      S          \n",
              "2624 M    96    PRIVADO      S          \n",
              "2625 F    51    PRIVADO      S          \n",
              "2626 M    53    PUBLICO      N          \n",
              "2627 M    26    PUBLICO      S          \n",
              "2628 M    64    PUBLICO      S          \n",
              "2629 F    62    PUBLICO      S          \n",
              "2630 M    87    PUBLICO      N          \n",
              "2631 M    55    PRIVADO      N          \n",
              "2632 F    28    PUBLICO      N          \n",
              "2633 M    80    PUBLICO      S          \n",
              "2634 F    41    PUBLICO      S          \n",
              "2635 M    79    PRIVADO      S          \n",
              "2636 M    88    PRIVADO      S          \n",
              "2637 M    64    PRIVADO      S          \n",
              "2638 M    74    PRIVADO      S          \n",
              "     LISTA COMORBIDADE                                                                                          \n",
              "1    TABAGISMO                                                                                                  \n",
              "2    HIPERTENSÃƒO (HAS),DIABETES MELLITUS (DM)                                                                  \n",
              "3    NA                                                                                                         \n",
              "4    NA                                                                                                         \n",
              "5    HIPERTENSÃƒO (HAS),DIABETES MELLITUS (DM)                                                                  \n",
              "6    DOENÃ‡A CARDIOVASULAR (DCV)                                                                                \n",
              "7    DIABETES MELLITUS (DM)                                                                                     \n",
              "8    HIPERTENSÃƒO (HAS),DIABETES MELLITUS (DM)                                                                  \n",
              "9    HIPERTENSÃƒO (HAS),DIABETES MELLITUS (DM)                                                                  \n",
              "10   HIPERTENSÃƒO (HAS)                                                                                         \n",
              "11   DOENÃ‡A CARDIOVASULAR (DCV),DOENÃ‡A RESPIRATORIA CRONICA                                                   \n",
              "12   NA                                                                                                         \n",
              "13   HIPERTENSÃƒO (HAS),ALZHEIMER                                                                               \n",
              "14   ALZHEIMER                                                                                                  \n",
              "15   DOENÃ‡A RESPIRATORIA CRONICA                                                                               \n",
              "16   OBESIDADE,HIPERTENSÃƒO (HAS),DIABETES MELLITUS (DM),DOENÃ‡AS ENDÃ“CRINAS OU NUTRICIONAIS                   \n",
              "17   DIABETES MELLITUS (DM)                                                                                     \n",
              "18   OBESIDADE,HIPERTENSÃƒO (HAS),DIABETES MELLITUS (DM)                                                        \n",
              "19   HIPERTENSÃƒO (HAS),DIABETES MELLITUS (DM)                                                                  \n",
              "20   DOENÃ‡A CARDIOVASULAR (DCV)                                                                                \n",
              "21   DOENÃ‡A CARDIOVASULAR (DCV)                                                                                \n",
              "22   DOENÃ‡A CARDIOVASULAR (DCV)                                                                                \n",
              "23   HIPERTENSÃƒO (HAS),DIABETES MELLITUS (DM)                                                                  \n",
              "24   HIPERTENSÃƒO (HAS),DIABETES MELLITUS (DM)                                                                  \n",
              "25   DIABETES MELLITUS (DM)                                                                                     \n",
              "26   NA                                                                                                         \n",
              "27   NA                                                                                                         \n",
              "28   DIABETES MELLITUS (DM)                                                                                     \n",
              "29   HIPERTENSÃƒO (HAS),DOENÃ‡A CARDIOVASULAR (DCV)                                                             \n",
              "30   HIPERTENSÃƒO (HAS)                                                                                         \n",
              "⋮    ⋮                                                                                                          \n",
              "2609 HIPERTENSÃƒO (HAS),DIABETES MELLITUS (DM),DOENÃ‡A RENAL CRÃ”NICA (DRC),TUBERCULOSE (TB),PNEUMOPATIA CRONICA\n",
              "2610 HIPERTENSÃƒO (HAS),TABAGISMO                                                                               \n",
              "2611 NEOPLASIA                                                                                                  \n",
              "2612 NA                                                                                                         \n",
              "2613 DOENÃ‡A CARDIOVASULAR (DCV),CIRROSE,HEPATITE B                                                             \n",
              "2614 HIPERTENSÃƒO (HAS),TUBERCULOSE (TB),DISLIPIDEMIA                                                           \n",
              "2615 DOENÃ‡A CARDIOVASULAR (DCV),DIABETES MELLITUS (DM),DOENÃ‡A NEUROLOGICA CRONICA                             \n",
              "2616 HIPERTENSÃƒO (HAS),DIABETES MELLITUS (DM)                                                                  \n",
              "2617 HIPERTENSÃƒO (HAS),DIABETES MELLITUS (DM),GLAUCOMA                                                         \n",
              "2618 NA                                                                                                         \n",
              "2619 DIABETES MELLITUS (DM)                                                                                     \n",
              "2620 PNEUMOPATIA CRONICA                                                                                        \n",
              "2621 DOENÃ‡A CARDIOVASULAR (DCV),DIABETES MELLITUS (DM)                                                         \n",
              "2622 DOENÃ‡A CARDIOVASULAR (DCV)                                                                                \n",
              "2623 HIPERTENSÃƒO (HAS),DIABETES MELLITUS (DM)                                                                  \n",
              "2624 HIPERTENSÃƒO (HAS),DOENÃ‡A RENAL CRÃ”NICA (DRC)                                                            \n",
              "2625 HIPERTENSÃƒO (HAS),DIABETES MELLITUS (DM),INSUFICIÃŠNCIA RENAL AGUDA (IRA)                                 \n",
              "2626 NA                                                                                                         \n",
              "2627 OBESIDADE,HIPERTENSÃƒO (HAS)                                                                               \n",
              "2628 DIABETES MELLITUS (DM),CARDIOMIOPATIA CHAGÃ\\u0081SICA,HISTORICO DE ANEURISMA DE AORTA ABDOMINAL            \n",
              "2629 OBESIDADE,HIPERTENSÃƒO (HAS),PNEUMOMATIA NÃƒO ESPECIFICADA                                                 \n",
              "2630 NA                                                                                                         \n",
              "2631 NA                                                                                                         \n",
              "2632 ASMA                                                                                                       \n",
              "2633 DOENÃ‡A CARDIOVASULAR (DCV)                                                                                \n",
              "2634 OBESIDADE,HIPERTENSÃƒO (HAS),ASMA                                                                          \n",
              "2635 HIPOCALCEMIA                                                                                               \n",
              "2636 DOENÃ‡A CARDIOVASULAR (DCV),DIABETES MELLITUS (DM)                                                         \n",
              "2637 HIPERTENSÃƒO (HAS),DIABETES MELLITUS (DM)                                                                  \n",
              "2638 DOENÃ‡A CARDIOVASULAR (DCV),NEOPLASIA                                                                      \n",
              "     IDADE MESES IDADE DIAS MUNICIPIO OCORRENCIA         \n",
              "1    0           0          SALVADOR                     \n",
              "2    0           0          SALVADOR                     \n",
              "3    0           0          TEIXEIRA DE FREITAS          \n",
              "4    0           0          SALVADOR                     \n",
              "5    0           0          SALVADOR                     \n",
              "6    0           0          SALVADOR                     \n",
              "7    0           0          ITAMARAJU                    \n",
              "8    0           0          MARACÃ\\u0081S                \n",
              "9    0           0          SALVADOR                     \n",
              "10   0           0          SALVADOR                     \n",
              "11   0           0          PAULO AFONSO                 \n",
              "12   0           0          LUÃ\\u008dS EDUARDO MAGALHÃƒES\n",
              "13   0           0          SALVADOR                     \n",
              "14   0           0          JUAZEIRO                     \n",
              "15   0           0          JUAZEIRO                     \n",
              "16   0           0          SALVADOR                     \n",
              "17   0           0          JUAZEIRO                     \n",
              "18   0           0          TEIXEIRA DE FREITAS          \n",
              "19   0           0          SANTO ANTÃ”NIO DE JESUS      \n",
              "20   0           0          VITÃ“RIA DA CONQUISTA        \n",
              "21   0           0          TANQUINHO                    \n",
              "22   0           0          ITAPETINGA                   \n",
              "23   0           0          JEQUIÃ‰                      \n",
              "24   0           0          SALVADOR                     \n",
              "25   0           0          SALVADOR                     \n",
              "26   0           0          SALVADOR                     \n",
              "27   0           0          SALVADOR                     \n",
              "28   0           0          SALVADOR                     \n",
              "29   0           0          SALVADOR                     \n",
              "30   0           0          JEQUIÃ‰                      \n",
              "⋮    ⋮           ⋮          ⋮                            \n",
              "2609 0           0          ILHÃ‰US                      \n",
              "2610 0           0          ILHÃ‰US                      \n",
              "2611 0           0          SALVADOR                     \n",
              "2612 0           0          SALVADOR                     \n",
              "2613 0           0          ILHÃ‰US                      \n",
              "2614 0           0          SALVADOR                     \n",
              "2615 0           0          SALVADOR                     \n",
              "2616 0           0          PORTO SEGURO                 \n",
              "2617 0           0          VITÃ“RIA DA CONQUISTA        \n",
              "2618 0           0          LAURO DE FREITAS             \n",
              "2619 0           0          ITABUNA                      \n",
              "2620 0           0          ILHÃ‰US                      \n",
              "2621 0           0          ITABUNA                      \n",
              "2622 0           0          SALVADOR                     \n",
              "2623 0           0          ARACI                        \n",
              "2624 0           0          SALVADOR                     \n",
              "2625 0           0          SALVADOR                     \n",
              "2626 0           0          SALVADOR                     \n",
              "2627 0           0          SALVADOR                     \n",
              "2628 0           0          SALVADOR                     \n",
              "2629 0           0          SALVADOR                     \n",
              "2630 0           0          SALVADOR                     \n",
              "2631 0           0          LAURO DE FREITAS             \n",
              "2632 0           0          ITAPETINGA                   \n",
              "2633 0           0          UTINGA                       \n",
              "2634 0           0          SALVADOR                     \n",
              "2635 0           0          SALVADOR                     \n",
              "2636 0           0          SALVADOR                     \n",
              "2637 0           0          SALVADOR                     \n",
              "2638 0           0          SALVADOR                     "
            ]
          },
          "metadata": {}
        }
      ]
    },
    {
      "cell_type": "code",
      "source": [
        "cat(system('python3 -c \"from google.colab import drive\\ndrive.mount()\"', intern=TRUE), sep='\\n', wait=TRUE)"
      ],
      "metadata": {
        "colab": {
          "base_uri": "https://localhost:8080/"
        },
        "id": "xUvyUiEn-MGp",
        "outputId": "35f2d92f-0803-45bb-ca87-6bf2631630bb"
      },
      "execution_count": null,
      "outputs": [
        {
          "output_type": "stream",
          "name": "stderr",
          "text": [
            "Warning message in system(\"python3 -c \\\"from google.colab import drive\\ndrive.mount()\\\"\", :\n",
            "“running command 'python3 -c \"from google.colab import drive\n",
            "drive.mount()\"' had status 1”\n"
          ]
        },
        {
          "output_type": "stream",
          "name": "stdout",
          "text": [
            "\n",
            "TRUE\n"
          ]
        }
      ]
    },
    {
      "cell_type": "code",
      "execution_count": null,
      "metadata": {
        "colab": {
          "base_uri": "https://localhost:8080/",
          "height": 34
        },
        "id": "pzgc_RvatBof",
        "outputId": "0db2ce07-efed-4837-8b9e-3ff81f1712f9"
      },
      "outputs": [
        {
          "output_type": "display_data",
          "data": {
            "text/html": [
              "'/content'"
            ],
            "text/markdown": "'/content'",
            "text/latex": "'/content'",
            "text/plain": [
              "[1] \"/content\""
            ]
          },
          "metadata": {}
        }
      ],
      "source": [
        "# Obter o diret�rio de trabalho\n",
        "getwd()\n",
        "\n",
        "#Definir o diret�rio de trabalho\n",
        "#setwd('./banco_estadual_COVID19_15_07_2020_reduzido.xlsx')\n",
        "\n",
        "# Instalando e carregando pacotes\n",
        "#install.packages('ggplot2')\n",
        "library('ggplot2')\n"
      ]
    },
    {
      "cell_type": "code",
      "source": [
        "\n",
        "# R com ocalculadora \n",
        "10+2\n",
        "10-2"
      ],
      "metadata": {
        "colab": {
          "base_uri": "https://localhost:8080/",
          "height": 52
        },
        "id": "PDg0WLnqtHAs",
        "outputId": "b85c77ba-992d-4b1f-b909-b4fdc01b10f4"
      },
      "execution_count": null,
      "outputs": [
        {
          "output_type": "display_data",
          "data": {
            "text/html": [
              "12"
            ],
            "text/markdown": "12",
            "text/latex": "12",
            "text/plain": [
              "[1] 12"
            ]
          },
          "metadata": {}
        },
        {
          "output_type": "display_data",
          "data": {
            "text/html": [
              "8"
            ],
            "text/markdown": "8",
            "text/latex": "8",
            "text/plain": [
              "[1] 8"
            ]
          },
          "metadata": {}
        }
      ]
    },
    {
      "cell_type": "code",
      "source": [
        "\n",
        "10*2\n",
        "10/2\n",
        "10^2\n",
        "10**2\n",
        "9%%2\n",
        "9%/%2\n"
      ],
      "metadata": {
        "colab": {
          "base_uri": "https://localhost:8080/",
          "height": 121
        },
        "id": "x4RsebSqtvsA",
        "outputId": "62debd76-aed9-45bd-f55b-72558729df99"
      },
      "execution_count": null,
      "outputs": [
        {
          "output_type": "display_data",
          "data": {
            "text/html": [
              "20"
            ],
            "text/markdown": "20",
            "text/latex": "20",
            "text/plain": [
              "[1] 20"
            ]
          },
          "metadata": {}
        },
        {
          "output_type": "display_data",
          "data": {
            "text/html": [
              "5"
            ],
            "text/markdown": "5",
            "text/latex": "5",
            "text/plain": [
              "[1] 5"
            ]
          },
          "metadata": {}
        },
        {
          "output_type": "display_data",
          "data": {
            "text/html": [
              "100"
            ],
            "text/markdown": "100",
            "text/latex": "100",
            "text/plain": [
              "[1] 100"
            ]
          },
          "metadata": {}
        },
        {
          "output_type": "display_data",
          "data": {
            "text/html": [
              "100"
            ],
            "text/markdown": "100",
            "text/latex": "100",
            "text/plain": [
              "[1] 100"
            ]
          },
          "metadata": {}
        },
        {
          "output_type": "display_data",
          "data": {
            "text/html": [
              "1"
            ],
            "text/markdown": "1",
            "text/latex": "1",
            "text/plain": [
              "[1] 1"
            ]
          },
          "metadata": {}
        },
        {
          "output_type": "display_data",
          "data": {
            "text/html": [
              "4"
            ],
            "text/markdown": "4",
            "text/latex": "4",
            "text/plain": [
              "[1] 4"
            ]
          },
          "metadata": {}
        }
      ]
    },
    {
      "cell_type": "code",
      "source": [
        "\n",
        "10<2\n",
        "10<=2\n",
        "10>2\n",
        "10==2\n",
        "10!=2\n"
      ],
      "metadata": {
        "colab": {
          "base_uri": "https://localhost:8080/",
          "height": 104
        },
        "id": "DObYL90nuDyr",
        "outputId": "c714f02c-d995-41fc-db4f-4b4782e9e4e4"
      },
      "execution_count": null,
      "outputs": [
        {
          "output_type": "display_data",
          "data": {
            "text/html": [
              "FALSE"
            ],
            "text/markdown": "FALSE",
            "text/latex": "FALSE",
            "text/plain": [
              "[1] FALSE"
            ]
          },
          "metadata": {}
        },
        {
          "output_type": "display_data",
          "data": {
            "text/html": [
              "FALSE"
            ],
            "text/markdown": "FALSE",
            "text/latex": "FALSE",
            "text/plain": [
              "[1] FALSE"
            ]
          },
          "metadata": {}
        },
        {
          "output_type": "display_data",
          "data": {
            "text/html": [
              "TRUE"
            ],
            "text/markdown": "TRUE",
            "text/latex": "TRUE",
            "text/plain": [
              "[1] TRUE"
            ]
          },
          "metadata": {}
        },
        {
          "output_type": "display_data",
          "data": {
            "text/html": [
              "FALSE"
            ],
            "text/markdown": "FALSE",
            "text/latex": "FALSE",
            "text/plain": [
              "[1] FALSE"
            ]
          },
          "metadata": {}
        },
        {
          "output_type": "display_data",
          "data": {
            "text/html": [
              "TRUE"
            ],
            "text/markdown": "TRUE",
            "text/latex": "TRUE",
            "text/plain": [
              "[1] TRUE"
            ]
          },
          "metadata": {}
        }
      ]
    },
    {
      "cell_type": "code",
      "source": [
        "\n",
        "# If, else e else if \n",
        "condicao_1 = T\n",
        "condicao_2 = FALSE\n",
        "\n",
        "if(condicao_1){\n",
        "  \n",
        " print('Condi��o 1 � verdadeira')\n",
        "  \n",
        "} else if (condicao_2){\n",
        "  \n",
        " print('Condi��o 2 � verdadeira')\n",
        "  \n",
        "} else {\n",
        "  \n",
        " print('Nenhuma condi��o � verdadeira')\n",
        "  \n",
        "}\n",
        "\n"
      ],
      "metadata": {
        "colab": {
          "base_uri": "https://localhost:8080/"
        },
        "id": "T4cx3bAzuE6w",
        "outputId": "978f4c01-52b2-496a-b705-8a1c9d897e67"
      },
      "execution_count": null,
      "outputs": [
        {
          "output_type": "stream",
          "name": "stdout",
          "text": [
            "[1] \"Condi��o 1 � verdadeira\"\n"
          ]
        }
      ]
    },
    {
      "cell_type": "code",
      "source": [
        " for (i in NA){\n",
        "  print(paste0('i = ',i))\n",
        "}\n"
      ],
      "metadata": {
        "colab": {
          "base_uri": "https://localhost:8080/"
        },
        "id": "5qWXk0h5uGix",
        "outputId": "4171938c-87c9-4f71-bb23-10008ca3c9cc"
      },
      "execution_count": null,
      "outputs": [
        {
          "output_type": "stream",
          "name": "stdout",
          "text": [
            "[1] \"i = NA\"\n"
          ]
        }
      ]
    },
    {
      "cell_type": "code",
      "source": [
        "\n",
        "# Ifelse\n",
        "x <- c(6:-4)\n",
        "print(x)\n",
        "print(x)\n"
      ],
      "metadata": {
        "colab": {
          "base_uri": "https://localhost:8080/"
        },
        "id": "meni9BemxSBx",
        "outputId": "e59d4154-c653-4c92-d103-d500e2f8e076"
      },
      "execution_count": null,
      "outputs": [
        {
          "output_type": "stream",
          "name": "stdout",
          "text": [
            " [1]  6  5  4  3  2  1  0 -1 -2 -3 -4\n",
            " [1]  6  5  4  3  2  1  0 -1 -2 -3 -4\n"
          ]
        }
      ]
    },
    {
      "cell_type": "code",
      "source": [
        "sqrt(x)  #- gives warning\n",
        "sqrt(ifelse(x >= 0, x, NA))  # no warning\n"
      ],
      "metadata": {
        "colab": {
          "base_uri": "https://localhost:8080/",
          "height": 86
        },
        "id": "ZKNW4PgkyMzW",
        "outputId": "6d2729d8-e9e2-4ade-95ab-f75cf42fd16f"
      },
      "execution_count": null,
      "outputs": [
        {
          "output_type": "stream",
          "name": "stderr",
          "text": [
            "Warning message in sqrt(x):\n",
            "“NaNs produced”\n"
          ]
        },
        {
          "output_type": "display_data",
          "data": {
            "text/html": [
              "<style>\n",
              ".list-inline {list-style: none; margin:0; padding: 0}\n",
              ".list-inline>li {display: inline-block}\n",
              ".list-inline>li:not(:last-child)::after {content: \"\\00b7\"; padding: 0 .5ex}\n",
              "</style>\n",
              "<ol class=list-inline><li>2.44948974278318</li><li>2.23606797749979</li><li>2</li><li>1.73205080756888</li><li>1.4142135623731</li><li>1</li><li>0</li><li>NaN</li><li>NaN</li><li>NaN</li><li>NaN</li></ol>\n"
            ],
            "text/markdown": "1. 2.44948974278318\n2. 2.23606797749979\n3. 2\n4. 1.73205080756888\n5. 1.4142135623731\n6. 1\n7. 0\n8. NaN\n9. NaN\n10. NaN\n11. NaN\n\n\n",
            "text/latex": "\\begin{enumerate*}\n\\item 2.44948974278318\n\\item 2.23606797749979\n\\item 2\n\\item 1.73205080756888\n\\item 1.4142135623731\n\\item 1\n\\item 0\n\\item NaN\n\\item NaN\n\\item NaN\n\\item NaN\n\\end{enumerate*}\n",
            "text/plain": [
              " [1] 2.449490 2.236068 2.000000 1.732051 1.414214 1.000000 0.000000      NaN\n",
              " [9]      NaN      NaN      NaN"
            ]
          },
          "metadata": {}
        },
        {
          "output_type": "display_data",
          "data": {
            "text/html": [
              "<style>\n",
              ".list-inline {list-style: none; margin:0; padding: 0}\n",
              ".list-inline>li {display: inline-block}\n",
              ".list-inline>li:not(:last-child)::after {content: \"\\00b7\"; padding: 0 .5ex}\n",
              "</style>\n",
              "<ol class=list-inline><li>2.44948974278318</li><li>2.23606797749979</li><li>2</li><li>1.73205080756888</li><li>1.4142135623731</li><li>1</li><li>0</li><li>&lt;NA&gt;</li><li>&lt;NA&gt;</li><li>&lt;NA&gt;</li><li>&lt;NA&gt;</li></ol>\n"
            ],
            "text/markdown": "1. 2.44948974278318\n2. 2.23606797749979\n3. 2\n4. 1.73205080756888\n5. 1.4142135623731\n6. 1\n7. 0\n8. &lt;NA&gt;\n9. &lt;NA&gt;\n10. &lt;NA&gt;\n11. &lt;NA&gt;\n\n\n",
            "text/latex": "\\begin{enumerate*}\n\\item 2.44948974278318\n\\item 2.23606797749979\n\\item 2\n\\item 1.73205080756888\n\\item 1.4142135623731\n\\item 1\n\\item 0\n\\item <NA>\n\\item <NA>\n\\item <NA>\n\\item <NA>\n\\end{enumerate*}\n",
            "text/plain": [
              " [1] 2.449490 2.236068 2.000000 1.732051 1.414214 1.000000 0.000000       NA\n",
              " [9]       NA       NA       NA"
            ]
          },
          "metadata": {}
        }
      ]
    },
    {
      "cell_type": "code",
      "source": [
        "\n",
        "# While (N�O EXECUTAR)\n",
        "\n",
        "# while(T){\n",
        "#   print('Loop infinito')\n",
        "# }\n"
      ],
      "metadata": {
        "id": "q1gGPsPXx90M"
      },
      "execution_count": null,
      "outputs": []
    },
    {
      "cell_type": "code",
      "source": [
        "median((x = 1:10))"
      ],
      "metadata": {
        "colab": {
          "base_uri": "https://localhost:8080/",
          "height": 34
        },
        "id": "jV-Bcy331O15",
        "outputId": "dff5cc07-8b2f-4736-8a4c-47f959100ff9"
      },
      "execution_count": null,
      "outputs": [
        {
          "output_type": "display_data",
          "data": {
            "text/html": [
              "5.5"
            ],
            "text/markdown": "5.5",
            "text/latex": "5.5",
            "text/plain": [
              "[1] 5.5"
            ]
          },
          "metadata": {}
        }
      ]
    },
    {
      "cell_type": "code",
      "source": [
        "x"
      ],
      "metadata": {
        "colab": {
          "base_uri": "https://localhost:8080/",
          "height": 34
        },
        "id": "auFrlFrH1aTn",
        "outputId": "3b20c427-9cfe-442c-90cb-58cba2b48753"
      },
      "execution_count": null,
      "outputs": [
        {
          "output_type": "display_data",
          "data": {
            "text/html": [
              "<style>\n",
              ".list-inline {list-style: none; margin:0; padding: 0}\n",
              ".list-inline>li {display: inline-block}\n",
              ".list-inline>li:not(:last-child)::after {content: \"\\00b7\"; padding: 0 .5ex}\n",
              "</style>\n",
              "<ol class=list-inline><li>1</li><li>2</li><li>3</li><li>4</li><li>5</li><li>6</li><li>7</li><li>8</li><li>9</li><li>10</li></ol>\n"
            ],
            "text/markdown": "1. 1\n2. 2\n3. 3\n4. 4\n5. 5\n6. 6\n7. 7\n8. 8\n9. 9\n10. 10\n\n\n",
            "text/latex": "\\begin{enumerate*}\n\\item 1\n\\item 2\n\\item 3\n\\item 4\n\\item 5\n\\item 6\n\\item 7\n\\item 8\n\\item 9\n\\item 10\n\\end{enumerate*}\n",
            "text/plain": [
              " [1]  1  2  3  4  5  6  7  8  9 10"
            ]
          },
          "metadata": {}
        }
      ]
    },
    {
      "cell_type": "code",
      "source": [
        "x=NA"
      ],
      "metadata": {
        "id": "Q2w5c_n21WzX"
      },
      "execution_count": null,
      "outputs": []
    },
    {
      "cell_type": "code",
      "source": [
        "\n",
        "\n",
        "\n",
        "# Vetoriza��o\n",
        "numeros = 1:5\n",
        "numeros\n",
        "\n",
        "log10(numeros)\n",
        "2^numeros\n",
        "\n",
        "\n",
        "# Reciclagem\n",
        "x <- c(1,5)\n",
        "x\n",
        "y <- c(1,10,100)\n",
        "y\n",
        "x + y\n"
      ],
      "metadata": {
        "id": "4LF_-lgYy62r",
        "colab": {
          "base_uri": "https://localhost:8080/",
          "height": 156
        },
        "outputId": "8e6359a1-3b20-4911-a0d5-07fdbdebe513"
      },
      "execution_count": null,
      "outputs": [
        {
          "output_type": "display_data",
          "data": {
            "text/html": [
              "<style>\n",
              ".list-inline {list-style: none; margin:0; padding: 0}\n",
              ".list-inline>li {display: inline-block}\n",
              ".list-inline>li:not(:last-child)::after {content: \"\\00b7\"; padding: 0 .5ex}\n",
              "</style>\n",
              "<ol class=list-inline><li>1</li><li>2</li><li>3</li><li>4</li><li>5</li></ol>\n"
            ],
            "text/markdown": "1. 1\n2. 2\n3. 3\n4. 4\n5. 5\n\n\n",
            "text/latex": "\\begin{enumerate*}\n\\item 1\n\\item 2\n\\item 3\n\\item 4\n\\item 5\n\\end{enumerate*}\n",
            "text/plain": [
              "[1] 1 2 3 4 5"
            ]
          },
          "metadata": {}
        },
        {
          "output_type": "display_data",
          "data": {
            "text/html": [
              "<style>\n",
              ".list-inline {list-style: none; margin:0; padding: 0}\n",
              ".list-inline>li {display: inline-block}\n",
              ".list-inline>li:not(:last-child)::after {content: \"\\00b7\"; padding: 0 .5ex}\n",
              "</style>\n",
              "<ol class=list-inline><li>0</li><li>0.301029995663981</li><li>0.477121254719662</li><li>0.602059991327962</li><li>0.698970004336019</li></ol>\n"
            ],
            "text/markdown": "1. 0\n2. 0.301029995663981\n3. 0.477121254719662\n4. 0.602059991327962\n5. 0.698970004336019\n\n\n",
            "text/latex": "\\begin{enumerate*}\n\\item 0\n\\item 0.301029995663981\n\\item 0.477121254719662\n\\item 0.602059991327962\n\\item 0.698970004336019\n\\end{enumerate*}\n",
            "text/plain": [
              "[1] 0.0000000 0.3010300 0.4771213 0.6020600 0.6989700"
            ]
          },
          "metadata": {}
        },
        {
          "output_type": "display_data",
          "data": {
            "text/html": [
              "<style>\n",
              ".list-inline {list-style: none; margin:0; padding: 0}\n",
              ".list-inline>li {display: inline-block}\n",
              ".list-inline>li:not(:last-child)::after {content: \"\\00b7\"; padding: 0 .5ex}\n",
              "</style>\n",
              "<ol class=list-inline><li>2</li><li>4</li><li>8</li><li>16</li><li>32</li></ol>\n"
            ],
            "text/markdown": "1. 2\n2. 4\n3. 8\n4. 16\n5. 32\n\n\n",
            "text/latex": "\\begin{enumerate*}\n\\item 2\n\\item 4\n\\item 8\n\\item 16\n\\item 32\n\\end{enumerate*}\n",
            "text/plain": [
              "[1]  2  4  8 16 32"
            ]
          },
          "metadata": {}
        },
        {
          "output_type": "display_data",
          "data": {
            "text/html": [
              "<style>\n",
              ".list-inline {list-style: none; margin:0; padding: 0}\n",
              ".list-inline>li {display: inline-block}\n",
              ".list-inline>li:not(:last-child)::after {content: \"\\00b7\"; padding: 0 .5ex}\n",
              "</style>\n",
              "<ol class=list-inline><li>1</li><li>5</li></ol>\n"
            ],
            "text/markdown": "1. 1\n2. 5\n\n\n",
            "text/latex": "\\begin{enumerate*}\n\\item 1\n\\item 5\n\\end{enumerate*}\n",
            "text/plain": [
              "[1] 1 5"
            ]
          },
          "metadata": {}
        },
        {
          "output_type": "display_data",
          "data": {
            "text/html": [
              "<style>\n",
              ".list-inline {list-style: none; margin:0; padding: 0}\n",
              ".list-inline>li {display: inline-block}\n",
              ".list-inline>li:not(:last-child)::after {content: \"\\00b7\"; padding: 0 .5ex}\n",
              "</style>\n",
              "<ol class=list-inline><li>1</li><li>10</li><li>100</li></ol>\n"
            ],
            "text/markdown": "1. 1\n2. 10\n3. 100\n\n\n",
            "text/latex": "\\begin{enumerate*}\n\\item 1\n\\item 10\n\\item 100\n\\end{enumerate*}\n",
            "text/plain": [
              "[1]   1  10 100"
            ]
          },
          "metadata": {}
        },
        {
          "output_type": "stream",
          "name": "stderr",
          "text": [
            "Warning message in x + y:\n",
            "“longer object length is not a multiple of shorter object length”\n"
          ]
        },
        {
          "output_type": "display_data",
          "data": {
            "text/html": [
              "<style>\n",
              ".list-inline {list-style: none; margin:0; padding: 0}\n",
              ".list-inline>li {display: inline-block}\n",
              ".list-inline>li:not(:last-child)::after {content: \"\\00b7\"; padding: 0 .5ex}\n",
              "</style>\n",
              "<ol class=list-inline><li>2</li><li>15</li><li>101</li></ol>\n"
            ],
            "text/markdown": "1. 2\n2. 15\n3. 101\n\n\n",
            "text/latex": "\\begin{enumerate*}\n\\item 2\n\\item 15\n\\item 101\n\\end{enumerate*}\n",
            "text/plain": [
              "[1]   2  15 101"
            ]
          },
          "metadata": {}
        }
      ]
    },
    {
      "cell_type": "code",
      "source": [
        "\n",
        "# Fun��es\n",
        "# fun��o que ecoa uma palavra\n",
        "ecoar <- function(palavra, n_ecos = 3) {\n",
        "  paste(c(rep(palavra, n_ecos), \"!\"), collapse = \" \")\n",
        "}\n",
        "\n",
        "ecoar(\"eco\")\n",
        "ecoar(\"eco\",5)\n"
      ],
      "metadata": {
        "colab": {
          "base_uri": "https://localhost:8080/",
          "height": 52
        },
        "id": "k0fNb3-M3LYR",
        "outputId": "2374cd62-9d6b-4650-e601-83428ee97132"
      },
      "execution_count": null,
      "outputs": [
        {
          "output_type": "display_data",
          "data": {
            "text/html": [
              "'eco eco eco !'"
            ],
            "text/markdown": "'eco eco eco !'",
            "text/latex": "'eco eco eco !'",
            "text/plain": [
              "[1] \"eco eco eco !\""
            ]
          },
          "metadata": {}
        },
        {
          "output_type": "display_data",
          "data": {
            "text/html": [
              "'eco eco eco eco eco !'"
            ],
            "text/markdown": "'eco eco eco eco eco !'",
            "text/latex": "'eco eco eco eco eco !'",
            "text/plain": [
              "[1] \"eco eco eco eco eco !\""
            ]
          },
          "metadata": {}
        }
      ]
    },
    {
      "cell_type": "code",
      "source": [
        "\n",
        "\n",
        "# Criar fun��o que recebe dois argumentos x e y e realiza a soma dos argumentos.\n",
        "\n",
        "somar <- function(x,y){\n",
        "  z <- x + y\n",
        "  print(z)\n",
        "  return(z)\n",
        "}\n",
        "\n",
        "resultado = somar(1,1)\n",
        "resultado\n"
      ],
      "metadata": {
        "id": "jKI1auwv3M_B",
        "colab": {
          "base_uri": "https://localhost:8080/",
          "height": 52
        },
        "outputId": "e414ab27-3faa-4bd4-db90-95e801428133"
      },
      "execution_count": null,
      "outputs": [
        {
          "output_type": "stream",
          "name": "stdout",
          "text": [
            "[1] 2\n"
          ]
        },
        {
          "output_type": "display_data",
          "data": {
            "text/html": [
              "2"
            ],
            "text/markdown": "2",
            "text/latex": "2",
            "text/plain": [
              "[1] 2"
            ]
          },
          "metadata": {}
        }
      ]
    },
    {
      "cell_type": "code",
      "source": [
        "\n",
        "#Estruturas de dados no R\n",
        "\n",
        "#Vetores\n",
        "x <- c(1, 2, 5, 7,10) ;x ;typeof(x)\n",
        "x <- c(1, 2, 5, 7, 10.5) ;x ;typeof(x)\n",
        "x <- c(T, F, TRUE, FALSE) ;x ;typeof(x)\n",
        "x <- c(\"string 1\", \"string 2\") ;x ;typeof(x)\n",
        "x <- c(\"string 1\", T,10) ;x ;typeof(x)\n",
        "  "
      ],
      "metadata": {
        "colab": {
          "base_uri": "https://localhost:8080/",
          "height": 191
        },
        "id": "1Ks-opDsyO3H",
        "outputId": "85163095-e92a-4943-f69e-3251ee23a5b1"
      },
      "execution_count": null,
      "outputs": [
        {
          "output_type": "display_data",
          "data": {
            "text/html": [
              "<style>\n",
              ".list-inline {list-style: none; margin:0; padding: 0}\n",
              ".list-inline>li {display: inline-block}\n",
              ".list-inline>li:not(:last-child)::after {content: \"\\00b7\"; padding: 0 .5ex}\n",
              "</style>\n",
              "<ol class=list-inline><li>1</li><li>2</li><li>5</li><li>7</li><li>10</li></ol>\n"
            ],
            "text/markdown": "1. 1\n2. 2\n3. 5\n4. 7\n5. 10\n\n\n",
            "text/latex": "\\begin{enumerate*}\n\\item 1\n\\item 2\n\\item 5\n\\item 7\n\\item 10\n\\end{enumerate*}\n",
            "text/plain": [
              "[1]  1  2  5  7 10"
            ]
          },
          "metadata": {}
        },
        {
          "output_type": "display_data",
          "data": {
            "text/html": [
              "'double'"
            ],
            "text/markdown": "'double'",
            "text/latex": "'double'",
            "text/plain": [
              "[1] \"double\""
            ]
          },
          "metadata": {}
        },
        {
          "output_type": "display_data",
          "data": {
            "text/html": [
              "<style>\n",
              ".list-inline {list-style: none; margin:0; padding: 0}\n",
              ".list-inline>li {display: inline-block}\n",
              ".list-inline>li:not(:last-child)::after {content: \"\\00b7\"; padding: 0 .5ex}\n",
              "</style>\n",
              "<ol class=list-inline><li>1</li><li>2</li><li>5</li><li>7</li><li>10.5</li></ol>\n"
            ],
            "text/markdown": "1. 1\n2. 2\n3. 5\n4. 7\n5. 10.5\n\n\n",
            "text/latex": "\\begin{enumerate*}\n\\item 1\n\\item 2\n\\item 5\n\\item 7\n\\item 10.5\n\\end{enumerate*}\n",
            "text/plain": [
              "[1]  1.0  2.0  5.0  7.0 10.5"
            ]
          },
          "metadata": {}
        },
        {
          "output_type": "display_data",
          "data": {
            "text/html": [
              "'double'"
            ],
            "text/markdown": "'double'",
            "text/latex": "'double'",
            "text/plain": [
              "[1] \"double\""
            ]
          },
          "metadata": {}
        },
        {
          "output_type": "display_data",
          "data": {
            "text/html": [
              "<style>\n",
              ".list-inline {list-style: none; margin:0; padding: 0}\n",
              ".list-inline>li {display: inline-block}\n",
              ".list-inline>li:not(:last-child)::after {content: \"\\00b7\"; padding: 0 .5ex}\n",
              "</style>\n",
              "<ol class=list-inline><li>TRUE</li><li>FALSE</li><li>TRUE</li><li>FALSE</li></ol>\n"
            ],
            "text/markdown": "1. TRUE\n2. FALSE\n3. TRUE\n4. FALSE\n\n\n",
            "text/latex": "\\begin{enumerate*}\n\\item TRUE\n\\item FALSE\n\\item TRUE\n\\item FALSE\n\\end{enumerate*}\n",
            "text/plain": [
              "[1]  TRUE FALSE  TRUE FALSE"
            ]
          },
          "metadata": {}
        },
        {
          "output_type": "display_data",
          "data": {
            "text/html": [
              "'logical'"
            ],
            "text/markdown": "'logical'",
            "text/latex": "'logical'",
            "text/plain": [
              "[1] \"logical\""
            ]
          },
          "metadata": {}
        },
        {
          "output_type": "display_data",
          "data": {
            "text/html": [
              "<style>\n",
              ".list-inline {list-style: none; margin:0; padding: 0}\n",
              ".list-inline>li {display: inline-block}\n",
              ".list-inline>li:not(:last-child)::after {content: \"\\00b7\"; padding: 0 .5ex}\n",
              "</style>\n",
              "<ol class=list-inline><li>'string 1'</li><li>'string 2'</li></ol>\n"
            ],
            "text/markdown": "1. 'string 1'\n2. 'string 2'\n\n\n",
            "text/latex": "\\begin{enumerate*}\n\\item 'string 1'\n\\item 'string 2'\n\\end{enumerate*}\n",
            "text/plain": [
              "[1] \"string 1\" \"string 2\""
            ]
          },
          "metadata": {}
        },
        {
          "output_type": "display_data",
          "data": {
            "text/html": [
              "'character'"
            ],
            "text/markdown": "'character'",
            "text/latex": "'character'",
            "text/plain": [
              "[1] \"character\""
            ]
          },
          "metadata": {}
        },
        {
          "output_type": "display_data",
          "data": {
            "text/html": [
              "<style>\n",
              ".list-inline {list-style: none; margin:0; padding: 0}\n",
              ".list-inline>li {display: inline-block}\n",
              ".list-inline>li:not(:last-child)::after {content: \"\\00b7\"; padding: 0 .5ex}\n",
              "</style>\n",
              "<ol class=list-inline><li>'string 1'</li><li>'TRUE'</li><li>'10'</li></ol>\n"
            ],
            "text/markdown": "1. 'string 1'\n2. 'TRUE'\n3. '10'\n\n\n",
            "text/latex": "\\begin{enumerate*}\n\\item 'string 1'\n\\item 'TRUE'\n\\item '10'\n\\end{enumerate*}\n",
            "text/plain": [
              "[1] \"string 1\" \"TRUE\"     \"10\"      "
            ]
          },
          "metadata": {}
        },
        {
          "output_type": "display_data",
          "data": {
            "text/html": [
              "'character'"
            ],
            "text/markdown": "'character'",
            "text/latex": "'character'",
            "text/plain": [
              "[1] \"character\""
            ]
          },
          "metadata": {}
        }
      ]
    },
    {
      "cell_type": "code",
      "source": [
        "\n",
        "\n",
        "\n",
        "#Fatores\n",
        "c5 <- c(\"M\", \"F\", \"F\", \"F\", \"M\", \"M\"); c5 ; typeof(c5)\n",
        "f5 <- as.factor(c5); f5 ; typeof(f5)\n",
        "f5 <- factor(c5, levels = c(\"M\",\"F\",\"teste\")); f5 ; typeof(f5)\n"
      ],
      "metadata": {
        "colab": {
          "base_uri": "https://localhost:8080/",
          "height": 156
        },
        "id": "YveZG09SAR3D",
        "outputId": "25090b51-4b35-4f62-ebc4-3f6944abd3df"
      },
      "execution_count": null,
      "outputs": [
        {
          "output_type": "display_data",
          "data": {
            "text/html": [
              "<style>\n",
              ".list-inline {list-style: none; margin:0; padding: 0}\n",
              ".list-inline>li {display: inline-block}\n",
              ".list-inline>li:not(:last-child)::after {content: \"\\00b7\"; padding: 0 .5ex}\n",
              "</style>\n",
              "<ol class=list-inline><li>'M'</li><li>'F'</li><li>'F'</li><li>'F'</li><li>'M'</li><li>'M'</li></ol>\n"
            ],
            "text/markdown": "1. 'M'\n2. 'F'\n3. 'F'\n4. 'F'\n5. 'M'\n6. 'M'\n\n\n",
            "text/latex": "\\begin{enumerate*}\n\\item 'M'\n\\item 'F'\n\\item 'F'\n\\item 'F'\n\\item 'M'\n\\item 'M'\n\\end{enumerate*}\n",
            "text/plain": [
              "[1] \"M\" \"F\" \"F\" \"F\" \"M\" \"M\""
            ]
          },
          "metadata": {}
        },
        {
          "output_type": "display_data",
          "data": {
            "text/html": [
              "'character'"
            ],
            "text/markdown": "'character'",
            "text/latex": "'character'",
            "text/plain": [
              "[1] \"character\""
            ]
          },
          "metadata": {}
        },
        {
          "output_type": "display_data",
          "data": {
            "text/html": [
              "<style>\n",
              ".list-inline {list-style: none; margin:0; padding: 0}\n",
              ".list-inline>li {display: inline-block}\n",
              ".list-inline>li:not(:last-child)::after {content: \"\\00b7\"; padding: 0 .5ex}\n",
              "</style>\n",
              "<ol class=list-inline><li>M</li><li>F</li><li>F</li><li>F</li><li>M</li><li>M</li></ol>\n",
              "\n",
              "<details>\n",
              "\t<summary style=display:list-item;cursor:pointer>\n",
              "\t\t<strong>Levels</strong>:\n",
              "\t</summary>\n",
              "\t<style>\n",
              "\t.list-inline {list-style: none; margin:0; padding: 0}\n",
              "\t.list-inline>li {display: inline-block}\n",
              "\t.list-inline>li:not(:last-child)::after {content: \"\\00b7\"; padding: 0 .5ex}\n",
              "\t</style>\n",
              "\t<ol class=list-inline><li>'F'</li><li>'M'</li></ol>\n",
              "</details>"
            ],
            "text/markdown": "1. M\n2. F\n3. F\n4. F\n5. M\n6. M\n\n\n\n**Levels**: 1. 'F'\n2. 'M'\n\n\n",
            "text/latex": "\\begin{enumerate*}\n\\item M\n\\item F\n\\item F\n\\item F\n\\item M\n\\item M\n\\end{enumerate*}\n\n\\emph{Levels}: \\begin{enumerate*}\n\\item 'F'\n\\item 'M'\n\\end{enumerate*}\n",
            "text/plain": [
              "[1] M F F F M M\n",
              "Levels: F M"
            ]
          },
          "metadata": {}
        },
        {
          "output_type": "display_data",
          "data": {
            "text/html": [
              "'integer'"
            ],
            "text/markdown": "'integer'",
            "text/latex": "'integer'",
            "text/plain": [
              "[1] \"integer\""
            ]
          },
          "metadata": {}
        },
        {
          "output_type": "display_data",
          "data": {
            "text/html": [
              "<style>\n",
              ".list-inline {list-style: none; margin:0; padding: 0}\n",
              ".list-inline>li {display: inline-block}\n",
              ".list-inline>li:not(:last-child)::after {content: \"\\00b7\"; padding: 0 .5ex}\n",
              "</style>\n",
              "<ol class=list-inline><li>M</li><li>F</li><li>F</li><li>F</li><li>M</li><li>M</li></ol>\n",
              "\n",
              "<details>\n",
              "\t<summary style=display:list-item;cursor:pointer>\n",
              "\t\t<strong>Levels</strong>:\n",
              "\t</summary>\n",
              "\t<style>\n",
              "\t.list-inline {list-style: none; margin:0; padding: 0}\n",
              "\t.list-inline>li {display: inline-block}\n",
              "\t.list-inline>li:not(:last-child)::after {content: \"\\00b7\"; padding: 0 .5ex}\n",
              "\t</style>\n",
              "\t<ol class=list-inline><li>'M'</li><li>'F'</li><li>'teste'</li></ol>\n",
              "</details>"
            ],
            "text/markdown": "1. M\n2. F\n3. F\n4. F\n5. M\n6. M\n\n\n\n**Levels**: 1. 'M'\n2. 'F'\n3. 'teste'\n\n\n",
            "text/latex": "\\begin{enumerate*}\n\\item M\n\\item F\n\\item F\n\\item F\n\\item M\n\\item M\n\\end{enumerate*}\n\n\\emph{Levels}: \\begin{enumerate*}\n\\item 'M'\n\\item 'F'\n\\item 'teste'\n\\end{enumerate*}\n",
            "text/plain": [
              "[1] M F F F M M\n",
              "Levels: M F teste"
            ]
          },
          "metadata": {}
        },
        {
          "output_type": "display_data",
          "data": {
            "text/html": [
              "'integer'"
            ],
            "text/markdown": "'integer'",
            "text/latex": "'integer'",
            "text/plain": [
              "[1] \"integer\""
            ]
          },
          "metadata": {}
        }
      ]
    },
    {
      "cell_type": "code",
      "source": [
        "f5 ==  f5\n"
      ],
      "metadata": {
        "colab": {
          "base_uri": "https://localhost:8080/",
          "height": 34
        },
        "id": "KLlAwEKRBPl7",
        "outputId": "0c4d5ccc-0cd5-4ae3-e479-33a227a8ddd6"
      },
      "execution_count": null,
      "outputs": [
        {
          "output_type": "display_data",
          "data": {
            "text/html": [
              "<style>\n",
              ".list-inline {list-style: none; margin:0; padding: 0}\n",
              ".list-inline>li {display: inline-block}\n",
              ".list-inline>li:not(:last-child)::after {content: \"\\00b7\"; padding: 0 .5ex}\n",
              "</style>\n",
              "<ol class=list-inline><li>TRUE</li><li>TRUE</li><li>TRUE</li><li>TRUE</li><li>TRUE</li><li>TRUE</li></ol>\n"
            ],
            "text/markdown": "1. TRUE\n2. TRUE\n3. TRUE\n4. TRUE\n5. TRUE\n6. TRUE\n\n\n",
            "text/latex": "\\begin{enumerate*}\n\\item TRUE\n\\item TRUE\n\\item TRUE\n\\item TRUE\n\\item TRUE\n\\item TRUE\n\\end{enumerate*}\n",
            "text/plain": [
              "[1] TRUE TRUE TRUE TRUE TRUE TRUE"
            ]
          },
          "metadata": {}
        }
      ]
    },
    {
      "cell_type": "code",
      "source": [
        "\n",
        "f5[7] <- \"M\"\n",
        "f5[7] <- \"teste\"\n"
      ],
      "metadata": {
        "id": "QhmD4KzlBMm4"
      },
      "execution_count": null,
      "outputs": []
    },
    {
      "cell_type": "code",
      "source": [
        "typeof(c5)"
      ],
      "metadata": {
        "colab": {
          "base_uri": "https://localhost:8080/",
          "height": 34
        },
        "id": "dJ-wzkjSB6Mr",
        "outputId": "711691c8-9479-4aa6-e682-fd4096ce8706"
      },
      "execution_count": null,
      "outputs": [
        {
          "output_type": "display_data",
          "data": {
            "text/html": [
              "'character'"
            ],
            "text/markdown": "'character'",
            "text/latex": "'character'",
            "text/plain": [
              "[1] \"character\""
            ]
          },
          "metadata": {}
        }
      ]
    },
    {
      "cell_type": "code",
      "source": [
        "\n",
        "f <- factor(c(\"15\", \"3\", \"1\", \"10\"))\n",
        "typeof(f)\n",
        "f"
      ],
      "metadata": {
        "colab": {
          "base_uri": "https://localhost:8080/",
          "height": 69
        },
        "id": "KGpELVpwB312",
        "outputId": "6ad84c00-f2a2-4b9e-9905-6656cb14dd2c"
      },
      "execution_count": null,
      "outputs": [
        {
          "output_type": "display_data",
          "data": {
            "text/html": [
              "'integer'"
            ],
            "text/markdown": "'integer'",
            "text/latex": "'integer'",
            "text/plain": [
              "[1] \"integer\""
            ]
          },
          "metadata": {}
        },
        {
          "output_type": "display_data",
          "data": {
            "text/html": [
              "<style>\n",
              ".list-inline {list-style: none; margin:0; padding: 0}\n",
              ".list-inline>li {display: inline-block}\n",
              ".list-inline>li:not(:last-child)::after {content: \"\\00b7\"; padding: 0 .5ex}\n",
              "</style>\n",
              "<ol class=list-inline><li>15</li><li>3</li><li>1</li><li>10</li></ol>\n",
              "\n",
              "<details>\n",
              "\t<summary style=display:list-item;cursor:pointer>\n",
              "\t\t<strong>Levels</strong>:\n",
              "\t</summary>\n",
              "\t<style>\n",
              "\t.list-inline {list-style: none; margin:0; padding: 0}\n",
              "\t.list-inline>li {display: inline-block}\n",
              "\t.list-inline>li:not(:last-child)::after {content: \"\\00b7\"; padding: 0 .5ex}\n",
              "\t</style>\n",
              "\t<ol class=list-inline><li>'1'</li><li>'10'</li><li>'15'</li><li>'3'</li></ol>\n",
              "</details>"
            ],
            "text/markdown": "1. 15\n2. 3\n3. 1\n4. 10\n\n\n\n**Levels**: 1. '1'\n2. '10'\n3. '15'\n4. '3'\n\n\n",
            "text/latex": "\\begin{enumerate*}\n\\item 15\n\\item 3\n\\item 1\n\\item 10\n\\end{enumerate*}\n\n\\emph{Levels}: \\begin{enumerate*}\n\\item '1'\n\\item '10'\n\\item '15'\n\\item '3'\n\\end{enumerate*}\n",
            "text/plain": [
              "[1] 15 3  1  10\n",
              "Levels: 1 10 15 3"
            ]
          },
          "metadata": {}
        }
      ]
    },
    {
      "cell_type": "code",
      "source": [
        "\n",
        "as.numeric(f)\n",
        "\n",
        "as.numeric(as.character(f))\n",
        "\n",
        "#Matrizes\n",
        "matrix(1:12, ncol=3,byrow = T)\n",
        "\n",
        "#Listas\n",
        "pessoa <- list(idade=21, nome='Fred', score=c(65,78,55)) \n",
        "pessoa\n",
        "pessoa$idade\n",
        "pessoa$nome\n",
        "pessoa$score\n"
      ],
      "metadata": {
        "colab": {
          "base_uri": "https://localhost:8080/",
          "height": 396
        },
        "id": "l2vH1d6TDhGl",
        "outputId": "a30aab41-5d79-4554-b9a8-fc02138c1ef4"
      },
      "execution_count": null,
      "outputs": [
        {
          "output_type": "display_data",
          "data": {
            "text/html": [
              "<style>\n",
              ".list-inline {list-style: none; margin:0; padding: 0}\n",
              ".list-inline>li {display: inline-block}\n",
              ".list-inline>li:not(:last-child)::after {content: \"\\00b7\"; padding: 0 .5ex}\n",
              "</style>\n",
              "<ol class=list-inline><li>3</li><li>4</li><li>1</li><li>2</li></ol>\n"
            ],
            "text/markdown": "1. 3\n2. 4\n3. 1\n4. 2\n\n\n",
            "text/latex": "\\begin{enumerate*}\n\\item 3\n\\item 4\n\\item 1\n\\item 2\n\\end{enumerate*}\n",
            "text/plain": [
              "[1] 3 4 1 2"
            ]
          },
          "metadata": {}
        },
        {
          "output_type": "display_data",
          "data": {
            "text/html": [
              "<style>\n",
              ".list-inline {list-style: none; margin:0; padding: 0}\n",
              ".list-inline>li {display: inline-block}\n",
              ".list-inline>li:not(:last-child)::after {content: \"\\00b7\"; padding: 0 .5ex}\n",
              "</style>\n",
              "<ol class=list-inline><li>15</li><li>3</li><li>1</li><li>10</li></ol>\n"
            ],
            "text/markdown": "1. 15\n2. 3\n3. 1\n4. 10\n\n\n",
            "text/latex": "\\begin{enumerate*}\n\\item 15\n\\item 3\n\\item 1\n\\item 10\n\\end{enumerate*}\n",
            "text/plain": [
              "[1] 15  3  1 10"
            ]
          },
          "metadata": {}
        },
        {
          "output_type": "display_data",
          "data": {
            "text/html": [
              "<table class=\"dataframe\">\n",
              "<caption>A matrix: 4 × 3 of type int</caption>\n",
              "<tbody>\n",
              "\t<tr><td> 1</td><td> 2</td><td> 3</td></tr>\n",
              "\t<tr><td> 4</td><td> 5</td><td> 6</td></tr>\n",
              "\t<tr><td> 7</td><td> 8</td><td> 9</td></tr>\n",
              "\t<tr><td>10</td><td>11</td><td>12</td></tr>\n",
              "</tbody>\n",
              "</table>\n"
            ],
            "text/markdown": "\nA matrix: 4 × 3 of type int\n\n|  1 |  2 |  3 |\n|  4 |  5 |  6 |\n|  7 |  8 |  9 |\n| 10 | 11 | 12 |\n\n",
            "text/latex": "A matrix: 4 × 3 of type int\n\\begin{tabular}{lll}\n\t  1 &  2 &  3\\\\\n\t  4 &  5 &  6\\\\\n\t  7 &  8 &  9\\\\\n\t 10 & 11 & 12\\\\\n\\end{tabular}\n",
            "text/plain": [
              "     [,1] [,2] [,3]\n",
              "[1,]  1    2    3  \n",
              "[2,]  4    5    6  \n",
              "[3,]  7    8    9  \n",
              "[4,] 10   11   12  "
            ]
          },
          "metadata": {}
        },
        {
          "output_type": "display_data",
          "data": {
            "text/html": [
              "<dl>\n",
              "\t<dt>$idade</dt>\n",
              "\t\t<dd>21</dd>\n",
              "\t<dt>$nome</dt>\n",
              "\t\t<dd>'Fred'</dd>\n",
              "\t<dt>$score</dt>\n",
              "\t\t<dd><style>\n",
              ".list-inline {list-style: none; margin:0; padding: 0}\n",
              ".list-inline>li {display: inline-block}\n",
              ".list-inline>li:not(:last-child)::after {content: \"\\00b7\"; padding: 0 .5ex}\n",
              "</style>\n",
              "<ol class=list-inline><li>65</li><li>78</li><li>55</li></ol>\n",
              "</dd>\n",
              "</dl>\n"
            ],
            "text/markdown": "$idade\n:   21\n$nome\n:   'Fred'\n$score\n:   1. 65\n2. 78\n3. 55\n\n\n\n\n\n",
            "text/latex": "\\begin{description}\n\\item[\\$idade] 21\n\\item[\\$nome] 'Fred'\n\\item[\\$score] \\begin{enumerate*}\n\\item 65\n\\item 78\n\\item 55\n\\end{enumerate*}\n\n\\end{description}\n",
            "text/plain": [
              "$idade\n",
              "[1] 21\n",
              "\n",
              "$nome\n",
              "[1] \"Fred\"\n",
              "\n",
              "$score\n",
              "[1] 65 78 55\n"
            ]
          },
          "metadata": {}
        },
        {
          "output_type": "display_data",
          "data": {
            "text/html": [
              "21"
            ],
            "text/markdown": "21",
            "text/latex": "21",
            "text/plain": [
              "[1] 21"
            ]
          },
          "metadata": {}
        },
        {
          "output_type": "display_data",
          "data": {
            "text/html": [
              "'Fred'"
            ],
            "text/markdown": "'Fred'",
            "text/latex": "'Fred'",
            "text/plain": [
              "[1] \"Fred\""
            ]
          },
          "metadata": {}
        },
        {
          "output_type": "display_data",
          "data": {
            "text/html": [
              "<style>\n",
              ".list-inline {list-style: none; margin:0; padding: 0}\n",
              ".list-inline>li {display: inline-block}\n",
              ".list-inline>li:not(:last-child)::after {content: \"\\00b7\"; padding: 0 .5ex}\n",
              "</style>\n",
              "<ol class=list-inline><li>65</li><li>78</li><li>55</li></ol>\n"
            ],
            "text/markdown": "1. 65\n2. 78\n3. 55\n\n\n",
            "text/latex": "\\begin{enumerate*}\n\\item 65\n\\item 78\n\\item 55\n\\end{enumerate*}\n",
            "text/plain": [
              "[1] 65 78 55"
            ]
          },
          "metadata": {}
        }
      ]
    },
    {
      "cell_type": "code",
      "source": [
        "\n",
        "# Data frames\n",
        "df <- data.frame(x = 1:4, \n",
        "                 y = c(\"um\", \"dois\", \"tres\", \"quatro\"), \n",
        "                 z = T)\n",
        "\n",
        "df1 <- data.frame(x = 3:4, y = c(\"s\", \"s\"), z = T)\n",
        "df2 <- data.frame(x = 1:2, y = c(\"n\", \"n\"), z = F)\n",
        "rbind(df1, df2)\n",
        "cbind(df1, df2)\n"
      ],
      "metadata": {
        "id": "UGk1HcRzFPbf",
        "colab": {
          "base_uri": "https://localhost:8080/",
          "height": 367
        },
        "outputId": "cddfdf07-c8c7-4f51-8714-e2a74a88f094"
      },
      "execution_count": null,
      "outputs": [
        {
          "output_type": "display_data",
          "data": {
            "text/html": [
              "<table class=\"dataframe\">\n",
              "<caption>A data.frame: 4 × 3</caption>\n",
              "<thead>\n",
              "\t<tr><th scope=col>x</th><th scope=col>y</th><th scope=col>z</th></tr>\n",
              "\t<tr><th scope=col>&lt;int&gt;</th><th scope=col>&lt;chr&gt;</th><th scope=col>&lt;lgl&gt;</th></tr>\n",
              "</thead>\n",
              "<tbody>\n",
              "\t<tr><td>3</td><td>s</td><td> TRUE</td></tr>\n",
              "\t<tr><td>4</td><td>s</td><td> TRUE</td></tr>\n",
              "\t<tr><td>1</td><td>n</td><td>FALSE</td></tr>\n",
              "\t<tr><td>2</td><td>n</td><td>FALSE</td></tr>\n",
              "</tbody>\n",
              "</table>\n"
            ],
            "text/markdown": "\nA data.frame: 4 × 3\n\n| x &lt;int&gt; | y &lt;chr&gt; | z &lt;lgl&gt; |\n|---|---|---|\n| 3 | s |  TRUE |\n| 4 | s |  TRUE |\n| 1 | n | FALSE |\n| 2 | n | FALSE |\n\n",
            "text/latex": "A data.frame: 4 × 3\n\\begin{tabular}{lll}\n x & y & z\\\\\n <int> & <chr> & <lgl>\\\\\n\\hline\n\t 3 & s &  TRUE\\\\\n\t 4 & s &  TRUE\\\\\n\t 1 & n & FALSE\\\\\n\t 2 & n & FALSE\\\\\n\\end{tabular}\n",
            "text/plain": [
              "  x y z    \n",
              "1 3 s  TRUE\n",
              "2 4 s  TRUE\n",
              "3 1 n FALSE\n",
              "4 2 n FALSE"
            ]
          },
          "metadata": {}
        },
        {
          "output_type": "display_data",
          "data": {
            "text/html": [
              "<table class=\"dataframe\">\n",
              "<caption>A data.frame: 2 × 6</caption>\n",
              "<thead>\n",
              "\t<tr><th scope=col>x</th><th scope=col>y</th><th scope=col>z</th><th scope=col>x</th><th scope=col>y</th><th scope=col>z</th></tr>\n",
              "\t<tr><th scope=col>&lt;int&gt;</th><th scope=col>&lt;chr&gt;</th><th scope=col>&lt;lgl&gt;</th><th scope=col>&lt;int&gt;</th><th scope=col>&lt;chr&gt;</th><th scope=col>&lt;lgl&gt;</th></tr>\n",
              "</thead>\n",
              "<tbody>\n",
              "\t<tr><td>3</td><td>s</td><td>TRUE</td><td>1</td><td>n</td><td>FALSE</td></tr>\n",
              "\t<tr><td>4</td><td>s</td><td>TRUE</td><td>2</td><td>n</td><td>FALSE</td></tr>\n",
              "</tbody>\n",
              "</table>\n"
            ],
            "text/markdown": "\nA data.frame: 2 × 6\n\n| x &lt;int&gt; | y &lt;chr&gt; | z &lt;lgl&gt; | x &lt;int&gt; | y &lt;chr&gt; | z &lt;lgl&gt; |\n|---|---|---|---|---|---|\n| 3 | s | TRUE | 1 | n | FALSE |\n| 4 | s | TRUE | 2 | n | FALSE |\n\n",
            "text/latex": "A data.frame: 2 × 6\n\\begin{tabular}{llllll}\n x & y & z & x & y & z\\\\\n <int> & <chr> & <lgl> & <int> & <chr> & <lgl>\\\\\n\\hline\n\t 3 & s & TRUE & 1 & n & FALSE\\\\\n\t 4 & s & TRUE & 2 & n & FALSE\\\\\n\\end{tabular}\n",
            "text/plain": [
              "  x y z    x y z    \n",
              "1 3 s TRUE 1 n FALSE\n",
              "2 4 s TRUE 2 n FALSE"
            ]
          },
          "metadata": {}
        }
      ]
    },
    {
      "cell_type": "code",
      "source": [
        "\n",
        "# Subsetting\n",
        "x <- c(13, 8, 5, 3, 2, 1, 1) \n",
        "x[c(1,2,3)]\n",
        "order(x,decreasing=T)\n",
        "x[order(x)]\n",
        "x[-c(2, 5,6)]\n"
      ],
      "metadata": {
        "colab": {
          "base_uri": "https://localhost:8080/",
          "height": 86
        },
        "id": "vXb5LZ4ULlvQ",
        "outputId": "6262769b-4687-4b08-f084-30587f9ae315"
      },
      "execution_count": null,
      "outputs": [
        {
          "output_type": "display_data",
          "data": {
            "text/html": [
              "<style>\n",
              ".list-inline {list-style: none; margin:0; padding: 0}\n",
              ".list-inline>li {display: inline-block}\n",
              ".list-inline>li:not(:last-child)::after {content: \"\\00b7\"; padding: 0 .5ex}\n",
              "</style>\n",
              "<ol class=list-inline><li>13</li><li>8</li><li>5</li></ol>\n"
            ],
            "text/markdown": "1. 13\n2. 8\n3. 5\n\n\n",
            "text/latex": "\\begin{enumerate*}\n\\item 13\n\\item 8\n\\item 5\n\\end{enumerate*}\n",
            "text/plain": [
              "[1] 13  8  5"
            ]
          },
          "metadata": {}
        },
        {
          "output_type": "display_data",
          "data": {
            "text/html": [
              "<style>\n",
              ".list-inline {list-style: none; margin:0; padding: 0}\n",
              ".list-inline>li {display: inline-block}\n",
              ".list-inline>li:not(:last-child)::after {content: \"\\00b7\"; padding: 0 .5ex}\n",
              "</style>\n",
              "<ol class=list-inline><li>1</li><li>2</li><li>3</li><li>4</li><li>5</li><li>6</li><li>7</li></ol>\n"
            ],
            "text/markdown": "1. 1\n2. 2\n3. 3\n4. 4\n5. 5\n6. 6\n7. 7\n\n\n",
            "text/latex": "\\begin{enumerate*}\n\\item 1\n\\item 2\n\\item 3\n\\item 4\n\\item 5\n\\item 6\n\\item 7\n\\end{enumerate*}\n",
            "text/plain": [
              "[1] 1 2 3 4 5 6 7"
            ]
          },
          "metadata": {}
        },
        {
          "output_type": "display_data",
          "data": {
            "text/html": [
              "<style>\n",
              ".list-inline {list-style: none; margin:0; padding: 0}\n",
              ".list-inline>li {display: inline-block}\n",
              ".list-inline>li:not(:last-child)::after {content: \"\\00b7\"; padding: 0 .5ex}\n",
              "</style>\n",
              "<ol class=list-inline><li>1</li><li>1</li><li>2</li><li>3</li><li>5</li><li>8</li><li>13</li></ol>\n"
            ],
            "text/markdown": "1. 1\n2. 1\n3. 2\n4. 3\n5. 5\n6. 8\n7. 13\n\n\n",
            "text/latex": "\\begin{enumerate*}\n\\item 1\n\\item 1\n\\item 2\n\\item 3\n\\item 5\n\\item 8\n\\item 13\n\\end{enumerate*}\n",
            "text/plain": [
              "[1]  1  1  2  3  5  8 13"
            ]
          },
          "metadata": {}
        },
        {
          "output_type": "display_data",
          "data": {
            "text/html": [
              "<style>\n",
              ".list-inline {list-style: none; margin:0; padding: 0}\n",
              ".list-inline>li {display: inline-block}\n",
              ".list-inline>li:not(:last-child)::after {content: \"\\00b7\"; padding: 0 .5ex}\n",
              "</style>\n",
              "<ol class=list-inline><li>13</li><li>5</li><li>3</li><li>1</li></ol>\n"
            ],
            "text/markdown": "1. 13\n2. 5\n3. 3\n4. 1\n\n\n",
            "text/latex": "\\begin{enumerate*}\n\\item 13\n\\item 5\n\\item 3\n\\item 1\n\\end{enumerate*}\n",
            "text/plain": [
              "[1] 13  5  3  1"
            ]
          },
          "metadata": {}
        }
      ]
    },
    {
      "cell_type": "code",
      "source": [
        "#\n",
        "# Lendo um df em formato excel (dataset reduzido)\n",
        "#install.packages('readxl')\n",
        "#install.packages('data.table')\n",
        "\n",
        "library(readxl)\n",
        "library(data.table)\n",
        "#setwd(\"C:/Users/A750086/OneDrive - Atos/Documents/Documents/Projects/Petala/Aulas/CIMATEC Estat�stica Aplicada com R/dados\")\n",
        "#df <- read_excel(\"state_based_dataset_COVID19_15_07_2020_sample.xlsx\")\n",
        "\n",
        "url1<-'https://github.com/MasterExecuson/Data-Science-Analytics/raw/main/Statistics%20in%20R/Covid%20Sample%20Dataset/state_based_dataset_COVID19_15_07_2020_sample.xlsx'\n",
        "GET(url1, write_disk(tf <- tempfile(fileext = \".xlsx\")))\n",
        "df <- read_excel(tf)\n",
        "head(df)\n",
        "str(df)\n"
      ],
      "metadata": {
        "colab": {
          "base_uri": "https://localhost:8080/",
          "height": 1000
        },
        "id": "JEoOEfW2_Iz3",
        "outputId": "35111b30-e38f-4476-84ee-4cdf8fc3e21f"
      },
      "execution_count": null,
      "outputs": [
        {
          "output_type": "display_data",
          "data": {
            "text/plain": [
              "Response [https://raw.githubusercontent.com/MasterExecuson/Data-Science-Analytics/main/Statistics%20in%20R/Covid%20Sample%20Dataset/state_based_dataset_COVID19_15_07_2020_sample.xlsx]\n",
              "  Date: 2022-08-23 22:46\n",
              "  Status: 200\n",
              "  Content-Type: application/octet-stream\n",
              "  Size: 820 kB\n",
              "<ON DISK>  /tmp/Rtmp6dCDya/file3873bd0e41.xlsxNULL"
            ]
          },
          "metadata": {}
        },
        {
          "output_type": "display_data",
          "data": {
            "text/html": [
              "<table class=\"dataframe\">\n",
              "<caption>A tibble: 6 × 29</caption>\n",
              "<thead>\n",
              "\t<tr><th scope=col>DATA DA NOTIFICACAO</th><th scope=col>DOR DE GARGANTA</th><th scope=col>DISPNEIA</th><th scope=col>FEBRE</th><th scope=col>TOSSE</th><th scope=col>OUTROS</th><th scope=col>E PROFISSIONAL DE SAUDE?</th><th scope=col>DESCRICAO DO SINTOMA</th><th scope=col>DATA DO INICIO DOS SINTOMAS</th><th scope=col>DOENCAS RESPIRATORIAS CRONICAS DESCOMPENSADAS</th><th scope=col>⋯</th><th scope=col>CBO</th><th scope=col>DATA DA COLETA DO TESTE</th><th scope=col>IDADE EM ANOS</th><th scope=col>TIPO DE TESTE</th><th scope=col>RESULTADO DO TESTE</th><th scope=col>SEXO</th><th scope=col>ESTADO DE RESIDENCIA</th><th scope=col>MUNICIPIO DE RESIDENCIA</th><th scope=col>RACA/COR</th><th scope=col>EPIDEMIA</th></tr>\n",
              "\t<tr><th scope=col>&lt;chr&gt;</th><th scope=col>&lt;chr&gt;</th><th scope=col>&lt;chr&gt;</th><th scope=col>&lt;chr&gt;</th><th scope=col>&lt;chr&gt;</th><th scope=col>&lt;chr&gt;</th><th scope=col>&lt;chr&gt;</th><th scope=col>&lt;chr&gt;</th><th scope=col>&lt;chr&gt;</th><th scope=col>&lt;chr&gt;</th><th scope=col>⋯</th><th scope=col>&lt;chr&gt;</th><th scope=col>&lt;chr&gt;</th><th scope=col>&lt;chr&gt;</th><th scope=col>&lt;chr&gt;</th><th scope=col>&lt;chr&gt;</th><th scope=col>&lt;chr&gt;</th><th scope=col>&lt;chr&gt;</th><th scope=col>&lt;chr&gt;</th><th scope=col>&lt;chr&gt;</th><th scope=col>&lt;chr&gt;</th></tr>\n",
              "</thead>\n",
              "<tbody>\n",
              "\t<tr><td>07/06/2020</td><td>SIM</td><td>NAO</td><td>NAO</td><td>NAO</td><td>NAO</td><td>SIM</td><td>NA                                     </td><td>03/06/2020</td><td>NAO</td><td>⋯</td><td>3241 - TECNOLOGO OU TECNICO EM METODOS DE DIGANOSTICO E TERAPEUTICA</td><td>07/06/2020</td><td>31</td><td>RT-PCR EM TEMPO REAL    </td><td>NEGATIVO</td><td>FEMININO</td><td>BAHIA</td><td>FEIRA DE SANTANA</td><td>INDIGENA</td><td>COVID-19</td></tr>\n",
              "\t<tr><td>05/06/2020</td><td>NAO</td><td>NAO</td><td>SIM</td><td>NAO</td><td>SIM</td><td>NAO</td><td>DOR TORACICA                           </td><td>01/06/2020</td><td>NAO</td><td>⋯</td><td>NA                                                                 </td><td>NA        </td><td>40</td><td>NA                      </td><td>NA      </td><td>FEMININO</td><td>BAHIA</td><td>SALVADOR        </td><td>PARDA   </td><td>COVID-19</td></tr>\n",
              "\t<tr><td>16/06/2020</td><td>SIM</td><td>NAO</td><td>NAO</td><td>SIM</td><td>SIM</td><td>SIM</td><td>CEFALEIA                               </td><td>15/06/2020</td><td>NAO</td><td>⋯</td><td>3516 - TECNICO DE SEGURANCA NO TRABALHO OU HIGIENE OCUPACIONAL     </td><td>NA        </td><td>36</td><td>RT-PCR EM TEMPO REAL    </td><td>NEGATIVO</td><td>FEMININO</td><td>BAHIA</td><td>OUTRO ESTADO    </td><td>PRETA   </td><td>COVID-19</td></tr>\n",
              "\t<tr><td>30/06/2020</td><td>NAO</td><td>NAO</td><td>NAO</td><td>NAO</td><td>SIM</td><td>NAO</td><td>CEFALEIA                               </td><td>30/06/2020</td><td>NAO</td><td>⋯</td><td>NA                                                                 </td><td>30/06/2020</td><td>34</td><td>RT-PCR EM TEMPO REAL    </td><td>POSITIVO</td><td>FEMININO</td><td>BAHIA</td><td>MADRE DE DEUS   </td><td>PARDA   </td><td>COVID-19</td></tr>\n",
              "\t<tr><td>27/05/2020</td><td>NAO</td><td>NAO</td><td>NAO</td><td>NAO</td><td>SIM</td><td>NAO</td><td>ASSINTOMATICA CONTATO COM CASO POSITIVO</td><td>25/05/2020</td><td>NAO</td><td>⋯</td><td>NA                                                                 </td><td>25/05/2020</td><td>50</td><td>TESTE RAPIDO - ANTICORPO</td><td>POSITIVO</td><td>FEMININO</td><td>BAHIA</td><td>CANDIDO SALES   </td><td>AMARELA </td><td>COVID-19</td></tr>\n",
              "\t<tr><td>17/04/2020</td><td>NAO</td><td>NAO</td><td>NAO</td><td>SIM</td><td>NAO</td><td>NAO</td><td>NA                                     </td><td>13/04/2020</td><td>NAO</td><td>⋯</td><td>NA                                                                 </td><td>NA        </td><td>45</td><td>NA                      </td><td>NA      </td><td>FEMININO</td><td>BAHIA</td><td>ITORORO         </td><td>PARDA   </td><td>COVID-19</td></tr>\n",
              "</tbody>\n",
              "</table>\n"
            ],
            "text/markdown": "\nA tibble: 6 × 29\n\n| DATA DA NOTIFICACAO &lt;chr&gt; | DOR DE GARGANTA &lt;chr&gt; | DISPNEIA &lt;chr&gt; | FEBRE &lt;chr&gt; | TOSSE &lt;chr&gt; | OUTROS &lt;chr&gt; | E PROFISSIONAL DE SAUDE? &lt;chr&gt; | DESCRICAO DO SINTOMA &lt;chr&gt; | DATA DO INICIO DOS SINTOMAS &lt;chr&gt; | DOENCAS RESPIRATORIAS CRONICAS DESCOMPENSADAS &lt;chr&gt; | ⋯ ⋯ | CBO &lt;chr&gt; | DATA DA COLETA DO TESTE &lt;chr&gt; | IDADE EM ANOS &lt;chr&gt; | TIPO DE TESTE &lt;chr&gt; | RESULTADO DO TESTE &lt;chr&gt; | SEXO &lt;chr&gt; | ESTADO DE RESIDENCIA &lt;chr&gt; | MUNICIPIO DE RESIDENCIA &lt;chr&gt; | RACA/COR &lt;chr&gt; | EPIDEMIA &lt;chr&gt; |\n|---|---|---|---|---|---|---|---|---|---|---|---|---|---|---|---|---|---|---|---|---|\n| 07/06/2020 | SIM | NAO | NAO | NAO | NAO | SIM | NA                                      | 03/06/2020 | NAO | ⋯ | 3241 - TECNOLOGO OU TECNICO EM METODOS DE DIGANOSTICO E TERAPEUTICA | 07/06/2020 | 31 | RT-PCR EM TEMPO REAL     | NEGATIVO | FEMININO | BAHIA | FEIRA DE SANTANA | INDIGENA | COVID-19 |\n| 05/06/2020 | NAO | NAO | SIM | NAO | SIM | NAO | DOR TORACICA                            | 01/06/2020 | NAO | ⋯ | NA                                                                  | NA         | 40 | NA                       | NA       | FEMININO | BAHIA | SALVADOR         | PARDA    | COVID-19 |\n| 16/06/2020 | SIM | NAO | NAO | SIM | SIM | SIM | CEFALEIA                                | 15/06/2020 | NAO | ⋯ | 3516 - TECNICO DE SEGURANCA NO TRABALHO OU HIGIENE OCUPACIONAL      | NA         | 36 | RT-PCR EM TEMPO REAL     | NEGATIVO | FEMININO | BAHIA | OUTRO ESTADO     | PRETA    | COVID-19 |\n| 30/06/2020 | NAO | NAO | NAO | NAO | SIM | NAO | CEFALEIA                                | 30/06/2020 | NAO | ⋯ | NA                                                                  | 30/06/2020 | 34 | RT-PCR EM TEMPO REAL     | POSITIVO | FEMININO | BAHIA | MADRE DE DEUS    | PARDA    | COVID-19 |\n| 27/05/2020 | NAO | NAO | NAO | NAO | SIM | NAO | ASSINTOMATICA CONTATO COM CASO POSITIVO | 25/05/2020 | NAO | ⋯ | NA                                                                  | 25/05/2020 | 50 | TESTE RAPIDO - ANTICORPO | POSITIVO | FEMININO | BAHIA | CANDIDO SALES    | AMARELA  | COVID-19 |\n| 17/04/2020 | NAO | NAO | NAO | SIM | NAO | NAO | NA                                      | 13/04/2020 | NAO | ⋯ | NA                                                                  | NA         | 45 | NA                       | NA       | FEMININO | BAHIA | ITORORO          | PARDA    | COVID-19 |\n\n",
            "text/latex": "A tibble: 6 × 29\n\\begin{tabular}{lllllllllllllllllllll}\n DATA DA NOTIFICACAO & DOR DE GARGANTA & DISPNEIA & FEBRE & TOSSE & OUTROS & E PROFISSIONAL DE SAUDE? & DESCRICAO DO SINTOMA & DATA DO INICIO DOS SINTOMAS & DOENCAS RESPIRATORIAS CRONICAS DESCOMPENSADAS & ⋯ & CBO & DATA DA COLETA DO TESTE & IDADE EM ANOS & TIPO DE TESTE & RESULTADO DO TESTE & SEXO & ESTADO DE RESIDENCIA & MUNICIPIO DE RESIDENCIA & RACA/COR & EPIDEMIA\\\\\n <chr> & <chr> & <chr> & <chr> & <chr> & <chr> & <chr> & <chr> & <chr> & <chr> & ⋯ & <chr> & <chr> & <chr> & <chr> & <chr> & <chr> & <chr> & <chr> & <chr> & <chr>\\\\\n\\hline\n\t 07/06/2020 & SIM & NAO & NAO & NAO & NAO & SIM & NA                                      & 03/06/2020 & NAO & ⋯ & 3241 - TECNOLOGO OU TECNICO EM METODOS DE DIGANOSTICO E TERAPEUTICA & 07/06/2020 & 31 & RT-PCR EM TEMPO REAL     & NEGATIVO & FEMININO & BAHIA & FEIRA DE SANTANA & INDIGENA & COVID-19\\\\\n\t 05/06/2020 & NAO & NAO & SIM & NAO & SIM & NAO & DOR TORACICA                            & 01/06/2020 & NAO & ⋯ & NA                                                                  & NA         & 40 & NA                       & NA       & FEMININO & BAHIA & SALVADOR         & PARDA    & COVID-19\\\\\n\t 16/06/2020 & SIM & NAO & NAO & SIM & SIM & SIM & CEFALEIA                                & 15/06/2020 & NAO & ⋯ & 3516 - TECNICO DE SEGURANCA NO TRABALHO OU HIGIENE OCUPACIONAL      & NA         & 36 & RT-PCR EM TEMPO REAL     & NEGATIVO & FEMININO & BAHIA & OUTRO ESTADO     & PRETA    & COVID-19\\\\\n\t 30/06/2020 & NAO & NAO & NAO & NAO & SIM & NAO & CEFALEIA                                & 30/06/2020 & NAO & ⋯ & NA                                                                  & 30/06/2020 & 34 & RT-PCR EM TEMPO REAL     & POSITIVO & FEMININO & BAHIA & MADRE DE DEUS    & PARDA    & COVID-19\\\\\n\t 27/05/2020 & NAO & NAO & NAO & NAO & SIM & NAO & ASSINTOMATICA CONTATO COM CASO POSITIVO & 25/05/2020 & NAO & ⋯ & NA                                                                  & 25/05/2020 & 50 & TESTE RAPIDO - ANTICORPO & POSITIVO & FEMININO & BAHIA & CANDIDO SALES    & AMARELA  & COVID-19\\\\\n\t 17/04/2020 & NAO & NAO & NAO & SIM & NAO & NAO & NA                                      & 13/04/2020 & NAO & ⋯ & NA                                                                  & NA         & 45 & NA                       & NA       & FEMININO & BAHIA & ITORORO          & PARDA    & COVID-19\\\\\n\\end{tabular}\n",
            "text/plain": [
              "  DATA DA NOTIFICACAO DOR DE GARGANTA DISPNEIA FEBRE TOSSE OUTROS\n",
              "1 07/06/2020          SIM             NAO      NAO   NAO   NAO   \n",
              "2 05/06/2020          NAO             NAO      SIM   NAO   SIM   \n",
              "3 16/06/2020          SIM             NAO      NAO   SIM   SIM   \n",
              "4 30/06/2020          NAO             NAO      NAO   NAO   SIM   \n",
              "5 27/05/2020          NAO             NAO      NAO   NAO   SIM   \n",
              "6 17/04/2020          NAO             NAO      NAO   SIM   NAO   \n",
              "  E PROFISSIONAL DE SAUDE? DESCRICAO DO SINTOMA                   \n",
              "1 SIM                      NA                                     \n",
              "2 NAO                      DOR TORACICA                           \n",
              "3 SIM                      CEFALEIA                               \n",
              "4 NAO                      CEFALEIA                               \n",
              "5 NAO                      ASSINTOMATICA CONTATO COM CASO POSITIVO\n",
              "6 NAO                      NA                                     \n",
              "  DATA DO INICIO DOS SINTOMAS DOENCAS RESPIRATORIAS CRONICAS DESCOMPENSADAS ⋯\n",
              "1 03/06/2020                  NAO                                           ⋯\n",
              "2 01/06/2020                  NAO                                           ⋯\n",
              "3 15/06/2020                  NAO                                           ⋯\n",
              "4 30/06/2020                  NAO                                           ⋯\n",
              "5 25/05/2020                  NAO                                           ⋯\n",
              "6 13/04/2020                  NAO                                           ⋯\n",
              "  CBO                                                                \n",
              "1 3241 - TECNOLOGO OU TECNICO EM METODOS DE DIGANOSTICO E TERAPEUTICA\n",
              "2 NA                                                                 \n",
              "3 3516 - TECNICO DE SEGURANCA NO TRABALHO OU HIGIENE OCUPACIONAL     \n",
              "4 NA                                                                 \n",
              "5 NA                                                                 \n",
              "6 NA                                                                 \n",
              "  DATA DA COLETA DO TESTE IDADE EM ANOS TIPO DE TESTE           \n",
              "1 07/06/2020              31            RT-PCR EM TEMPO REAL    \n",
              "2 NA                      40            NA                      \n",
              "3 NA                      36            RT-PCR EM TEMPO REAL    \n",
              "4 30/06/2020              34            RT-PCR EM TEMPO REAL    \n",
              "5 25/05/2020              50            TESTE RAPIDO - ANTICORPO\n",
              "6 NA                      45            NA                      \n",
              "  RESULTADO DO TESTE SEXO     ESTADO DE RESIDENCIA MUNICIPIO DE RESIDENCIA\n",
              "1 NEGATIVO           FEMININO BAHIA                FEIRA DE SANTANA       \n",
              "2 NA                 FEMININO BAHIA                SALVADOR               \n",
              "3 NEGATIVO           FEMININO BAHIA                OUTRO ESTADO           \n",
              "4 POSITIVO           FEMININO BAHIA                MADRE DE DEUS          \n",
              "5 POSITIVO           FEMININO BAHIA                CANDIDO SALES          \n",
              "6 NA                 FEMININO BAHIA                ITORORO                \n",
              "  RACA/COR EPIDEMIA\n",
              "1 INDIGENA COVID-19\n",
              "2 PARDA    COVID-19\n",
              "3 PRETA    COVID-19\n",
              "4 PARDA    COVID-19\n",
              "5 AMARELA  COVID-19\n",
              "6 PARDA    COVID-19"
            ]
          },
          "metadata": {}
        },
        {
          "output_type": "stream",
          "name": "stdout",
          "text": [
            "tibble [5,837 × 29] (S3: tbl_df/tbl/data.frame)\n",
            " $ DATA DA NOTIFICACAO                                             : chr [1:5837] \"07/06/2020\" \"05/06/2020\" \"16/06/2020\" \"30/06/2020\" ...\n",
            " $ DOR DE GARGANTA                                                 : chr [1:5837] \"SIM\" \"NAO\" \"SIM\" \"NAO\" ...\n",
            " $ DISPNEIA                                                        : chr [1:5837] \"NAO\" \"NAO\" \"NAO\" \"NAO\" ...\n",
            " $ FEBRE                                                           : chr [1:5837] \"NAO\" \"SIM\" \"NAO\" \"NAO\" ...\n",
            " $ TOSSE                                                           : chr [1:5837] \"NAO\" \"NAO\" \"SIM\" \"NAO\" ...\n",
            " $ OUTROS                                                          : chr [1:5837] \"NAO\" \"SIM\" \"SIM\" \"SIM\" ...\n",
            " $ E PROFISSIONAL DE SAUDE?                                        : chr [1:5837] \"SIM\" \"NAO\" \"SIM\" \"NAO\" ...\n",
            " $ DESCRICAO DO SINTOMA                                            : chr [1:5837] NA \"DOR TORACICA\" \"CEFALEIA\" \"CEFALEIA\" ...\n",
            " $ DATA DO INICIO DOS SINTOMAS                                     : chr [1:5837] \"03/06/2020\" \"01/06/2020\" \"15/06/2020\" \"30/06/2020\" ...\n",
            " $ DOENCAS RESPIRATORIAS CRONICAS DESCOMPENSADAS                   : chr [1:5837] \"NAO\" \"NAO\" \"NAO\" \"NAO\" ...\n",
            " $ DOENCAS CARDIACAS CRONICAS                                      : chr [1:5837] \"NAO\" \"NAO\" \"NAO\" \"NAO\" ...\n",
            " $ DIABETES                                                        : chr [1:5837] \"NAO\" \"NAO\" \"NAO\" \"NAO\" ...\n",
            " $ DOENCAS RENAIS CRONICAS EM ESTAGIO AVANCADO (GRAUS 3, 4 OU 5)   : chr [1:5837] \"NAO\" \"NAO\" \"NAO\" \"NAO\" ...\n",
            " $ IMUNOSSUPRESSAO                                                 : chr [1:5837] \"NAO\" \"NAO\" \"NAO\" \"NAO\" ...\n",
            " $ GESTANTE DE ALTO RISCO                                          : chr [1:5837] \"NAO\" \"NAO\" \"NAO\" \"NAO\" ...\n",
            " $ PORTADOR DE DOENCAS CROMOSSOMICAS OU ESTADO DE FRAGILIDADE IMUNO: chr [1:5837] \"NAO\" \"NAO\" \"NAO\" \"NAO\" ...\n",
            " $ CLASSIFICACAO FINAL                                             : chr [1:5837] \"DESCARTADO LABORATORIALMENTE\" \"SUSPEITO\" \"DESCARTADO LABORATORIALMENTE\" \"CONFIRMADO LABORATORIALMENTE\" ...\n",
            " $ INVESTIGACAO CONCLUIDA                                          : chr [1:5837] \"DESCARTADO\" \"SUSPEITO\" \"DESCARTADO\" \"CONFIRMADO\" ...\n",
            " $ ESTADO DO TESTE                                                 : chr [1:5837] \"COLETADO\" NA \"SOLICITADO\" \"COLETADO\" ...\n",
            " $ CBO                                                             : chr [1:5837] \"3241 - TECNOLOGO OU TECNICO EM METODOS DE DIGANOSTICO E TERAPEUTICA\" NA \"3516 - TECNICO DE SEGURANCA NO TRABALHO OU HIGIENE OCUPACIONAL\" NA ...\n",
            " $ DATA DA COLETA DO TESTE                                         : chr [1:5837] \"07/06/2020\" NA NA \"30/06/2020\" ...\n",
            " $ IDADE EM ANOS                                                   : chr [1:5837] \"31\" \"40\" \"36\" \"34\" ...\n",
            " $ TIPO DE TESTE                                                   : chr [1:5837] \"RT-PCR EM TEMPO REAL\" NA \"RT-PCR EM TEMPO REAL\" \"RT-PCR EM TEMPO REAL\" ...\n",
            " $ RESULTADO DO TESTE                                              : chr [1:5837] \"NEGATIVO\" NA \"NEGATIVO\" \"POSITIVO\" ...\n",
            " $ SEXO                                                            : chr [1:5837] \"FEMININO\" \"FEMININO\" \"FEMININO\" \"FEMININO\" ...\n",
            " $ ESTADO DE RESIDENCIA                                            : chr [1:5837] \"BAHIA\" \"BAHIA\" \"BAHIA\" \"BAHIA\" ...\n",
            " $ MUNICIPIO DE RESIDENCIA                                         : chr [1:5837] \"FEIRA DE SANTANA\" \"SALVADOR\" \"OUTRO ESTADO\" \"MADRE DE DEUS\" ...\n",
            " $ RACA/COR                                                        : chr [1:5837] \"INDIGENA\" \"PARDA\" \"PRETA\" \"PARDA\" ...\n",
            " $ EPIDEMIA                                                        : chr [1:5837] \"COVID-19\" \"COVID-19\" \"COVID-19\" \"COVID-19\" ...\n"
          ]
        }
      ]
    },
    {
      "cell_type": "code",
      "source": [
        "df "
      ],
      "metadata": {
        "colab": {
          "base_uri": "https://localhost:8080/",
          "height": 1000
        },
        "id": "98iYJPfO12ws",
        "outputId": "d5b84091-e408-4c62-f751-4f873917f79a"
      },
      "execution_count": null,
      "outputs": [
        {
          "output_type": "display_data",
          "data": {
            "text/html": [
              "<table class=\"dataframe\">\n",
              "<caption>A tibble: 5837 × 29</caption>\n",
              "<thead>\n",
              "\t<tr><th scope=col>DATA DA NOTIFICACAO</th><th scope=col>DOR DE GARGANTA</th><th scope=col>DISPNEIA</th><th scope=col>FEBRE</th><th scope=col>TOSSE</th><th scope=col>OUTROS</th><th scope=col>E PROFISSIONAL DE SAUDE?</th><th scope=col>DESCRICAO DO SINTOMA</th><th scope=col>DATA DO INICIO DOS SINTOMAS</th><th scope=col>DOENCAS RESPIRATORIAS CRONICAS DESCOMPENSADAS</th><th scope=col>⋯</th><th scope=col>CBO</th><th scope=col>DATA DA COLETA DO TESTE</th><th scope=col>IDADE EM ANOS</th><th scope=col>TIPO DE TESTE</th><th scope=col>RESULTADO DO TESTE</th><th scope=col>SEXO</th><th scope=col>ESTADO DE RESIDENCIA</th><th scope=col>MUNICIPIO DE RESIDENCIA</th><th scope=col>RACA/COR</th><th scope=col>EPIDEMIA</th></tr>\n",
              "\t<tr><th scope=col>&lt;chr&gt;</th><th scope=col>&lt;chr&gt;</th><th scope=col>&lt;chr&gt;</th><th scope=col>&lt;chr&gt;</th><th scope=col>&lt;chr&gt;</th><th scope=col>&lt;chr&gt;</th><th scope=col>&lt;chr&gt;</th><th scope=col>&lt;chr&gt;</th><th scope=col>&lt;chr&gt;</th><th scope=col>&lt;chr&gt;</th><th scope=col>⋯</th><th scope=col>&lt;chr&gt;</th><th scope=col>&lt;chr&gt;</th><th scope=col>&lt;chr&gt;</th><th scope=col>&lt;chr&gt;</th><th scope=col>&lt;chr&gt;</th><th scope=col>&lt;chr&gt;</th><th scope=col>&lt;chr&gt;</th><th scope=col>&lt;chr&gt;</th><th scope=col>&lt;chr&gt;</th><th scope=col>&lt;chr&gt;</th></tr>\n",
              "</thead>\n",
              "<tbody>\n",
              "\t<tr><td>07/06/2020</td><td>SIM</td><td>NAO</td><td>NAO</td><td>NAO</td><td>NAO</td><td>SIM</td><td>NA                                                                                         </td><td>03/06/2020</td><td>NAO</td><td>⋯</td><td>3241 - TECNOLOGO OU TECNICO EM METODOS DE DIGANOSTICO E TERAPEUTICA</td><td>07/06/2020</td><td>31</td><td>RT-PCR EM TEMPO REAL    </td><td>NEGATIVO</td><td>FEMININO </td><td>BAHIA</td><td>FEIRA DE SANTANA    </td><td>INDIGENA</td><td>COVID-19</td></tr>\n",
              "\t<tr><td>05/06/2020</td><td>NAO</td><td>NAO</td><td>SIM</td><td>NAO</td><td>SIM</td><td>NAO</td><td>DOR TORACICA                                                                               </td><td>01/06/2020</td><td>NAO</td><td>⋯</td><td>NA                                                                 </td><td>NA        </td><td>40</td><td>NA                      </td><td>NA      </td><td>FEMININO </td><td>BAHIA</td><td>SALVADOR            </td><td>PARDA   </td><td>COVID-19</td></tr>\n",
              "\t<tr><td>16/06/2020</td><td>SIM</td><td>NAO</td><td>NAO</td><td>SIM</td><td>SIM</td><td>SIM</td><td>CEFALEIA                                                                                   </td><td>15/06/2020</td><td>NAO</td><td>⋯</td><td>3516 - TECNICO DE SEGURANCA NO TRABALHO OU HIGIENE OCUPACIONAL     </td><td>NA        </td><td>36</td><td>RT-PCR EM TEMPO REAL    </td><td>NEGATIVO</td><td>FEMININO </td><td>BAHIA</td><td>OUTRO ESTADO        </td><td>PRETA   </td><td>COVID-19</td></tr>\n",
              "\t<tr><td>30/06/2020</td><td>NAO</td><td>NAO</td><td>NAO</td><td>NAO</td><td>SIM</td><td>NAO</td><td>CEFALEIA                                                                                   </td><td>30/06/2020</td><td>NAO</td><td>⋯</td><td>NA                                                                 </td><td>30/06/2020</td><td>34</td><td>RT-PCR EM TEMPO REAL    </td><td>POSITIVO</td><td>FEMININO </td><td>BAHIA</td><td>MADRE DE DEUS       </td><td>PARDA   </td><td>COVID-19</td></tr>\n",
              "\t<tr><td>27/05/2020</td><td>NAO</td><td>NAO</td><td>NAO</td><td>NAO</td><td>SIM</td><td>NAO</td><td>ASSINTOMATICA CONTATO COM CASO POSITIVO                                                    </td><td>25/05/2020</td><td>NAO</td><td>⋯</td><td>NA                                                                 </td><td>25/05/2020</td><td>50</td><td>TESTE RAPIDO - ANTICORPO</td><td>POSITIVO</td><td>FEMININO </td><td>BAHIA</td><td>CANDIDO SALES       </td><td>AMARELA </td><td>COVID-19</td></tr>\n",
              "\t<tr><td>17/04/2020</td><td>NAO</td><td>NAO</td><td>NAO</td><td>SIM</td><td>NAO</td><td>NAO</td><td>NA                                                                                         </td><td>13/04/2020</td><td>NAO</td><td>⋯</td><td>NA                                                                 </td><td>NA        </td><td>45</td><td>NA                      </td><td>NA      </td><td>FEMININO </td><td>BAHIA</td><td>ITORORO             </td><td>PARDA   </td><td>COVID-19</td></tr>\n",
              "\t<tr><td>20/05/2020</td><td>NAO</td><td>NAO</td><td>NAO</td><td>NAO</td><td>SIM</td><td>SIM</td><td>CEFALEIA, ANOSMIA, DOR NO PEITO                                                            </td><td>12/05/2020</td><td>NAO</td><td>⋯</td><td>ENFERMEIRO                                                         </td><td>19/05/2020</td><td>36</td><td>TESTE RAPIDO - ANTICORPO</td><td>POSITIVO</td><td>FEMININO </td><td>BAHIA</td><td>SIMOES FILHO        </td><td>BRANCA  </td><td>COVID-19</td></tr>\n",
              "\t<tr><td>14/04/2020</td><td>SIM</td><td>NAO</td><td>SIM</td><td>NAO</td><td>SIM</td><td>NAO</td><td>DORES NO CORPO,CEFALEIA                                                                    </td><td>13/04/2020</td><td>NAO</td><td>⋯</td><td>NA                                                                 </td><td>NA        </td><td>22</td><td>NA                      </td><td>NA      </td><td>FEMININO </td><td>BAHIA</td><td>SALVADOR            </td><td>NA      </td><td>COVID-19</td></tr>\n",
              "\t<tr><td>20/06/2020</td><td>NAO</td><td>NAO</td><td>NAO</td><td>NAO</td><td>SIM</td><td>NAO</td><td>ASSINTOMATICO                                                                              </td><td>19/05/2020</td><td>NAO</td><td>⋯</td><td>NA                                                                 </td><td>NA        </td><td>23</td><td>NA                      </td><td>NA      </td><td>FEMININO </td><td>BAHIA</td><td>SALVADOR            </td><td>AMARELA </td><td>COVID-19</td></tr>\n",
              "\t<tr><td>10/06/2020</td><td>NAO</td><td>NAO</td><td>NAO</td><td>NAO</td><td>SIM</td><td>NAO</td><td>MIALGIA,CEFALEIA,CORIZA                                                                    </td><td>01/06/2020</td><td>NAO</td><td>⋯</td><td>NA                                                                 </td><td>09/06/2020</td><td>34</td><td>TESTE RAPIDO - ANTICORPO</td><td>NEGATIVO</td><td>FEMININO </td><td>BAHIA</td><td>IRARA               </td><td>PARDA   </td><td>COVID-19</td></tr>\n",
              "\t<tr><td>20/03/2020</td><td>NAO</td><td>NAO</td><td>NAO</td><td>SIM</td><td>SIM</td><td>NAO</td><td>DIARREIA/DIFICULDADE DE RESPIRAR/DOR NO CORPO                                              </td><td>17/03/2020</td><td>NAO</td><td>⋯</td><td>NA                                                                 </td><td>NA        </td><td>19</td><td>NA                      </td><td>NA      </td><td>FEMININO </td><td>BAHIA</td><td>ILHEUS              </td><td>NA      </td><td>COVID-19</td></tr>\n",
              "\t<tr><td>25/05/2020</td><td>NAO</td><td>NAO</td><td>NAO</td><td>NAO</td><td>SIM</td><td>NAO</td><td>SEM SINTOMAS                                                                               </td><td>20/05/2020</td><td>NAO</td><td>⋯</td><td>NA                                                                 </td><td>22/05/2020</td><td>29</td><td>NA                      </td><td>NA      </td><td>FEMININO </td><td>BAHIA</td><td>SALVADOR            </td><td>NA      </td><td>COVID-19</td></tr>\n",
              "\t<tr><td>26/06/2020</td><td>NAO</td><td>NAO</td><td>NAO</td><td>NAO</td><td>SIM</td><td>NAO</td><td>ASSITOMATICO                                                                               </td><td>26/06/2020</td><td>SIM</td><td>⋯</td><td>NA                                                                 </td><td>26/06/2020</td><td>19</td><td>TESTE RAPIDO - ANTICORPO</td><td>NEGATIVO</td><td>FEMININO </td><td>BAHIA</td><td>IPIAU               </td><td>PRETA   </td><td>COVID-19</td></tr>\n",
              "\t<tr><td>27/05/2020</td><td>NAO</td><td>NAO</td><td>NAO</td><td>NAO</td><td>SIM</td><td>NAO</td><td>SEM SINTOMAS                                                                               </td><td>27/05/2020</td><td>NAO</td><td>⋯</td><td>NA                                                                 </td><td>04/05/2020</td><td>26</td><td>RT-PCR                  </td><td>POSITIVO</td><td>FEMININO </td><td>BAHIA</td><td>SALVADOR            </td><td>PRETA   </td><td>COVID-19</td></tr>\n",
              "\t<tr><td>27/06/2020</td><td>NAO</td><td>NAO</td><td>NAO</td><td>NAO</td><td>SIM</td><td>NAO</td><td>ASSINTOMATICO                                                                              </td><td>25/06/2020</td><td>NAO</td><td>⋯</td><td>NA                                                                 </td><td>NA        </td><td>14</td><td>RT-PCR                  </td><td>POSITIVO</td><td>FEMININO </td><td>BAHIA</td><td>SALVADOR            </td><td>PARDA   </td><td>COVID-19</td></tr>\n",
              "\t<tr><td>13/04/2020</td><td>NAO</td><td>NAO</td><td>NAO</td><td>SIM</td><td>NAO</td><td>NAO</td><td>NA                                                                                         </td><td>08/04/2020</td><td>NAO</td><td>⋯</td><td>NA                                                                 </td><td>13/04/2020</td><td>33</td><td>NA                      </td><td>NA      </td><td>MASCULINO</td><td>BAHIA</td><td>SALVADOR            </td><td>NA      </td><td>COVID-19</td></tr>\n",
              "\t<tr><td>20/03/2020</td><td>NAO</td><td>NAO</td><td>NAO</td><td>NAO</td><td>SIM</td><td>NAO</td><td>CORIZA CEFALEIA (DOR DE CABECA)                                                            </td><td>16/03/2020</td><td>NAO</td><td>⋯</td><td>NA                                                                 </td><td>NA        </td><td>65</td><td>NA                      </td><td>NA      </td><td>FEMININO </td><td>BAHIA</td><td>VITORIA DA CONQUISTA</td><td>PARDA   </td><td>COVID-19</td></tr>\n",
              "\t<tr><td>03/07/2020</td><td>NAO</td><td>NAO</td><td>NAO</td><td>NAO</td><td>SIM</td><td>NA </td><td>NA                                                                                         </td><td>NA        </td><td>NAO</td><td>⋯</td><td>NA                                                                 </td><td>26/06/2020</td><td>36</td><td>TESTE RAPIDO - ANTICORPO</td><td>NEGATIVO</td><td>MASCULINO</td><td>BAHIA</td><td>SALVADOR            </td><td>NA      </td><td>COVID-19</td></tr>\n",
              "\t<tr><td>31/05/2020</td><td>NAO</td><td>NAO</td><td>NAO</td><td>SIM</td><td>SIM</td><td>NAO</td><td>DESCONFORTO RESPIRATORIO                                                                   </td><td>29/05/2020</td><td>NAO</td><td>⋯</td><td>NA                                                                 </td><td>31/05/2020</td><td>81</td><td>RT-PCR                  </td><td>POSITIVO</td><td>MASCULINO</td><td>BAHIA</td><td>SALVADOR            </td><td>NA      </td><td>COVID-19</td></tr>\n",
              "\t<tr><td>03/07/2020</td><td>NAO</td><td>NAO</td><td>NAO</td><td>NAO</td><td>SIM</td><td>NAO</td><td>ASSINTOMATICO                                                                              </td><td>15/06/2020</td><td>NAO</td><td>⋯</td><td>NA                                                                 </td><td>23/06/2020</td><td>35</td><td>TESTE RAPIDO - ANTIGENO </td><td>POSITIVO</td><td>FEMININO </td><td>BAHIA</td><td>SALVADOR            </td><td>PARDA   </td><td>COVID-19</td></tr>\n",
              "\t<tr><td>14/04/2020</td><td>NAO</td><td>NAO</td><td>NAO</td><td>NAO</td><td>SIM</td><td>SIM</td><td>CEFALEIA, PERDA DO PALADAR E OLFATO                                                        </td><td>13/04/2020</td><td>NAO</td><td>⋯</td><td>OUTROS                                                             </td><td>16/04/2020</td><td>32</td><td>RT-PCR                  </td><td>NEGATIVO</td><td>FEMININO </td><td>BAHIA</td><td>FEIRA DE SANTANA    </td><td>NA      </td><td>COVID-19</td></tr>\n",
              "\t<tr><td>18/06/2020</td><td>NAO</td><td>NAO</td><td>NAO</td><td>NAO</td><td>SIM</td><td>NAO</td><td>SEM SINTOMAS                                                                               </td><td>17/06/2020</td><td>NAO</td><td>⋯</td><td>NA                                                                 </td><td>17/06/2020</td><td>26</td><td>TESTE RAPIDO - ANTICORPO</td><td>NEGATIVO</td><td>FEMININO </td><td>BAHIA</td><td>SALVADOR            </td><td>PARDA   </td><td>COVID-19</td></tr>\n",
              "\t<tr><td>25/06/2020</td><td>NAO</td><td>SIM</td><td>NAO</td><td>SIM</td><td>SIM</td><td>NAO</td><td>PERDA DE OLFATO                                                                            </td><td>22/06/2020</td><td>NAO</td><td>⋯</td><td>NA                                                                 </td><td>22/06/2020</td><td>17</td><td>TESTE RAPIDO - ANTICORPO</td><td>NEGATIVO</td><td>FEMININO </td><td>BAHIA</td><td>PORTO SEGURO        </td><td>PARDA   </td><td>COVID-19</td></tr>\n",
              "\t<tr><td>01/07/2020</td><td>NAO</td><td>NAO</td><td>SIM</td><td>NAO</td><td>SIM</td><td>NAO</td><td>CALAFRIOS , DOR ABDOMINAL E CONTATO COM PACIENTE POSITIVO PARA COVID19 E E PERDA DO PALADAR</td><td>28/06/2020</td><td>NAO</td><td>⋯</td><td>NA                                                                 </td><td>01/07/2020</td><td>47</td><td>RT-PCR EM TEMPO REAL    </td><td>NEGATIVO</td><td>FEMININO </td><td>BAHIA</td><td>SALVADOR            </td><td>PARDA   </td><td>COVID-19</td></tr>\n",
              "\t<tr><td>15/06/2020</td><td>NAO</td><td>NAO</td><td>NAO</td><td>NAO</td><td>SIM</td><td>SIM</td><td>ASSINTOMATICO                                                                              </td><td>15/06/2020</td><td>NAO</td><td>⋯</td><td>239 - OUTROS PROFISSIONAIS DE ENSINO                               </td><td>15/06/2020</td><td>31</td><td>TESTE RAPIDO - ANTICORPO</td><td>NEGATIVO</td><td>FEMININO </td><td>BAHIA</td><td>ABAIRA              </td><td>PARDA   </td><td>COVID-19</td></tr>\n",
              "\t<tr><td>26/06/2020</td><td>NAO</td><td>NAO</td><td>SIM</td><td>SIM</td><td>SIM</td><td>NAO</td><td>MIALGIA, DOR ABDOMINAL, CEFALEIA                                                           </td><td>22/06/2020</td><td>NAO</td><td>⋯</td><td>NA                                                                 </td><td>NA        </td><td>40</td><td>NA                      </td><td>NA      </td><td>FEMININO </td><td>BAHIA</td><td>PORTO SEGURO        </td><td>PARDA   </td><td>COVID-19</td></tr>\n",
              "\t<tr><td>28/04/2020</td><td>NA </td><td>NA </td><td>NA </td><td>NA </td><td>NA </td><td>NA </td><td>DOR NO CORPO                                                                               </td><td>04/03/2020</td><td>NA </td><td>⋯</td><td>NA                                                                 </td><td>07/03/2020</td><td>49</td><td>RT-PCR                  </td><td>NEGATIVO</td><td>FEMININO </td><td>BAHIA</td><td>SALVADOR            </td><td>NA      </td><td>COVID-19</td></tr>\n",
              "\t<tr><td>22/04/2020</td><td>NAO</td><td>SIM</td><td>SIM</td><td>SIM</td><td>SIM</td><td>NAO</td><td>DOR NO CORPO                                                                               </td><td>20/04/2020</td><td>NA </td><td>⋯</td><td>NA                                                                 </td><td>22/04/2020</td><td>31</td><td>RT-PCR                  </td><td>NEGATIVO</td><td>MASCULINO</td><td>BAHIA</td><td>FEIRA DE SANTANA    </td><td>PARDA   </td><td>COVID-19</td></tr>\n",
              "\t<tr><td>04/06/2020</td><td>NAO</td><td>SIM</td><td>NAO</td><td>SIM</td><td>NAO</td><td>NAO</td><td>NA                                                                                         </td><td>26/05/2020</td><td>NAO</td><td>⋯</td><td>NA                                                                 </td><td>NA        </td><td>60</td><td>TESTE RAPIDO - ANTICORPO</td><td>NEGATIVO</td><td>MASCULINO</td><td>BAHIA</td><td>IPIAU               </td><td>AMARELA </td><td>COVID-19</td></tr>\n",
              "\t<tr><td>24/04/2020</td><td>NAO</td><td>NAO</td><td>NAO</td><td>NAO</td><td>SIM</td><td>NAO</td><td>CEFALEIA, MIALGIA, DIARREIA,CORIZA, TONTURA                                                </td><td>22/04/2020</td><td>NAO</td><td>⋯</td><td>NA                                                                 </td><td>22/04/2020</td><td>25</td><td>RT-PCR                  </td><td>POSITIVO</td><td>MASCULINO</td><td>BAHIA</td><td>ITABELA             </td><td>NA      </td><td>COVID-19</td></tr>\n",
              "\t<tr><td>⋮</td><td>⋮</td><td>⋮</td><td>⋮</td><td>⋮</td><td>⋮</td><td>⋮</td><td>⋮</td><td>⋮</td><td>⋮</td><td>⋱</td><td>⋮</td><td>⋮</td><td>⋮</td><td>⋮</td><td>⋮</td><td>⋮</td><td>⋮</td><td>⋮</td><td>⋮</td><td>⋮</td></tr>\n",
              "\t<tr><td>21/03/2020</td><td>SIM</td><td>NAO</td><td>NAO</td><td>NAO</td><td>NAO</td><td>NAO</td><td>NA                                             </td><td>19/03/2020</td><td>NAO</td><td>⋯</td><td>NA                                      </td><td>NA        </td><td>27</td><td>TESTE RAPIDO - ANTICORPO</td><td>NEGATIVO</td><td>MASCULINO</td><td>BAHIA</td><td>VITORIA DA CONQUISTA</td><td>AMARELA</td><td>COVID-19</td></tr>\n",
              "\t<tr><td>25/04/2020</td><td>SIM</td><td>SIM</td><td>SIM</td><td>NAO</td><td>NAO</td><td>NAO</td><td>NA                                             </td><td>24/04/2020</td><td>NA </td><td>⋯</td><td>NA                                      </td><td>06/05/2020</td><td>22</td><td>TESTE RAPIDO - ANTICORPO</td><td>NEGATIVO</td><td>MASCULINO</td><td>BAHIA</td><td>BARRO PRETO         </td><td>PARDA  </td><td>COVID-19</td></tr>\n",
              "\t<tr><td>24/06/2020</td><td>NAO</td><td>NAO</td><td>NAO</td><td>NAO</td><td>SIM</td><td>NAO</td><td>ESTUDANTE DO ESTADO                            </td><td>24/06/2020</td><td>NAO</td><td>⋯</td><td>NA                                      </td><td>NA        </td><td>17</td><td>NA                      </td><td>NA      </td><td>MASCULINO</td><td>BAHIA</td><td>URUCUCA             </td><td>AMARELA</td><td>COVID-19</td></tr>\n",
              "\t<tr><td>04/06/2020</td><td>SIM</td><td>NAO</td><td>SIM</td><td>SIM</td><td>SIM</td><td>NAO</td><td>CEFALEIA                                       </td><td>08/05/2020</td><td>NAO</td><td>⋯</td><td>NA                                      </td><td>04/06/2020</td><td>15</td><td>TESTE RAPIDO - ANTICORPO</td><td>NEGATIVO</td><td>MASCULINO</td><td>BAHIA</td><td>MARAU               </td><td>AMARELA</td><td>COVID-19</td></tr>\n",
              "\t<tr><td>22/06/2020</td><td>NAO</td><td>NAO</td><td>NAO</td><td>NAO</td><td>SIM</td><td>NAO</td><td>ASSINTOMATICO                                  </td><td>22/06/2020</td><td>NAO</td><td>⋯</td><td>NA                                      </td><td>22/06/2020</td><td>24</td><td>TESTE RAPIDO - ANTICORPO</td><td>NEGATIVO</td><td>MASCULINO</td><td>BAHIA</td><td>GUANAMBI            </td><td>AMARELA</td><td>COVID-19</td></tr>\n",
              "\t<tr><td>10/06/2020</td><td>NAO</td><td>NAO</td><td>SIM</td><td>NAO</td><td>SIM</td><td>NAO</td><td>ANORREIA + MIOLGIA                             </td><td>01/06/2020</td><td>NAO</td><td>⋯</td><td>NA                                      </td><td>NA        </td><td>34</td><td>NA                      </td><td>NA      </td><td>FEMININO </td><td>BAHIA</td><td>SALVADOR            </td><td>NA     </td><td>COVID-19</td></tr>\n",
              "\t<tr><td>16/06/2020</td><td>NAO</td><td>SIM</td><td>NAO</td><td>SIM</td><td>NAO</td><td>SIM</td><td>NA                                             </td><td>11/06/2020</td><td>SIM</td><td>⋯</td><td>766420 - AUXILIAR DE RADIOLOGIA         </td><td>NA        </td><td>41</td><td>RT-PCR EM TEMPO REAL    </td><td>NEGATIVO</td><td>FEMININO </td><td>BAHIA</td><td>VITORIA DA CONQUISTA</td><td>PARDA  </td><td>COVID-19</td></tr>\n",
              "\t<tr><td>20/05/2020</td><td>NAO</td><td>NAO</td><td>NAO</td><td>NAO</td><td>SIM</td><td>SIM</td><td>ASSINTOMATICA/CONTATO DE CASO POSITIVO         </td><td>20/05/2020</td><td>NAO</td><td>⋯</td><td>3222 - TECNICO OU AUXILIAR EM ENFERMAGEM</td><td>20/05/2020</td><td>34</td><td>NA                      </td><td>NA      </td><td>FEMININO </td><td>BAHIA</td><td>NOVA VICOSA         </td><td>PARDA  </td><td>COVID-19</td></tr>\n",
              "\t<tr><td>24/06/2020</td><td>NA </td><td>NA </td><td>NA </td><td>NA </td><td>NA </td><td>NA </td><td>NA                                             </td><td>19/06/2020</td><td>NA </td><td>⋯</td><td>NA                                      </td><td>24/06/2020</td><td>46</td><td>RT-PCR EM TEMPO REAL    </td><td>POSITIVO</td><td>FEMININO </td><td>BAHIA</td><td>ITABUNA             </td><td>PARDA  </td><td>COVID-19</td></tr>\n",
              "\t<tr><td>14/04/2020</td><td>NAO</td><td>NAO</td><td>NAO</td><td>SIM</td><td>NAO</td><td>NAO</td><td>NA                                             </td><td>13/04/2020</td><td>NAO</td><td>⋯</td><td>NA                                      </td><td>NA        </td><td>7 </td><td>NA                      </td><td>NA      </td><td>MASCULINO</td><td>BAHIA</td><td>MACURURE            </td><td>NA     </td><td>COVID-19</td></tr>\n",
              "\t<tr><td>25/06/2020</td><td>NAO</td><td>NAO</td><td>NAO</td><td>NAO</td><td>SIM</td><td>NAO</td><td>ALUNO DO ESTADO                                </td><td>25/06/2020</td><td>NAO</td><td>⋯</td><td>NA                                      </td><td>NA        </td><td>15</td><td>NA                      </td><td>NA      </td><td>MASCULINO</td><td>BAHIA</td><td>URUCUCA             </td><td>PARDA  </td><td>COVID-19</td></tr>\n",
              "\t<tr><td>03/07/2020</td><td>SIM</td><td>NAO</td><td>SIM</td><td>NAO</td><td>NAO</td><td>NAO</td><td>NA                                             </td><td>01/07/2020</td><td>NAO</td><td>⋯</td><td>NA                                      </td><td>NA        </td><td>5 </td><td>NA                      </td><td>NA      </td><td>MASCULINO</td><td>BAHIA</td><td>CAMACARI            </td><td>PARDA  </td><td>COVID-19</td></tr>\n",
              "\t<tr><td>22/06/2020</td><td>SIM</td><td>SIM</td><td>SIM</td><td>SIM</td><td>NAO</td><td>NAO</td><td>NA                                             </td><td>19/06/2020</td><td>NAO</td><td>⋯</td><td>NA                                      </td><td>NA        </td><td>17</td><td>RT-PCR                  </td><td>NEGATIVO</td><td>FEMININO </td><td>BAHIA</td><td>PAULO AFONSO        </td><td>PARDA  </td><td>COVID-19</td></tr>\n",
              "\t<tr><td>29/05/2020</td><td>NAO</td><td>NAO</td><td>NAO</td><td>NAO</td><td>SIM</td><td>NAO</td><td>NAO INFORMADO                                  </td><td>14/05/2020</td><td>NAO</td><td>⋯</td><td>NA                                      </td><td>14/05/2020</td><td>22</td><td>RT-PCR EM TEMPO REAL    </td><td>POSITIVO</td><td>FEMININO </td><td>BAHIA</td><td>ILHEUS              </td><td>PARDA  </td><td>COVID-19</td></tr>\n",
              "\t<tr><td>17/06/2020</td><td>NAO</td><td>NAO</td><td>NAO</td><td>NAO</td><td>SIM</td><td>SIM</td><td>ASSINTOMATICA                                  </td><td>15/06/2020</td><td>NAO</td><td>⋯</td><td>4221 - RECEPCIONISTA                    </td><td>15/02/2020</td><td>31</td><td>TESTE RAPIDO - ANTICORPO</td><td>NEGATIVO</td><td>FEMININO </td><td>BAHIA</td><td>IGAPORA             </td><td>BRANCA </td><td>COVID-19</td></tr>\n",
              "\t<tr><td>29/06/2020</td><td>NAO</td><td>NAO</td><td>NAO</td><td>NAO</td><td>SIM</td><td>NAO</td><td>ASSINTOMATICA / CONTATO CASO POSITIVO          </td><td>16/06/2020</td><td>NAO</td><td>⋯</td><td>NA                                      </td><td>29/06/2020</td><td>44</td><td>TESTE RAPIDO - ANTICORPO</td><td>NEGATIVO</td><td>FEMININO </td><td>BAHIA</td><td>RIACHAO DO JACUIPE  </td><td>PRETA  </td><td>COVID-19</td></tr>\n",
              "\t<tr><td>14/06/2020</td><td>NAO</td><td>NAO</td><td>NAO</td><td>NAO</td><td>SIM</td><td>NAO</td><td>ASSINTOMATICO                                  </td><td>10/06/2020</td><td>NAO</td><td>⋯</td><td>NA                                      </td><td>10/06/2020</td><td>37</td><td>TESTE RAPIDO - ANTICORPO</td><td>NEGATIVO</td><td>FEMININO </td><td>BAHIA</td><td>FILADELFIA          </td><td>PARDA  </td><td>COVID-19</td></tr>\n",
              "\t<tr><td>25/06/2020</td><td>NAO</td><td>NAO</td><td>NAO</td><td>SIM</td><td>NAO</td><td>NAO</td><td>NA                                             </td><td>24/06/2020</td><td>NAO</td><td>⋯</td><td>NA                                      </td><td>23/06/2020</td><td>34</td><td>RT-PCR EM TEMPO REAL    </td><td>NEGATIVO</td><td>FEMININO </td><td>BAHIA</td><td>SALVADOR            </td><td>PARDA  </td><td>COVID-19</td></tr>\n",
              "\t<tr><td>24/06/2020</td><td>NAO</td><td>NAO</td><td>NAO</td><td>NAO</td><td>SIM</td><td>SIM</td><td>ASSINTOMATICO                                  </td><td>24/06/2020</td><td>NAO</td><td>⋯</td><td>515105 - AGENTE COMUNITARIO DE SAUDE    </td><td>24/06/2020</td><td>37</td><td>TESTE RAPIDO - ANTICORPO</td><td>NEGATIVO</td><td>FEMININO </td><td>BAHIA</td><td>CAMPO FORMOSO       </td><td>PARDA  </td><td>COVID-19</td></tr>\n",
              "\t<tr><td>25/06/2020</td><td>NAO</td><td>NAO</td><td>NAO</td><td>NAO</td><td>SIM</td><td>NAO</td><td>PERDA DE OLFATO E PERDA PALADAR E TOSSE        </td><td>18/06/2020</td><td>NAO</td><td>⋯</td><td>NA                                      </td><td>20/06/2020</td><td>40</td><td>RT-PCR                  </td><td>POSITIVO</td><td>FEMININO </td><td>BAHIA</td><td>SALVADOR            </td><td>PARDA  </td><td>COVID-19</td></tr>\n",
              "\t<tr><td>20/04/2020</td><td>SIM</td><td>NAO</td><td>SIM</td><td>NAO</td><td>SIM</td><td>NAO</td><td>DIFICULDADE DE RESPIRAR,CEFALEIA,CONGESTAO NASA</td><td>19/04/2020</td><td>NAO</td><td>⋯</td><td>NA                                      </td><td>20/04/2020</td><td>36</td><td>RT-PCR                  </td><td>NEGATIVO</td><td>MASCULINO</td><td>BAHIA</td><td>FEIRA DE SANTANA    </td><td>NA     </td><td>COVID-19</td></tr>\n",
              "\t<tr><td>25/05/2020</td><td>NAO</td><td>NAO</td><td>SIM</td><td>NAO</td><td>SIM</td><td>NAO</td><td>MIALGIA, ARTRALGIA E CEFALEIA.                 </td><td>19/05/2020</td><td>NAO</td><td>⋯</td><td>NA                                      </td><td>NA        </td><td>35</td><td>NA                      </td><td>NA      </td><td>MASCULINO</td><td>BAHIA</td><td>VITORIA DA CONQUISTA</td><td>PARDA  </td><td>COVID-19</td></tr>\n",
              "\t<tr><td>NA        </td><td>NA </td><td>NA </td><td>NA </td><td>NA </td><td>NA </td><td>NA </td><td>NA                                             </td><td>09/04/2020</td><td>NA </td><td>⋯</td><td>NA                                      </td><td>28/04/2020</td><td>47</td><td>NA                      </td><td>NA      </td><td>MASCULINO</td><td>BAHIA</td><td>FEIRA DE SANTANA    </td><td>NA     </td><td>COVID-19</td></tr>\n",
              "\t<tr><td>20/04/2020</td><td>NAO</td><td>NAO</td><td>NAO</td><td>NAO</td><td>SIM</td><td>NAO</td><td>IRRITACAO NA GARGANTA                          </td><td>09/04/2020</td><td>NA </td><td>⋯</td><td>NA                                      </td><td>22/04/2020</td><td>47</td><td>RT-PCR                  </td><td>NEGATIVO</td><td>MASCULINO</td><td>BAHIA</td><td>FEIRA DE SANTANA    </td><td>PARDA  </td><td>COVID-19</td></tr>\n",
              "\t<tr><td>12/06/2020</td><td>SIM</td><td>NAO</td><td>SIM</td><td>SIM</td><td>NAO</td><td>NAO</td><td>NA                                             </td><td>30/05/2020</td><td>NAO</td><td>⋯</td><td>NA                                      </td><td>12/06/2020</td><td>42</td><td>TESTE RAPIDO - ANTICORPO</td><td>NEGATIVO</td><td>MASCULINO</td><td>BAHIA</td><td>EUNAPOLIS           </td><td>PARDA  </td><td>COVID-19</td></tr>\n",
              "\t<tr><td>22/05/2020</td><td>SIM</td><td>NAO</td><td>NAO</td><td>SIM</td><td>NAO</td><td>SIM</td><td>NA                                             </td><td>14/05/2020</td><td>NAO</td><td>⋯</td><td>2235 - ENFERMEIRO                       </td><td>22/05/2020</td><td>35</td><td>TESTE RAPIDO - ANTICORPO</td><td>NEGATIVO</td><td>FEMININO </td><td>BAHIA</td><td>SALVADOR            </td><td>PARDA  </td><td>COVID-19</td></tr>\n",
              "\t<tr><td>30/05/2020</td><td>NAO</td><td>SIM</td><td>NAO</td><td>SIM</td><td>NAO</td><td>SIM</td><td>NA                                             </td><td>28/05/2020</td><td>NAO</td><td>⋯</td><td>2232 - CIRURGIAO-DENTISTA               </td><td>NA        </td><td>24</td><td>NA                      </td><td>NA      </td><td>FEMININO </td><td>BAHIA</td><td>DIAS D'AVILA        </td><td>AMARELA</td><td>COVID-19</td></tr>\n",
              "\t<tr><td>NA        </td><td>NA </td><td>NA </td><td>NA </td><td>NA </td><td>NA </td><td>NA </td><td>NA                                             </td><td>22/03/2020</td><td>NA </td><td>⋯</td><td>NA                                      </td><td>30/03/2020</td><td>18</td><td>RT-PCR EM TEMPO REAL    </td><td>NEGATIVO</td><td>FEMININO </td><td>BAHIA</td><td>GUANAMBI            </td><td>NA     </td><td>COVID-19</td></tr>\n",
              "\t<tr><td>20/06/2020</td><td>NAO</td><td>SIM</td><td>NAO</td><td>SIM</td><td>NAO</td><td>NAO</td><td>NA                                             </td><td>17/06/2020</td><td>NAO</td><td>⋯</td><td>NA                                      </td><td>NA        </td><td>29</td><td>NA                      </td><td>NA      </td><td>FEMININO </td><td>BAHIA</td><td>CAMACARI            </td><td>PRETA  </td><td>COVID-19</td></tr>\n",
              "\t<tr><td>22/05/2020</td><td>SIM</td><td>SIM</td><td>SIM</td><td>SIM</td><td>SIM</td><td>NAO</td><td>DIARREIA                                       </td><td>19/05/2020</td><td>NAO</td><td>⋯</td><td>NA                                      </td><td>22/05/2020</td><td>42</td><td>RT-PCR                  </td><td>NEGATIVO</td><td>MASCULINO</td><td>BAHIA</td><td>SALVADOR            </td><td>BRANCA </td><td>COVID-19</td></tr>\n",
              "</tbody>\n",
              "</table>\n"
            ],
            "text/markdown": "\nA tibble: 5837 × 29\n\n| DATA DA NOTIFICACAO &lt;chr&gt; | DOR DE GARGANTA &lt;chr&gt; | DISPNEIA &lt;chr&gt; | FEBRE &lt;chr&gt; | TOSSE &lt;chr&gt; | OUTROS &lt;chr&gt; | E PROFISSIONAL DE SAUDE? &lt;chr&gt; | DESCRICAO DO SINTOMA &lt;chr&gt; | DATA DO INICIO DOS SINTOMAS &lt;chr&gt; | DOENCAS RESPIRATORIAS CRONICAS DESCOMPENSADAS &lt;chr&gt; | ⋯ ⋯ | CBO &lt;chr&gt; | DATA DA COLETA DO TESTE &lt;chr&gt; | IDADE EM ANOS &lt;chr&gt; | TIPO DE TESTE &lt;chr&gt; | RESULTADO DO TESTE &lt;chr&gt; | SEXO &lt;chr&gt; | ESTADO DE RESIDENCIA &lt;chr&gt; | MUNICIPIO DE RESIDENCIA &lt;chr&gt; | RACA/COR &lt;chr&gt; | EPIDEMIA &lt;chr&gt; |\n|---|---|---|---|---|---|---|---|---|---|---|---|---|---|---|---|---|---|---|---|---|\n| 07/06/2020 | SIM | NAO | NAO | NAO | NAO | SIM | NA                                                                                          | 03/06/2020 | NAO | ⋯ | 3241 - TECNOLOGO OU TECNICO EM METODOS DE DIGANOSTICO E TERAPEUTICA | 07/06/2020 | 31 | RT-PCR EM TEMPO REAL     | NEGATIVO | FEMININO  | BAHIA | FEIRA DE SANTANA     | INDIGENA | COVID-19 |\n| 05/06/2020 | NAO | NAO | SIM | NAO | SIM | NAO | DOR TORACICA                                                                                | 01/06/2020 | NAO | ⋯ | NA                                                                  | NA         | 40 | NA                       | NA       | FEMININO  | BAHIA | SALVADOR             | PARDA    | COVID-19 |\n| 16/06/2020 | SIM | NAO | NAO | SIM | SIM | SIM | CEFALEIA                                                                                    | 15/06/2020 | NAO | ⋯ | 3516 - TECNICO DE SEGURANCA NO TRABALHO OU HIGIENE OCUPACIONAL      | NA         | 36 | RT-PCR EM TEMPO REAL     | NEGATIVO | FEMININO  | BAHIA | OUTRO ESTADO         | PRETA    | COVID-19 |\n| 30/06/2020 | NAO | NAO | NAO | NAO | SIM | NAO | CEFALEIA                                                                                    | 30/06/2020 | NAO | ⋯ | NA                                                                  | 30/06/2020 | 34 | RT-PCR EM TEMPO REAL     | POSITIVO | FEMININO  | BAHIA | MADRE DE DEUS        | PARDA    | COVID-19 |\n| 27/05/2020 | NAO | NAO | NAO | NAO | SIM | NAO | ASSINTOMATICA CONTATO COM CASO POSITIVO                                                     | 25/05/2020 | NAO | ⋯ | NA                                                                  | 25/05/2020 | 50 | TESTE RAPIDO - ANTICORPO | POSITIVO | FEMININO  | BAHIA | CANDIDO SALES        | AMARELA  | COVID-19 |\n| 17/04/2020 | NAO | NAO | NAO | SIM | NAO | NAO | NA                                                                                          | 13/04/2020 | NAO | ⋯ | NA                                                                  | NA         | 45 | NA                       | NA       | FEMININO  | BAHIA | ITORORO              | PARDA    | COVID-19 |\n| 20/05/2020 | NAO | NAO | NAO | NAO | SIM | SIM | CEFALEIA, ANOSMIA, DOR NO PEITO                                                             | 12/05/2020 | NAO | ⋯ | ENFERMEIRO                                                          | 19/05/2020 | 36 | TESTE RAPIDO - ANTICORPO | POSITIVO | FEMININO  | BAHIA | SIMOES FILHO         | BRANCA   | COVID-19 |\n| 14/04/2020 | SIM | NAO | SIM | NAO | SIM | NAO | DORES NO CORPO,CEFALEIA                                                                     | 13/04/2020 | NAO | ⋯ | NA                                                                  | NA         | 22 | NA                       | NA       | FEMININO  | BAHIA | SALVADOR             | NA       | COVID-19 |\n| 20/06/2020 | NAO | NAO | NAO | NAO | SIM | NAO | ASSINTOMATICO                                                                               | 19/05/2020 | NAO | ⋯ | NA                                                                  | NA         | 23 | NA                       | NA       | FEMININO  | BAHIA | SALVADOR             | AMARELA  | COVID-19 |\n| 10/06/2020 | NAO | NAO | NAO | NAO | SIM | NAO | MIALGIA,CEFALEIA,CORIZA                                                                     | 01/06/2020 | NAO | ⋯ | NA                                                                  | 09/06/2020 | 34 | TESTE RAPIDO - ANTICORPO | NEGATIVO | FEMININO  | BAHIA | IRARA                | PARDA    | COVID-19 |\n| 20/03/2020 | NAO | NAO | NAO | SIM | SIM | NAO | DIARREIA/DIFICULDADE DE RESPIRAR/DOR NO CORPO                                               | 17/03/2020 | NAO | ⋯ | NA                                                                  | NA         | 19 | NA                       | NA       | FEMININO  | BAHIA | ILHEUS               | NA       | COVID-19 |\n| 25/05/2020 | NAO | NAO | NAO | NAO | SIM | NAO | SEM SINTOMAS                                                                                | 20/05/2020 | NAO | ⋯ | NA                                                                  | 22/05/2020 | 29 | NA                       | NA       | FEMININO  | BAHIA | SALVADOR             | NA       | COVID-19 |\n| 26/06/2020 | NAO | NAO | NAO | NAO | SIM | NAO | ASSITOMATICO                                                                                | 26/06/2020 | SIM | ⋯ | NA                                                                  | 26/06/2020 | 19 | TESTE RAPIDO - ANTICORPO | NEGATIVO | FEMININO  | BAHIA | IPIAU                | PRETA    | COVID-19 |\n| 27/05/2020 | NAO | NAO | NAO | NAO | SIM | NAO | SEM SINTOMAS                                                                                | 27/05/2020 | NAO | ⋯ | NA                                                                  | 04/05/2020 | 26 | RT-PCR                   | POSITIVO | FEMININO  | BAHIA | SALVADOR             | PRETA    | COVID-19 |\n| 27/06/2020 | NAO | NAO | NAO | NAO | SIM | NAO | ASSINTOMATICO                                                                               | 25/06/2020 | NAO | ⋯ | NA                                                                  | NA         | 14 | RT-PCR                   | POSITIVO | FEMININO  | BAHIA | SALVADOR             | PARDA    | COVID-19 |\n| 13/04/2020 | NAO | NAO | NAO | SIM | NAO | NAO | NA                                                                                          | 08/04/2020 | NAO | ⋯ | NA                                                                  | 13/04/2020 | 33 | NA                       | NA       | MASCULINO | BAHIA | SALVADOR             | NA       | COVID-19 |\n| 20/03/2020 | NAO | NAO | NAO | NAO | SIM | NAO | CORIZA CEFALEIA (DOR DE CABECA)                                                             | 16/03/2020 | NAO | ⋯ | NA                                                                  | NA         | 65 | NA                       | NA       | FEMININO  | BAHIA | VITORIA DA CONQUISTA | PARDA    | COVID-19 |\n| 03/07/2020 | NAO | NAO | NAO | NAO | SIM | NA  | NA                                                                                          | NA         | NAO | ⋯ | NA                                                                  | 26/06/2020 | 36 | TESTE RAPIDO - ANTICORPO | NEGATIVO | MASCULINO | BAHIA | SALVADOR             | NA       | COVID-19 |\n| 31/05/2020 | NAO | NAO | NAO | SIM | SIM | NAO | DESCONFORTO RESPIRATORIO                                                                    | 29/05/2020 | NAO | ⋯ | NA                                                                  | 31/05/2020 | 81 | RT-PCR                   | POSITIVO | MASCULINO | BAHIA | SALVADOR             | NA       | COVID-19 |\n| 03/07/2020 | NAO | NAO | NAO | NAO | SIM | NAO | ASSINTOMATICO                                                                               | 15/06/2020 | NAO | ⋯ | NA                                                                  | 23/06/2020 | 35 | TESTE RAPIDO - ANTIGENO  | POSITIVO | FEMININO  | BAHIA | SALVADOR             | PARDA    | COVID-19 |\n| 14/04/2020 | NAO | NAO | NAO | NAO | SIM | SIM | CEFALEIA, PERDA DO PALADAR E OLFATO                                                         | 13/04/2020 | NAO | ⋯ | OUTROS                                                              | 16/04/2020 | 32 | RT-PCR                   | NEGATIVO | FEMININO  | BAHIA | FEIRA DE SANTANA     | NA       | COVID-19 |\n| 18/06/2020 | NAO | NAO | NAO | NAO | SIM | NAO | SEM SINTOMAS                                                                                | 17/06/2020 | NAO | ⋯ | NA                                                                  | 17/06/2020 | 26 | TESTE RAPIDO - ANTICORPO | NEGATIVO | FEMININO  | BAHIA | SALVADOR             | PARDA    | COVID-19 |\n| 25/06/2020 | NAO | SIM | NAO | SIM | SIM | NAO | PERDA DE OLFATO                                                                             | 22/06/2020 | NAO | ⋯ | NA                                                                  | 22/06/2020 | 17 | TESTE RAPIDO - ANTICORPO | NEGATIVO | FEMININO  | BAHIA | PORTO SEGURO         | PARDA    | COVID-19 |\n| 01/07/2020 | NAO | NAO | SIM | NAO | SIM | NAO | CALAFRIOS , DOR ABDOMINAL E CONTATO COM PACIENTE POSITIVO PARA COVID19 E E PERDA DO PALADAR | 28/06/2020 | NAO | ⋯ | NA                                                                  | 01/07/2020 | 47 | RT-PCR EM TEMPO REAL     | NEGATIVO | FEMININO  | BAHIA | SALVADOR             | PARDA    | COVID-19 |\n| 15/06/2020 | NAO | NAO | NAO | NAO | SIM | SIM | ASSINTOMATICO                                                                               | 15/06/2020 | NAO | ⋯ | 239 - OUTROS PROFISSIONAIS DE ENSINO                                | 15/06/2020 | 31 | TESTE RAPIDO - ANTICORPO | NEGATIVO | FEMININO  | BAHIA | ABAIRA               | PARDA    | COVID-19 |\n| 26/06/2020 | NAO | NAO | SIM | SIM | SIM | NAO | MIALGIA, DOR ABDOMINAL, CEFALEIA                                                            | 22/06/2020 | NAO | ⋯ | NA                                                                  | NA         | 40 | NA                       | NA       | FEMININO  | BAHIA | PORTO SEGURO         | PARDA    | COVID-19 |\n| 28/04/2020 | NA  | NA  | NA  | NA  | NA  | NA  | DOR NO CORPO                                                                                | 04/03/2020 | NA  | ⋯ | NA                                                                  | 07/03/2020 | 49 | RT-PCR                   | NEGATIVO | FEMININO  | BAHIA | SALVADOR             | NA       | COVID-19 |\n| 22/04/2020 | NAO | SIM | SIM | SIM | SIM | NAO | DOR NO CORPO                                                                                | 20/04/2020 | NA  | ⋯ | NA                                                                  | 22/04/2020 | 31 | RT-PCR                   | NEGATIVO | MASCULINO | BAHIA | FEIRA DE SANTANA     | PARDA    | COVID-19 |\n| 04/06/2020 | NAO | SIM | NAO | SIM | NAO | NAO | NA                                                                                          | 26/05/2020 | NAO | ⋯ | NA                                                                  | NA         | 60 | TESTE RAPIDO - ANTICORPO | NEGATIVO | MASCULINO | BAHIA | IPIAU                | AMARELA  | COVID-19 |\n| 24/04/2020 | NAO | NAO | NAO | NAO | SIM | NAO | CEFALEIA, MIALGIA, DIARREIA,CORIZA, TONTURA                                                 | 22/04/2020 | NAO | ⋯ | NA                                                                  | 22/04/2020 | 25 | RT-PCR                   | POSITIVO | MASCULINO | BAHIA | ITABELA              | NA       | COVID-19 |\n| ⋮ | ⋮ | ⋮ | ⋮ | ⋮ | ⋮ | ⋮ | ⋮ | ⋮ | ⋮ | ⋱ | ⋮ | ⋮ | ⋮ | ⋮ | ⋮ | ⋮ | ⋮ | ⋮ | ⋮ | ⋮ |\n| 21/03/2020 | SIM | NAO | NAO | NAO | NAO | NAO | NA                                              | 19/03/2020 | NAO | ⋯ | NA                                       | NA         | 27 | TESTE RAPIDO - ANTICORPO | NEGATIVO | MASCULINO | BAHIA | VITORIA DA CONQUISTA | AMARELA | COVID-19 |\n| 25/04/2020 | SIM | SIM | SIM | NAO | NAO | NAO | NA                                              | 24/04/2020 | NA  | ⋯ | NA                                       | 06/05/2020 | 22 | TESTE RAPIDO - ANTICORPO | NEGATIVO | MASCULINO | BAHIA | BARRO PRETO          | PARDA   | COVID-19 |\n| 24/06/2020 | NAO | NAO | NAO | NAO | SIM | NAO | ESTUDANTE DO ESTADO                             | 24/06/2020 | NAO | ⋯ | NA                                       | NA         | 17 | NA                       | NA       | MASCULINO | BAHIA | URUCUCA              | AMARELA | COVID-19 |\n| 04/06/2020 | SIM | NAO | SIM | SIM | SIM | NAO | CEFALEIA                                        | 08/05/2020 | NAO | ⋯ | NA                                       | 04/06/2020 | 15 | TESTE RAPIDO - ANTICORPO | NEGATIVO | MASCULINO | BAHIA | MARAU                | AMARELA | COVID-19 |\n| 22/06/2020 | NAO | NAO | NAO | NAO | SIM | NAO | ASSINTOMATICO                                   | 22/06/2020 | NAO | ⋯ | NA                                       | 22/06/2020 | 24 | TESTE RAPIDO - ANTICORPO | NEGATIVO | MASCULINO | BAHIA | GUANAMBI             | AMARELA | COVID-19 |\n| 10/06/2020 | NAO | NAO | SIM | NAO | SIM | NAO | ANORREIA + MIOLGIA                              | 01/06/2020 | NAO | ⋯ | NA                                       | NA         | 34 | NA                       | NA       | FEMININO  | BAHIA | SALVADOR             | NA      | COVID-19 |\n| 16/06/2020 | NAO | SIM | NAO | SIM | NAO | SIM | NA                                              | 11/06/2020 | SIM | ⋯ | 766420 - AUXILIAR DE RADIOLOGIA          | NA         | 41 | RT-PCR EM TEMPO REAL     | NEGATIVO | FEMININO  | BAHIA | VITORIA DA CONQUISTA | PARDA   | COVID-19 |\n| 20/05/2020 | NAO | NAO | NAO | NAO | SIM | SIM | ASSINTOMATICA/CONTATO DE CASO POSITIVO          | 20/05/2020 | NAO | ⋯ | 3222 - TECNICO OU AUXILIAR EM ENFERMAGEM | 20/05/2020 | 34 | NA                       | NA       | FEMININO  | BAHIA | NOVA VICOSA          | PARDA   | COVID-19 |\n| 24/06/2020 | NA  | NA  | NA  | NA  | NA  | NA  | NA                                              | 19/06/2020 | NA  | ⋯ | NA                                       | 24/06/2020 | 46 | RT-PCR EM TEMPO REAL     | POSITIVO | FEMININO  | BAHIA | ITABUNA              | PARDA   | COVID-19 |\n| 14/04/2020 | NAO | NAO | NAO | SIM | NAO | NAO | NA                                              | 13/04/2020 | NAO | ⋯ | NA                                       | NA         | 7  | NA                       | NA       | MASCULINO | BAHIA | MACURURE             | NA      | COVID-19 |\n| 25/06/2020 | NAO | NAO | NAO | NAO | SIM | NAO | ALUNO DO ESTADO                                 | 25/06/2020 | NAO | ⋯ | NA                                       | NA         | 15 | NA                       | NA       | MASCULINO | BAHIA | URUCUCA              | PARDA   | COVID-19 |\n| 03/07/2020 | SIM | NAO | SIM | NAO | NAO | NAO | NA                                              | 01/07/2020 | NAO | ⋯ | NA                                       | NA         | 5  | NA                       | NA       | MASCULINO | BAHIA | CAMACARI             | PARDA   | COVID-19 |\n| 22/06/2020 | SIM | SIM | SIM | SIM | NAO | NAO | NA                                              | 19/06/2020 | NAO | ⋯ | NA                                       | NA         | 17 | RT-PCR                   | NEGATIVO | FEMININO  | BAHIA | PAULO AFONSO         | PARDA   | COVID-19 |\n| 29/05/2020 | NAO | NAO | NAO | NAO | SIM | NAO | NAO INFORMADO                                   | 14/05/2020 | NAO | ⋯ | NA                                       | 14/05/2020 | 22 | RT-PCR EM TEMPO REAL     | POSITIVO | FEMININO  | BAHIA | ILHEUS               | PARDA   | COVID-19 |\n| 17/06/2020 | NAO | NAO | NAO | NAO | SIM | SIM | ASSINTOMATICA                                   | 15/06/2020 | NAO | ⋯ | 4221 - RECEPCIONISTA                     | 15/02/2020 | 31 | TESTE RAPIDO - ANTICORPO | NEGATIVO | FEMININO  | BAHIA | IGAPORA              | BRANCA  | COVID-19 |\n| 29/06/2020 | NAO | NAO | NAO | NAO | SIM | NAO | ASSINTOMATICA / CONTATO CASO POSITIVO           | 16/06/2020 | NAO | ⋯ | NA                                       | 29/06/2020 | 44 | TESTE RAPIDO - ANTICORPO | NEGATIVO | FEMININO  | BAHIA | RIACHAO DO JACUIPE   | PRETA   | COVID-19 |\n| 14/06/2020 | NAO | NAO | NAO | NAO | SIM | NAO | ASSINTOMATICO                                   | 10/06/2020 | NAO | ⋯ | NA                                       | 10/06/2020 | 37 | TESTE RAPIDO - ANTICORPO | NEGATIVO | FEMININO  | BAHIA | FILADELFIA           | PARDA   | COVID-19 |\n| 25/06/2020 | NAO | NAO | NAO | SIM | NAO | NAO | NA                                              | 24/06/2020 | NAO | ⋯ | NA                                       | 23/06/2020 | 34 | RT-PCR EM TEMPO REAL     | NEGATIVO | FEMININO  | BAHIA | SALVADOR             | PARDA   | COVID-19 |\n| 24/06/2020 | NAO | NAO | NAO | NAO | SIM | SIM | ASSINTOMATICO                                   | 24/06/2020 | NAO | ⋯ | 515105 - AGENTE COMUNITARIO DE SAUDE     | 24/06/2020 | 37 | TESTE RAPIDO - ANTICORPO | NEGATIVO | FEMININO  | BAHIA | CAMPO FORMOSO        | PARDA   | COVID-19 |\n| 25/06/2020 | NAO | NAO | NAO | NAO | SIM | NAO | PERDA DE OLFATO E PERDA PALADAR E TOSSE         | 18/06/2020 | NAO | ⋯ | NA                                       | 20/06/2020 | 40 | RT-PCR                   | POSITIVO | FEMININO  | BAHIA | SALVADOR             | PARDA   | COVID-19 |\n| 20/04/2020 | SIM | NAO | SIM | NAO | SIM | NAO | DIFICULDADE DE RESPIRAR,CEFALEIA,CONGESTAO NASA | 19/04/2020 | NAO | ⋯ | NA                                       | 20/04/2020 | 36 | RT-PCR                   | NEGATIVO | MASCULINO | BAHIA | FEIRA DE SANTANA     | NA      | COVID-19 |\n| 25/05/2020 | NAO | NAO | SIM | NAO | SIM | NAO | MIALGIA, ARTRALGIA E CEFALEIA.                  | 19/05/2020 | NAO | ⋯ | NA                                       | NA         | 35 | NA                       | NA       | MASCULINO | BAHIA | VITORIA DA CONQUISTA | PARDA   | COVID-19 |\n| NA         | NA  | NA  | NA  | NA  | NA  | NA  | NA                                              | 09/04/2020 | NA  | ⋯ | NA                                       | 28/04/2020 | 47 | NA                       | NA       | MASCULINO | BAHIA | FEIRA DE SANTANA     | NA      | COVID-19 |\n| 20/04/2020 | NAO | NAO | NAO | NAO | SIM | NAO | IRRITACAO NA GARGANTA                           | 09/04/2020 | NA  | ⋯ | NA                                       | 22/04/2020 | 47 | RT-PCR                   | NEGATIVO | MASCULINO | BAHIA | FEIRA DE SANTANA     | PARDA   | COVID-19 |\n| 12/06/2020 | SIM | NAO | SIM | SIM | NAO | NAO | NA                                              | 30/05/2020 | NAO | ⋯ | NA                                       | 12/06/2020 | 42 | TESTE RAPIDO - ANTICORPO | NEGATIVO | MASCULINO | BAHIA | EUNAPOLIS            | PARDA   | COVID-19 |\n| 22/05/2020 | SIM | NAO | NAO | SIM | NAO | SIM | NA                                              | 14/05/2020 | NAO | ⋯ | 2235 - ENFERMEIRO                        | 22/05/2020 | 35 | TESTE RAPIDO - ANTICORPO | NEGATIVO | FEMININO  | BAHIA | SALVADOR             | PARDA   | COVID-19 |\n| 30/05/2020 | NAO | SIM | NAO | SIM | NAO | SIM | NA                                              | 28/05/2020 | NAO | ⋯ | 2232 - CIRURGIAO-DENTISTA                | NA         | 24 | NA                       | NA       | FEMININO  | BAHIA | DIAS D'AVILA         | AMARELA | COVID-19 |\n| NA         | NA  | NA  | NA  | NA  | NA  | NA  | NA                                              | 22/03/2020 | NA  | ⋯ | NA                                       | 30/03/2020 | 18 | RT-PCR EM TEMPO REAL     | NEGATIVO | FEMININO  | BAHIA | GUANAMBI             | NA      | COVID-19 |\n| 20/06/2020 | NAO | SIM | NAO | SIM | NAO | NAO | NA                                              | 17/06/2020 | NAO | ⋯ | NA                                       | NA         | 29 | NA                       | NA       | FEMININO  | BAHIA | CAMACARI             | PRETA   | COVID-19 |\n| 22/05/2020 | SIM | SIM | SIM | SIM | SIM | NAO | DIARREIA                                        | 19/05/2020 | NAO | ⋯ | NA                                       | 22/05/2020 | 42 | RT-PCR                   | NEGATIVO | MASCULINO | BAHIA | SALVADOR             | BRANCA  | COVID-19 |\n\n",
            "text/latex": "A tibble: 5837 × 29\n\\begin{tabular}{lllllllllllllllllllll}\n DATA DA NOTIFICACAO & DOR DE GARGANTA & DISPNEIA & FEBRE & TOSSE & OUTROS & E PROFISSIONAL DE SAUDE? & DESCRICAO DO SINTOMA & DATA DO INICIO DOS SINTOMAS & DOENCAS RESPIRATORIAS CRONICAS DESCOMPENSADAS & ⋯ & CBO & DATA DA COLETA DO TESTE & IDADE EM ANOS & TIPO DE TESTE & RESULTADO DO TESTE & SEXO & ESTADO DE RESIDENCIA & MUNICIPIO DE RESIDENCIA & RACA/COR & EPIDEMIA\\\\\n <chr> & <chr> & <chr> & <chr> & <chr> & <chr> & <chr> & <chr> & <chr> & <chr> & ⋯ & <chr> & <chr> & <chr> & <chr> & <chr> & <chr> & <chr> & <chr> & <chr> & <chr>\\\\\n\\hline\n\t 07/06/2020 & SIM & NAO & NAO & NAO & NAO & SIM & NA                                                                                          & 03/06/2020 & NAO & ⋯ & 3241 - TECNOLOGO OU TECNICO EM METODOS DE DIGANOSTICO E TERAPEUTICA & 07/06/2020 & 31 & RT-PCR EM TEMPO REAL     & NEGATIVO & FEMININO  & BAHIA & FEIRA DE SANTANA     & INDIGENA & COVID-19\\\\\n\t 05/06/2020 & NAO & NAO & SIM & NAO & SIM & NAO & DOR TORACICA                                                                                & 01/06/2020 & NAO & ⋯ & NA                                                                  & NA         & 40 & NA                       & NA       & FEMININO  & BAHIA & SALVADOR             & PARDA    & COVID-19\\\\\n\t 16/06/2020 & SIM & NAO & NAO & SIM & SIM & SIM & CEFALEIA                                                                                    & 15/06/2020 & NAO & ⋯ & 3516 - TECNICO DE SEGURANCA NO TRABALHO OU HIGIENE OCUPACIONAL      & NA         & 36 & RT-PCR EM TEMPO REAL     & NEGATIVO & FEMININO  & BAHIA & OUTRO ESTADO         & PRETA    & COVID-19\\\\\n\t 30/06/2020 & NAO & NAO & NAO & NAO & SIM & NAO & CEFALEIA                                                                                    & 30/06/2020 & NAO & ⋯ & NA                                                                  & 30/06/2020 & 34 & RT-PCR EM TEMPO REAL     & POSITIVO & FEMININO  & BAHIA & MADRE DE DEUS        & PARDA    & COVID-19\\\\\n\t 27/05/2020 & NAO & NAO & NAO & NAO & SIM & NAO & ASSINTOMATICA CONTATO COM CASO POSITIVO                                                     & 25/05/2020 & NAO & ⋯ & NA                                                                  & 25/05/2020 & 50 & TESTE RAPIDO - ANTICORPO & POSITIVO & FEMININO  & BAHIA & CANDIDO SALES        & AMARELA  & COVID-19\\\\\n\t 17/04/2020 & NAO & NAO & NAO & SIM & NAO & NAO & NA                                                                                          & 13/04/2020 & NAO & ⋯ & NA                                                                  & NA         & 45 & NA                       & NA       & FEMININO  & BAHIA & ITORORO              & PARDA    & COVID-19\\\\\n\t 20/05/2020 & NAO & NAO & NAO & NAO & SIM & SIM & CEFALEIA, ANOSMIA, DOR NO PEITO                                                             & 12/05/2020 & NAO & ⋯ & ENFERMEIRO                                                          & 19/05/2020 & 36 & TESTE RAPIDO - ANTICORPO & POSITIVO & FEMININO  & BAHIA & SIMOES FILHO         & BRANCA   & COVID-19\\\\\n\t 14/04/2020 & SIM & NAO & SIM & NAO & SIM & NAO & DORES NO CORPO,CEFALEIA                                                                     & 13/04/2020 & NAO & ⋯ & NA                                                                  & NA         & 22 & NA                       & NA       & FEMININO  & BAHIA & SALVADOR             & NA       & COVID-19\\\\\n\t 20/06/2020 & NAO & NAO & NAO & NAO & SIM & NAO & ASSINTOMATICO                                                                               & 19/05/2020 & NAO & ⋯ & NA                                                                  & NA         & 23 & NA                       & NA       & FEMININO  & BAHIA & SALVADOR             & AMARELA  & COVID-19\\\\\n\t 10/06/2020 & NAO & NAO & NAO & NAO & SIM & NAO & MIALGIA,CEFALEIA,CORIZA                                                                     & 01/06/2020 & NAO & ⋯ & NA                                                                  & 09/06/2020 & 34 & TESTE RAPIDO - ANTICORPO & NEGATIVO & FEMININO  & BAHIA & IRARA                & PARDA    & COVID-19\\\\\n\t 20/03/2020 & NAO & NAO & NAO & SIM & SIM & NAO & DIARREIA/DIFICULDADE DE RESPIRAR/DOR NO CORPO                                               & 17/03/2020 & NAO & ⋯ & NA                                                                  & NA         & 19 & NA                       & NA       & FEMININO  & BAHIA & ILHEUS               & NA       & COVID-19\\\\\n\t 25/05/2020 & NAO & NAO & NAO & NAO & SIM & NAO & SEM SINTOMAS                                                                                & 20/05/2020 & NAO & ⋯ & NA                                                                  & 22/05/2020 & 29 & NA                       & NA       & FEMININO  & BAHIA & SALVADOR             & NA       & COVID-19\\\\\n\t 26/06/2020 & NAO & NAO & NAO & NAO & SIM & NAO & ASSITOMATICO                                                                                & 26/06/2020 & SIM & ⋯ & NA                                                                  & 26/06/2020 & 19 & TESTE RAPIDO - ANTICORPO & NEGATIVO & FEMININO  & BAHIA & IPIAU                & PRETA    & COVID-19\\\\\n\t 27/05/2020 & NAO & NAO & NAO & NAO & SIM & NAO & SEM SINTOMAS                                                                                & 27/05/2020 & NAO & ⋯ & NA                                                                  & 04/05/2020 & 26 & RT-PCR                   & POSITIVO & FEMININO  & BAHIA & SALVADOR             & PRETA    & COVID-19\\\\\n\t 27/06/2020 & NAO & NAO & NAO & NAO & SIM & NAO & ASSINTOMATICO                                                                               & 25/06/2020 & NAO & ⋯ & NA                                                                  & NA         & 14 & RT-PCR                   & POSITIVO & FEMININO  & BAHIA & SALVADOR             & PARDA    & COVID-19\\\\\n\t 13/04/2020 & NAO & NAO & NAO & SIM & NAO & NAO & NA                                                                                          & 08/04/2020 & NAO & ⋯ & NA                                                                  & 13/04/2020 & 33 & NA                       & NA       & MASCULINO & BAHIA & SALVADOR             & NA       & COVID-19\\\\\n\t 20/03/2020 & NAO & NAO & NAO & NAO & SIM & NAO & CORIZA CEFALEIA (DOR DE CABECA)                                                             & 16/03/2020 & NAO & ⋯ & NA                                                                  & NA         & 65 & NA                       & NA       & FEMININO  & BAHIA & VITORIA DA CONQUISTA & PARDA    & COVID-19\\\\\n\t 03/07/2020 & NAO & NAO & NAO & NAO & SIM & NA  & NA                                                                                          & NA         & NAO & ⋯ & NA                                                                  & 26/06/2020 & 36 & TESTE RAPIDO - ANTICORPO & NEGATIVO & MASCULINO & BAHIA & SALVADOR             & NA       & COVID-19\\\\\n\t 31/05/2020 & NAO & NAO & NAO & SIM & SIM & NAO & DESCONFORTO RESPIRATORIO                                                                    & 29/05/2020 & NAO & ⋯ & NA                                                                  & 31/05/2020 & 81 & RT-PCR                   & POSITIVO & MASCULINO & BAHIA & SALVADOR             & NA       & COVID-19\\\\\n\t 03/07/2020 & NAO & NAO & NAO & NAO & SIM & NAO & ASSINTOMATICO                                                                               & 15/06/2020 & NAO & ⋯ & NA                                                                  & 23/06/2020 & 35 & TESTE RAPIDO - ANTIGENO  & POSITIVO & FEMININO  & BAHIA & SALVADOR             & PARDA    & COVID-19\\\\\n\t 14/04/2020 & NAO & NAO & NAO & NAO & SIM & SIM & CEFALEIA, PERDA DO PALADAR E OLFATO                                                         & 13/04/2020 & NAO & ⋯ & OUTROS                                                              & 16/04/2020 & 32 & RT-PCR                   & NEGATIVO & FEMININO  & BAHIA & FEIRA DE SANTANA     & NA       & COVID-19\\\\\n\t 18/06/2020 & NAO & NAO & NAO & NAO & SIM & NAO & SEM SINTOMAS                                                                                & 17/06/2020 & NAO & ⋯ & NA                                                                  & 17/06/2020 & 26 & TESTE RAPIDO - ANTICORPO & NEGATIVO & FEMININO  & BAHIA & SALVADOR             & PARDA    & COVID-19\\\\\n\t 25/06/2020 & NAO & SIM & NAO & SIM & SIM & NAO & PERDA DE OLFATO                                                                             & 22/06/2020 & NAO & ⋯ & NA                                                                  & 22/06/2020 & 17 & TESTE RAPIDO - ANTICORPO & NEGATIVO & FEMININO  & BAHIA & PORTO SEGURO         & PARDA    & COVID-19\\\\\n\t 01/07/2020 & NAO & NAO & SIM & NAO & SIM & NAO & CALAFRIOS , DOR ABDOMINAL E CONTATO COM PACIENTE POSITIVO PARA COVID19 E E PERDA DO PALADAR & 28/06/2020 & NAO & ⋯ & NA                                                                  & 01/07/2020 & 47 & RT-PCR EM TEMPO REAL     & NEGATIVO & FEMININO  & BAHIA & SALVADOR             & PARDA    & COVID-19\\\\\n\t 15/06/2020 & NAO & NAO & NAO & NAO & SIM & SIM & ASSINTOMATICO                                                                               & 15/06/2020 & NAO & ⋯ & 239 - OUTROS PROFISSIONAIS DE ENSINO                                & 15/06/2020 & 31 & TESTE RAPIDO - ANTICORPO & NEGATIVO & FEMININO  & BAHIA & ABAIRA               & PARDA    & COVID-19\\\\\n\t 26/06/2020 & NAO & NAO & SIM & SIM & SIM & NAO & MIALGIA, DOR ABDOMINAL, CEFALEIA                                                            & 22/06/2020 & NAO & ⋯ & NA                                                                  & NA         & 40 & NA                       & NA       & FEMININO  & BAHIA & PORTO SEGURO         & PARDA    & COVID-19\\\\\n\t 28/04/2020 & NA  & NA  & NA  & NA  & NA  & NA  & DOR NO CORPO                                                                                & 04/03/2020 & NA  & ⋯ & NA                                                                  & 07/03/2020 & 49 & RT-PCR                   & NEGATIVO & FEMININO  & BAHIA & SALVADOR             & NA       & COVID-19\\\\\n\t 22/04/2020 & NAO & SIM & SIM & SIM & SIM & NAO & DOR NO CORPO                                                                                & 20/04/2020 & NA  & ⋯ & NA                                                                  & 22/04/2020 & 31 & RT-PCR                   & NEGATIVO & MASCULINO & BAHIA & FEIRA DE SANTANA     & PARDA    & COVID-19\\\\\n\t 04/06/2020 & NAO & SIM & NAO & SIM & NAO & NAO & NA                                                                                          & 26/05/2020 & NAO & ⋯ & NA                                                                  & NA         & 60 & TESTE RAPIDO - ANTICORPO & NEGATIVO & MASCULINO & BAHIA & IPIAU                & AMARELA  & COVID-19\\\\\n\t 24/04/2020 & NAO & NAO & NAO & NAO & SIM & NAO & CEFALEIA, MIALGIA, DIARREIA,CORIZA, TONTURA                                                 & 22/04/2020 & NAO & ⋯ & NA                                                                  & 22/04/2020 & 25 & RT-PCR                   & POSITIVO & MASCULINO & BAHIA & ITABELA              & NA       & COVID-19\\\\\n\t ⋮ & ⋮ & ⋮ & ⋮ & ⋮ & ⋮ & ⋮ & ⋮ & ⋮ & ⋮ & ⋱ & ⋮ & ⋮ & ⋮ & ⋮ & ⋮ & ⋮ & ⋮ & ⋮ & ⋮ & ⋮\\\\\n\t 21/03/2020 & SIM & NAO & NAO & NAO & NAO & NAO & NA                                              & 19/03/2020 & NAO & ⋯ & NA                                       & NA         & 27 & TESTE RAPIDO - ANTICORPO & NEGATIVO & MASCULINO & BAHIA & VITORIA DA CONQUISTA & AMARELA & COVID-19\\\\\n\t 25/04/2020 & SIM & SIM & SIM & NAO & NAO & NAO & NA                                              & 24/04/2020 & NA  & ⋯ & NA                                       & 06/05/2020 & 22 & TESTE RAPIDO - ANTICORPO & NEGATIVO & MASCULINO & BAHIA & BARRO PRETO          & PARDA   & COVID-19\\\\\n\t 24/06/2020 & NAO & NAO & NAO & NAO & SIM & NAO & ESTUDANTE DO ESTADO                             & 24/06/2020 & NAO & ⋯ & NA                                       & NA         & 17 & NA                       & NA       & MASCULINO & BAHIA & URUCUCA              & AMARELA & COVID-19\\\\\n\t 04/06/2020 & SIM & NAO & SIM & SIM & SIM & NAO & CEFALEIA                                        & 08/05/2020 & NAO & ⋯ & NA                                       & 04/06/2020 & 15 & TESTE RAPIDO - ANTICORPO & NEGATIVO & MASCULINO & BAHIA & MARAU                & AMARELA & COVID-19\\\\\n\t 22/06/2020 & NAO & NAO & NAO & NAO & SIM & NAO & ASSINTOMATICO                                   & 22/06/2020 & NAO & ⋯ & NA                                       & 22/06/2020 & 24 & TESTE RAPIDO - ANTICORPO & NEGATIVO & MASCULINO & BAHIA & GUANAMBI             & AMARELA & COVID-19\\\\\n\t 10/06/2020 & NAO & NAO & SIM & NAO & SIM & NAO & ANORREIA + MIOLGIA                              & 01/06/2020 & NAO & ⋯ & NA                                       & NA         & 34 & NA                       & NA       & FEMININO  & BAHIA & SALVADOR             & NA      & COVID-19\\\\\n\t 16/06/2020 & NAO & SIM & NAO & SIM & NAO & SIM & NA                                              & 11/06/2020 & SIM & ⋯ & 766420 - AUXILIAR DE RADIOLOGIA          & NA         & 41 & RT-PCR EM TEMPO REAL     & NEGATIVO & FEMININO  & BAHIA & VITORIA DA CONQUISTA & PARDA   & COVID-19\\\\\n\t 20/05/2020 & NAO & NAO & NAO & NAO & SIM & SIM & ASSINTOMATICA/CONTATO DE CASO POSITIVO          & 20/05/2020 & NAO & ⋯ & 3222 - TECNICO OU AUXILIAR EM ENFERMAGEM & 20/05/2020 & 34 & NA                       & NA       & FEMININO  & BAHIA & NOVA VICOSA          & PARDA   & COVID-19\\\\\n\t 24/06/2020 & NA  & NA  & NA  & NA  & NA  & NA  & NA                                              & 19/06/2020 & NA  & ⋯ & NA                                       & 24/06/2020 & 46 & RT-PCR EM TEMPO REAL     & POSITIVO & FEMININO  & BAHIA & ITABUNA              & PARDA   & COVID-19\\\\\n\t 14/04/2020 & NAO & NAO & NAO & SIM & NAO & NAO & NA                                              & 13/04/2020 & NAO & ⋯ & NA                                       & NA         & 7  & NA                       & NA       & MASCULINO & BAHIA & MACURURE             & NA      & COVID-19\\\\\n\t 25/06/2020 & NAO & NAO & NAO & NAO & SIM & NAO & ALUNO DO ESTADO                                 & 25/06/2020 & NAO & ⋯ & NA                                       & NA         & 15 & NA                       & NA       & MASCULINO & BAHIA & URUCUCA              & PARDA   & COVID-19\\\\\n\t 03/07/2020 & SIM & NAO & SIM & NAO & NAO & NAO & NA                                              & 01/07/2020 & NAO & ⋯ & NA                                       & NA         & 5  & NA                       & NA       & MASCULINO & BAHIA & CAMACARI             & PARDA   & COVID-19\\\\\n\t 22/06/2020 & SIM & SIM & SIM & SIM & NAO & NAO & NA                                              & 19/06/2020 & NAO & ⋯ & NA                                       & NA         & 17 & RT-PCR                   & NEGATIVO & FEMININO  & BAHIA & PAULO AFONSO         & PARDA   & COVID-19\\\\\n\t 29/05/2020 & NAO & NAO & NAO & NAO & SIM & NAO & NAO INFORMADO                                   & 14/05/2020 & NAO & ⋯ & NA                                       & 14/05/2020 & 22 & RT-PCR EM TEMPO REAL     & POSITIVO & FEMININO  & BAHIA & ILHEUS               & PARDA   & COVID-19\\\\\n\t 17/06/2020 & NAO & NAO & NAO & NAO & SIM & SIM & ASSINTOMATICA                                   & 15/06/2020 & NAO & ⋯ & 4221 - RECEPCIONISTA                     & 15/02/2020 & 31 & TESTE RAPIDO - ANTICORPO & NEGATIVO & FEMININO  & BAHIA & IGAPORA              & BRANCA  & COVID-19\\\\\n\t 29/06/2020 & NAO & NAO & NAO & NAO & SIM & NAO & ASSINTOMATICA / CONTATO CASO POSITIVO           & 16/06/2020 & NAO & ⋯ & NA                                       & 29/06/2020 & 44 & TESTE RAPIDO - ANTICORPO & NEGATIVO & FEMININO  & BAHIA & RIACHAO DO JACUIPE   & PRETA   & COVID-19\\\\\n\t 14/06/2020 & NAO & NAO & NAO & NAO & SIM & NAO & ASSINTOMATICO                                   & 10/06/2020 & NAO & ⋯ & NA                                       & 10/06/2020 & 37 & TESTE RAPIDO - ANTICORPO & NEGATIVO & FEMININO  & BAHIA & FILADELFIA           & PARDA   & COVID-19\\\\\n\t 25/06/2020 & NAO & NAO & NAO & SIM & NAO & NAO & NA                                              & 24/06/2020 & NAO & ⋯ & NA                                       & 23/06/2020 & 34 & RT-PCR EM TEMPO REAL     & NEGATIVO & FEMININO  & BAHIA & SALVADOR             & PARDA   & COVID-19\\\\\n\t 24/06/2020 & NAO & NAO & NAO & NAO & SIM & SIM & ASSINTOMATICO                                   & 24/06/2020 & NAO & ⋯ & 515105 - AGENTE COMUNITARIO DE SAUDE     & 24/06/2020 & 37 & TESTE RAPIDO - ANTICORPO & NEGATIVO & FEMININO  & BAHIA & CAMPO FORMOSO        & PARDA   & COVID-19\\\\\n\t 25/06/2020 & NAO & NAO & NAO & NAO & SIM & NAO & PERDA DE OLFATO E PERDA PALADAR E TOSSE         & 18/06/2020 & NAO & ⋯ & NA                                       & 20/06/2020 & 40 & RT-PCR                   & POSITIVO & FEMININO  & BAHIA & SALVADOR             & PARDA   & COVID-19\\\\\n\t 20/04/2020 & SIM & NAO & SIM & NAO & SIM & NAO & DIFICULDADE DE RESPIRAR,CEFALEIA,CONGESTAO NASA & 19/04/2020 & NAO & ⋯ & NA                                       & 20/04/2020 & 36 & RT-PCR                   & NEGATIVO & MASCULINO & BAHIA & FEIRA DE SANTANA     & NA      & COVID-19\\\\\n\t 25/05/2020 & NAO & NAO & SIM & NAO & SIM & NAO & MIALGIA, ARTRALGIA E CEFALEIA.                  & 19/05/2020 & NAO & ⋯ & NA                                       & NA         & 35 & NA                       & NA       & MASCULINO & BAHIA & VITORIA DA CONQUISTA & PARDA   & COVID-19\\\\\n\t NA         & NA  & NA  & NA  & NA  & NA  & NA  & NA                                              & 09/04/2020 & NA  & ⋯ & NA                                       & 28/04/2020 & 47 & NA                       & NA       & MASCULINO & BAHIA & FEIRA DE SANTANA     & NA      & COVID-19\\\\\n\t 20/04/2020 & NAO & NAO & NAO & NAO & SIM & NAO & IRRITACAO NA GARGANTA                           & 09/04/2020 & NA  & ⋯ & NA                                       & 22/04/2020 & 47 & RT-PCR                   & NEGATIVO & MASCULINO & BAHIA & FEIRA DE SANTANA     & PARDA   & COVID-19\\\\\n\t 12/06/2020 & SIM & NAO & SIM & SIM & NAO & NAO & NA                                              & 30/05/2020 & NAO & ⋯ & NA                                       & 12/06/2020 & 42 & TESTE RAPIDO - ANTICORPO & NEGATIVO & MASCULINO & BAHIA & EUNAPOLIS            & PARDA   & COVID-19\\\\\n\t 22/05/2020 & SIM & NAO & NAO & SIM & NAO & SIM & NA                                              & 14/05/2020 & NAO & ⋯ & 2235 - ENFERMEIRO                        & 22/05/2020 & 35 & TESTE RAPIDO - ANTICORPO & NEGATIVO & FEMININO  & BAHIA & SALVADOR             & PARDA   & COVID-19\\\\\n\t 30/05/2020 & NAO & SIM & NAO & SIM & NAO & SIM & NA                                              & 28/05/2020 & NAO & ⋯ & 2232 - CIRURGIAO-DENTISTA                & NA         & 24 & NA                       & NA       & FEMININO  & BAHIA & DIAS D'AVILA         & AMARELA & COVID-19\\\\\n\t NA         & NA  & NA  & NA  & NA  & NA  & NA  & NA                                              & 22/03/2020 & NA  & ⋯ & NA                                       & 30/03/2020 & 18 & RT-PCR EM TEMPO REAL     & NEGATIVO & FEMININO  & BAHIA & GUANAMBI             & NA      & COVID-19\\\\\n\t 20/06/2020 & NAO & SIM & NAO & SIM & NAO & NAO & NA                                              & 17/06/2020 & NAO & ⋯ & NA                                       & NA         & 29 & NA                       & NA       & FEMININO  & BAHIA & CAMACARI             & PRETA   & COVID-19\\\\\n\t 22/05/2020 & SIM & SIM & SIM & SIM & SIM & NAO & DIARREIA                                        & 19/05/2020 & NAO & ⋯ & NA                                       & 22/05/2020 & 42 & RT-PCR                   & NEGATIVO & MASCULINO & BAHIA & SALVADOR             & BRANCA  & COVID-19\\\\\n\\end{tabular}\n",
            "text/plain": [
              "     DATA DA NOTIFICACAO DOR DE GARGANTA DISPNEIA FEBRE TOSSE OUTROS\n",
              "1    07/06/2020          SIM             NAO      NAO   NAO   NAO   \n",
              "2    05/06/2020          NAO             NAO      SIM   NAO   SIM   \n",
              "3    16/06/2020          SIM             NAO      NAO   SIM   SIM   \n",
              "4    30/06/2020          NAO             NAO      NAO   NAO   SIM   \n",
              "5    27/05/2020          NAO             NAO      NAO   NAO   SIM   \n",
              "6    17/04/2020          NAO             NAO      NAO   SIM   NAO   \n",
              "7    20/05/2020          NAO             NAO      NAO   NAO   SIM   \n",
              "8    14/04/2020          SIM             NAO      SIM   NAO   SIM   \n",
              "9    20/06/2020          NAO             NAO      NAO   NAO   SIM   \n",
              "10   10/06/2020          NAO             NAO      NAO   NAO   SIM   \n",
              "11   20/03/2020          NAO             NAO      NAO   SIM   SIM   \n",
              "12   25/05/2020          NAO             NAO      NAO   NAO   SIM   \n",
              "13   26/06/2020          NAO             NAO      NAO   NAO   SIM   \n",
              "14   27/05/2020          NAO             NAO      NAO   NAO   SIM   \n",
              "15   27/06/2020          NAO             NAO      NAO   NAO   SIM   \n",
              "16   13/04/2020          NAO             NAO      NAO   SIM   NAO   \n",
              "17   20/03/2020          NAO             NAO      NAO   NAO   SIM   \n",
              "18   03/07/2020          NAO             NAO      NAO   NAO   SIM   \n",
              "19   31/05/2020          NAO             NAO      NAO   SIM   SIM   \n",
              "20   03/07/2020          NAO             NAO      NAO   NAO   SIM   \n",
              "21   14/04/2020          NAO             NAO      NAO   NAO   SIM   \n",
              "22   18/06/2020          NAO             NAO      NAO   NAO   SIM   \n",
              "23   25/06/2020          NAO             SIM      NAO   SIM   SIM   \n",
              "24   01/07/2020          NAO             NAO      SIM   NAO   SIM   \n",
              "25   15/06/2020          NAO             NAO      NAO   NAO   SIM   \n",
              "26   26/06/2020          NAO             NAO      SIM   SIM   SIM   \n",
              "27   28/04/2020          NA              NA       NA    NA    NA    \n",
              "28   22/04/2020          NAO             SIM      SIM   SIM   SIM   \n",
              "29   04/06/2020          NAO             SIM      NAO   SIM   NAO   \n",
              "30   24/04/2020          NAO             NAO      NAO   NAO   SIM   \n",
              "⋮    ⋮                   ⋮               ⋮        ⋮     ⋮     ⋮     \n",
              "5808 21/03/2020          SIM             NAO      NAO   NAO   NAO   \n",
              "5809 25/04/2020          SIM             SIM      SIM   NAO   NAO   \n",
              "5810 24/06/2020          NAO             NAO      NAO   NAO   SIM   \n",
              "5811 04/06/2020          SIM             NAO      SIM   SIM   SIM   \n",
              "5812 22/06/2020          NAO             NAO      NAO   NAO   SIM   \n",
              "5813 10/06/2020          NAO             NAO      SIM   NAO   SIM   \n",
              "5814 16/06/2020          NAO             SIM      NAO   SIM   NAO   \n",
              "5815 20/05/2020          NAO             NAO      NAO   NAO   SIM   \n",
              "5816 24/06/2020          NA              NA       NA    NA    NA    \n",
              "5817 14/04/2020          NAO             NAO      NAO   SIM   NAO   \n",
              "5818 25/06/2020          NAO             NAO      NAO   NAO   SIM   \n",
              "5819 03/07/2020          SIM             NAO      SIM   NAO   NAO   \n",
              "5820 22/06/2020          SIM             SIM      SIM   SIM   NAO   \n",
              "5821 29/05/2020          NAO             NAO      NAO   NAO   SIM   \n",
              "5822 17/06/2020          NAO             NAO      NAO   NAO   SIM   \n",
              "5823 29/06/2020          NAO             NAO      NAO   NAO   SIM   \n",
              "5824 14/06/2020          NAO             NAO      NAO   NAO   SIM   \n",
              "5825 25/06/2020          NAO             NAO      NAO   SIM   NAO   \n",
              "5826 24/06/2020          NAO             NAO      NAO   NAO   SIM   \n",
              "5827 25/06/2020          NAO             NAO      NAO   NAO   SIM   \n",
              "5828 20/04/2020          SIM             NAO      SIM   NAO   SIM   \n",
              "5829 25/05/2020          NAO             NAO      SIM   NAO   SIM   \n",
              "5830 NA                  NA              NA       NA    NA    NA    \n",
              "5831 20/04/2020          NAO             NAO      NAO   NAO   SIM   \n",
              "5832 12/06/2020          SIM             NAO      SIM   SIM   NAO   \n",
              "5833 22/05/2020          SIM             NAO      NAO   SIM   NAO   \n",
              "5834 30/05/2020          NAO             SIM      NAO   SIM   NAO   \n",
              "5835 NA                  NA              NA       NA    NA    NA    \n",
              "5836 20/06/2020          NAO             SIM      NAO   SIM   NAO   \n",
              "5837 22/05/2020          SIM             SIM      SIM   SIM   SIM   \n",
              "     E PROFISSIONAL DE SAUDE?\n",
              "1    SIM                     \n",
              "2    NAO                     \n",
              "3    SIM                     \n",
              "4    NAO                     \n",
              "5    NAO                     \n",
              "6    NAO                     \n",
              "7    SIM                     \n",
              "8    NAO                     \n",
              "9    NAO                     \n",
              "10   NAO                     \n",
              "11   NAO                     \n",
              "12   NAO                     \n",
              "13   NAO                     \n",
              "14   NAO                     \n",
              "15   NAO                     \n",
              "16   NAO                     \n",
              "17   NAO                     \n",
              "18   NA                      \n",
              "19   NAO                     \n",
              "20   NAO                     \n",
              "21   SIM                     \n",
              "22   NAO                     \n",
              "23   NAO                     \n",
              "24   NAO                     \n",
              "25   SIM                     \n",
              "26   NAO                     \n",
              "27   NA                      \n",
              "28   NAO                     \n",
              "29   NAO                     \n",
              "30   NAO                     \n",
              "⋮    ⋮                       \n",
              "5808 NAO                     \n",
              "5809 NAO                     \n",
              "5810 NAO                     \n",
              "5811 NAO                     \n",
              "5812 NAO                     \n",
              "5813 NAO                     \n",
              "5814 SIM                     \n",
              "5815 SIM                     \n",
              "5816 NA                      \n",
              "5817 NAO                     \n",
              "5818 NAO                     \n",
              "5819 NAO                     \n",
              "5820 NAO                     \n",
              "5821 NAO                     \n",
              "5822 SIM                     \n",
              "5823 NAO                     \n",
              "5824 NAO                     \n",
              "5825 NAO                     \n",
              "5826 SIM                     \n",
              "5827 NAO                     \n",
              "5828 NAO                     \n",
              "5829 NAO                     \n",
              "5830 NA                      \n",
              "5831 NAO                     \n",
              "5832 NAO                     \n",
              "5833 SIM                     \n",
              "5834 SIM                     \n",
              "5835 NA                      \n",
              "5836 NAO                     \n",
              "5837 NAO                     \n",
              "     DESCRICAO DO SINTOMA                                                                       \n",
              "1    NA                                                                                         \n",
              "2    DOR TORACICA                                                                               \n",
              "3    CEFALEIA                                                                                   \n",
              "4    CEFALEIA                                                                                   \n",
              "5    ASSINTOMATICA CONTATO COM CASO POSITIVO                                                    \n",
              "6    NA                                                                                         \n",
              "7    CEFALEIA, ANOSMIA, DOR NO PEITO                                                            \n",
              "8    DORES NO CORPO,CEFALEIA                                                                    \n",
              "9    ASSINTOMATICO                                                                              \n",
              "10   MIALGIA,CEFALEIA,CORIZA                                                                    \n",
              "11   DIARREIA/DIFICULDADE DE RESPIRAR/DOR NO CORPO                                              \n",
              "12   SEM SINTOMAS                                                                               \n",
              "13   ASSITOMATICO                                                                               \n",
              "14   SEM SINTOMAS                                                                               \n",
              "15   ASSINTOMATICO                                                                              \n",
              "16   NA                                                                                         \n",
              "17   CORIZA CEFALEIA (DOR DE CABECA)                                                            \n",
              "18   NA                                                                                         \n",
              "19   DESCONFORTO RESPIRATORIO                                                                   \n",
              "20   ASSINTOMATICO                                                                              \n",
              "21   CEFALEIA, PERDA DO PALADAR E OLFATO                                                        \n",
              "22   SEM SINTOMAS                                                                               \n",
              "23   PERDA DE OLFATO                                                                            \n",
              "24   CALAFRIOS , DOR ABDOMINAL E CONTATO COM PACIENTE POSITIVO PARA COVID19 E E PERDA DO PALADAR\n",
              "25   ASSINTOMATICO                                                                              \n",
              "26   MIALGIA, DOR ABDOMINAL, CEFALEIA                                                           \n",
              "27   DOR NO CORPO                                                                               \n",
              "28   DOR NO CORPO                                                                               \n",
              "29   NA                                                                                         \n",
              "30   CEFALEIA, MIALGIA, DIARREIA,CORIZA, TONTURA                                                \n",
              "⋮    ⋮                                                                                          \n",
              "5808 NA                                                                                         \n",
              "5809 NA                                                                                         \n",
              "5810 ESTUDANTE DO ESTADO                                                                        \n",
              "5811 CEFALEIA                                                                                   \n",
              "5812 ASSINTOMATICO                                                                              \n",
              "5813 ANORREIA + MIOLGIA                                                                         \n",
              "5814 NA                                                                                         \n",
              "5815 ASSINTOMATICA/CONTATO DE CASO POSITIVO                                                     \n",
              "5816 NA                                                                                         \n",
              "5817 NA                                                                                         \n",
              "5818 ALUNO DO ESTADO                                                                            \n",
              "5819 NA                                                                                         \n",
              "5820 NA                                                                                         \n",
              "5821 NAO INFORMADO                                                                              \n",
              "5822 ASSINTOMATICA                                                                              \n",
              "5823 ASSINTOMATICA / CONTATO CASO POSITIVO                                                      \n",
              "5824 ASSINTOMATICO                                                                              \n",
              "5825 NA                                                                                         \n",
              "5826 ASSINTOMATICO                                                                              \n",
              "5827 PERDA DE OLFATO E PERDA PALADAR E TOSSE                                                    \n",
              "5828 DIFICULDADE DE RESPIRAR,CEFALEIA,CONGESTAO NASA                                            \n",
              "5829 MIALGIA, ARTRALGIA E CEFALEIA.                                                             \n",
              "5830 NA                                                                                         \n",
              "5831 IRRITACAO NA GARGANTA                                                                      \n",
              "5832 NA                                                                                         \n",
              "5833 NA                                                                                         \n",
              "5834 NA                                                                                         \n",
              "5835 NA                                                                                         \n",
              "5836 NA                                                                                         \n",
              "5837 DIARREIA                                                                                   \n",
              "     DATA DO INICIO DOS SINTOMAS DOENCAS RESPIRATORIAS CRONICAS DESCOMPENSADAS\n",
              "1    03/06/2020                  NAO                                          \n",
              "2    01/06/2020                  NAO                                          \n",
              "3    15/06/2020                  NAO                                          \n",
              "4    30/06/2020                  NAO                                          \n",
              "5    25/05/2020                  NAO                                          \n",
              "6    13/04/2020                  NAO                                          \n",
              "7    12/05/2020                  NAO                                          \n",
              "8    13/04/2020                  NAO                                          \n",
              "9    19/05/2020                  NAO                                          \n",
              "10   01/06/2020                  NAO                                          \n",
              "11   17/03/2020                  NAO                                          \n",
              "12   20/05/2020                  NAO                                          \n",
              "13   26/06/2020                  SIM                                          \n",
              "14   27/05/2020                  NAO                                          \n",
              "15   25/06/2020                  NAO                                          \n",
              "16   08/04/2020                  NAO                                          \n",
              "17   16/03/2020                  NAO                                          \n",
              "18   NA                          NAO                                          \n",
              "19   29/05/2020                  NAO                                          \n",
              "20   15/06/2020                  NAO                                          \n",
              "21   13/04/2020                  NAO                                          \n",
              "22   17/06/2020                  NAO                                          \n",
              "23   22/06/2020                  NAO                                          \n",
              "24   28/06/2020                  NAO                                          \n",
              "25   15/06/2020                  NAO                                          \n",
              "26   22/06/2020                  NAO                                          \n",
              "27   04/03/2020                  NA                                           \n",
              "28   20/04/2020                  NA                                           \n",
              "29   26/05/2020                  NAO                                          \n",
              "30   22/04/2020                  NAO                                          \n",
              "⋮    ⋮                           ⋮                                            \n",
              "5808 19/03/2020                  NAO                                          \n",
              "5809 24/04/2020                  NA                                           \n",
              "5810 24/06/2020                  NAO                                          \n",
              "5811 08/05/2020                  NAO                                          \n",
              "5812 22/06/2020                  NAO                                          \n",
              "5813 01/06/2020                  NAO                                          \n",
              "5814 11/06/2020                  SIM                                          \n",
              "5815 20/05/2020                  NAO                                          \n",
              "5816 19/06/2020                  NA                                           \n",
              "5817 13/04/2020                  NAO                                          \n",
              "5818 25/06/2020                  NAO                                          \n",
              "5819 01/07/2020                  NAO                                          \n",
              "5820 19/06/2020                  NAO                                          \n",
              "5821 14/05/2020                  NAO                                          \n",
              "5822 15/06/2020                  NAO                                          \n",
              "5823 16/06/2020                  NAO                                          \n",
              "5824 10/06/2020                  NAO                                          \n",
              "5825 24/06/2020                  NAO                                          \n",
              "5826 24/06/2020                  NAO                                          \n",
              "5827 18/06/2020                  NAO                                          \n",
              "5828 19/04/2020                  NAO                                          \n",
              "5829 19/05/2020                  NAO                                          \n",
              "5830 09/04/2020                  NA                                           \n",
              "5831 09/04/2020                  NA                                           \n",
              "5832 30/05/2020                  NAO                                          \n",
              "5833 14/05/2020                  NAO                                          \n",
              "5834 28/05/2020                  NAO                                          \n",
              "5835 22/03/2020                  NA                                           \n",
              "5836 17/06/2020                  NAO                                          \n",
              "5837 19/05/2020                  NAO                                          \n",
              "     ⋯ CBO                                                                \n",
              "1    ⋯ 3241 - TECNOLOGO OU TECNICO EM METODOS DE DIGANOSTICO E TERAPEUTICA\n",
              "2    ⋯ NA                                                                 \n",
              "3    ⋯ 3516 - TECNICO DE SEGURANCA NO TRABALHO OU HIGIENE OCUPACIONAL     \n",
              "4    ⋯ NA                                                                 \n",
              "5    ⋯ NA                                                                 \n",
              "6    ⋯ NA                                                                 \n",
              "7    ⋯ ENFERMEIRO                                                         \n",
              "8    ⋯ NA                                                                 \n",
              "9    ⋯ NA                                                                 \n",
              "10   ⋯ NA                                                                 \n",
              "11   ⋯ NA                                                                 \n",
              "12   ⋯ NA                                                                 \n",
              "13   ⋯ NA                                                                 \n",
              "14   ⋯ NA                                                                 \n",
              "15   ⋯ NA                                                                 \n",
              "16   ⋯ NA                                                                 \n",
              "17   ⋯ NA                                                                 \n",
              "18   ⋯ NA                                                                 \n",
              "19   ⋯ NA                                                                 \n",
              "20   ⋯ NA                                                                 \n",
              "21   ⋯ OUTROS                                                             \n",
              "22   ⋯ NA                                                                 \n",
              "23   ⋯ NA                                                                 \n",
              "24   ⋯ NA                                                                 \n",
              "25   ⋯ 239 - OUTROS PROFISSIONAIS DE ENSINO                               \n",
              "26   ⋯ NA                                                                 \n",
              "27   ⋯ NA                                                                 \n",
              "28   ⋯ NA                                                                 \n",
              "29   ⋯ NA                                                                 \n",
              "30   ⋯ NA                                                                 \n",
              "⋮    ⋱ ⋮                                                                  \n",
              "5808 ⋯ NA                                                                 \n",
              "5809 ⋯ NA                                                                 \n",
              "5810 ⋯ NA                                                                 \n",
              "5811 ⋯ NA                                                                 \n",
              "5812 ⋯ NA                                                                 \n",
              "5813 ⋯ NA                                                                 \n",
              "5814 ⋯ 766420 - AUXILIAR DE RADIOLOGIA                                    \n",
              "5815 ⋯ 3222 - TECNICO OU AUXILIAR EM ENFERMAGEM                           \n",
              "5816 ⋯ NA                                                                 \n",
              "5817 ⋯ NA                                                                 \n",
              "5818 ⋯ NA                                                                 \n",
              "5819 ⋯ NA                                                                 \n",
              "5820 ⋯ NA                                                                 \n",
              "5821 ⋯ NA                                                                 \n",
              "5822 ⋯ 4221 - RECEPCIONISTA                                               \n",
              "5823 ⋯ NA                                                                 \n",
              "5824 ⋯ NA                                                                 \n",
              "5825 ⋯ NA                                                                 \n",
              "5826 ⋯ 515105 - AGENTE COMUNITARIO DE SAUDE                               \n",
              "5827 ⋯ NA                                                                 \n",
              "5828 ⋯ NA                                                                 \n",
              "5829 ⋯ NA                                                                 \n",
              "5830 ⋯ NA                                                                 \n",
              "5831 ⋯ NA                                                                 \n",
              "5832 ⋯ NA                                                                 \n",
              "5833 ⋯ 2235 - ENFERMEIRO                                                  \n",
              "5834 ⋯ 2232 - CIRURGIAO-DENTISTA                                          \n",
              "5835 ⋯ NA                                                                 \n",
              "5836 ⋯ NA                                                                 \n",
              "5837 ⋯ NA                                                                 \n",
              "     DATA DA COLETA DO TESTE IDADE EM ANOS TIPO DE TESTE           \n",
              "1    07/06/2020              31            RT-PCR EM TEMPO REAL    \n",
              "2    NA                      40            NA                      \n",
              "3    NA                      36            RT-PCR EM TEMPO REAL    \n",
              "4    30/06/2020              34            RT-PCR EM TEMPO REAL    \n",
              "5    25/05/2020              50            TESTE RAPIDO - ANTICORPO\n",
              "6    NA                      45            NA                      \n",
              "7    19/05/2020              36            TESTE RAPIDO - ANTICORPO\n",
              "8    NA                      22            NA                      \n",
              "9    NA                      23            NA                      \n",
              "10   09/06/2020              34            TESTE RAPIDO - ANTICORPO\n",
              "11   NA                      19            NA                      \n",
              "12   22/05/2020              29            NA                      \n",
              "13   26/06/2020              19            TESTE RAPIDO - ANTICORPO\n",
              "14   04/05/2020              26            RT-PCR                  \n",
              "15   NA                      14            RT-PCR                  \n",
              "16   13/04/2020              33            NA                      \n",
              "17   NA                      65            NA                      \n",
              "18   26/06/2020              36            TESTE RAPIDO - ANTICORPO\n",
              "19   31/05/2020              81            RT-PCR                  \n",
              "20   23/06/2020              35            TESTE RAPIDO - ANTIGENO \n",
              "21   16/04/2020              32            RT-PCR                  \n",
              "22   17/06/2020              26            TESTE RAPIDO - ANTICORPO\n",
              "23   22/06/2020              17            TESTE RAPIDO - ANTICORPO\n",
              "24   01/07/2020              47            RT-PCR EM TEMPO REAL    \n",
              "25   15/06/2020              31            TESTE RAPIDO - ANTICORPO\n",
              "26   NA                      40            NA                      \n",
              "27   07/03/2020              49            RT-PCR                  \n",
              "28   22/04/2020              31            RT-PCR                  \n",
              "29   NA                      60            TESTE RAPIDO - ANTICORPO\n",
              "30   22/04/2020              25            RT-PCR                  \n",
              "⋮    ⋮                       ⋮             ⋮                       \n",
              "5808 NA                      27            TESTE RAPIDO - ANTICORPO\n",
              "5809 06/05/2020              22            TESTE RAPIDO - ANTICORPO\n",
              "5810 NA                      17            NA                      \n",
              "5811 04/06/2020              15            TESTE RAPIDO - ANTICORPO\n",
              "5812 22/06/2020              24            TESTE RAPIDO - ANTICORPO\n",
              "5813 NA                      34            NA                      \n",
              "5814 NA                      41            RT-PCR EM TEMPO REAL    \n",
              "5815 20/05/2020              34            NA                      \n",
              "5816 24/06/2020              46            RT-PCR EM TEMPO REAL    \n",
              "5817 NA                      7             NA                      \n",
              "5818 NA                      15            NA                      \n",
              "5819 NA                      5             NA                      \n",
              "5820 NA                      17            RT-PCR                  \n",
              "5821 14/05/2020              22            RT-PCR EM TEMPO REAL    \n",
              "5822 15/02/2020              31            TESTE RAPIDO - ANTICORPO\n",
              "5823 29/06/2020              44            TESTE RAPIDO - ANTICORPO\n",
              "5824 10/06/2020              37            TESTE RAPIDO - ANTICORPO\n",
              "5825 23/06/2020              34            RT-PCR EM TEMPO REAL    \n",
              "5826 24/06/2020              37            TESTE RAPIDO - ANTICORPO\n",
              "5827 20/06/2020              40            RT-PCR                  \n",
              "5828 20/04/2020              36            RT-PCR                  \n",
              "5829 NA                      35            NA                      \n",
              "5830 28/04/2020              47            NA                      \n",
              "5831 22/04/2020              47            RT-PCR                  \n",
              "5832 12/06/2020              42            TESTE RAPIDO - ANTICORPO\n",
              "5833 22/05/2020              35            TESTE RAPIDO - ANTICORPO\n",
              "5834 NA                      24            NA                      \n",
              "5835 30/03/2020              18            RT-PCR EM TEMPO REAL    \n",
              "5836 NA                      29            NA                      \n",
              "5837 22/05/2020              42            RT-PCR                  \n",
              "     RESULTADO DO TESTE SEXO      ESTADO DE RESIDENCIA MUNICIPIO DE RESIDENCIA\n",
              "1    NEGATIVO           FEMININO  BAHIA                FEIRA DE SANTANA       \n",
              "2    NA                 FEMININO  BAHIA                SALVADOR               \n",
              "3    NEGATIVO           FEMININO  BAHIA                OUTRO ESTADO           \n",
              "4    POSITIVO           FEMININO  BAHIA                MADRE DE DEUS          \n",
              "5    POSITIVO           FEMININO  BAHIA                CANDIDO SALES          \n",
              "6    NA                 FEMININO  BAHIA                ITORORO                \n",
              "7    POSITIVO           FEMININO  BAHIA                SIMOES FILHO           \n",
              "8    NA                 FEMININO  BAHIA                SALVADOR               \n",
              "9    NA                 FEMININO  BAHIA                SALVADOR               \n",
              "10   NEGATIVO           FEMININO  BAHIA                IRARA                  \n",
              "11   NA                 FEMININO  BAHIA                ILHEUS                 \n",
              "12   NA                 FEMININO  BAHIA                SALVADOR               \n",
              "13   NEGATIVO           FEMININO  BAHIA                IPIAU                  \n",
              "14   POSITIVO           FEMININO  BAHIA                SALVADOR               \n",
              "15   POSITIVO           FEMININO  BAHIA                SALVADOR               \n",
              "16   NA                 MASCULINO BAHIA                SALVADOR               \n",
              "17   NA                 FEMININO  BAHIA                VITORIA DA CONQUISTA   \n",
              "18   NEGATIVO           MASCULINO BAHIA                SALVADOR               \n",
              "19   POSITIVO           MASCULINO BAHIA                SALVADOR               \n",
              "20   POSITIVO           FEMININO  BAHIA                SALVADOR               \n",
              "21   NEGATIVO           FEMININO  BAHIA                FEIRA DE SANTANA       \n",
              "22   NEGATIVO           FEMININO  BAHIA                SALVADOR               \n",
              "23   NEGATIVO           FEMININO  BAHIA                PORTO SEGURO           \n",
              "24   NEGATIVO           FEMININO  BAHIA                SALVADOR               \n",
              "25   NEGATIVO           FEMININO  BAHIA                ABAIRA                 \n",
              "26   NA                 FEMININO  BAHIA                PORTO SEGURO           \n",
              "27   NEGATIVO           FEMININO  BAHIA                SALVADOR               \n",
              "28   NEGATIVO           MASCULINO BAHIA                FEIRA DE SANTANA       \n",
              "29   NEGATIVO           MASCULINO BAHIA                IPIAU                  \n",
              "30   POSITIVO           MASCULINO BAHIA                ITABELA                \n",
              "⋮    ⋮                  ⋮         ⋮                    ⋮                      \n",
              "5808 NEGATIVO           MASCULINO BAHIA                VITORIA DA CONQUISTA   \n",
              "5809 NEGATIVO           MASCULINO BAHIA                BARRO PRETO            \n",
              "5810 NA                 MASCULINO BAHIA                URUCUCA                \n",
              "5811 NEGATIVO           MASCULINO BAHIA                MARAU                  \n",
              "5812 NEGATIVO           MASCULINO BAHIA                GUANAMBI               \n",
              "5813 NA                 FEMININO  BAHIA                SALVADOR               \n",
              "5814 NEGATIVO           FEMININO  BAHIA                VITORIA DA CONQUISTA   \n",
              "5815 NA                 FEMININO  BAHIA                NOVA VICOSA            \n",
              "5816 POSITIVO           FEMININO  BAHIA                ITABUNA                \n",
              "5817 NA                 MASCULINO BAHIA                MACURURE               \n",
              "5818 NA                 MASCULINO BAHIA                URUCUCA                \n",
              "5819 NA                 MASCULINO BAHIA                CAMACARI               \n",
              "5820 NEGATIVO           FEMININO  BAHIA                PAULO AFONSO           \n",
              "5821 POSITIVO           FEMININO  BAHIA                ILHEUS                 \n",
              "5822 NEGATIVO           FEMININO  BAHIA                IGAPORA                \n",
              "5823 NEGATIVO           FEMININO  BAHIA                RIACHAO DO JACUIPE     \n",
              "5824 NEGATIVO           FEMININO  BAHIA                FILADELFIA             \n",
              "5825 NEGATIVO           FEMININO  BAHIA                SALVADOR               \n",
              "5826 NEGATIVO           FEMININO  BAHIA                CAMPO FORMOSO          \n",
              "5827 POSITIVO           FEMININO  BAHIA                SALVADOR               \n",
              "5828 NEGATIVO           MASCULINO BAHIA                FEIRA DE SANTANA       \n",
              "5829 NA                 MASCULINO BAHIA                VITORIA DA CONQUISTA   \n",
              "5830 NA                 MASCULINO BAHIA                FEIRA DE SANTANA       \n",
              "5831 NEGATIVO           MASCULINO BAHIA                FEIRA DE SANTANA       \n",
              "5832 NEGATIVO           MASCULINO BAHIA                EUNAPOLIS              \n",
              "5833 NEGATIVO           FEMININO  BAHIA                SALVADOR               \n",
              "5834 NA                 FEMININO  BAHIA                DIAS D'AVILA           \n",
              "5835 NEGATIVO           FEMININO  BAHIA                GUANAMBI               \n",
              "5836 NA                 FEMININO  BAHIA                CAMACARI               \n",
              "5837 NEGATIVO           MASCULINO BAHIA                SALVADOR               \n",
              "     RACA/COR EPIDEMIA\n",
              "1    INDIGENA COVID-19\n",
              "2    PARDA    COVID-19\n",
              "3    PRETA    COVID-19\n",
              "4    PARDA    COVID-19\n",
              "5    AMARELA  COVID-19\n",
              "6    PARDA    COVID-19\n",
              "7    BRANCA   COVID-19\n",
              "8    NA       COVID-19\n",
              "9    AMARELA  COVID-19\n",
              "10   PARDA    COVID-19\n",
              "11   NA       COVID-19\n",
              "12   NA       COVID-19\n",
              "13   PRETA    COVID-19\n",
              "14   PRETA    COVID-19\n",
              "15   PARDA    COVID-19\n",
              "16   NA       COVID-19\n",
              "17   PARDA    COVID-19\n",
              "18   NA       COVID-19\n",
              "19   NA       COVID-19\n",
              "20   PARDA    COVID-19\n",
              "21   NA       COVID-19\n",
              "22   PARDA    COVID-19\n",
              "23   PARDA    COVID-19\n",
              "24   PARDA    COVID-19\n",
              "25   PARDA    COVID-19\n",
              "26   PARDA    COVID-19\n",
              "27   NA       COVID-19\n",
              "28   PARDA    COVID-19\n",
              "29   AMARELA  COVID-19\n",
              "30   NA       COVID-19\n",
              "⋮    ⋮        ⋮       \n",
              "5808 AMARELA  COVID-19\n",
              "5809 PARDA    COVID-19\n",
              "5810 AMARELA  COVID-19\n",
              "5811 AMARELA  COVID-19\n",
              "5812 AMARELA  COVID-19\n",
              "5813 NA       COVID-19\n",
              "5814 PARDA    COVID-19\n",
              "5815 PARDA    COVID-19\n",
              "5816 PARDA    COVID-19\n",
              "5817 NA       COVID-19\n",
              "5818 PARDA    COVID-19\n",
              "5819 PARDA    COVID-19\n",
              "5820 PARDA    COVID-19\n",
              "5821 PARDA    COVID-19\n",
              "5822 BRANCA   COVID-19\n",
              "5823 PRETA    COVID-19\n",
              "5824 PARDA    COVID-19\n",
              "5825 PARDA    COVID-19\n",
              "5826 PARDA    COVID-19\n",
              "5827 PARDA    COVID-19\n",
              "5828 NA       COVID-19\n",
              "5829 PARDA    COVID-19\n",
              "5830 NA       COVID-19\n",
              "5831 PARDA    COVID-19\n",
              "5832 PARDA    COVID-19\n",
              "5833 PARDA    COVID-19\n",
              "5834 AMARELA  COVID-19\n",
              "5835 NA       COVID-19\n",
              "5836 PRETA    COVID-19\n",
              "5837 BRANCA   COVID-19"
            ]
          },
          "metadata": {}
        }
      ]
    },
    {
      "cell_type": "code",
      "source": [
        "df2"
      ],
      "metadata": {
        "colab": {
          "base_uri": "https://localhost:8080/",
          "height": 96
        },
        "id": "OKsZqCLV1-i5",
        "outputId": "01b50e23-1879-458a-a8b9-652aa26a9703"
      },
      "execution_count": null,
      "outputs": [
        {
          "output_type": "error",
          "ename": "ERROR",
          "evalue": "ignored",
          "traceback": [
            "Error in eval(expr, envir, enclos): object 'df2' not found\nTraceback:\n"
          ]
        }
      ]
    },
    {
      "cell_type": "code",
      "source": [
        "\n",
        "# Escrevendo arquivo csv\n",
        "write.csv(head(df), file = 'Covid.csv')\n",
        "  \n",
        "# Lendo arquivo csv\n",
        "read.csv('Covid.csv')\n",
        "\n",
        "View(head(df,50))\n"
      ],
      "metadata": {
        "id": "JtwrUfs-yecn",
        "colab": {
          "base_uri": "https://localhost:8080/",
          "height": 1000
        },
        "outputId": "7af8ba16-bbe1-4fe5-bab0-92db51f8abcd"
      },
      "execution_count": null,
      "outputs": [
        {
          "output_type": "display_data",
          "data": {
            "text/html": [
              "<table class=\"dataframe\">\n",
              "<caption>A data.frame: 6 × 30</caption>\n",
              "<thead>\n",
              "\t<tr><th scope=col>X</th><th scope=col>DATA.DA.NOTIFICACAO</th><th scope=col>DOR.DE.GARGANTA</th><th scope=col>DISPNEIA</th><th scope=col>FEBRE</th><th scope=col>TOSSE</th><th scope=col>OUTROS</th><th scope=col>E.PROFISSIONAL.DE.SAUDE.</th><th scope=col>DESCRICAO.DO.SINTOMA</th><th scope=col>DATA.DO.INICIO.DOS.SINTOMAS</th><th scope=col>⋯</th><th scope=col>CBO</th><th scope=col>DATA.DA.COLETA.DO.TESTE</th><th scope=col>IDADE.EM.ANOS</th><th scope=col>TIPO.DE.TESTE</th><th scope=col>RESULTADO.DO.TESTE</th><th scope=col>SEXO</th><th scope=col>ESTADO.DE.RESIDENCIA</th><th scope=col>MUNICIPIO.DE.RESIDENCIA</th><th scope=col>RACA.COR</th><th scope=col>EPIDEMIA</th></tr>\n",
              "\t<tr><th scope=col>&lt;int&gt;</th><th scope=col>&lt;chr&gt;</th><th scope=col>&lt;chr&gt;</th><th scope=col>&lt;chr&gt;</th><th scope=col>&lt;chr&gt;</th><th scope=col>&lt;chr&gt;</th><th scope=col>&lt;chr&gt;</th><th scope=col>&lt;chr&gt;</th><th scope=col>&lt;chr&gt;</th><th scope=col>&lt;chr&gt;</th><th scope=col>⋯</th><th scope=col>&lt;chr&gt;</th><th scope=col>&lt;chr&gt;</th><th scope=col>&lt;int&gt;</th><th scope=col>&lt;chr&gt;</th><th scope=col>&lt;chr&gt;</th><th scope=col>&lt;chr&gt;</th><th scope=col>&lt;chr&gt;</th><th scope=col>&lt;chr&gt;</th><th scope=col>&lt;chr&gt;</th><th scope=col>&lt;chr&gt;</th></tr>\n",
              "</thead>\n",
              "<tbody>\n",
              "\t<tr><td>1</td><td>07/06/2020</td><td>SIM</td><td>NAO</td><td>NAO</td><td>NAO</td><td>NAO</td><td>SIM</td><td>NA                                     </td><td>03/06/2020</td><td>⋯</td><td>3241 - TECNOLOGO OU TECNICO EM METODOS DE DIGANOSTICO E TERAPEUTICA</td><td>07/06/2020</td><td>31</td><td>RT-PCR EM TEMPO REAL    </td><td>NEGATIVO</td><td>FEMININO</td><td>BAHIA</td><td>FEIRA DE SANTANA</td><td>INDIGENA</td><td>COVID-19</td></tr>\n",
              "\t<tr><td>2</td><td>05/06/2020</td><td>NAO</td><td>NAO</td><td>SIM</td><td>NAO</td><td>SIM</td><td>NAO</td><td>DOR TORACICA                           </td><td>01/06/2020</td><td>⋯</td><td>NA                                                                 </td><td>NA        </td><td>40</td><td>NA                      </td><td>NA      </td><td>FEMININO</td><td>BAHIA</td><td>SALVADOR        </td><td>PARDA   </td><td>COVID-19</td></tr>\n",
              "\t<tr><td>3</td><td>16/06/2020</td><td>SIM</td><td>NAO</td><td>NAO</td><td>SIM</td><td>SIM</td><td>SIM</td><td>CEFALEIA                               </td><td>15/06/2020</td><td>⋯</td><td>3516 - TECNICO DE SEGURANCA NO TRABALHO OU HIGIENE OCUPACIONAL     </td><td>NA        </td><td>36</td><td>RT-PCR EM TEMPO REAL    </td><td>NEGATIVO</td><td>FEMININO</td><td>BAHIA</td><td>OUTRO ESTADO    </td><td>PRETA   </td><td>COVID-19</td></tr>\n",
              "\t<tr><td>4</td><td>30/06/2020</td><td>NAO</td><td>NAO</td><td>NAO</td><td>NAO</td><td>SIM</td><td>NAO</td><td>CEFALEIA                               </td><td>30/06/2020</td><td>⋯</td><td>NA                                                                 </td><td>30/06/2020</td><td>34</td><td>RT-PCR EM TEMPO REAL    </td><td>POSITIVO</td><td>FEMININO</td><td>BAHIA</td><td>MADRE DE DEUS   </td><td>PARDA   </td><td>COVID-19</td></tr>\n",
              "\t<tr><td>5</td><td>27/05/2020</td><td>NAO</td><td>NAO</td><td>NAO</td><td>NAO</td><td>SIM</td><td>NAO</td><td>ASSINTOMATICA CONTATO COM CASO POSITIVO</td><td>25/05/2020</td><td>⋯</td><td>NA                                                                 </td><td>25/05/2020</td><td>50</td><td>TESTE RAPIDO - ANTICORPO</td><td>POSITIVO</td><td>FEMININO</td><td>BAHIA</td><td>CANDIDO SALES   </td><td>AMARELA </td><td>COVID-19</td></tr>\n",
              "\t<tr><td>6</td><td>17/04/2020</td><td>NAO</td><td>NAO</td><td>NAO</td><td>SIM</td><td>NAO</td><td>NAO</td><td>NA                                     </td><td>13/04/2020</td><td>⋯</td><td>NA                                                                 </td><td>NA        </td><td>45</td><td>NA                      </td><td>NA      </td><td>FEMININO</td><td>BAHIA</td><td>ITORORO         </td><td>PARDA   </td><td>COVID-19</td></tr>\n",
              "</tbody>\n",
              "</table>\n"
            ],
            "text/markdown": "\nA data.frame: 6 × 30\n\n| X &lt;int&gt; | DATA.DA.NOTIFICACAO &lt;chr&gt; | DOR.DE.GARGANTA &lt;chr&gt; | DISPNEIA &lt;chr&gt; | FEBRE &lt;chr&gt; | TOSSE &lt;chr&gt; | OUTROS &lt;chr&gt; | E.PROFISSIONAL.DE.SAUDE. &lt;chr&gt; | DESCRICAO.DO.SINTOMA &lt;chr&gt; | DATA.DO.INICIO.DOS.SINTOMAS &lt;chr&gt; | ⋯ ⋯ | CBO &lt;chr&gt; | DATA.DA.COLETA.DO.TESTE &lt;chr&gt; | IDADE.EM.ANOS &lt;int&gt; | TIPO.DE.TESTE &lt;chr&gt; | RESULTADO.DO.TESTE &lt;chr&gt; | SEXO &lt;chr&gt; | ESTADO.DE.RESIDENCIA &lt;chr&gt; | MUNICIPIO.DE.RESIDENCIA &lt;chr&gt; | RACA.COR &lt;chr&gt; | EPIDEMIA &lt;chr&gt; |\n|---|---|---|---|---|---|---|---|---|---|---|---|---|---|---|---|---|---|---|---|---|\n| 1 | 07/06/2020 | SIM | NAO | NAO | NAO | NAO | SIM | NA                                      | 03/06/2020 | ⋯ | 3241 - TECNOLOGO OU TECNICO EM METODOS DE DIGANOSTICO E TERAPEUTICA | 07/06/2020 | 31 | RT-PCR EM TEMPO REAL     | NEGATIVO | FEMININO | BAHIA | FEIRA DE SANTANA | INDIGENA | COVID-19 |\n| 2 | 05/06/2020 | NAO | NAO | SIM | NAO | SIM | NAO | DOR TORACICA                            | 01/06/2020 | ⋯ | NA                                                                  | NA         | 40 | NA                       | NA       | FEMININO | BAHIA | SALVADOR         | PARDA    | COVID-19 |\n| 3 | 16/06/2020 | SIM | NAO | NAO | SIM | SIM | SIM | CEFALEIA                                | 15/06/2020 | ⋯ | 3516 - TECNICO DE SEGURANCA NO TRABALHO OU HIGIENE OCUPACIONAL      | NA         | 36 | RT-PCR EM TEMPO REAL     | NEGATIVO | FEMININO | BAHIA | OUTRO ESTADO     | PRETA    | COVID-19 |\n| 4 | 30/06/2020 | NAO | NAO | NAO | NAO | SIM | NAO | CEFALEIA                                | 30/06/2020 | ⋯ | NA                                                                  | 30/06/2020 | 34 | RT-PCR EM TEMPO REAL     | POSITIVO | FEMININO | BAHIA | MADRE DE DEUS    | PARDA    | COVID-19 |\n| 5 | 27/05/2020 | NAO | NAO | NAO | NAO | SIM | NAO | ASSINTOMATICA CONTATO COM CASO POSITIVO | 25/05/2020 | ⋯ | NA                                                                  | 25/05/2020 | 50 | TESTE RAPIDO - ANTICORPO | POSITIVO | FEMININO | BAHIA | CANDIDO SALES    | AMARELA  | COVID-19 |\n| 6 | 17/04/2020 | NAO | NAO | NAO | SIM | NAO | NAO | NA                                      | 13/04/2020 | ⋯ | NA                                                                  | NA         | 45 | NA                       | NA       | FEMININO | BAHIA | ITORORO          | PARDA    | COVID-19 |\n\n",
            "text/latex": "A data.frame: 6 × 30\n\\begin{tabular}{lllllllllllllllllllll}\n X & DATA.DA.NOTIFICACAO & DOR.DE.GARGANTA & DISPNEIA & FEBRE & TOSSE & OUTROS & E.PROFISSIONAL.DE.SAUDE. & DESCRICAO.DO.SINTOMA & DATA.DO.INICIO.DOS.SINTOMAS & ⋯ & CBO & DATA.DA.COLETA.DO.TESTE & IDADE.EM.ANOS & TIPO.DE.TESTE & RESULTADO.DO.TESTE & SEXO & ESTADO.DE.RESIDENCIA & MUNICIPIO.DE.RESIDENCIA & RACA.COR & EPIDEMIA\\\\\n <int> & <chr> & <chr> & <chr> & <chr> & <chr> & <chr> & <chr> & <chr> & <chr> & ⋯ & <chr> & <chr> & <int> & <chr> & <chr> & <chr> & <chr> & <chr> & <chr> & <chr>\\\\\n\\hline\n\t 1 & 07/06/2020 & SIM & NAO & NAO & NAO & NAO & SIM & NA                                      & 03/06/2020 & ⋯ & 3241 - TECNOLOGO OU TECNICO EM METODOS DE DIGANOSTICO E TERAPEUTICA & 07/06/2020 & 31 & RT-PCR EM TEMPO REAL     & NEGATIVO & FEMININO & BAHIA & FEIRA DE SANTANA & INDIGENA & COVID-19\\\\\n\t 2 & 05/06/2020 & NAO & NAO & SIM & NAO & SIM & NAO & DOR TORACICA                            & 01/06/2020 & ⋯ & NA                                                                  & NA         & 40 & NA                       & NA       & FEMININO & BAHIA & SALVADOR         & PARDA    & COVID-19\\\\\n\t 3 & 16/06/2020 & SIM & NAO & NAO & SIM & SIM & SIM & CEFALEIA                                & 15/06/2020 & ⋯ & 3516 - TECNICO DE SEGURANCA NO TRABALHO OU HIGIENE OCUPACIONAL      & NA         & 36 & RT-PCR EM TEMPO REAL     & NEGATIVO & FEMININO & BAHIA & OUTRO ESTADO     & PRETA    & COVID-19\\\\\n\t 4 & 30/06/2020 & NAO & NAO & NAO & NAO & SIM & NAO & CEFALEIA                                & 30/06/2020 & ⋯ & NA                                                                  & 30/06/2020 & 34 & RT-PCR EM TEMPO REAL     & POSITIVO & FEMININO & BAHIA & MADRE DE DEUS    & PARDA    & COVID-19\\\\\n\t 5 & 27/05/2020 & NAO & NAO & NAO & NAO & SIM & NAO & ASSINTOMATICA CONTATO COM CASO POSITIVO & 25/05/2020 & ⋯ & NA                                                                  & 25/05/2020 & 50 & TESTE RAPIDO - ANTICORPO & POSITIVO & FEMININO & BAHIA & CANDIDO SALES    & AMARELA  & COVID-19\\\\\n\t 6 & 17/04/2020 & NAO & NAO & NAO & SIM & NAO & NAO & NA                                      & 13/04/2020 & ⋯ & NA                                                                  & NA         & 45 & NA                       & NA       & FEMININO & BAHIA & ITORORO          & PARDA    & COVID-19\\\\\n\\end{tabular}\n",
            "text/plain": [
              "  X DATA.DA.NOTIFICACAO DOR.DE.GARGANTA DISPNEIA FEBRE TOSSE OUTROS\n",
              "1 1 07/06/2020          SIM             NAO      NAO   NAO   NAO   \n",
              "2 2 05/06/2020          NAO             NAO      SIM   NAO   SIM   \n",
              "3 3 16/06/2020          SIM             NAO      NAO   SIM   SIM   \n",
              "4 4 30/06/2020          NAO             NAO      NAO   NAO   SIM   \n",
              "5 5 27/05/2020          NAO             NAO      NAO   NAO   SIM   \n",
              "6 6 17/04/2020          NAO             NAO      NAO   SIM   NAO   \n",
              "  E.PROFISSIONAL.DE.SAUDE. DESCRICAO.DO.SINTOMA                   \n",
              "1 SIM                      NA                                     \n",
              "2 NAO                      DOR TORACICA                           \n",
              "3 SIM                      CEFALEIA                               \n",
              "4 NAO                      CEFALEIA                               \n",
              "5 NAO                      ASSINTOMATICA CONTATO COM CASO POSITIVO\n",
              "6 NAO                      NA                                     \n",
              "  DATA.DO.INICIO.DOS.SINTOMAS ⋯\n",
              "1 03/06/2020                  ⋯\n",
              "2 01/06/2020                  ⋯\n",
              "3 15/06/2020                  ⋯\n",
              "4 30/06/2020                  ⋯\n",
              "5 25/05/2020                  ⋯\n",
              "6 13/04/2020                  ⋯\n",
              "  CBO                                                                \n",
              "1 3241 - TECNOLOGO OU TECNICO EM METODOS DE DIGANOSTICO E TERAPEUTICA\n",
              "2 NA                                                                 \n",
              "3 3516 - TECNICO DE SEGURANCA NO TRABALHO OU HIGIENE OCUPACIONAL     \n",
              "4 NA                                                                 \n",
              "5 NA                                                                 \n",
              "6 NA                                                                 \n",
              "  DATA.DA.COLETA.DO.TESTE IDADE.EM.ANOS TIPO.DE.TESTE           \n",
              "1 07/06/2020              31            RT-PCR EM TEMPO REAL    \n",
              "2 NA                      40            NA                      \n",
              "3 NA                      36            RT-PCR EM TEMPO REAL    \n",
              "4 30/06/2020              34            RT-PCR EM TEMPO REAL    \n",
              "5 25/05/2020              50            TESTE RAPIDO - ANTICORPO\n",
              "6 NA                      45            NA                      \n",
              "  RESULTADO.DO.TESTE SEXO     ESTADO.DE.RESIDENCIA MUNICIPIO.DE.RESIDENCIA\n",
              "1 NEGATIVO           FEMININO BAHIA                FEIRA DE SANTANA       \n",
              "2 NA                 FEMININO BAHIA                SALVADOR               \n",
              "3 NEGATIVO           FEMININO BAHIA                OUTRO ESTADO           \n",
              "4 POSITIVO           FEMININO BAHIA                MADRE DE DEUS          \n",
              "5 POSITIVO           FEMININO BAHIA                CANDIDO SALES          \n",
              "6 NA                 FEMININO BAHIA                ITORORO                \n",
              "  RACA.COR EPIDEMIA\n",
              "1 INDIGENA COVID-19\n",
              "2 PARDA    COVID-19\n",
              "3 PRETA    COVID-19\n",
              "4 PARDA    COVID-19\n",
              "5 AMARELA  COVID-19\n",
              "6 PARDA    COVID-19"
            ]
          },
          "metadata": {}
        },
        {
          "output_type": "display_data",
          "data": {
            "text/plain": [
              "   DATA DA NOTIFICACAO DOR DE GARGANTA DISPNEIA FEBRE TOSSE OUTROS\n",
              "1  07/06/2020          SIM             NAO      NAO   NAO   NAO   \n",
              "2  05/06/2020          NAO             NAO      SIM   NAO   SIM   \n",
              "3  16/06/2020          SIM             NAO      NAO   SIM   SIM   \n",
              "4  30/06/2020          NAO             NAO      NAO   NAO   SIM   \n",
              "5  27/05/2020          NAO             NAO      NAO   NAO   SIM   \n",
              "6  17/04/2020          NAO             NAO      NAO   SIM   NAO   \n",
              "7  20/05/2020          NAO             NAO      NAO   NAO   SIM   \n",
              "8  14/04/2020          SIM             NAO      SIM   NAO   SIM   \n",
              "9  20/06/2020          NAO             NAO      NAO   NAO   SIM   \n",
              "10 10/06/2020          NAO             NAO      NAO   NAO   SIM   \n",
              "11 20/03/2020          NAO             NAO      NAO   SIM   SIM   \n",
              "12 25/05/2020          NAO             NAO      NAO   NAO   SIM   \n",
              "13 26/06/2020          NAO             NAO      NAO   NAO   SIM   \n",
              "14 27/05/2020          NAO             NAO      NAO   NAO   SIM   \n",
              "15 27/06/2020          NAO             NAO      NAO   NAO   SIM   \n",
              "16 13/04/2020          NAO             NAO      NAO   SIM   NAO   \n",
              "17 20/03/2020          NAO             NAO      NAO   NAO   SIM   \n",
              "18 03/07/2020          NAO             NAO      NAO   NAO   SIM   \n",
              "19 31/05/2020          NAO             NAO      NAO   SIM   SIM   \n",
              "20 03/07/2020          NAO             NAO      NAO   NAO   SIM   \n",
              "21 14/04/2020          NAO             NAO      NAO   NAO   SIM   \n",
              "22 18/06/2020          NAO             NAO      NAO   NAO   SIM   \n",
              "23 25/06/2020          NAO             SIM      NAO   SIM   SIM   \n",
              "24 01/07/2020          NAO             NAO      SIM   NAO   SIM   \n",
              "25 15/06/2020          NAO             NAO      NAO   NAO   SIM   \n",
              "26 26/06/2020          NAO             NAO      SIM   SIM   SIM   \n",
              "27 28/04/2020          NA              NA       NA    NA    NA    \n",
              "28 22/04/2020          NAO             SIM      SIM   SIM   SIM   \n",
              "29 04/06/2020          NAO             SIM      NAO   SIM   NAO   \n",
              "30 24/04/2020          NAO             NAO      NAO   NAO   SIM   \n",
              "31 28/04/2020          NAO             NAO      NAO   SIM   NAO   \n",
              "32 03/07/2020          NAO             NAO      NAO   NAO   SIM   \n",
              "33 16/06/2020          NAO             NAO      NAO   NAO   SIM   \n",
              "34 24/06/2020          SIM             NAO      SIM   SIM   NAO   \n",
              "35 08/06/2020          NAO             NAO      NAO   SIM   NAO   \n",
              "36 17/06/2020          NAO             NAO      NAO   NAO   SIM   \n",
              "37 23/06/2020          NAO             NAO      SIM   SIM   SIM   \n",
              "38 10/06/2020          NAO             NAO      NAO   NAO   SIM   \n",
              "39 16/04/2020          SIM             NAO      NAO   SIM   NAO   \n",
              "40 09/05/2020          SIM             NAO      NAO   NAO   NAO   \n",
              "41 01/07/2020          NAO             NAO      NAO   NAO   SIM   \n",
              "42 10/06/2020          NAO             NAO      NAO   SIM   SIM   \n",
              "43 01/07/2020          SIM             NAO      NAO   SIM   NAO   \n",
              "44 18/06/2020          NAO             SIM      SIM   SIM   SIM   \n",
              "45 25/06/2020          NAO             NAO      NAO   NAO   SIM   \n",
              "46 10/06/2020          NA              NA       NA    NA    NA    \n",
              "47 28/05/2020          NAO             SIM      NAO   NAO   NAO   \n",
              "48 28/05/2020          NAO             SIM      NAO   NAO   NAO   \n",
              "49 18/06/2020          NAO             NAO      SIM   SIM   SIM   \n",
              "50 04/06/2020          NAO             NAO      NAO   SIM   NAO   \n",
              "   E PROFISSIONAL DE SAUDE?\n",
              "1  SIM                     \n",
              "2  NAO                     \n",
              "3  SIM                     \n",
              "4  NAO                     \n",
              "5  NAO                     \n",
              "6  NAO                     \n",
              "7  SIM                     \n",
              "8  NAO                     \n",
              "9  NAO                     \n",
              "10 NAO                     \n",
              "11 NAO                     \n",
              "12 NAO                     \n",
              "13 NAO                     \n",
              "14 NAO                     \n",
              "15 NAO                     \n",
              "16 NAO                     \n",
              "17 NAO                     \n",
              "18 NA                      \n",
              "19 NAO                     \n",
              "20 NAO                     \n",
              "21 SIM                     \n",
              "22 NAO                     \n",
              "23 NAO                     \n",
              "24 NAO                     \n",
              "25 SIM                     \n",
              "26 NAO                     \n",
              "27 NA                      \n",
              "28 NAO                     \n",
              "29 NAO                     \n",
              "30 NAO                     \n",
              "31 NAO                     \n",
              "32 NAO                     \n",
              "33 NAO                     \n",
              "34 NAO                     \n",
              "35 NAO                     \n",
              "36 NAO                     \n",
              "37 NAO                     \n",
              "38 NAO                     \n",
              "39 NAO                     \n",
              "40 SIM                     \n",
              "41 NAO                     \n",
              "42 SIM                     \n",
              "43 NAO                     \n",
              "44 NAO                     \n",
              "45 NAO                     \n",
              "46 NA                      \n",
              "47 NAO                     \n",
              "48 NAO                     \n",
              "49 NAO                     \n",
              "50 NAO                     \n",
              "   DESCRICAO DO SINTOMA                                                                       \n",
              "1  NA                                                                                         \n",
              "2  DOR TORACICA                                                                               \n",
              "3  CEFALEIA                                                                                   \n",
              "4  CEFALEIA                                                                                   \n",
              "5  ASSINTOMATICA CONTATO COM CASO POSITIVO                                                    \n",
              "6  NA                                                                                         \n",
              "7  CEFALEIA, ANOSMIA, DOR NO PEITO                                                            \n",
              "8  DORES NO CORPO,CEFALEIA                                                                    \n",
              "9  ASSINTOMATICO                                                                              \n",
              "10 MIALGIA,CEFALEIA,CORIZA                                                                    \n",
              "11 DIARREIA/DIFICULDADE DE RESPIRAR/DOR NO CORPO                                              \n",
              "12 SEM SINTOMAS                                                                               \n",
              "13 ASSITOMATICO                                                                               \n",
              "14 SEM SINTOMAS                                                                               \n",
              "15 ASSINTOMATICO                                                                              \n",
              "16 NA                                                                                         \n",
              "17 CORIZA CEFALEIA (DOR DE CABECA)                                                            \n",
              "18 NA                                                                                         \n",
              "19 DESCONFORTO RESPIRATORIO                                                                   \n",
              "20 ASSINTOMATICO                                                                              \n",
              "21 CEFALEIA, PERDA DO PALADAR E OLFATO                                                        \n",
              "22 SEM SINTOMAS                                                                               \n",
              "23 PERDA DE OLFATO                                                                            \n",
              "24 CALAFRIOS , DOR ABDOMINAL E CONTATO COM PACIENTE POSITIVO PARA COVID19 E E PERDA DO PALADAR\n",
              "25 ASSINTOMATICO                                                                              \n",
              "26 MIALGIA, DOR ABDOMINAL, CEFALEIA                                                           \n",
              "27 DOR NO CORPO                                                                               \n",
              "28 DOR NO CORPO                                                                               \n",
              "29 NA                                                                                         \n",
              "30 CEFALEIA, MIALGIA, DIARREIA,CORIZA, TONTURA                                                \n",
              "31 NA                                                                                         \n",
              "32 ASSINTOMATICO/CONTATO COM CASO POSITIVO                                                    \n",
              "33 SEM SINTOMAS                                                                               \n",
              "34 NA                                                                                         \n",
              "35 NA                                                                                         \n",
              "36 NAUSEAS / VOMITO ADINAMIA (FRAQUEZA) CEFALEIA (DOR DE CABECA)                              \n",
              "37 CEFALEIA.                                                                                  \n",
              "38 ASSINTOMATICA                                                                              \n",
              "39 NA                                                                                         \n",
              "40 DIARREIA                                                                                   \n",
              "41 ASSITOMATICO                                                                               \n",
              "42 CORIZA                                                                                     \n",
              "43 NA                                                                                         \n",
              "44 CEFALEIA                                                                                   \n",
              "45 ASSINTOMATICO                                                                              \n",
              "46 CORIZA,CEFALIA,,PERDA PALADAR                                                              \n",
              "47 NA                                                                                         \n",
              "48 NA                                                                                         \n",
              "49 FALTA DE PALADAR E OFALTO                                                                  \n",
              "50 NA                                                                                         \n",
              "   DATA DO INICIO DOS SINTOMAS DOENCAS RESPIRATORIAS CRONICAS DESCOMPENSADAS ⋯\n",
              "1  03/06/2020                  NAO                                           ⋯\n",
              "2  01/06/2020                  NAO                                           ⋯\n",
              "3  15/06/2020                  NAO                                           ⋯\n",
              "4  30/06/2020                  NAO                                           ⋯\n",
              "5  25/05/2020                  NAO                                           ⋯\n",
              "6  13/04/2020                  NAO                                           ⋯\n",
              "7  12/05/2020                  NAO                                           ⋯\n",
              "8  13/04/2020                  NAO                                           ⋯\n",
              "9  19/05/2020                  NAO                                           ⋯\n",
              "10 01/06/2020                  NAO                                           ⋯\n",
              "11 17/03/2020                  NAO                                           ⋯\n",
              "12 20/05/2020                  NAO                                           ⋯\n",
              "13 26/06/2020                  SIM                                           ⋯\n",
              "14 27/05/2020                  NAO                                           ⋯\n",
              "15 25/06/2020                  NAO                                           ⋯\n",
              "16 08/04/2020                  NAO                                           ⋯\n",
              "17 16/03/2020                  NAO                                           ⋯\n",
              "18 NA                          NAO                                           ⋯\n",
              "19 29/05/2020                  NAO                                           ⋯\n",
              "20 15/06/2020                  NAO                                           ⋯\n",
              "21 13/04/2020                  NAO                                           ⋯\n",
              "22 17/06/2020                  NAO                                           ⋯\n",
              "23 22/06/2020                  NAO                                           ⋯\n",
              "24 28/06/2020                  NAO                                           ⋯\n",
              "25 15/06/2020                  NAO                                           ⋯\n",
              "26 22/06/2020                  NAO                                           ⋯\n",
              "27 04/03/2020                  NA                                            ⋯\n",
              "28 20/04/2020                  NA                                            ⋯\n",
              "29 26/05/2020                  NAO                                           ⋯\n",
              "30 22/04/2020                  NAO                                           ⋯\n",
              "31 19/04/2020                  NA                                            ⋯\n",
              "32 03/07/2020                  NAO                                           ⋯\n",
              "33 12/06/2020                  NAO                                           ⋯\n",
              "34 20/06/2020                  NAO                                           ⋯\n",
              "35 29/05/2020                  NAO                                           ⋯\n",
              "36 14/06/2020                  NAO                                           ⋯\n",
              "37 15/05/2020                  NAO                                           ⋯\n",
              "38 10/06/2020                  NAO                                           ⋯\n",
              "39 14/04/2020                  NAO                                           ⋯\n",
              "40 05/05/2020                  NAO                                           ⋯\n",
              "41 01/07/2020                  NAO                                           ⋯\n",
              "42 06/06/2020                  NAO                                           ⋯\n",
              "43 24/06/2020                  NAO                                           ⋯\n",
              "44 16/06/2020                  NAO                                           ⋯\n",
              "45 19/05/2020                  NAO                                           ⋯\n",
              "46 05/06/2020                  NA                                            ⋯\n",
              "47 26/05/2020                  NAO                                           ⋯\n",
              "48 26/05/2020                  NAO                                           ⋯\n",
              "49 10/06/2020                  NAO                                           ⋯\n",
              "50 22/05/2020                  NAO                                           ⋯\n",
              "   CBO                                                                \n",
              "1  3241 - TECNOLOGO OU TECNICO EM METODOS DE DIGANOSTICO E TERAPEUTICA\n",
              "2  NA                                                                 \n",
              "3  3516 - TECNICO DE SEGURANCA NO TRABALHO OU HIGIENE OCUPACIONAL     \n",
              "4  NA                                                                 \n",
              "5  NA                                                                 \n",
              "6  NA                                                                 \n",
              "7  ENFERMEIRO                                                         \n",
              "8  NA                                                                 \n",
              "9  NA                                                                 \n",
              "10 NA                                                                 \n",
              "11 NA                                                                 \n",
              "12 NA                                                                 \n",
              "13 NA                                                                 \n",
              "14 NA                                                                 \n",
              "15 NA                                                                 \n",
              "16 NA                                                                 \n",
              "17 NA                                                                 \n",
              "18 NA                                                                 \n",
              "19 NA                                                                 \n",
              "20 NA                                                                 \n",
              "21 OUTROS                                                             \n",
              "22 NA                                                                 \n",
              "23 NA                                                                 \n",
              "24 NA                                                                 \n",
              "25 239 - OUTROS PROFISSIONAIS DE ENSINO                               \n",
              "26 NA                                                                 \n",
              "27 NA                                                                 \n",
              "28 NA                                                                 \n",
              "29 NA                                                                 \n",
              "30 NA                                                                 \n",
              "31 NA                                                                 \n",
              "32 NA                                                                 \n",
              "33 NA                                                                 \n",
              "34 NA                                                                 \n",
              "35 NA                                                                 \n",
              "36 NA                                                                 \n",
              "37 NA                                                                 \n",
              "38 NA                                                                 \n",
              "39 NA                                                                 \n",
              "40 ENFERMEIRO                                                         \n",
              "41 NA                                                                 \n",
              "42 2235 - ENFERMEIRO                                                  \n",
              "43 NA                                                                 \n",
              "44 NA                                                                 \n",
              "45 NA                                                                 \n",
              "46 NA                                                                 \n",
              "47 NA                                                                 \n",
              "48 NA                                                                 \n",
              "49 NA                                                                 \n",
              "50 NA                                                                 \n",
              "   DATA DA COLETA DO TESTE IDADE EM ANOS TIPO DE TESTE           \n",
              "1  07/06/2020              31            RT-PCR EM TEMPO REAL    \n",
              "2  NA                      40            NA                      \n",
              "3  NA                      36            RT-PCR EM TEMPO REAL    \n",
              "4  30/06/2020              34            RT-PCR EM TEMPO REAL    \n",
              "5  25/05/2020              50            TESTE RAPIDO - ANTICORPO\n",
              "6  NA                      45            NA                      \n",
              "7  19/05/2020              36            TESTE RAPIDO - ANTICORPO\n",
              "8  NA                      22            NA                      \n",
              "9  NA                      23            NA                      \n",
              "10 09/06/2020              34            TESTE RAPIDO - ANTICORPO\n",
              "11 NA                      19            NA                      \n",
              "12 22/05/2020              29            NA                      \n",
              "13 26/06/2020              19            TESTE RAPIDO - ANTICORPO\n",
              "14 04/05/2020              26            RT-PCR                  \n",
              "15 NA                      14            RT-PCR                  \n",
              "16 13/04/2020              33            NA                      \n",
              "17 NA                      65            NA                      \n",
              "18 26/06/2020              36            TESTE RAPIDO - ANTICORPO\n",
              "19 31/05/2020              81            RT-PCR                  \n",
              "20 23/06/2020              35            TESTE RAPIDO - ANTIGENO \n",
              "21 16/04/2020              32            RT-PCR                  \n",
              "22 17/06/2020              26            TESTE RAPIDO - ANTICORPO\n",
              "23 22/06/2020              17            TESTE RAPIDO - ANTICORPO\n",
              "24 01/07/2020              47            RT-PCR EM TEMPO REAL    \n",
              "25 15/06/2020              31            TESTE RAPIDO - ANTICORPO\n",
              "26 NA                      40            NA                      \n",
              "27 07/03/2020              49            RT-PCR                  \n",
              "28 22/04/2020              31            RT-PCR                  \n",
              "29 NA                      60            TESTE RAPIDO - ANTICORPO\n",
              "30 22/04/2020              25            RT-PCR                  \n",
              "31 28/04/2020              52            RT-PCR                  \n",
              "32 03/07/2020              49            TESTE RAPIDO - ANTICORPO\n",
              "33 12/06/2020              37            TESTE RAPIDO - ANTICORPO\n",
              "34 24/06/2020              35            RT-PCR EM TEMPO REAL    \n",
              "35 02/06/2020              19            RT-PCR                  \n",
              "36 NA                      8             TESTE RAPIDO - ANTICORPO\n",
              "37 NA                      62            NA                      \n",
              "38 NA                      58            RT-PCR                  \n",
              "39 NA                      21            NA                      \n",
              "40 09/05/2020              26            RT-PCR EM TEMPO REAL    \n",
              "41 NA                      7             NA                      \n",
              "42 NA                      35            RT-PCR EM TEMPO REAL    \n",
              "43 01/07/2020              22            TESTE RAPIDO - ANTICORPO\n",
              "44 18/06/2020              21            RT-PCR EM TEMPO REAL    \n",
              "45 NA                      0             NA                      \n",
              "46 09/06/2020              13            RT-PCR EM TEMPO REAL    \n",
              "47 NA                      0             RT-PCR                  \n",
              "48 NA                      0             RT-PCR                  \n",
              "49 18/06/2020              38            RT-PCR EM TEMPO REAL    \n",
              "50 NA                      32            RT-PCR                  \n",
              "   RESULTADO DO TESTE SEXO      ESTADO DE RESIDENCIA MUNICIPIO DE RESIDENCIA\n",
              "1  NEGATIVO           FEMININO  BAHIA                FEIRA DE SANTANA       \n",
              "2  NA                 FEMININO  BAHIA                SALVADOR               \n",
              "3  NEGATIVO           FEMININO  BAHIA                OUTRO ESTADO           \n",
              "4  POSITIVO           FEMININO  BAHIA                MADRE DE DEUS          \n",
              "5  POSITIVO           FEMININO  BAHIA                CANDIDO SALES          \n",
              "6  NA                 FEMININO  BAHIA                ITORORO                \n",
              "7  POSITIVO           FEMININO  BAHIA                SIMOES FILHO           \n",
              "8  NA                 FEMININO  BAHIA                SALVADOR               \n",
              "9  NA                 FEMININO  BAHIA                SALVADOR               \n",
              "10 NEGATIVO           FEMININO  BAHIA                IRARA                  \n",
              "11 NA                 FEMININO  BAHIA                ILHEUS                 \n",
              "12 NA                 FEMININO  BAHIA                SALVADOR               \n",
              "13 NEGATIVO           FEMININO  BAHIA                IPIAU                  \n",
              "14 POSITIVO           FEMININO  BAHIA                SALVADOR               \n",
              "15 POSITIVO           FEMININO  BAHIA                SALVADOR               \n",
              "16 NA                 MASCULINO BAHIA                SALVADOR               \n",
              "17 NA                 FEMININO  BAHIA                VITORIA DA CONQUISTA   \n",
              "18 NEGATIVO           MASCULINO BAHIA                SALVADOR               \n",
              "19 POSITIVO           MASCULINO BAHIA                SALVADOR               \n",
              "20 POSITIVO           FEMININO  BAHIA                SALVADOR               \n",
              "21 NEGATIVO           FEMININO  BAHIA                FEIRA DE SANTANA       \n",
              "22 NEGATIVO           FEMININO  BAHIA                SALVADOR               \n",
              "23 NEGATIVO           FEMININO  BAHIA                PORTO SEGURO           \n",
              "24 NEGATIVO           FEMININO  BAHIA                SALVADOR               \n",
              "25 NEGATIVO           FEMININO  BAHIA                ABAIRA                 \n",
              "26 NA                 FEMININO  BAHIA                PORTO SEGURO           \n",
              "27 NEGATIVO           FEMININO  BAHIA                SALVADOR               \n",
              "28 NEGATIVO           MASCULINO BAHIA                FEIRA DE SANTANA       \n",
              "29 NEGATIVO           MASCULINO BAHIA                IPIAU                  \n",
              "30 POSITIVO           MASCULINO BAHIA                ITABELA                \n",
              "31 NEGATIVO           MASCULINO BAHIA                ILHEUS                 \n",
              "32 NEGATIVO           MASCULINO BAHIA                CAIRU                  \n",
              "33 NEGATIVO           MASCULINO BAHIA                SALVADOR               \n",
              "34 NEGATIVO           MASCULINO BAHIA                PIRAI DO NORTE         \n",
              "35 POSITIVO           MASCULINO BAHIA                SALVADOR               \n",
              "36 NEGATIVO           MASCULINO BAHIA                VITORIA DA CONQUISTA   \n",
              "37 NA                 FEMININO  BAHIA                ITAMARAJU              \n",
              "38 POSITIVO           FEMININO  BAHIA                IBIRATAIA              \n",
              "39 NA                 FEMININO  BAHIA                PAULO AFONSO           \n",
              "40 NEGATIVO           FEMININO  BAHIA                SALVADOR               \n",
              "41 NA                 FEMININO  BAHIA                EUNAPOLIS              \n",
              "42 NEGATIVO           FEMININO  BAHIA                IBIRATAIA              \n",
              "43 NEGATIVO           FEMININO  BAHIA                PORTO SEGURO           \n",
              "44 NEGATIVO           FEMININO  BAHIA                SALVADOR               \n",
              "45 NA                 FEMININO  BAHIA                SALVADOR               \n",
              "46 POSITIVO           FEMININO  BAHIA                FEIRA DE SANTANA       \n",
              "47 NEGATIVO           MASCULINO BAHIA                CANARANA               \n",
              "48 NEGATIVO           FEMININO  BAHIA                CANARANA               \n",
              "49 NEGATIVO           FEMININO  BAHIA                COARACI                \n",
              "50 POSITIVO           FEMININO  BAHIA                VALENTE                \n",
              "   RACA/COR EPIDEMIA\n",
              "1  INDIGENA COVID-19\n",
              "2  PARDA    COVID-19\n",
              "3  PRETA    COVID-19\n",
              "4  PARDA    COVID-19\n",
              "5  AMARELA  COVID-19\n",
              "6  PARDA    COVID-19\n",
              "7  BRANCA   COVID-19\n",
              "8  NA       COVID-19\n",
              "9  AMARELA  COVID-19\n",
              "10 PARDA    COVID-19\n",
              "11 NA       COVID-19\n",
              "12 NA       COVID-19\n",
              "13 PRETA    COVID-19\n",
              "14 PRETA    COVID-19\n",
              "15 PARDA    COVID-19\n",
              "16 NA       COVID-19\n",
              "17 PARDA    COVID-19\n",
              "18 NA       COVID-19\n",
              "19 NA       COVID-19\n",
              "20 PARDA    COVID-19\n",
              "21 NA       COVID-19\n",
              "22 PARDA    COVID-19\n",
              "23 PARDA    COVID-19\n",
              "24 PARDA    COVID-19\n",
              "25 PARDA    COVID-19\n",
              "26 PARDA    COVID-19\n",
              "27 NA       COVID-19\n",
              "28 PARDA    COVID-19\n",
              "29 AMARELA  COVID-19\n",
              "30 NA       COVID-19\n",
              "31 PARDA    COVID-19\n",
              "32 PARDA    COVID-19\n",
              "33 PRETA    COVID-19\n",
              "34 AMARELA  COVID-19\n",
              "35 NA       COVID-19\n",
              "36 PARDA    COVID-19\n",
              "37 PARDA    COVID-19\n",
              "38 PARDA    COVID-19\n",
              "39 NA       COVID-19\n",
              "40 PRETA    COVID-19\n",
              "41 PARDA    COVID-19\n",
              "42 BRANCA   COVID-19\n",
              "43 PRETA    COVID-19\n",
              "44 NA       COVID-19\n",
              "45 PARDA    COVID-19\n",
              "46 PARDA    COVID-19\n",
              "47 PARDA    COVID-19\n",
              "48 PARDA    COVID-19\n",
              "49 PARDA    COVID-19\n",
              "50 BRANCA   COVID-19"
            ],
            "text/html": [
              "<table class=\"dataframe\">\n",
              "<caption>A tibble: 50 × 29</caption>\n",
              "<thead>\n",
              "\t<tr><th scope=col>DATA DA NOTIFICACAO</th><th scope=col>DOR DE GARGANTA</th><th scope=col>DISPNEIA</th><th scope=col>FEBRE</th><th scope=col>TOSSE</th><th scope=col>OUTROS</th><th scope=col>E PROFISSIONAL DE SAUDE?</th><th scope=col>DESCRICAO DO SINTOMA</th><th scope=col>DATA DO INICIO DOS SINTOMAS</th><th scope=col>DOENCAS RESPIRATORIAS CRONICAS DESCOMPENSADAS</th><th scope=col>⋯</th><th scope=col>CBO</th><th scope=col>DATA DA COLETA DO TESTE</th><th scope=col>IDADE EM ANOS</th><th scope=col>TIPO DE TESTE</th><th scope=col>RESULTADO DO TESTE</th><th scope=col>SEXO</th><th scope=col>ESTADO DE RESIDENCIA</th><th scope=col>MUNICIPIO DE RESIDENCIA</th><th scope=col>RACA/COR</th><th scope=col>EPIDEMIA</th></tr>\n",
              "\t<tr><th scope=col>&lt;chr&gt;</th><th scope=col>&lt;chr&gt;</th><th scope=col>&lt;chr&gt;</th><th scope=col>&lt;chr&gt;</th><th scope=col>&lt;chr&gt;</th><th scope=col>&lt;chr&gt;</th><th scope=col>&lt;chr&gt;</th><th scope=col>&lt;chr&gt;</th><th scope=col>&lt;chr&gt;</th><th scope=col>&lt;chr&gt;</th><th scope=col>⋯</th><th scope=col>&lt;chr&gt;</th><th scope=col>&lt;chr&gt;</th><th scope=col>&lt;chr&gt;</th><th scope=col>&lt;chr&gt;</th><th scope=col>&lt;chr&gt;</th><th scope=col>&lt;chr&gt;</th><th scope=col>&lt;chr&gt;</th><th scope=col>&lt;chr&gt;</th><th scope=col>&lt;chr&gt;</th><th scope=col>&lt;chr&gt;</th></tr>\n",
              "</thead>\n",
              "<tbody>\n",
              "\t<tr><td>07/06/2020</td><td>SIM</td><td>NAO</td><td>NAO</td><td>NAO</td><td>NAO</td><td>SIM</td><td>NA                                                                                         </td><td>03/06/2020</td><td>NAO</td><td>⋯</td><td>3241 - TECNOLOGO OU TECNICO EM METODOS DE DIGANOSTICO E TERAPEUTICA</td><td>07/06/2020</td><td>31</td><td>RT-PCR EM TEMPO REAL    </td><td>NEGATIVO</td><td>FEMININO </td><td>BAHIA</td><td>FEIRA DE SANTANA    </td><td>INDIGENA</td><td>COVID-19</td></tr>\n",
              "\t<tr><td>05/06/2020</td><td>NAO</td><td>NAO</td><td>SIM</td><td>NAO</td><td>SIM</td><td>NAO</td><td>DOR TORACICA                                                                               </td><td>01/06/2020</td><td>NAO</td><td>⋯</td><td>NA                                                                 </td><td>NA        </td><td>40</td><td>NA                      </td><td>NA      </td><td>FEMININO </td><td>BAHIA</td><td>SALVADOR            </td><td>PARDA   </td><td>COVID-19</td></tr>\n",
              "\t<tr><td>16/06/2020</td><td>SIM</td><td>NAO</td><td>NAO</td><td>SIM</td><td>SIM</td><td>SIM</td><td>CEFALEIA                                                                                   </td><td>15/06/2020</td><td>NAO</td><td>⋯</td><td>3516 - TECNICO DE SEGURANCA NO TRABALHO OU HIGIENE OCUPACIONAL     </td><td>NA        </td><td>36</td><td>RT-PCR EM TEMPO REAL    </td><td>NEGATIVO</td><td>FEMININO </td><td>BAHIA</td><td>OUTRO ESTADO        </td><td>PRETA   </td><td>COVID-19</td></tr>\n",
              "\t<tr><td>30/06/2020</td><td>NAO</td><td>NAO</td><td>NAO</td><td>NAO</td><td>SIM</td><td>NAO</td><td>CEFALEIA                                                                                   </td><td>30/06/2020</td><td>NAO</td><td>⋯</td><td>NA                                                                 </td><td>30/06/2020</td><td>34</td><td>RT-PCR EM TEMPO REAL    </td><td>POSITIVO</td><td>FEMININO </td><td>BAHIA</td><td>MADRE DE DEUS       </td><td>PARDA   </td><td>COVID-19</td></tr>\n",
              "\t<tr><td>27/05/2020</td><td>NAO</td><td>NAO</td><td>NAO</td><td>NAO</td><td>SIM</td><td>NAO</td><td>ASSINTOMATICA CONTATO COM CASO POSITIVO                                                    </td><td>25/05/2020</td><td>NAO</td><td>⋯</td><td>NA                                                                 </td><td>25/05/2020</td><td>50</td><td>TESTE RAPIDO - ANTICORPO</td><td>POSITIVO</td><td>FEMININO </td><td>BAHIA</td><td>CANDIDO SALES       </td><td>AMARELA </td><td>COVID-19</td></tr>\n",
              "\t<tr><td>17/04/2020</td><td>NAO</td><td>NAO</td><td>NAO</td><td>SIM</td><td>NAO</td><td>NAO</td><td>NA                                                                                         </td><td>13/04/2020</td><td>NAO</td><td>⋯</td><td>NA                                                                 </td><td>NA        </td><td>45</td><td>NA                      </td><td>NA      </td><td>FEMININO </td><td>BAHIA</td><td>ITORORO             </td><td>PARDA   </td><td>COVID-19</td></tr>\n",
              "\t<tr><td>20/05/2020</td><td>NAO</td><td>NAO</td><td>NAO</td><td>NAO</td><td>SIM</td><td>SIM</td><td>CEFALEIA, ANOSMIA, DOR NO PEITO                                                            </td><td>12/05/2020</td><td>NAO</td><td>⋯</td><td>ENFERMEIRO                                                         </td><td>19/05/2020</td><td>36</td><td>TESTE RAPIDO - ANTICORPO</td><td>POSITIVO</td><td>FEMININO </td><td>BAHIA</td><td>SIMOES FILHO        </td><td>BRANCA  </td><td>COVID-19</td></tr>\n",
              "\t<tr><td>14/04/2020</td><td>SIM</td><td>NAO</td><td>SIM</td><td>NAO</td><td>SIM</td><td>NAO</td><td>DORES NO CORPO,CEFALEIA                                                                    </td><td>13/04/2020</td><td>NAO</td><td>⋯</td><td>NA                                                                 </td><td>NA        </td><td>22</td><td>NA                      </td><td>NA      </td><td>FEMININO </td><td>BAHIA</td><td>SALVADOR            </td><td>NA      </td><td>COVID-19</td></tr>\n",
              "\t<tr><td>20/06/2020</td><td>NAO</td><td>NAO</td><td>NAO</td><td>NAO</td><td>SIM</td><td>NAO</td><td>ASSINTOMATICO                                                                              </td><td>19/05/2020</td><td>NAO</td><td>⋯</td><td>NA                                                                 </td><td>NA        </td><td>23</td><td>NA                      </td><td>NA      </td><td>FEMININO </td><td>BAHIA</td><td>SALVADOR            </td><td>AMARELA </td><td>COVID-19</td></tr>\n",
              "\t<tr><td>10/06/2020</td><td>NAO</td><td>NAO</td><td>NAO</td><td>NAO</td><td>SIM</td><td>NAO</td><td>MIALGIA,CEFALEIA,CORIZA                                                                    </td><td>01/06/2020</td><td>NAO</td><td>⋯</td><td>NA                                                                 </td><td>09/06/2020</td><td>34</td><td>TESTE RAPIDO - ANTICORPO</td><td>NEGATIVO</td><td>FEMININO </td><td>BAHIA</td><td>IRARA               </td><td>PARDA   </td><td>COVID-19</td></tr>\n",
              "\t<tr><td>20/03/2020</td><td>NAO</td><td>NAO</td><td>NAO</td><td>SIM</td><td>SIM</td><td>NAO</td><td>DIARREIA/DIFICULDADE DE RESPIRAR/DOR NO CORPO                                              </td><td>17/03/2020</td><td>NAO</td><td>⋯</td><td>NA                                                                 </td><td>NA        </td><td>19</td><td>NA                      </td><td>NA      </td><td>FEMININO </td><td>BAHIA</td><td>ILHEUS              </td><td>NA      </td><td>COVID-19</td></tr>\n",
              "\t<tr><td>25/05/2020</td><td>NAO</td><td>NAO</td><td>NAO</td><td>NAO</td><td>SIM</td><td>NAO</td><td>SEM SINTOMAS                                                                               </td><td>20/05/2020</td><td>NAO</td><td>⋯</td><td>NA                                                                 </td><td>22/05/2020</td><td>29</td><td>NA                      </td><td>NA      </td><td>FEMININO </td><td>BAHIA</td><td>SALVADOR            </td><td>NA      </td><td>COVID-19</td></tr>\n",
              "\t<tr><td>26/06/2020</td><td>NAO</td><td>NAO</td><td>NAO</td><td>NAO</td><td>SIM</td><td>NAO</td><td>ASSITOMATICO                                                                               </td><td>26/06/2020</td><td>SIM</td><td>⋯</td><td>NA                                                                 </td><td>26/06/2020</td><td>19</td><td>TESTE RAPIDO - ANTICORPO</td><td>NEGATIVO</td><td>FEMININO </td><td>BAHIA</td><td>IPIAU               </td><td>PRETA   </td><td>COVID-19</td></tr>\n",
              "\t<tr><td>27/05/2020</td><td>NAO</td><td>NAO</td><td>NAO</td><td>NAO</td><td>SIM</td><td>NAO</td><td>SEM SINTOMAS                                                                               </td><td>27/05/2020</td><td>NAO</td><td>⋯</td><td>NA                                                                 </td><td>04/05/2020</td><td>26</td><td>RT-PCR                  </td><td>POSITIVO</td><td>FEMININO </td><td>BAHIA</td><td>SALVADOR            </td><td>PRETA   </td><td>COVID-19</td></tr>\n",
              "\t<tr><td>27/06/2020</td><td>NAO</td><td>NAO</td><td>NAO</td><td>NAO</td><td>SIM</td><td>NAO</td><td>ASSINTOMATICO                                                                              </td><td>25/06/2020</td><td>NAO</td><td>⋯</td><td>NA                                                                 </td><td>NA        </td><td>14</td><td>RT-PCR                  </td><td>POSITIVO</td><td>FEMININO </td><td>BAHIA</td><td>SALVADOR            </td><td>PARDA   </td><td>COVID-19</td></tr>\n",
              "\t<tr><td>13/04/2020</td><td>NAO</td><td>NAO</td><td>NAO</td><td>SIM</td><td>NAO</td><td>NAO</td><td>NA                                                                                         </td><td>08/04/2020</td><td>NAO</td><td>⋯</td><td>NA                                                                 </td><td>13/04/2020</td><td>33</td><td>NA                      </td><td>NA      </td><td>MASCULINO</td><td>BAHIA</td><td>SALVADOR            </td><td>NA      </td><td>COVID-19</td></tr>\n",
              "\t<tr><td>20/03/2020</td><td>NAO</td><td>NAO</td><td>NAO</td><td>NAO</td><td>SIM</td><td>NAO</td><td>CORIZA CEFALEIA (DOR DE CABECA)                                                            </td><td>16/03/2020</td><td>NAO</td><td>⋯</td><td>NA                                                                 </td><td>NA        </td><td>65</td><td>NA                      </td><td>NA      </td><td>FEMININO </td><td>BAHIA</td><td>VITORIA DA CONQUISTA</td><td>PARDA   </td><td>COVID-19</td></tr>\n",
              "\t<tr><td>03/07/2020</td><td>NAO</td><td>NAO</td><td>NAO</td><td>NAO</td><td>SIM</td><td>NA </td><td>NA                                                                                         </td><td>NA        </td><td>NAO</td><td>⋯</td><td>NA                                                                 </td><td>26/06/2020</td><td>36</td><td>TESTE RAPIDO - ANTICORPO</td><td>NEGATIVO</td><td>MASCULINO</td><td>BAHIA</td><td>SALVADOR            </td><td>NA      </td><td>COVID-19</td></tr>\n",
              "\t<tr><td>31/05/2020</td><td>NAO</td><td>NAO</td><td>NAO</td><td>SIM</td><td>SIM</td><td>NAO</td><td>DESCONFORTO RESPIRATORIO                                                                   </td><td>29/05/2020</td><td>NAO</td><td>⋯</td><td>NA                                                                 </td><td>31/05/2020</td><td>81</td><td>RT-PCR                  </td><td>POSITIVO</td><td>MASCULINO</td><td>BAHIA</td><td>SALVADOR            </td><td>NA      </td><td>COVID-19</td></tr>\n",
              "\t<tr><td>03/07/2020</td><td>NAO</td><td>NAO</td><td>NAO</td><td>NAO</td><td>SIM</td><td>NAO</td><td>ASSINTOMATICO                                                                              </td><td>15/06/2020</td><td>NAO</td><td>⋯</td><td>NA                                                                 </td><td>23/06/2020</td><td>35</td><td>TESTE RAPIDO - ANTIGENO </td><td>POSITIVO</td><td>FEMININO </td><td>BAHIA</td><td>SALVADOR            </td><td>PARDA   </td><td>COVID-19</td></tr>\n",
              "\t<tr><td>14/04/2020</td><td>NAO</td><td>NAO</td><td>NAO</td><td>NAO</td><td>SIM</td><td>SIM</td><td>CEFALEIA, PERDA DO PALADAR E OLFATO                                                        </td><td>13/04/2020</td><td>NAO</td><td>⋯</td><td>OUTROS                                                             </td><td>16/04/2020</td><td>32</td><td>RT-PCR                  </td><td>NEGATIVO</td><td>FEMININO </td><td>BAHIA</td><td>FEIRA DE SANTANA    </td><td>NA      </td><td>COVID-19</td></tr>\n",
              "\t<tr><td>18/06/2020</td><td>NAO</td><td>NAO</td><td>NAO</td><td>NAO</td><td>SIM</td><td>NAO</td><td>SEM SINTOMAS                                                                               </td><td>17/06/2020</td><td>NAO</td><td>⋯</td><td>NA                                                                 </td><td>17/06/2020</td><td>26</td><td>TESTE RAPIDO - ANTICORPO</td><td>NEGATIVO</td><td>FEMININO </td><td>BAHIA</td><td>SALVADOR            </td><td>PARDA   </td><td>COVID-19</td></tr>\n",
              "\t<tr><td>25/06/2020</td><td>NAO</td><td>SIM</td><td>NAO</td><td>SIM</td><td>SIM</td><td>NAO</td><td>PERDA DE OLFATO                                                                            </td><td>22/06/2020</td><td>NAO</td><td>⋯</td><td>NA                                                                 </td><td>22/06/2020</td><td>17</td><td>TESTE RAPIDO - ANTICORPO</td><td>NEGATIVO</td><td>FEMININO </td><td>BAHIA</td><td>PORTO SEGURO        </td><td>PARDA   </td><td>COVID-19</td></tr>\n",
              "\t<tr><td>01/07/2020</td><td>NAO</td><td>NAO</td><td>SIM</td><td>NAO</td><td>SIM</td><td>NAO</td><td>CALAFRIOS , DOR ABDOMINAL E CONTATO COM PACIENTE POSITIVO PARA COVID19 E E PERDA DO PALADAR</td><td>28/06/2020</td><td>NAO</td><td>⋯</td><td>NA                                                                 </td><td>01/07/2020</td><td>47</td><td>RT-PCR EM TEMPO REAL    </td><td>NEGATIVO</td><td>FEMININO </td><td>BAHIA</td><td>SALVADOR            </td><td>PARDA   </td><td>COVID-19</td></tr>\n",
              "\t<tr><td>15/06/2020</td><td>NAO</td><td>NAO</td><td>NAO</td><td>NAO</td><td>SIM</td><td>SIM</td><td>ASSINTOMATICO                                                                              </td><td>15/06/2020</td><td>NAO</td><td>⋯</td><td>239 - OUTROS PROFISSIONAIS DE ENSINO                               </td><td>15/06/2020</td><td>31</td><td>TESTE RAPIDO - ANTICORPO</td><td>NEGATIVO</td><td>FEMININO </td><td>BAHIA</td><td>ABAIRA              </td><td>PARDA   </td><td>COVID-19</td></tr>\n",
              "\t<tr><td>26/06/2020</td><td>NAO</td><td>NAO</td><td>SIM</td><td>SIM</td><td>SIM</td><td>NAO</td><td>MIALGIA, DOR ABDOMINAL, CEFALEIA                                                           </td><td>22/06/2020</td><td>NAO</td><td>⋯</td><td>NA                                                                 </td><td>NA        </td><td>40</td><td>NA                      </td><td>NA      </td><td>FEMININO </td><td>BAHIA</td><td>PORTO SEGURO        </td><td>PARDA   </td><td>COVID-19</td></tr>\n",
              "\t<tr><td>28/04/2020</td><td>NA </td><td>NA </td><td>NA </td><td>NA </td><td>NA </td><td>NA </td><td>DOR NO CORPO                                                                               </td><td>04/03/2020</td><td>NA </td><td>⋯</td><td>NA                                                                 </td><td>07/03/2020</td><td>49</td><td>RT-PCR                  </td><td>NEGATIVO</td><td>FEMININO </td><td>BAHIA</td><td>SALVADOR            </td><td>NA      </td><td>COVID-19</td></tr>\n",
              "\t<tr><td>22/04/2020</td><td>NAO</td><td>SIM</td><td>SIM</td><td>SIM</td><td>SIM</td><td>NAO</td><td>DOR NO CORPO                                                                               </td><td>20/04/2020</td><td>NA </td><td>⋯</td><td>NA                                                                 </td><td>22/04/2020</td><td>31</td><td>RT-PCR                  </td><td>NEGATIVO</td><td>MASCULINO</td><td>BAHIA</td><td>FEIRA DE SANTANA    </td><td>PARDA   </td><td>COVID-19</td></tr>\n",
              "\t<tr><td>04/06/2020</td><td>NAO</td><td>SIM</td><td>NAO</td><td>SIM</td><td>NAO</td><td>NAO</td><td>NA                                                                                         </td><td>26/05/2020</td><td>NAO</td><td>⋯</td><td>NA                                                                 </td><td>NA        </td><td>60</td><td>TESTE RAPIDO - ANTICORPO</td><td>NEGATIVO</td><td>MASCULINO</td><td>BAHIA</td><td>IPIAU               </td><td>AMARELA </td><td>COVID-19</td></tr>\n",
              "\t<tr><td>24/04/2020</td><td>NAO</td><td>NAO</td><td>NAO</td><td>NAO</td><td>SIM</td><td>NAO</td><td>CEFALEIA, MIALGIA, DIARREIA,CORIZA, TONTURA                                                </td><td>22/04/2020</td><td>NAO</td><td>⋯</td><td>NA                                                                 </td><td>22/04/2020</td><td>25</td><td>RT-PCR                  </td><td>POSITIVO</td><td>MASCULINO</td><td>BAHIA</td><td>ITABELA             </td><td>NA      </td><td>COVID-19</td></tr>\n",
              "\t<tr><td>28/04/2020</td><td>NAO</td><td>NAO</td><td>NAO</td><td>SIM</td><td>NAO</td><td>NAO</td><td>NA                                                                                         </td><td>19/04/2020</td><td>NA </td><td>⋯</td><td>NA                                                                 </td><td>28/04/2020</td><td>52</td><td>RT-PCR                  </td><td>NEGATIVO</td><td>MASCULINO</td><td>BAHIA</td><td>ILHEUS              </td><td>PARDA   </td><td>COVID-19</td></tr>\n",
              "\t<tr><td>03/07/2020</td><td>NAO</td><td>NAO</td><td>NAO</td><td>NAO</td><td>SIM</td><td>NAO</td><td>ASSINTOMATICO/CONTATO COM CASO POSITIVO                                                    </td><td>03/07/2020</td><td>NAO</td><td>⋯</td><td>NA                                                                 </td><td>03/07/2020</td><td>49</td><td>TESTE RAPIDO - ANTICORPO</td><td>NEGATIVO</td><td>MASCULINO</td><td>BAHIA</td><td>CAIRU               </td><td>PARDA   </td><td>COVID-19</td></tr>\n",
              "\t<tr><td>16/06/2020</td><td>NAO</td><td>NAO</td><td>NAO</td><td>NAO</td><td>SIM</td><td>NAO</td><td>SEM SINTOMAS                                                                               </td><td>12/06/2020</td><td>NAO</td><td>⋯</td><td>NA                                                                 </td><td>12/06/2020</td><td>37</td><td>TESTE RAPIDO - ANTICORPO</td><td>NEGATIVO</td><td>MASCULINO</td><td>BAHIA</td><td>SALVADOR            </td><td>PRETA   </td><td>COVID-19</td></tr>\n",
              "\t<tr><td>24/06/2020</td><td>SIM</td><td>NAO</td><td>SIM</td><td>SIM</td><td>NAO</td><td>NAO</td><td>NA                                                                                         </td><td>20/06/2020</td><td>NAO</td><td>⋯</td><td>NA                                                                 </td><td>24/06/2020</td><td>35</td><td>RT-PCR EM TEMPO REAL    </td><td>NEGATIVO</td><td>MASCULINO</td><td>BAHIA</td><td>PIRAI DO NORTE      </td><td>AMARELA </td><td>COVID-19</td></tr>\n",
              "\t<tr><td>08/06/2020</td><td>NAO</td><td>NAO</td><td>NAO</td><td>SIM</td><td>NAO</td><td>NAO</td><td>NA                                                                                         </td><td>29/05/2020</td><td>NAO</td><td>⋯</td><td>NA                                                                 </td><td>02/06/2020</td><td>19</td><td>RT-PCR                  </td><td>POSITIVO</td><td>MASCULINO</td><td>BAHIA</td><td>SALVADOR            </td><td>NA      </td><td>COVID-19</td></tr>\n",
              "\t<tr><td>17/06/2020</td><td>NAO</td><td>NAO</td><td>NAO</td><td>NAO</td><td>SIM</td><td>NAO</td><td>NAUSEAS / VOMITO ADINAMIA (FRAQUEZA) CEFALEIA (DOR DE CABECA)                              </td><td>14/06/2020</td><td>NAO</td><td>⋯</td><td>NA                                                                 </td><td>NA        </td><td>8 </td><td>TESTE RAPIDO - ANTICORPO</td><td>NEGATIVO</td><td>MASCULINO</td><td>BAHIA</td><td>VITORIA DA CONQUISTA</td><td>PARDA   </td><td>COVID-19</td></tr>\n",
              "\t<tr><td>23/06/2020</td><td>NAO</td><td>NAO</td><td>SIM</td><td>SIM</td><td>SIM</td><td>NAO</td><td>CEFALEIA.                                                                                  </td><td>15/05/2020</td><td>NAO</td><td>⋯</td><td>NA                                                                 </td><td>NA        </td><td>62</td><td>NA                      </td><td>NA      </td><td>FEMININO </td><td>BAHIA</td><td>ITAMARAJU           </td><td>PARDA   </td><td>COVID-19</td></tr>\n",
              "\t<tr><td>10/06/2020</td><td>NAO</td><td>NAO</td><td>NAO</td><td>NAO</td><td>SIM</td><td>NAO</td><td>ASSINTOMATICA                                                                              </td><td>10/06/2020</td><td>NAO</td><td>⋯</td><td>NA                                                                 </td><td>NA        </td><td>58</td><td>RT-PCR                  </td><td>POSITIVO</td><td>FEMININO </td><td>BAHIA</td><td>IBIRATAIA           </td><td>PARDA   </td><td>COVID-19</td></tr>\n",
              "\t<tr><td>16/04/2020</td><td>SIM</td><td>NAO</td><td>NAO</td><td>SIM</td><td>NAO</td><td>NAO</td><td>NA                                                                                         </td><td>14/04/2020</td><td>NAO</td><td>⋯</td><td>NA                                                                 </td><td>NA        </td><td>21</td><td>NA                      </td><td>NA      </td><td>FEMININO </td><td>BAHIA</td><td>PAULO AFONSO        </td><td>NA      </td><td>COVID-19</td></tr>\n",
              "\t<tr><td>09/05/2020</td><td>SIM</td><td>NAO</td><td>NAO</td><td>NAO</td><td>NAO</td><td>SIM</td><td>DIARREIA                                                                                   </td><td>05/05/2020</td><td>NAO</td><td>⋯</td><td>ENFERMEIRO                                                         </td><td>09/05/2020</td><td>26</td><td>RT-PCR EM TEMPO REAL    </td><td>NEGATIVO</td><td>FEMININO </td><td>BAHIA</td><td>SALVADOR            </td><td>PRETA   </td><td>COVID-19</td></tr>\n",
              "\t<tr><td>01/07/2020</td><td>NAO</td><td>NAO</td><td>NAO</td><td>NAO</td><td>SIM</td><td>NAO</td><td>ASSITOMATICO                                                                               </td><td>01/07/2020</td><td>NAO</td><td>⋯</td><td>NA                                                                 </td><td>NA        </td><td>7 </td><td>NA                      </td><td>NA      </td><td>FEMININO </td><td>BAHIA</td><td>EUNAPOLIS           </td><td>PARDA   </td><td>COVID-19</td></tr>\n",
              "\t<tr><td>10/06/2020</td><td>NAO</td><td>NAO</td><td>NAO</td><td>SIM</td><td>SIM</td><td>SIM</td><td>CORIZA                                                                                     </td><td>06/06/2020</td><td>NAO</td><td>⋯</td><td>2235 - ENFERMEIRO                                                  </td><td>NA        </td><td>35</td><td>RT-PCR EM TEMPO REAL    </td><td>NEGATIVO</td><td>FEMININO </td><td>BAHIA</td><td>IBIRATAIA           </td><td>BRANCA  </td><td>COVID-19</td></tr>\n",
              "\t<tr><td>01/07/2020</td><td>SIM</td><td>NAO</td><td>NAO</td><td>SIM</td><td>NAO</td><td>NAO</td><td>NA                                                                                         </td><td>24/06/2020</td><td>NAO</td><td>⋯</td><td>NA                                                                 </td><td>01/07/2020</td><td>22</td><td>TESTE RAPIDO - ANTICORPO</td><td>NEGATIVO</td><td>FEMININO </td><td>BAHIA</td><td>PORTO SEGURO        </td><td>PRETA   </td><td>COVID-19</td></tr>\n",
              "\t<tr><td>18/06/2020</td><td>NAO</td><td>SIM</td><td>SIM</td><td>SIM</td><td>SIM</td><td>NAO</td><td>CEFALEIA                                                                                   </td><td>16/06/2020</td><td>NAO</td><td>⋯</td><td>NA                                                                 </td><td>18/06/2020</td><td>21</td><td>RT-PCR EM TEMPO REAL    </td><td>NEGATIVO</td><td>FEMININO </td><td>BAHIA</td><td>SALVADOR            </td><td>NA      </td><td>COVID-19</td></tr>\n",
              "\t<tr><td>25/06/2020</td><td>NAO</td><td>NAO</td><td>NAO</td><td>NAO</td><td>SIM</td><td>NAO</td><td>ASSINTOMATICO                                                                              </td><td>19/05/2020</td><td>NAO</td><td>⋯</td><td>NA                                                                 </td><td>NA        </td><td>0 </td><td>NA                      </td><td>NA      </td><td>FEMININO </td><td>BAHIA</td><td>SALVADOR            </td><td>PARDA   </td><td>COVID-19</td></tr>\n",
              "\t<tr><td>10/06/2020</td><td>NA </td><td>NA </td><td>NA </td><td>NA </td><td>NA </td><td>NA </td><td>CORIZA,CEFALIA,,PERDA PALADAR                                                              </td><td>05/06/2020</td><td>NA </td><td>⋯</td><td>NA                                                                 </td><td>09/06/2020</td><td>13</td><td>RT-PCR EM TEMPO REAL    </td><td>POSITIVO</td><td>FEMININO </td><td>BAHIA</td><td>FEIRA DE SANTANA    </td><td>PARDA   </td><td>COVID-19</td></tr>\n",
              "\t<tr><td>28/05/2020</td><td>NAO</td><td>SIM</td><td>NAO</td><td>NAO</td><td>NAO</td><td>NAO</td><td>NA                                                                                         </td><td>26/05/2020</td><td>NAO</td><td>⋯</td><td>NA                                                                 </td><td>NA        </td><td>0 </td><td>RT-PCR                  </td><td>NEGATIVO</td><td>MASCULINO</td><td>BAHIA</td><td>CANARANA            </td><td>PARDA   </td><td>COVID-19</td></tr>\n",
              "\t<tr><td>28/05/2020</td><td>NAO</td><td>SIM</td><td>NAO</td><td>NAO</td><td>NAO</td><td>NAO</td><td>NA                                                                                         </td><td>26/05/2020</td><td>NAO</td><td>⋯</td><td>NA                                                                 </td><td>NA        </td><td>0 </td><td>RT-PCR                  </td><td>NEGATIVO</td><td>FEMININO </td><td>BAHIA</td><td>CANARANA            </td><td>PARDA   </td><td>COVID-19</td></tr>\n",
              "\t<tr><td>18/06/2020</td><td>NAO</td><td>NAO</td><td>SIM</td><td>SIM</td><td>SIM</td><td>NAO</td><td>FALTA DE PALADAR E OFALTO                                                                  </td><td>10/06/2020</td><td>NAO</td><td>⋯</td><td>NA                                                                 </td><td>18/06/2020</td><td>38</td><td>RT-PCR EM TEMPO REAL    </td><td>NEGATIVO</td><td>FEMININO </td><td>BAHIA</td><td>COARACI             </td><td>PARDA   </td><td>COVID-19</td></tr>\n",
              "\t<tr><td>04/06/2020</td><td>NAO</td><td>NAO</td><td>NAO</td><td>SIM</td><td>NAO</td><td>NAO</td><td>NA                                                                                         </td><td>22/05/2020</td><td>NAO</td><td>⋯</td><td>NA                                                                 </td><td>NA        </td><td>32</td><td>RT-PCR                  </td><td>POSITIVO</td><td>FEMININO </td><td>BAHIA</td><td>VALENTE             </td><td>BRANCA  </td><td>COVID-19</td></tr>\n",
              "</tbody>\n",
              "</table>\n"
            ],
            "text/markdown": "\nA tibble: 50 × 29\n\n| DATA DA NOTIFICACAO &lt;chr&gt; | DOR DE GARGANTA &lt;chr&gt; | DISPNEIA &lt;chr&gt; | FEBRE &lt;chr&gt; | TOSSE &lt;chr&gt; | OUTROS &lt;chr&gt; | E PROFISSIONAL DE SAUDE? &lt;chr&gt; | DESCRICAO DO SINTOMA &lt;chr&gt; | DATA DO INICIO DOS SINTOMAS &lt;chr&gt; | DOENCAS RESPIRATORIAS CRONICAS DESCOMPENSADAS &lt;chr&gt; | ⋯ ⋯ | CBO &lt;chr&gt; | DATA DA COLETA DO TESTE &lt;chr&gt; | IDADE EM ANOS &lt;chr&gt; | TIPO DE TESTE &lt;chr&gt; | RESULTADO DO TESTE &lt;chr&gt; | SEXO &lt;chr&gt; | ESTADO DE RESIDENCIA &lt;chr&gt; | MUNICIPIO DE RESIDENCIA &lt;chr&gt; | RACA/COR &lt;chr&gt; | EPIDEMIA &lt;chr&gt; |\n|---|---|---|---|---|---|---|---|---|---|---|---|---|---|---|---|---|---|---|---|---|\n| 07/06/2020 | SIM | NAO | NAO | NAO | NAO | SIM | NA                                                                                          | 03/06/2020 | NAO | ⋯ | 3241 - TECNOLOGO OU TECNICO EM METODOS DE DIGANOSTICO E TERAPEUTICA | 07/06/2020 | 31 | RT-PCR EM TEMPO REAL     | NEGATIVO | FEMININO  | BAHIA | FEIRA DE SANTANA     | INDIGENA | COVID-19 |\n| 05/06/2020 | NAO | NAO | SIM | NAO | SIM | NAO | DOR TORACICA                                                                                | 01/06/2020 | NAO | ⋯ | NA                                                                  | NA         | 40 | NA                       | NA       | FEMININO  | BAHIA | SALVADOR             | PARDA    | COVID-19 |\n| 16/06/2020 | SIM | NAO | NAO | SIM | SIM | SIM | CEFALEIA                                                                                    | 15/06/2020 | NAO | ⋯ | 3516 - TECNICO DE SEGURANCA NO TRABALHO OU HIGIENE OCUPACIONAL      | NA         | 36 | RT-PCR EM TEMPO REAL     | NEGATIVO | FEMININO  | BAHIA | OUTRO ESTADO         | PRETA    | COVID-19 |\n| 30/06/2020 | NAO | NAO | NAO | NAO | SIM | NAO | CEFALEIA                                                                                    | 30/06/2020 | NAO | ⋯ | NA                                                                  | 30/06/2020 | 34 | RT-PCR EM TEMPO REAL     | POSITIVO | FEMININO  | BAHIA | MADRE DE DEUS        | PARDA    | COVID-19 |\n| 27/05/2020 | NAO | NAO | NAO | NAO | SIM | NAO | ASSINTOMATICA CONTATO COM CASO POSITIVO                                                     | 25/05/2020 | NAO | ⋯ | NA                                                                  | 25/05/2020 | 50 | TESTE RAPIDO - ANTICORPO | POSITIVO | FEMININO  | BAHIA | CANDIDO SALES        | AMARELA  | COVID-19 |\n| 17/04/2020 | NAO | NAO | NAO | SIM | NAO | NAO | NA                                                                                          | 13/04/2020 | NAO | ⋯ | NA                                                                  | NA         | 45 | NA                       | NA       | FEMININO  | BAHIA | ITORORO              | PARDA    | COVID-19 |\n| 20/05/2020 | NAO | NAO | NAO | NAO | SIM | SIM | CEFALEIA, ANOSMIA, DOR NO PEITO                                                             | 12/05/2020 | NAO | ⋯ | ENFERMEIRO                                                          | 19/05/2020 | 36 | TESTE RAPIDO - ANTICORPO | POSITIVO | FEMININO  | BAHIA | SIMOES FILHO         | BRANCA   | COVID-19 |\n| 14/04/2020 | SIM | NAO | SIM | NAO | SIM | NAO | DORES NO CORPO,CEFALEIA                                                                     | 13/04/2020 | NAO | ⋯ | NA                                                                  | NA         | 22 | NA                       | NA       | FEMININO  | BAHIA | SALVADOR             | NA       | COVID-19 |\n| 20/06/2020 | NAO | NAO | NAO | NAO | SIM | NAO | ASSINTOMATICO                                                                               | 19/05/2020 | NAO | ⋯ | NA                                                                  | NA         | 23 | NA                       | NA       | FEMININO  | BAHIA | SALVADOR             | AMARELA  | COVID-19 |\n| 10/06/2020 | NAO | NAO | NAO | NAO | SIM | NAO | MIALGIA,CEFALEIA,CORIZA                                                                     | 01/06/2020 | NAO | ⋯ | NA                                                                  | 09/06/2020 | 34 | TESTE RAPIDO - ANTICORPO | NEGATIVO | FEMININO  | BAHIA | IRARA                | PARDA    | COVID-19 |\n| 20/03/2020 | NAO | NAO | NAO | SIM | SIM | NAO | DIARREIA/DIFICULDADE DE RESPIRAR/DOR NO CORPO                                               | 17/03/2020 | NAO | ⋯ | NA                                                                  | NA         | 19 | NA                       | NA       | FEMININO  | BAHIA | ILHEUS               | NA       | COVID-19 |\n| 25/05/2020 | NAO | NAO | NAO | NAO | SIM | NAO | SEM SINTOMAS                                                                                | 20/05/2020 | NAO | ⋯ | NA                                                                  | 22/05/2020 | 29 | NA                       | NA       | FEMININO  | BAHIA | SALVADOR             | NA       | COVID-19 |\n| 26/06/2020 | NAO | NAO | NAO | NAO | SIM | NAO | ASSITOMATICO                                                                                | 26/06/2020 | SIM | ⋯ | NA                                                                  | 26/06/2020 | 19 | TESTE RAPIDO - ANTICORPO | NEGATIVO | FEMININO  | BAHIA | IPIAU                | PRETA    | COVID-19 |\n| 27/05/2020 | NAO | NAO | NAO | NAO | SIM | NAO | SEM SINTOMAS                                                                                | 27/05/2020 | NAO | ⋯ | NA                                                                  | 04/05/2020 | 26 | RT-PCR                   | POSITIVO | FEMININO  | BAHIA | SALVADOR             | PRETA    | COVID-19 |\n| 27/06/2020 | NAO | NAO | NAO | NAO | SIM | NAO | ASSINTOMATICO                                                                               | 25/06/2020 | NAO | ⋯ | NA                                                                  | NA         | 14 | RT-PCR                   | POSITIVO | FEMININO  | BAHIA | SALVADOR             | PARDA    | COVID-19 |\n| 13/04/2020 | NAO | NAO | NAO | SIM | NAO | NAO | NA                                                                                          | 08/04/2020 | NAO | ⋯ | NA                                                                  | 13/04/2020 | 33 | NA                       | NA       | MASCULINO | BAHIA | SALVADOR             | NA       | COVID-19 |\n| 20/03/2020 | NAO | NAO | NAO | NAO | SIM | NAO | CORIZA CEFALEIA (DOR DE CABECA)                                                             | 16/03/2020 | NAO | ⋯ | NA                                                                  | NA         | 65 | NA                       | NA       | FEMININO  | BAHIA | VITORIA DA CONQUISTA | PARDA    | COVID-19 |\n| 03/07/2020 | NAO | NAO | NAO | NAO | SIM | NA  | NA                                                                                          | NA         | NAO | ⋯ | NA                                                                  | 26/06/2020 | 36 | TESTE RAPIDO - ANTICORPO | NEGATIVO | MASCULINO | BAHIA | SALVADOR             | NA       | COVID-19 |\n| 31/05/2020 | NAO | NAO | NAO | SIM | SIM | NAO | DESCONFORTO RESPIRATORIO                                                                    | 29/05/2020 | NAO | ⋯ | NA                                                                  | 31/05/2020 | 81 | RT-PCR                   | POSITIVO | MASCULINO | BAHIA | SALVADOR             | NA       | COVID-19 |\n| 03/07/2020 | NAO | NAO | NAO | NAO | SIM | NAO | ASSINTOMATICO                                                                               | 15/06/2020 | NAO | ⋯ | NA                                                                  | 23/06/2020 | 35 | TESTE RAPIDO - ANTIGENO  | POSITIVO | FEMININO  | BAHIA | SALVADOR             | PARDA    | COVID-19 |\n| 14/04/2020 | NAO | NAO | NAO | NAO | SIM | SIM | CEFALEIA, PERDA DO PALADAR E OLFATO                                                         | 13/04/2020 | NAO | ⋯ | OUTROS                                                              | 16/04/2020 | 32 | RT-PCR                   | NEGATIVO | FEMININO  | BAHIA | FEIRA DE SANTANA     | NA       | COVID-19 |\n| 18/06/2020 | NAO | NAO | NAO | NAO | SIM | NAO | SEM SINTOMAS                                                                                | 17/06/2020 | NAO | ⋯ | NA                                                                  | 17/06/2020 | 26 | TESTE RAPIDO - ANTICORPO | NEGATIVO | FEMININO  | BAHIA | SALVADOR             | PARDA    | COVID-19 |\n| 25/06/2020 | NAO | SIM | NAO | SIM | SIM | NAO | PERDA DE OLFATO                                                                             | 22/06/2020 | NAO | ⋯ | NA                                                                  | 22/06/2020 | 17 | TESTE RAPIDO - ANTICORPO | NEGATIVO | FEMININO  | BAHIA | PORTO SEGURO         | PARDA    | COVID-19 |\n| 01/07/2020 | NAO | NAO | SIM | NAO | SIM | NAO | CALAFRIOS , DOR ABDOMINAL E CONTATO COM PACIENTE POSITIVO PARA COVID19 E E PERDA DO PALADAR | 28/06/2020 | NAO | ⋯ | NA                                                                  | 01/07/2020 | 47 | RT-PCR EM TEMPO REAL     | NEGATIVO | FEMININO  | BAHIA | SALVADOR             | PARDA    | COVID-19 |\n| 15/06/2020 | NAO | NAO | NAO | NAO | SIM | SIM | ASSINTOMATICO                                                                               | 15/06/2020 | NAO | ⋯ | 239 - OUTROS PROFISSIONAIS DE ENSINO                                | 15/06/2020 | 31 | TESTE RAPIDO - ANTICORPO | NEGATIVO | FEMININO  | BAHIA | ABAIRA               | PARDA    | COVID-19 |\n| 26/06/2020 | NAO | NAO | SIM | SIM | SIM | NAO | MIALGIA, DOR ABDOMINAL, CEFALEIA                                                            | 22/06/2020 | NAO | ⋯ | NA                                                                  | NA         | 40 | NA                       | NA       | FEMININO  | BAHIA | PORTO SEGURO         | PARDA    | COVID-19 |\n| 28/04/2020 | NA  | NA  | NA  | NA  | NA  | NA  | DOR NO CORPO                                                                                | 04/03/2020 | NA  | ⋯ | NA                                                                  | 07/03/2020 | 49 | RT-PCR                   | NEGATIVO | FEMININO  | BAHIA | SALVADOR             | NA       | COVID-19 |\n| 22/04/2020 | NAO | SIM | SIM | SIM | SIM | NAO | DOR NO CORPO                                                                                | 20/04/2020 | NA  | ⋯ | NA                                                                  | 22/04/2020 | 31 | RT-PCR                   | NEGATIVO | MASCULINO | BAHIA | FEIRA DE SANTANA     | PARDA    | COVID-19 |\n| 04/06/2020 | NAO | SIM | NAO | SIM | NAO | NAO | NA                                                                                          | 26/05/2020 | NAO | ⋯ | NA                                                                  | NA         | 60 | TESTE RAPIDO - ANTICORPO | NEGATIVO | MASCULINO | BAHIA | IPIAU                | AMARELA  | COVID-19 |\n| 24/04/2020 | NAO | NAO | NAO | NAO | SIM | NAO | CEFALEIA, MIALGIA, DIARREIA,CORIZA, TONTURA                                                 | 22/04/2020 | NAO | ⋯ | NA                                                                  | 22/04/2020 | 25 | RT-PCR                   | POSITIVO | MASCULINO | BAHIA | ITABELA              | NA       | COVID-19 |\n| 28/04/2020 | NAO | NAO | NAO | SIM | NAO | NAO | NA                                                                                          | 19/04/2020 | NA  | ⋯ | NA                                                                  | 28/04/2020 | 52 | RT-PCR                   | NEGATIVO | MASCULINO | BAHIA | ILHEUS               | PARDA    | COVID-19 |\n| 03/07/2020 | NAO | NAO | NAO | NAO | SIM | NAO | ASSINTOMATICO/CONTATO COM CASO POSITIVO                                                     | 03/07/2020 | NAO | ⋯ | NA                                                                  | 03/07/2020 | 49 | TESTE RAPIDO - ANTICORPO | NEGATIVO | MASCULINO | BAHIA | CAIRU                | PARDA    | COVID-19 |\n| 16/06/2020 | NAO | NAO | NAO | NAO | SIM | NAO | SEM SINTOMAS                                                                                | 12/06/2020 | NAO | ⋯ | NA                                                                  | 12/06/2020 | 37 | TESTE RAPIDO - ANTICORPO | NEGATIVO | MASCULINO | BAHIA | SALVADOR             | PRETA    | COVID-19 |\n| 24/06/2020 | SIM | NAO | SIM | SIM | NAO | NAO | NA                                                                                          | 20/06/2020 | NAO | ⋯ | NA                                                                  | 24/06/2020 | 35 | RT-PCR EM TEMPO REAL     | NEGATIVO | MASCULINO | BAHIA | PIRAI DO NORTE       | AMARELA  | COVID-19 |\n| 08/06/2020 | NAO | NAO | NAO | SIM | NAO | NAO | NA                                                                                          | 29/05/2020 | NAO | ⋯ | NA                                                                  | 02/06/2020 | 19 | RT-PCR                   | POSITIVO | MASCULINO | BAHIA | SALVADOR             | NA       | COVID-19 |\n| 17/06/2020 | NAO | NAO | NAO | NAO | SIM | NAO | NAUSEAS / VOMITO ADINAMIA (FRAQUEZA) CEFALEIA (DOR DE CABECA)                               | 14/06/2020 | NAO | ⋯ | NA                                                                  | NA         | 8  | TESTE RAPIDO - ANTICORPO | NEGATIVO | MASCULINO | BAHIA | VITORIA DA CONQUISTA | PARDA    | COVID-19 |\n| 23/06/2020 | NAO | NAO | SIM | SIM | SIM | NAO | CEFALEIA.                                                                                   | 15/05/2020 | NAO | ⋯ | NA                                                                  | NA         | 62 | NA                       | NA       | FEMININO  | BAHIA | ITAMARAJU            | PARDA    | COVID-19 |\n| 10/06/2020 | NAO | NAO | NAO | NAO | SIM | NAO | ASSINTOMATICA                                                                               | 10/06/2020 | NAO | ⋯ | NA                                                                  | NA         | 58 | RT-PCR                   | POSITIVO | FEMININO  | BAHIA | IBIRATAIA            | PARDA    | COVID-19 |\n| 16/04/2020 | SIM | NAO | NAO | SIM | NAO | NAO | NA                                                                                          | 14/04/2020 | NAO | ⋯ | NA                                                                  | NA         | 21 | NA                       | NA       | FEMININO  | BAHIA | PAULO AFONSO         | NA       | COVID-19 |\n| 09/05/2020 | SIM | NAO | NAO | NAO | NAO | SIM | DIARREIA                                                                                    | 05/05/2020 | NAO | ⋯ | ENFERMEIRO                                                          | 09/05/2020 | 26 | RT-PCR EM TEMPO REAL     | NEGATIVO | FEMININO  | BAHIA | SALVADOR             | PRETA    | COVID-19 |\n| 01/07/2020 | NAO | NAO | NAO | NAO | SIM | NAO | ASSITOMATICO                                                                                | 01/07/2020 | NAO | ⋯ | NA                                                                  | NA         | 7  | NA                       | NA       | FEMININO  | BAHIA | EUNAPOLIS            | PARDA    | COVID-19 |\n| 10/06/2020 | NAO | NAO | NAO | SIM | SIM | SIM | CORIZA                                                                                      | 06/06/2020 | NAO | ⋯ | 2235 - ENFERMEIRO                                                   | NA         | 35 | RT-PCR EM TEMPO REAL     | NEGATIVO | FEMININO  | BAHIA | IBIRATAIA            | BRANCA   | COVID-19 |\n| 01/07/2020 | SIM | NAO | NAO | SIM | NAO | NAO | NA                                                                                          | 24/06/2020 | NAO | ⋯ | NA                                                                  | 01/07/2020 | 22 | TESTE RAPIDO - ANTICORPO | NEGATIVO | FEMININO  | BAHIA | PORTO SEGURO         | PRETA    | COVID-19 |\n| 18/06/2020 | NAO | SIM | SIM | SIM | SIM | NAO | CEFALEIA                                                                                    | 16/06/2020 | NAO | ⋯ | NA                                                                  | 18/06/2020 | 21 | RT-PCR EM TEMPO REAL     | NEGATIVO | FEMININO  | BAHIA | SALVADOR             | NA       | COVID-19 |\n| 25/06/2020 | NAO | NAO | NAO | NAO | SIM | NAO | ASSINTOMATICO                                                                               | 19/05/2020 | NAO | ⋯ | NA                                                                  | NA         | 0  | NA                       | NA       | FEMININO  | BAHIA | SALVADOR             | PARDA    | COVID-19 |\n| 10/06/2020 | NA  | NA  | NA  | NA  | NA  | NA  | CORIZA,CEFALIA,,PERDA PALADAR                                                               | 05/06/2020 | NA  | ⋯ | NA                                                                  | 09/06/2020 | 13 | RT-PCR EM TEMPO REAL     | POSITIVO | FEMININO  | BAHIA | FEIRA DE SANTANA     | PARDA    | COVID-19 |\n| 28/05/2020 | NAO | SIM | NAO | NAO | NAO | NAO | NA                                                                                          | 26/05/2020 | NAO | ⋯ | NA                                                                  | NA         | 0  | RT-PCR                   | NEGATIVO | MASCULINO | BAHIA | CANARANA             | PARDA    | COVID-19 |\n| 28/05/2020 | NAO | SIM | NAO | NAO | NAO | NAO | NA                                                                                          | 26/05/2020 | NAO | ⋯ | NA                                                                  | NA         | 0  | RT-PCR                   | NEGATIVO | FEMININO  | BAHIA | CANARANA             | PARDA    | COVID-19 |\n| 18/06/2020 | NAO | NAO | SIM | SIM | SIM | NAO | FALTA DE PALADAR E OFALTO                                                                   | 10/06/2020 | NAO | ⋯ | NA                                                                  | 18/06/2020 | 38 | RT-PCR EM TEMPO REAL     | NEGATIVO | FEMININO  | BAHIA | COARACI              | PARDA    | COVID-19 |\n| 04/06/2020 | NAO | NAO | NAO | SIM | NAO | NAO | NA                                                                                          | 22/05/2020 | NAO | ⋯ | NA                                                                  | NA         | 32 | RT-PCR                   | POSITIVO | FEMININO  | BAHIA | VALENTE              | BRANCA   | COVID-19 |\n\n",
            "text/latex": "A tibble: 50 × 29\n\\begin{tabular}{lllllllllllllllllllll}\n DATA DA NOTIFICACAO & DOR DE GARGANTA & DISPNEIA & FEBRE & TOSSE & OUTROS & E PROFISSIONAL DE SAUDE? & DESCRICAO DO SINTOMA & DATA DO INICIO DOS SINTOMAS & DOENCAS RESPIRATORIAS CRONICAS DESCOMPENSADAS & ⋯ & CBO & DATA DA COLETA DO TESTE & IDADE EM ANOS & TIPO DE TESTE & RESULTADO DO TESTE & SEXO & ESTADO DE RESIDENCIA & MUNICIPIO DE RESIDENCIA & RACA/COR & EPIDEMIA\\\\\n <chr> & <chr> & <chr> & <chr> & <chr> & <chr> & <chr> & <chr> & <chr> & <chr> & ⋯ & <chr> & <chr> & <chr> & <chr> & <chr> & <chr> & <chr> & <chr> & <chr> & <chr>\\\\\n\\hline\n\t 07/06/2020 & SIM & NAO & NAO & NAO & NAO & SIM & NA                                                                                          & 03/06/2020 & NAO & ⋯ & 3241 - TECNOLOGO OU TECNICO EM METODOS DE DIGANOSTICO E TERAPEUTICA & 07/06/2020 & 31 & RT-PCR EM TEMPO REAL     & NEGATIVO & FEMININO  & BAHIA & FEIRA DE SANTANA     & INDIGENA & COVID-19\\\\\n\t 05/06/2020 & NAO & NAO & SIM & NAO & SIM & NAO & DOR TORACICA                                                                                & 01/06/2020 & NAO & ⋯ & NA                                                                  & NA         & 40 & NA                       & NA       & FEMININO  & BAHIA & SALVADOR             & PARDA    & COVID-19\\\\\n\t 16/06/2020 & SIM & NAO & NAO & SIM & SIM & SIM & CEFALEIA                                                                                    & 15/06/2020 & NAO & ⋯ & 3516 - TECNICO DE SEGURANCA NO TRABALHO OU HIGIENE OCUPACIONAL      & NA         & 36 & RT-PCR EM TEMPO REAL     & NEGATIVO & FEMININO  & BAHIA & OUTRO ESTADO         & PRETA    & COVID-19\\\\\n\t 30/06/2020 & NAO & NAO & NAO & NAO & SIM & NAO & CEFALEIA                                                                                    & 30/06/2020 & NAO & ⋯ & NA                                                                  & 30/06/2020 & 34 & RT-PCR EM TEMPO REAL     & POSITIVO & FEMININO  & BAHIA & MADRE DE DEUS        & PARDA    & COVID-19\\\\\n\t 27/05/2020 & NAO & NAO & NAO & NAO & SIM & NAO & ASSINTOMATICA CONTATO COM CASO POSITIVO                                                     & 25/05/2020 & NAO & ⋯ & NA                                                                  & 25/05/2020 & 50 & TESTE RAPIDO - ANTICORPO & POSITIVO & FEMININO  & BAHIA & CANDIDO SALES        & AMARELA  & COVID-19\\\\\n\t 17/04/2020 & NAO & NAO & NAO & SIM & NAO & NAO & NA                                                                                          & 13/04/2020 & NAO & ⋯ & NA                                                                  & NA         & 45 & NA                       & NA       & FEMININO  & BAHIA & ITORORO              & PARDA    & COVID-19\\\\\n\t 20/05/2020 & NAO & NAO & NAO & NAO & SIM & SIM & CEFALEIA, ANOSMIA, DOR NO PEITO                                                             & 12/05/2020 & NAO & ⋯ & ENFERMEIRO                                                          & 19/05/2020 & 36 & TESTE RAPIDO - ANTICORPO & POSITIVO & FEMININO  & BAHIA & SIMOES FILHO         & BRANCA   & COVID-19\\\\\n\t 14/04/2020 & SIM & NAO & SIM & NAO & SIM & NAO & DORES NO CORPO,CEFALEIA                                                                     & 13/04/2020 & NAO & ⋯ & NA                                                                  & NA         & 22 & NA                       & NA       & FEMININO  & BAHIA & SALVADOR             & NA       & COVID-19\\\\\n\t 20/06/2020 & NAO & NAO & NAO & NAO & SIM & NAO & ASSINTOMATICO                                                                               & 19/05/2020 & NAO & ⋯ & NA                                                                  & NA         & 23 & NA                       & NA       & FEMININO  & BAHIA & SALVADOR             & AMARELA  & COVID-19\\\\\n\t 10/06/2020 & NAO & NAO & NAO & NAO & SIM & NAO & MIALGIA,CEFALEIA,CORIZA                                                                     & 01/06/2020 & NAO & ⋯ & NA                                                                  & 09/06/2020 & 34 & TESTE RAPIDO - ANTICORPO & NEGATIVO & FEMININO  & BAHIA & IRARA                & PARDA    & COVID-19\\\\\n\t 20/03/2020 & NAO & NAO & NAO & SIM & SIM & NAO & DIARREIA/DIFICULDADE DE RESPIRAR/DOR NO CORPO                                               & 17/03/2020 & NAO & ⋯ & NA                                                                  & NA         & 19 & NA                       & NA       & FEMININO  & BAHIA & ILHEUS               & NA       & COVID-19\\\\\n\t 25/05/2020 & NAO & NAO & NAO & NAO & SIM & NAO & SEM SINTOMAS                                                                                & 20/05/2020 & NAO & ⋯ & NA                                                                  & 22/05/2020 & 29 & NA                       & NA       & FEMININO  & BAHIA & SALVADOR             & NA       & COVID-19\\\\\n\t 26/06/2020 & NAO & NAO & NAO & NAO & SIM & NAO & ASSITOMATICO                                                                                & 26/06/2020 & SIM & ⋯ & NA                                                                  & 26/06/2020 & 19 & TESTE RAPIDO - ANTICORPO & NEGATIVO & FEMININO  & BAHIA & IPIAU                & PRETA    & COVID-19\\\\\n\t 27/05/2020 & NAO & NAO & NAO & NAO & SIM & NAO & SEM SINTOMAS                                                                                & 27/05/2020 & NAO & ⋯ & NA                                                                  & 04/05/2020 & 26 & RT-PCR                   & POSITIVO & FEMININO  & BAHIA & SALVADOR             & PRETA    & COVID-19\\\\\n\t 27/06/2020 & NAO & NAO & NAO & NAO & SIM & NAO & ASSINTOMATICO                                                                               & 25/06/2020 & NAO & ⋯ & NA                                                                  & NA         & 14 & RT-PCR                   & POSITIVO & FEMININO  & BAHIA & SALVADOR             & PARDA    & COVID-19\\\\\n\t 13/04/2020 & NAO & NAO & NAO & SIM & NAO & NAO & NA                                                                                          & 08/04/2020 & NAO & ⋯ & NA                                                                  & 13/04/2020 & 33 & NA                       & NA       & MASCULINO & BAHIA & SALVADOR             & NA       & COVID-19\\\\\n\t 20/03/2020 & NAO & NAO & NAO & NAO & SIM & NAO & CORIZA CEFALEIA (DOR DE CABECA)                                                             & 16/03/2020 & NAO & ⋯ & NA                                                                  & NA         & 65 & NA                       & NA       & FEMININO  & BAHIA & VITORIA DA CONQUISTA & PARDA    & COVID-19\\\\\n\t 03/07/2020 & NAO & NAO & NAO & NAO & SIM & NA  & NA                                                                                          & NA         & NAO & ⋯ & NA                                                                  & 26/06/2020 & 36 & TESTE RAPIDO - ANTICORPO & NEGATIVO & MASCULINO & BAHIA & SALVADOR             & NA       & COVID-19\\\\\n\t 31/05/2020 & NAO & NAO & NAO & SIM & SIM & NAO & DESCONFORTO RESPIRATORIO                                                                    & 29/05/2020 & NAO & ⋯ & NA                                                                  & 31/05/2020 & 81 & RT-PCR                   & POSITIVO & MASCULINO & BAHIA & SALVADOR             & NA       & COVID-19\\\\\n\t 03/07/2020 & NAO & NAO & NAO & NAO & SIM & NAO & ASSINTOMATICO                                                                               & 15/06/2020 & NAO & ⋯ & NA                                                                  & 23/06/2020 & 35 & TESTE RAPIDO - ANTIGENO  & POSITIVO & FEMININO  & BAHIA & SALVADOR             & PARDA    & COVID-19\\\\\n\t 14/04/2020 & NAO & NAO & NAO & NAO & SIM & SIM & CEFALEIA, PERDA DO PALADAR E OLFATO                                                         & 13/04/2020 & NAO & ⋯ & OUTROS                                                              & 16/04/2020 & 32 & RT-PCR                   & NEGATIVO & FEMININO  & BAHIA & FEIRA DE SANTANA     & NA       & COVID-19\\\\\n\t 18/06/2020 & NAO & NAO & NAO & NAO & SIM & NAO & SEM SINTOMAS                                                                                & 17/06/2020 & NAO & ⋯ & NA                                                                  & 17/06/2020 & 26 & TESTE RAPIDO - ANTICORPO & NEGATIVO & FEMININO  & BAHIA & SALVADOR             & PARDA    & COVID-19\\\\\n\t 25/06/2020 & NAO & SIM & NAO & SIM & SIM & NAO & PERDA DE OLFATO                                                                             & 22/06/2020 & NAO & ⋯ & NA                                                                  & 22/06/2020 & 17 & TESTE RAPIDO - ANTICORPO & NEGATIVO & FEMININO  & BAHIA & PORTO SEGURO         & PARDA    & COVID-19\\\\\n\t 01/07/2020 & NAO & NAO & SIM & NAO & SIM & NAO & CALAFRIOS , DOR ABDOMINAL E CONTATO COM PACIENTE POSITIVO PARA COVID19 E E PERDA DO PALADAR & 28/06/2020 & NAO & ⋯ & NA                                                                  & 01/07/2020 & 47 & RT-PCR EM TEMPO REAL     & NEGATIVO & FEMININO  & BAHIA & SALVADOR             & PARDA    & COVID-19\\\\\n\t 15/06/2020 & NAO & NAO & NAO & NAO & SIM & SIM & ASSINTOMATICO                                                                               & 15/06/2020 & NAO & ⋯ & 239 - OUTROS PROFISSIONAIS DE ENSINO                                & 15/06/2020 & 31 & TESTE RAPIDO - ANTICORPO & NEGATIVO & FEMININO  & BAHIA & ABAIRA               & PARDA    & COVID-19\\\\\n\t 26/06/2020 & NAO & NAO & SIM & SIM & SIM & NAO & MIALGIA, DOR ABDOMINAL, CEFALEIA                                                            & 22/06/2020 & NAO & ⋯ & NA                                                                  & NA         & 40 & NA                       & NA       & FEMININO  & BAHIA & PORTO SEGURO         & PARDA    & COVID-19\\\\\n\t 28/04/2020 & NA  & NA  & NA  & NA  & NA  & NA  & DOR NO CORPO                                                                                & 04/03/2020 & NA  & ⋯ & NA                                                                  & 07/03/2020 & 49 & RT-PCR                   & NEGATIVO & FEMININO  & BAHIA & SALVADOR             & NA       & COVID-19\\\\\n\t 22/04/2020 & NAO & SIM & SIM & SIM & SIM & NAO & DOR NO CORPO                                                                                & 20/04/2020 & NA  & ⋯ & NA                                                                  & 22/04/2020 & 31 & RT-PCR                   & NEGATIVO & MASCULINO & BAHIA & FEIRA DE SANTANA     & PARDA    & COVID-19\\\\\n\t 04/06/2020 & NAO & SIM & NAO & SIM & NAO & NAO & NA                                                                                          & 26/05/2020 & NAO & ⋯ & NA                                                                  & NA         & 60 & TESTE RAPIDO - ANTICORPO & NEGATIVO & MASCULINO & BAHIA & IPIAU                & AMARELA  & COVID-19\\\\\n\t 24/04/2020 & NAO & NAO & NAO & NAO & SIM & NAO & CEFALEIA, MIALGIA, DIARREIA,CORIZA, TONTURA                                                 & 22/04/2020 & NAO & ⋯ & NA                                                                  & 22/04/2020 & 25 & RT-PCR                   & POSITIVO & MASCULINO & BAHIA & ITABELA              & NA       & COVID-19\\\\\n\t 28/04/2020 & NAO & NAO & NAO & SIM & NAO & NAO & NA                                                                                          & 19/04/2020 & NA  & ⋯ & NA                                                                  & 28/04/2020 & 52 & RT-PCR                   & NEGATIVO & MASCULINO & BAHIA & ILHEUS               & PARDA    & COVID-19\\\\\n\t 03/07/2020 & NAO & NAO & NAO & NAO & SIM & NAO & ASSINTOMATICO/CONTATO COM CASO POSITIVO                                                     & 03/07/2020 & NAO & ⋯ & NA                                                                  & 03/07/2020 & 49 & TESTE RAPIDO - ANTICORPO & NEGATIVO & MASCULINO & BAHIA & CAIRU                & PARDA    & COVID-19\\\\\n\t 16/06/2020 & NAO & NAO & NAO & NAO & SIM & NAO & SEM SINTOMAS                                                                                & 12/06/2020 & NAO & ⋯ & NA                                                                  & 12/06/2020 & 37 & TESTE RAPIDO - ANTICORPO & NEGATIVO & MASCULINO & BAHIA & SALVADOR             & PRETA    & COVID-19\\\\\n\t 24/06/2020 & SIM & NAO & SIM & SIM & NAO & NAO & NA                                                                                          & 20/06/2020 & NAO & ⋯ & NA                                                                  & 24/06/2020 & 35 & RT-PCR EM TEMPO REAL     & NEGATIVO & MASCULINO & BAHIA & PIRAI DO NORTE       & AMARELA  & COVID-19\\\\\n\t 08/06/2020 & NAO & NAO & NAO & SIM & NAO & NAO & NA                                                                                          & 29/05/2020 & NAO & ⋯ & NA                                                                  & 02/06/2020 & 19 & RT-PCR                   & POSITIVO & MASCULINO & BAHIA & SALVADOR             & NA       & COVID-19\\\\\n\t 17/06/2020 & NAO & NAO & NAO & NAO & SIM & NAO & NAUSEAS / VOMITO ADINAMIA (FRAQUEZA) CEFALEIA (DOR DE CABECA)                               & 14/06/2020 & NAO & ⋯ & NA                                                                  & NA         & 8  & TESTE RAPIDO - ANTICORPO & NEGATIVO & MASCULINO & BAHIA & VITORIA DA CONQUISTA & PARDA    & COVID-19\\\\\n\t 23/06/2020 & NAO & NAO & SIM & SIM & SIM & NAO & CEFALEIA.                                                                                   & 15/05/2020 & NAO & ⋯ & NA                                                                  & NA         & 62 & NA                       & NA       & FEMININO  & BAHIA & ITAMARAJU            & PARDA    & COVID-19\\\\\n\t 10/06/2020 & NAO & NAO & NAO & NAO & SIM & NAO & ASSINTOMATICA                                                                               & 10/06/2020 & NAO & ⋯ & NA                                                                  & NA         & 58 & RT-PCR                   & POSITIVO & FEMININO  & BAHIA & IBIRATAIA            & PARDA    & COVID-19\\\\\n\t 16/04/2020 & SIM & NAO & NAO & SIM & NAO & NAO & NA                                                                                          & 14/04/2020 & NAO & ⋯ & NA                                                                  & NA         & 21 & NA                       & NA       & FEMININO  & BAHIA & PAULO AFONSO         & NA       & COVID-19\\\\\n\t 09/05/2020 & SIM & NAO & NAO & NAO & NAO & SIM & DIARREIA                                                                                    & 05/05/2020 & NAO & ⋯ & ENFERMEIRO                                                          & 09/05/2020 & 26 & RT-PCR EM TEMPO REAL     & NEGATIVO & FEMININO  & BAHIA & SALVADOR             & PRETA    & COVID-19\\\\\n\t 01/07/2020 & NAO & NAO & NAO & NAO & SIM & NAO & ASSITOMATICO                                                                                & 01/07/2020 & NAO & ⋯ & NA                                                                  & NA         & 7  & NA                       & NA       & FEMININO  & BAHIA & EUNAPOLIS            & PARDA    & COVID-19\\\\\n\t 10/06/2020 & NAO & NAO & NAO & SIM & SIM & SIM & CORIZA                                                                                      & 06/06/2020 & NAO & ⋯ & 2235 - ENFERMEIRO                                                   & NA         & 35 & RT-PCR EM TEMPO REAL     & NEGATIVO & FEMININO  & BAHIA & IBIRATAIA            & BRANCA   & COVID-19\\\\\n\t 01/07/2020 & SIM & NAO & NAO & SIM & NAO & NAO & NA                                                                                          & 24/06/2020 & NAO & ⋯ & NA                                                                  & 01/07/2020 & 22 & TESTE RAPIDO - ANTICORPO & NEGATIVO & FEMININO  & BAHIA & PORTO SEGURO         & PRETA    & COVID-19\\\\\n\t 18/06/2020 & NAO & SIM & SIM & SIM & SIM & NAO & CEFALEIA                                                                                    & 16/06/2020 & NAO & ⋯ & NA                                                                  & 18/06/2020 & 21 & RT-PCR EM TEMPO REAL     & NEGATIVO & FEMININO  & BAHIA & SALVADOR             & NA       & COVID-19\\\\\n\t 25/06/2020 & NAO & NAO & NAO & NAO & SIM & NAO & ASSINTOMATICO                                                                               & 19/05/2020 & NAO & ⋯ & NA                                                                  & NA         & 0  & NA                       & NA       & FEMININO  & BAHIA & SALVADOR             & PARDA    & COVID-19\\\\\n\t 10/06/2020 & NA  & NA  & NA  & NA  & NA  & NA  & CORIZA,CEFALIA,,PERDA PALADAR                                                               & 05/06/2020 & NA  & ⋯ & NA                                                                  & 09/06/2020 & 13 & RT-PCR EM TEMPO REAL     & POSITIVO & FEMININO  & BAHIA & FEIRA DE SANTANA     & PARDA    & COVID-19\\\\\n\t 28/05/2020 & NAO & SIM & NAO & NAO & NAO & NAO & NA                                                                                          & 26/05/2020 & NAO & ⋯ & NA                                                                  & NA         & 0  & RT-PCR                   & NEGATIVO & MASCULINO & BAHIA & CANARANA             & PARDA    & COVID-19\\\\\n\t 28/05/2020 & NAO & SIM & NAO & NAO & NAO & NAO & NA                                                                                          & 26/05/2020 & NAO & ⋯ & NA                                                                  & NA         & 0  & RT-PCR                   & NEGATIVO & FEMININO  & BAHIA & CANARANA             & PARDA    & COVID-19\\\\\n\t 18/06/2020 & NAO & NAO & SIM & SIM & SIM & NAO & FALTA DE PALADAR E OFALTO                                                                   & 10/06/2020 & NAO & ⋯ & NA                                                                  & 18/06/2020 & 38 & RT-PCR EM TEMPO REAL     & NEGATIVO & FEMININO  & BAHIA & COARACI              & PARDA    & COVID-19\\\\\n\t 04/06/2020 & NAO & NAO & NAO & SIM & NAO & NAO & NA                                                                                          & 22/05/2020 & NAO & ⋯ & NA                                                                  & NA         & 32 & RT-PCR                   & POSITIVO & FEMININO  & BAHIA & VALENTE              & BRANCA   & COVID-19\\\\\n\\end{tabular}\n"
          },
          "metadata": {}
        }
      ]
    },
    {
      "cell_type": "code",
      "source": [
        "\n",
        "# Dimens�es e Comprimentos\n",
        "dim(c(1,2,3))\n",
        "nrow(c(1,2,3))\n",
        "ncol(c(1,2,3))\n",
        "length(c(1,2,3))\n",
        "\n",
        "dim(df)\n",
        "nrow(df)\n",
        "ncol(df)\n",
        "length(df)\n"
      ],
      "metadata": {
        "id": "N9ayFUaPyZyH",
        "colab": {
          "base_uri": "https://localhost:8080/",
          "height": 156
        },
        "outputId": "41c24453-e3ae-4350-bba8-46975797fa3f"
      },
      "execution_count": null,
      "outputs": [
        {
          "output_type": "display_data",
          "data": {
            "text/plain": [
              "NULL"
            ]
          },
          "metadata": {}
        },
        {
          "output_type": "display_data",
          "data": {
            "text/plain": [
              "NULL"
            ]
          },
          "metadata": {}
        },
        {
          "output_type": "display_data",
          "data": {
            "text/plain": [
              "NULL"
            ]
          },
          "metadata": {}
        },
        {
          "output_type": "display_data",
          "data": {
            "text/html": [
              "3"
            ],
            "text/markdown": "3",
            "text/latex": "3",
            "text/plain": [
              "[1] 3"
            ]
          },
          "metadata": {}
        },
        {
          "output_type": "display_data",
          "data": {
            "text/html": [
              "<style>\n",
              ".list-inline {list-style: none; margin:0; padding: 0}\n",
              ".list-inline>li {display: inline-block}\n",
              ".list-inline>li:not(:last-child)::after {content: \"\\00b7\"; padding: 0 .5ex}\n",
              "</style>\n",
              "<ol class=list-inline><li>5837</li><li>29</li></ol>\n"
            ],
            "text/markdown": "1. 5837\n2. 29\n\n\n",
            "text/latex": "\\begin{enumerate*}\n\\item 5837\n\\item 29\n\\end{enumerate*}\n",
            "text/plain": [
              "[1] 5837   29"
            ]
          },
          "metadata": {}
        },
        {
          "output_type": "display_data",
          "data": {
            "text/html": [
              "5837"
            ],
            "text/markdown": "5837",
            "text/latex": "5837",
            "text/plain": [
              "[1] 5837"
            ]
          },
          "metadata": {}
        },
        {
          "output_type": "display_data",
          "data": {
            "text/html": [
              "29"
            ],
            "text/markdown": "29",
            "text/latex": "29",
            "text/plain": [
              "[1] 29"
            ]
          },
          "metadata": {}
        },
        {
          "output_type": "display_data",
          "data": {
            "text/html": [
              "29"
            ],
            "text/markdown": "29",
            "text/latex": "29",
            "text/plain": [
              "[1] 29"
            ]
          },
          "metadata": {}
        }
      ]
    },
    {
      "cell_type": "code",
      "source": [
        "\n",
        "\n",
        "\n",
        "# Explorando o conjunto de dados\n",
        "names(df)\n",
        "tolower(names(df))\n",
        "\n",
        "gsub(\"_(\\\\w\\\\w+)_\",'',gsub(' ','_',tolower(names(df))))\n"
      ],
      "metadata": {
        "id": "iwdCEMPQuHzg",
        "colab": {
          "base_uri": "https://localhost:8080/",
          "height": 173
        },
        "outputId": "e77490b9-2825-4f9f-b27a-b807a16380ea"
      },
      "execution_count": null,
      "outputs": [
        {
          "output_type": "display_data",
          "data": {
            "text/html": [
              "<style>\n",
              ".list-inline {list-style: none; margin:0; padding: 0}\n",
              ".list-inline>li {display: inline-block}\n",
              ".list-inline>li:not(:last-child)::after {content: \"\\00b7\"; padding: 0 .5ex}\n",
              "</style>\n",
              "<ol class=list-inline><li>'DATA DA NOTIFICACAO'</li><li>'DOR DE GARGANTA'</li><li>'DISPNEIA'</li><li>'FEBRE'</li><li>'TOSSE'</li><li>'OUTROS'</li><li>'E PROFISSIONAL DE SAUDE?'</li><li>'DESCRICAO DO SINTOMA'</li><li>'DATA DO INICIO DOS SINTOMAS'</li><li>'DOENCAS RESPIRATORIAS CRONICAS DESCOMPENSADAS'</li><li>'DOENCAS CARDIACAS CRONICAS'</li><li>'DIABETES'</li><li>'DOENCAS RENAIS CRONICAS EM ESTAGIO AVANCADO (GRAUS 3, 4 OU 5)'</li><li>'IMUNOSSUPRESSAO'</li><li>'GESTANTE DE ALTO RISCO'</li><li>'PORTADOR DE DOENCAS CROMOSSOMICAS OU ESTADO DE FRAGILIDADE IMUNO'</li><li>'CLASSIFICACAO FINAL'</li><li>'INVESTIGACAO CONCLUIDA'</li><li>'ESTADO DO TESTE'</li><li>'CBO'</li><li>'DATA DA COLETA DO TESTE'</li><li>'IDADE EM ANOS'</li><li>'TIPO DE TESTE'</li><li>'RESULTADO DO TESTE'</li><li>'SEXO'</li><li>'ESTADO DE RESIDENCIA'</li><li>'MUNICIPIO DE RESIDENCIA'</li><li>'RACA/COR'</li><li>'EPIDEMIA'</li></ol>\n"
            ],
            "text/markdown": "1. 'DATA DA NOTIFICACAO'\n2. 'DOR DE GARGANTA'\n3. 'DISPNEIA'\n4. 'FEBRE'\n5. 'TOSSE'\n6. 'OUTROS'\n7. 'E PROFISSIONAL DE SAUDE?'\n8. 'DESCRICAO DO SINTOMA'\n9. 'DATA DO INICIO DOS SINTOMAS'\n10. 'DOENCAS RESPIRATORIAS CRONICAS DESCOMPENSADAS'\n11. 'DOENCAS CARDIACAS CRONICAS'\n12. 'DIABETES'\n13. 'DOENCAS RENAIS CRONICAS EM ESTAGIO AVANCADO (GRAUS 3, 4 OU 5)'\n14. 'IMUNOSSUPRESSAO'\n15. 'GESTANTE DE ALTO RISCO'\n16. 'PORTADOR DE DOENCAS CROMOSSOMICAS OU ESTADO DE FRAGILIDADE IMUNO'\n17. 'CLASSIFICACAO FINAL'\n18. 'INVESTIGACAO CONCLUIDA'\n19. 'ESTADO DO TESTE'\n20. 'CBO'\n21. 'DATA DA COLETA DO TESTE'\n22. 'IDADE EM ANOS'\n23. 'TIPO DE TESTE'\n24. 'RESULTADO DO TESTE'\n25. 'SEXO'\n26. 'ESTADO DE RESIDENCIA'\n27. 'MUNICIPIO DE RESIDENCIA'\n28. 'RACA/COR'\n29. 'EPIDEMIA'\n\n\n",
            "text/latex": "\\begin{enumerate*}\n\\item 'DATA DA NOTIFICACAO'\n\\item 'DOR DE GARGANTA'\n\\item 'DISPNEIA'\n\\item 'FEBRE'\n\\item 'TOSSE'\n\\item 'OUTROS'\n\\item 'E PROFISSIONAL DE SAUDE?'\n\\item 'DESCRICAO DO SINTOMA'\n\\item 'DATA DO INICIO DOS SINTOMAS'\n\\item 'DOENCAS RESPIRATORIAS CRONICAS DESCOMPENSADAS'\n\\item 'DOENCAS CARDIACAS CRONICAS'\n\\item 'DIABETES'\n\\item 'DOENCAS RENAIS CRONICAS EM ESTAGIO AVANCADO (GRAUS 3, 4 OU 5)'\n\\item 'IMUNOSSUPRESSAO'\n\\item 'GESTANTE DE ALTO RISCO'\n\\item 'PORTADOR DE DOENCAS CROMOSSOMICAS OU ESTADO DE FRAGILIDADE IMUNO'\n\\item 'CLASSIFICACAO FINAL'\n\\item 'INVESTIGACAO CONCLUIDA'\n\\item 'ESTADO DO TESTE'\n\\item 'CBO'\n\\item 'DATA DA COLETA DO TESTE'\n\\item 'IDADE EM ANOS'\n\\item 'TIPO DE TESTE'\n\\item 'RESULTADO DO TESTE'\n\\item 'SEXO'\n\\item 'ESTADO DE RESIDENCIA'\n\\item 'MUNICIPIO DE RESIDENCIA'\n\\item 'RACA/COR'\n\\item 'EPIDEMIA'\n\\end{enumerate*}\n",
            "text/plain": [
              " [1] \"DATA DA NOTIFICACAO\"                                             \n",
              " [2] \"DOR DE GARGANTA\"                                                 \n",
              " [3] \"DISPNEIA\"                                                        \n",
              " [4] \"FEBRE\"                                                           \n",
              " [5] \"TOSSE\"                                                           \n",
              " [6] \"OUTROS\"                                                          \n",
              " [7] \"E PROFISSIONAL DE SAUDE?\"                                        \n",
              " [8] \"DESCRICAO DO SINTOMA\"                                            \n",
              " [9] \"DATA DO INICIO DOS SINTOMAS\"                                     \n",
              "[10] \"DOENCAS RESPIRATORIAS CRONICAS DESCOMPENSADAS\"                   \n",
              "[11] \"DOENCAS CARDIACAS CRONICAS\"                                      \n",
              "[12] \"DIABETES\"                                                        \n",
              "[13] \"DOENCAS RENAIS CRONICAS EM ESTAGIO AVANCADO (GRAUS 3, 4 OU 5)\"   \n",
              "[14] \"IMUNOSSUPRESSAO\"                                                 \n",
              "[15] \"GESTANTE DE ALTO RISCO\"                                          \n",
              "[16] \"PORTADOR DE DOENCAS CROMOSSOMICAS OU ESTADO DE FRAGILIDADE IMUNO\"\n",
              "[17] \"CLASSIFICACAO FINAL\"                                             \n",
              "[18] \"INVESTIGACAO CONCLUIDA\"                                          \n",
              "[19] \"ESTADO DO TESTE\"                                                 \n",
              "[20] \"CBO\"                                                             \n",
              "[21] \"DATA DA COLETA DO TESTE\"                                         \n",
              "[22] \"IDADE EM ANOS\"                                                   \n",
              "[23] \"TIPO DE TESTE\"                                                   \n",
              "[24] \"RESULTADO DO TESTE\"                                              \n",
              "[25] \"SEXO\"                                                            \n",
              "[26] \"ESTADO DE RESIDENCIA\"                                            \n",
              "[27] \"MUNICIPIO DE RESIDENCIA\"                                         \n",
              "[28] \"RACA/COR\"                                                        \n",
              "[29] \"EPIDEMIA\"                                                        "
            ]
          },
          "metadata": {}
        },
        {
          "output_type": "display_data",
          "data": {
            "text/html": [
              "<style>\n",
              ".list-inline {list-style: none; margin:0; padding: 0}\n",
              ".list-inline>li {display: inline-block}\n",
              ".list-inline>li:not(:last-child)::after {content: \"\\00b7\"; padding: 0 .5ex}\n",
              "</style>\n",
              "<ol class=list-inline><li>'data da notificacao'</li><li>'dor de garganta'</li><li>'dispneia'</li><li>'febre'</li><li>'tosse'</li><li>'outros'</li><li>'e profissional de saude?'</li><li>'descricao do sintoma'</li><li>'data do inicio dos sintomas'</li><li>'doencas respiratorias cronicas descompensadas'</li><li>'doencas cardiacas cronicas'</li><li>'diabetes'</li><li>'doencas renais cronicas em estagio avancado (graus 3, 4 ou 5)'</li><li>'imunossupressao'</li><li>'gestante de alto risco'</li><li>'portador de doencas cromossomicas ou estado de fragilidade imuno'</li><li>'classificacao final'</li><li>'investigacao concluida'</li><li>'estado do teste'</li><li>'cbo'</li><li>'data da coleta do teste'</li><li>'idade em anos'</li><li>'tipo de teste'</li><li>'resultado do teste'</li><li>'sexo'</li><li>'estado de residencia'</li><li>'municipio de residencia'</li><li>'raca/cor'</li><li>'epidemia'</li></ol>\n"
            ],
            "text/markdown": "1. 'data da notificacao'\n2. 'dor de garganta'\n3. 'dispneia'\n4. 'febre'\n5. 'tosse'\n6. 'outros'\n7. 'e profissional de saude?'\n8. 'descricao do sintoma'\n9. 'data do inicio dos sintomas'\n10. 'doencas respiratorias cronicas descompensadas'\n11. 'doencas cardiacas cronicas'\n12. 'diabetes'\n13. 'doencas renais cronicas em estagio avancado (graus 3, 4 ou 5)'\n14. 'imunossupressao'\n15. 'gestante de alto risco'\n16. 'portador de doencas cromossomicas ou estado de fragilidade imuno'\n17. 'classificacao final'\n18. 'investigacao concluida'\n19. 'estado do teste'\n20. 'cbo'\n21. 'data da coleta do teste'\n22. 'idade em anos'\n23. 'tipo de teste'\n24. 'resultado do teste'\n25. 'sexo'\n26. 'estado de residencia'\n27. 'municipio de residencia'\n28. 'raca/cor'\n29. 'epidemia'\n\n\n",
            "text/latex": "\\begin{enumerate*}\n\\item 'data da notificacao'\n\\item 'dor de garganta'\n\\item 'dispneia'\n\\item 'febre'\n\\item 'tosse'\n\\item 'outros'\n\\item 'e profissional de saude?'\n\\item 'descricao do sintoma'\n\\item 'data do inicio dos sintomas'\n\\item 'doencas respiratorias cronicas descompensadas'\n\\item 'doencas cardiacas cronicas'\n\\item 'diabetes'\n\\item 'doencas renais cronicas em estagio avancado (graus 3, 4 ou 5)'\n\\item 'imunossupressao'\n\\item 'gestante de alto risco'\n\\item 'portador de doencas cromossomicas ou estado de fragilidade imuno'\n\\item 'classificacao final'\n\\item 'investigacao concluida'\n\\item 'estado do teste'\n\\item 'cbo'\n\\item 'data da coleta do teste'\n\\item 'idade em anos'\n\\item 'tipo de teste'\n\\item 'resultado do teste'\n\\item 'sexo'\n\\item 'estado de residencia'\n\\item 'municipio de residencia'\n\\item 'raca/cor'\n\\item 'epidemia'\n\\end{enumerate*}\n",
            "text/plain": [
              " [1] \"data da notificacao\"                                             \n",
              " [2] \"dor de garganta\"                                                 \n",
              " [3] \"dispneia\"                                                        \n",
              " [4] \"febre\"                                                           \n",
              " [5] \"tosse\"                                                           \n",
              " [6] \"outros\"                                                          \n",
              " [7] \"e profissional de saude?\"                                        \n",
              " [8] \"descricao do sintoma\"                                            \n",
              " [9] \"data do inicio dos sintomas\"                                     \n",
              "[10] \"doencas respiratorias cronicas descompensadas\"                   \n",
              "[11] \"doencas cardiacas cronicas\"                                      \n",
              "[12] \"diabetes\"                                                        \n",
              "[13] \"doencas renais cronicas em estagio avancado (graus 3, 4 ou 5)\"   \n",
              "[14] \"imunossupressao\"                                                 \n",
              "[15] \"gestante de alto risco\"                                          \n",
              "[16] \"portador de doencas cromossomicas ou estado de fragilidade imuno\"\n",
              "[17] \"classificacao final\"                                             \n",
              "[18] \"investigacao concluida\"                                          \n",
              "[19] \"estado do teste\"                                                 \n",
              "[20] \"cbo\"                                                             \n",
              "[21] \"data da coleta do teste\"                                         \n",
              "[22] \"idade em anos\"                                                   \n",
              "[23] \"tipo de teste\"                                                   \n",
              "[24] \"resultado do teste\"                                              \n",
              "[25] \"sexo\"                                                            \n",
              "[26] \"estado de residencia\"                                            \n",
              "[27] \"municipio de residencia\"                                         \n",
              "[28] \"raca/cor\"                                                        \n",
              "[29] \"epidemia\"                                                        "
            ]
          },
          "metadata": {}
        },
        {
          "output_type": "display_data",
          "data": {
            "text/html": [
              "<style>\n",
              ".list-inline {list-style: none; margin:0; padding: 0}\n",
              ".list-inline>li {display: inline-block}\n",
              ".list-inline>li:not(:last-child)::after {content: \"\\00b7\"; padding: 0 .5ex}\n",
              "</style>\n",
              "<ol class=list-inline><li>'datanotificacao'</li><li>'dorgarganta'</li><li>'dispneia'</li><li>'febre'</li><li>'tosse'</li><li>'outros'</li><li>'esaude?'</li><li>'descricaosintoma'</li><li>'datasintomas'</li><li>'doencasdescompensadas'</li><li>'doencascronicas'</li><li>'diabetes'</li><li>'doencas(graus_3,5)'</li><li>'imunossupressao'</li><li>'gestanterisco'</li><li>'portadorimuno'</li><li>'classificacao_final'</li><li>'investigacao_concluida'</li><li>'estadoteste'</li><li>'cbo'</li><li>'datateste'</li><li>'idadeanos'</li><li>'tipoteste'</li><li>'resultadoteste'</li><li>'sexo'</li><li>'estadoresidencia'</li><li>'municipioresidencia'</li><li>'raca/cor'</li><li>'epidemia'</li></ol>\n"
            ],
            "text/markdown": "1. 'datanotificacao'\n2. 'dorgarganta'\n3. 'dispneia'\n4. 'febre'\n5. 'tosse'\n6. 'outros'\n7. 'esaude?'\n8. 'descricaosintoma'\n9. 'datasintomas'\n10. 'doencasdescompensadas'\n11. 'doencascronicas'\n12. 'diabetes'\n13. 'doencas(graus_3,5)'\n14. 'imunossupressao'\n15. 'gestanterisco'\n16. 'portadorimuno'\n17. 'classificacao_final'\n18. 'investigacao_concluida'\n19. 'estadoteste'\n20. 'cbo'\n21. 'datateste'\n22. 'idadeanos'\n23. 'tipoteste'\n24. 'resultadoteste'\n25. 'sexo'\n26. 'estadoresidencia'\n27. 'municipioresidencia'\n28. 'raca/cor'\n29. 'epidemia'\n\n\n",
            "text/latex": "\\begin{enumerate*}\n\\item 'datanotificacao'\n\\item 'dorgarganta'\n\\item 'dispneia'\n\\item 'febre'\n\\item 'tosse'\n\\item 'outros'\n\\item 'esaude?'\n\\item 'descricaosintoma'\n\\item 'datasintomas'\n\\item 'doencasdescompensadas'\n\\item 'doencascronicas'\n\\item 'diabetes'\n\\item 'doencas(graus\\_3,5)'\n\\item 'imunossupressao'\n\\item 'gestanterisco'\n\\item 'portadorimuno'\n\\item 'classificacao\\_final'\n\\item 'investigacao\\_concluida'\n\\item 'estadoteste'\n\\item 'cbo'\n\\item 'datateste'\n\\item 'idadeanos'\n\\item 'tipoteste'\n\\item 'resultadoteste'\n\\item 'sexo'\n\\item 'estadoresidencia'\n\\item 'municipioresidencia'\n\\item 'raca/cor'\n\\item 'epidemia'\n\\end{enumerate*}\n",
            "text/plain": [
              " [1] \"datanotificacao\"        \"dorgarganta\"            \"dispneia\"              \n",
              " [4] \"febre\"                  \"tosse\"                  \"outros\"                \n",
              " [7] \"esaude?\"                \"descricaosintoma\"       \"datasintomas\"          \n",
              "[10] \"doencasdescompensadas\"  \"doencascronicas\"        \"diabetes\"              \n",
              "[13] \"doencas(graus_3,5)\"     \"imunossupressao\"        \"gestanterisco\"         \n",
              "[16] \"portadorimuno\"          \"classificacao_final\"    \"investigacao_concluida\"\n",
              "[19] \"estadoteste\"            \"cbo\"                    \"datateste\"             \n",
              "[22] \"idadeanos\"              \"tipoteste\"              \"resultadoteste\"        \n",
              "[25] \"sexo\"                   \"estadoresidencia\"       \"municipioresidencia\"   \n",
              "[28] \"raca/cor\"               \"epidemia\"              "
            ]
          },
          "metadata": {}
        }
      ]
    },
    {
      "cell_type": "code",
      "source": [
        "\n",
        "# Redefinindo nomes das colunas (removendo espa�os e caracteres especias)\n",
        "colnames(df) <- c(\"data_notificacao\",\"dor_garganta\",\"dispneia\",\"febre\",\"tosse\",\"outros\",\n",
        "                  \"profissional_saude\",\"descricao_sintoma\",\"data_inicio_sintomas\",\n",
        "                  \"doencas_respiratorias_cronicas_descompensadas\",\"doencas_cardiacas_cronicas\",\n",
        "                  \"diabetes\",\"doencas_renais_cronicas\",\"imunossupressao\",\"gestante_alto_risco\",\n",
        "                  \"doenca_cromossomica\",\"classificacao_final\",\"investigacao_concluida\",\"estado_teste\",\n",
        "                  \"cbo\",\"data_coleta_teste\",\"idade_anos\",\"tipo_teste\",\"resultado_teste\",\"sexo\",\n",
        "                  \"estado_residencia\",\"municipio_residencia\",\"raca\",\"epidemia\")\n",
        "\n",
        "str(df)\n",
        "df <- as.data.table(df)\n"
      ],
      "metadata": {
        "id": "hI7NyUUKIVLd",
        "colab": {
          "base_uri": "https://localhost:8080/"
        },
        "outputId": "bf5c1baa-1795-44cf-93d3-f2a33756af1c"
      },
      "execution_count": null,
      "outputs": [
        {
          "output_type": "stream",
          "name": "stdout",
          "text": [
            "tibble [5,837 × 29] (S3: tbl_df/tbl/data.frame)\n",
            " $ data_notificacao                             : chr [1:5837] \"07/06/2020\" \"05/06/2020\" \"16/06/2020\" \"30/06/2020\" ...\n",
            " $ dor_garganta                                 : chr [1:5837] \"SIM\" \"NAO\" \"SIM\" \"NAO\" ...\n",
            " $ dispneia                                     : chr [1:5837] \"NAO\" \"NAO\" \"NAO\" \"NAO\" ...\n",
            " $ febre                                        : chr [1:5837] \"NAO\" \"SIM\" \"NAO\" \"NAO\" ...\n",
            " $ tosse                                        : chr [1:5837] \"NAO\" \"NAO\" \"SIM\" \"NAO\" ...\n",
            " $ outros                                       : chr [1:5837] \"NAO\" \"SIM\" \"SIM\" \"SIM\" ...\n",
            " $ profissional_saude                           : chr [1:5837] \"SIM\" \"NAO\" \"SIM\" \"NAO\" ...\n",
            " $ descricao_sintoma                            : chr [1:5837] NA \"DOR TORACICA\" \"CEFALEIA\" \"CEFALEIA\" ...\n",
            " $ data_inicio_sintomas                         : chr [1:5837] \"03/06/2020\" \"01/06/2020\" \"15/06/2020\" \"30/06/2020\" ...\n",
            " $ doencas_respiratorias_cronicas_descompensadas: chr [1:5837] \"NAO\" \"NAO\" \"NAO\" \"NAO\" ...\n",
            " $ doencas_cardiacas_cronicas                   : chr [1:5837] \"NAO\" \"NAO\" \"NAO\" \"NAO\" ...\n",
            " $ diabetes                                     : chr [1:5837] \"NAO\" \"NAO\" \"NAO\" \"NAO\" ...\n",
            " $ doencas_renais_cronicas                      : chr [1:5837] \"NAO\" \"NAO\" \"NAO\" \"NAO\" ...\n",
            " $ imunossupressao                              : chr [1:5837] \"NAO\" \"NAO\" \"NAO\" \"NAO\" ...\n",
            " $ gestante_alto_risco                          : chr [1:5837] \"NAO\" \"NAO\" \"NAO\" \"NAO\" ...\n",
            " $ doenca_cromossomica                          : chr [1:5837] \"NAO\" \"NAO\" \"NAO\" \"NAO\" ...\n",
            " $ classificacao_final                          : chr [1:5837] \"DESCARTADO LABORATORIALMENTE\" \"SUSPEITO\" \"DESCARTADO LABORATORIALMENTE\" \"CONFIRMADO LABORATORIALMENTE\" ...\n",
            " $ investigacao_concluida                       : chr [1:5837] \"DESCARTADO\" \"SUSPEITO\" \"DESCARTADO\" \"CONFIRMADO\" ...\n",
            " $ estado_teste                                 : chr [1:5837] \"COLETADO\" NA \"SOLICITADO\" \"COLETADO\" ...\n",
            " $ cbo                                          : chr [1:5837] \"3241 - TECNOLOGO OU TECNICO EM METODOS DE DIGANOSTICO E TERAPEUTICA\" NA \"3516 - TECNICO DE SEGURANCA NO TRABALHO OU HIGIENE OCUPACIONAL\" NA ...\n",
            " $ data_coleta_teste                            : chr [1:5837] \"07/06/2020\" NA NA \"30/06/2020\" ...\n",
            " $ idade_anos                                   : chr [1:5837] \"31\" \"40\" \"36\" \"34\" ...\n",
            " $ tipo_teste                                   : chr [1:5837] \"RT-PCR EM TEMPO REAL\" NA \"RT-PCR EM TEMPO REAL\" \"RT-PCR EM TEMPO REAL\" ...\n",
            " $ resultado_teste                              : chr [1:5837] \"NEGATIVO\" NA \"NEGATIVO\" \"POSITIVO\" ...\n",
            " $ sexo                                         : chr [1:5837] \"FEMININO\" \"FEMININO\" \"FEMININO\" \"FEMININO\" ...\n",
            " $ estado_residencia                            : chr [1:5837] \"BAHIA\" \"BAHIA\" \"BAHIA\" \"BAHIA\" ...\n",
            " $ municipio_residencia                         : chr [1:5837] \"FEIRA DE SANTANA\" \"SALVADOR\" \"OUTRO ESTADO\" \"MADRE DE DEUS\" ...\n",
            " $ raca                                         : chr [1:5837] \"INDIGENA\" \"PARDA\" \"PRETA\" \"PARDA\" ...\n",
            " $ epidemia                                     : chr [1:5837] \"COVID-19\" \"COVID-19\" \"COVID-19\" \"COVID-19\" ...\n"
          ]
        }
      ]
    },
    {
      "cell_type": "code",
      "source": [
        "\n",
        "# Configurando datas\n",
        "df[ ,data_notificacao := as.Date(data_notificacao,format = \"%d/%m/%Y\")]\n",
        "df[ ,.(data_notificacao,data_notificacao)]\n",
        "str(df)\n"
      ],
      "metadata": {
        "id": "2OTGHKPYIWAc",
        "colab": {
          "base_uri": "https://localhost:8080/",
          "height": 1000
        },
        "outputId": "13b4f025-bef3-4442-db0d-00f32fcdde4e"
      },
      "execution_count": null,
      "outputs": [
        {
          "output_type": "display_data",
          "data": {
            "text/html": [
              "<table class=\"dataframe\">\n",
              "<caption>A data.table: 5837 × 2</caption>\n",
              "<thead>\n",
              "\t<tr><th scope=col>data_notificacao</th><th scope=col>data_notificacao</th></tr>\n",
              "\t<tr><th scope=col>&lt;date&gt;</th><th scope=col>&lt;date&gt;</th></tr>\n",
              "</thead>\n",
              "<tbody>\n",
              "\t<tr><td>2020-06-07</td><td>2020-06-07</td></tr>\n",
              "\t<tr><td>2020-06-05</td><td>2020-06-05</td></tr>\n",
              "\t<tr><td>2020-06-16</td><td>2020-06-16</td></tr>\n",
              "\t<tr><td>2020-06-30</td><td>2020-06-30</td></tr>\n",
              "\t<tr><td>2020-05-27</td><td>2020-05-27</td></tr>\n",
              "\t<tr><td>2020-04-17</td><td>2020-04-17</td></tr>\n",
              "\t<tr><td>2020-05-20</td><td>2020-05-20</td></tr>\n",
              "\t<tr><td>2020-04-14</td><td>2020-04-14</td></tr>\n",
              "\t<tr><td>2020-06-20</td><td>2020-06-20</td></tr>\n",
              "\t<tr><td>2020-06-10</td><td>2020-06-10</td></tr>\n",
              "\t<tr><td>2020-03-20</td><td>2020-03-20</td></tr>\n",
              "\t<tr><td>2020-05-25</td><td>2020-05-25</td></tr>\n",
              "\t<tr><td>2020-06-26</td><td>2020-06-26</td></tr>\n",
              "\t<tr><td>2020-05-27</td><td>2020-05-27</td></tr>\n",
              "\t<tr><td>2020-06-27</td><td>2020-06-27</td></tr>\n",
              "\t<tr><td>2020-04-13</td><td>2020-04-13</td></tr>\n",
              "\t<tr><td>2020-03-20</td><td>2020-03-20</td></tr>\n",
              "\t<tr><td>2020-07-03</td><td>2020-07-03</td></tr>\n",
              "\t<tr><td>2020-05-31</td><td>2020-05-31</td></tr>\n",
              "\t<tr><td>2020-07-03</td><td>2020-07-03</td></tr>\n",
              "\t<tr><td>2020-04-14</td><td>2020-04-14</td></tr>\n",
              "\t<tr><td>2020-06-18</td><td>2020-06-18</td></tr>\n",
              "\t<tr><td>2020-06-25</td><td>2020-06-25</td></tr>\n",
              "\t<tr><td>2020-07-01</td><td>2020-07-01</td></tr>\n",
              "\t<tr><td>2020-06-15</td><td>2020-06-15</td></tr>\n",
              "\t<tr><td>2020-06-26</td><td>2020-06-26</td></tr>\n",
              "\t<tr><td>2020-04-28</td><td>2020-04-28</td></tr>\n",
              "\t<tr><td>2020-04-22</td><td>2020-04-22</td></tr>\n",
              "\t<tr><td>2020-06-04</td><td>2020-06-04</td></tr>\n",
              "\t<tr><td>2020-04-24</td><td>2020-04-24</td></tr>\n",
              "\t<tr><td>⋮</td><td>⋮</td></tr>\n",
              "\t<tr><td>2020-03-21</td><td>2020-03-21</td></tr>\n",
              "\t<tr><td>2020-04-25</td><td>2020-04-25</td></tr>\n",
              "\t<tr><td>2020-06-24</td><td>2020-06-24</td></tr>\n",
              "\t<tr><td>2020-06-04</td><td>2020-06-04</td></tr>\n",
              "\t<tr><td>2020-06-22</td><td>2020-06-22</td></tr>\n",
              "\t<tr><td>2020-06-10</td><td>2020-06-10</td></tr>\n",
              "\t<tr><td>2020-06-16</td><td>2020-06-16</td></tr>\n",
              "\t<tr><td>2020-05-20</td><td>2020-05-20</td></tr>\n",
              "\t<tr><td>2020-06-24</td><td>2020-06-24</td></tr>\n",
              "\t<tr><td>2020-04-14</td><td>2020-04-14</td></tr>\n",
              "\t<tr><td>2020-06-25</td><td>2020-06-25</td></tr>\n",
              "\t<tr><td>2020-07-03</td><td>2020-07-03</td></tr>\n",
              "\t<tr><td>2020-06-22</td><td>2020-06-22</td></tr>\n",
              "\t<tr><td>2020-05-29</td><td>2020-05-29</td></tr>\n",
              "\t<tr><td>2020-06-17</td><td>2020-06-17</td></tr>\n",
              "\t<tr><td>2020-06-29</td><td>2020-06-29</td></tr>\n",
              "\t<tr><td>2020-06-14</td><td>2020-06-14</td></tr>\n",
              "\t<tr><td>2020-06-25</td><td>2020-06-25</td></tr>\n",
              "\t<tr><td>2020-06-24</td><td>2020-06-24</td></tr>\n",
              "\t<tr><td>2020-06-25</td><td>2020-06-25</td></tr>\n",
              "\t<tr><td>2020-04-20</td><td>2020-04-20</td></tr>\n",
              "\t<tr><td>2020-05-25</td><td>2020-05-25</td></tr>\n",
              "\t<tr><td>NA</td><td>NA</td></tr>\n",
              "\t<tr><td>2020-04-20</td><td>2020-04-20</td></tr>\n",
              "\t<tr><td>2020-06-12</td><td>2020-06-12</td></tr>\n",
              "\t<tr><td>2020-05-22</td><td>2020-05-22</td></tr>\n",
              "\t<tr><td>2020-05-30</td><td>2020-05-30</td></tr>\n",
              "\t<tr><td>NA</td><td>NA</td></tr>\n",
              "\t<tr><td>2020-06-20</td><td>2020-06-20</td></tr>\n",
              "\t<tr><td>2020-05-22</td><td>2020-05-22</td></tr>\n",
              "</tbody>\n",
              "</table>\n"
            ],
            "text/markdown": "\nA data.table: 5837 × 2\n\n| data_notificacao &lt;date&gt; | data_notificacao &lt;date&gt; |\n|---|---|\n| 2020-06-07 | 2020-06-07 |\n| 2020-06-05 | 2020-06-05 |\n| 2020-06-16 | 2020-06-16 |\n| 2020-06-30 | 2020-06-30 |\n| 2020-05-27 | 2020-05-27 |\n| 2020-04-17 | 2020-04-17 |\n| 2020-05-20 | 2020-05-20 |\n| 2020-04-14 | 2020-04-14 |\n| 2020-06-20 | 2020-06-20 |\n| 2020-06-10 | 2020-06-10 |\n| 2020-03-20 | 2020-03-20 |\n| 2020-05-25 | 2020-05-25 |\n| 2020-06-26 | 2020-06-26 |\n| 2020-05-27 | 2020-05-27 |\n| 2020-06-27 | 2020-06-27 |\n| 2020-04-13 | 2020-04-13 |\n| 2020-03-20 | 2020-03-20 |\n| 2020-07-03 | 2020-07-03 |\n| 2020-05-31 | 2020-05-31 |\n| 2020-07-03 | 2020-07-03 |\n| 2020-04-14 | 2020-04-14 |\n| 2020-06-18 | 2020-06-18 |\n| 2020-06-25 | 2020-06-25 |\n| 2020-07-01 | 2020-07-01 |\n| 2020-06-15 | 2020-06-15 |\n| 2020-06-26 | 2020-06-26 |\n| 2020-04-28 | 2020-04-28 |\n| 2020-04-22 | 2020-04-22 |\n| 2020-06-04 | 2020-06-04 |\n| 2020-04-24 | 2020-04-24 |\n| ⋮ | ⋮ |\n| 2020-03-21 | 2020-03-21 |\n| 2020-04-25 | 2020-04-25 |\n| 2020-06-24 | 2020-06-24 |\n| 2020-06-04 | 2020-06-04 |\n| 2020-06-22 | 2020-06-22 |\n| 2020-06-10 | 2020-06-10 |\n| 2020-06-16 | 2020-06-16 |\n| 2020-05-20 | 2020-05-20 |\n| 2020-06-24 | 2020-06-24 |\n| 2020-04-14 | 2020-04-14 |\n| 2020-06-25 | 2020-06-25 |\n| 2020-07-03 | 2020-07-03 |\n| 2020-06-22 | 2020-06-22 |\n| 2020-05-29 | 2020-05-29 |\n| 2020-06-17 | 2020-06-17 |\n| 2020-06-29 | 2020-06-29 |\n| 2020-06-14 | 2020-06-14 |\n| 2020-06-25 | 2020-06-25 |\n| 2020-06-24 | 2020-06-24 |\n| 2020-06-25 | 2020-06-25 |\n| 2020-04-20 | 2020-04-20 |\n| 2020-05-25 | 2020-05-25 |\n| NA | NA |\n| 2020-04-20 | 2020-04-20 |\n| 2020-06-12 | 2020-06-12 |\n| 2020-05-22 | 2020-05-22 |\n| 2020-05-30 | 2020-05-30 |\n| NA | NA |\n| 2020-06-20 | 2020-06-20 |\n| 2020-05-22 | 2020-05-22 |\n\n",
            "text/latex": "A data.table: 5837 × 2\n\\begin{tabular}{ll}\n data\\_notificacao & data\\_notificacao\\\\\n <date> & <date>\\\\\n\\hline\n\t 2020-06-07 & 2020-06-07\\\\\n\t 2020-06-05 & 2020-06-05\\\\\n\t 2020-06-16 & 2020-06-16\\\\\n\t 2020-06-30 & 2020-06-30\\\\\n\t 2020-05-27 & 2020-05-27\\\\\n\t 2020-04-17 & 2020-04-17\\\\\n\t 2020-05-20 & 2020-05-20\\\\\n\t 2020-04-14 & 2020-04-14\\\\\n\t 2020-06-20 & 2020-06-20\\\\\n\t 2020-06-10 & 2020-06-10\\\\\n\t 2020-03-20 & 2020-03-20\\\\\n\t 2020-05-25 & 2020-05-25\\\\\n\t 2020-06-26 & 2020-06-26\\\\\n\t 2020-05-27 & 2020-05-27\\\\\n\t 2020-06-27 & 2020-06-27\\\\\n\t 2020-04-13 & 2020-04-13\\\\\n\t 2020-03-20 & 2020-03-20\\\\\n\t 2020-07-03 & 2020-07-03\\\\\n\t 2020-05-31 & 2020-05-31\\\\\n\t 2020-07-03 & 2020-07-03\\\\\n\t 2020-04-14 & 2020-04-14\\\\\n\t 2020-06-18 & 2020-06-18\\\\\n\t 2020-06-25 & 2020-06-25\\\\\n\t 2020-07-01 & 2020-07-01\\\\\n\t 2020-06-15 & 2020-06-15\\\\\n\t 2020-06-26 & 2020-06-26\\\\\n\t 2020-04-28 & 2020-04-28\\\\\n\t 2020-04-22 & 2020-04-22\\\\\n\t 2020-06-04 & 2020-06-04\\\\\n\t 2020-04-24 & 2020-04-24\\\\\n\t ⋮ & ⋮\\\\\n\t 2020-03-21 & 2020-03-21\\\\\n\t 2020-04-25 & 2020-04-25\\\\\n\t 2020-06-24 & 2020-06-24\\\\\n\t 2020-06-04 & 2020-06-04\\\\\n\t 2020-06-22 & 2020-06-22\\\\\n\t 2020-06-10 & 2020-06-10\\\\\n\t 2020-06-16 & 2020-06-16\\\\\n\t 2020-05-20 & 2020-05-20\\\\\n\t 2020-06-24 & 2020-06-24\\\\\n\t 2020-04-14 & 2020-04-14\\\\\n\t 2020-06-25 & 2020-06-25\\\\\n\t 2020-07-03 & 2020-07-03\\\\\n\t 2020-06-22 & 2020-06-22\\\\\n\t 2020-05-29 & 2020-05-29\\\\\n\t 2020-06-17 & 2020-06-17\\\\\n\t 2020-06-29 & 2020-06-29\\\\\n\t 2020-06-14 & 2020-06-14\\\\\n\t 2020-06-25 & 2020-06-25\\\\\n\t 2020-06-24 & 2020-06-24\\\\\n\t 2020-06-25 & 2020-06-25\\\\\n\t 2020-04-20 & 2020-04-20\\\\\n\t 2020-05-25 & 2020-05-25\\\\\n\t NA & NA\\\\\n\t 2020-04-20 & 2020-04-20\\\\\n\t 2020-06-12 & 2020-06-12\\\\\n\t 2020-05-22 & 2020-05-22\\\\\n\t 2020-05-30 & 2020-05-30\\\\\n\t NA & NA\\\\\n\t 2020-06-20 & 2020-06-20\\\\\n\t 2020-05-22 & 2020-05-22\\\\\n\\end{tabular}\n",
            "text/plain": [
              "     data_notificacao data_notificacao\n",
              "1    2020-06-07       2020-06-07      \n",
              "2    2020-06-05       2020-06-05      \n",
              "3    2020-06-16       2020-06-16      \n",
              "4    2020-06-30       2020-06-30      \n",
              "5    2020-05-27       2020-05-27      \n",
              "6    2020-04-17       2020-04-17      \n",
              "7    2020-05-20       2020-05-20      \n",
              "8    2020-04-14       2020-04-14      \n",
              "9    2020-06-20       2020-06-20      \n",
              "10   2020-06-10       2020-06-10      \n",
              "11   2020-03-20       2020-03-20      \n",
              "12   2020-05-25       2020-05-25      \n",
              "13   2020-06-26       2020-06-26      \n",
              "14   2020-05-27       2020-05-27      \n",
              "15   2020-06-27       2020-06-27      \n",
              "16   2020-04-13       2020-04-13      \n",
              "17   2020-03-20       2020-03-20      \n",
              "18   2020-07-03       2020-07-03      \n",
              "19   2020-05-31       2020-05-31      \n",
              "20   2020-07-03       2020-07-03      \n",
              "21   2020-04-14       2020-04-14      \n",
              "22   2020-06-18       2020-06-18      \n",
              "23   2020-06-25       2020-06-25      \n",
              "24   2020-07-01       2020-07-01      \n",
              "25   2020-06-15       2020-06-15      \n",
              "26   2020-06-26       2020-06-26      \n",
              "27   2020-04-28       2020-04-28      \n",
              "28   2020-04-22       2020-04-22      \n",
              "29   2020-06-04       2020-06-04      \n",
              "30   2020-04-24       2020-04-24      \n",
              "⋮    ⋮                ⋮               \n",
              "5808 2020-03-21       2020-03-21      \n",
              "5809 2020-04-25       2020-04-25      \n",
              "5810 2020-06-24       2020-06-24      \n",
              "5811 2020-06-04       2020-06-04      \n",
              "5812 2020-06-22       2020-06-22      \n",
              "5813 2020-06-10       2020-06-10      \n",
              "5814 2020-06-16       2020-06-16      \n",
              "5815 2020-05-20       2020-05-20      \n",
              "5816 2020-06-24       2020-06-24      \n",
              "5817 2020-04-14       2020-04-14      \n",
              "5818 2020-06-25       2020-06-25      \n",
              "5819 2020-07-03       2020-07-03      \n",
              "5820 2020-06-22       2020-06-22      \n",
              "5821 2020-05-29       2020-05-29      \n",
              "5822 2020-06-17       2020-06-17      \n",
              "5823 2020-06-29       2020-06-29      \n",
              "5824 2020-06-14       2020-06-14      \n",
              "5825 2020-06-25       2020-06-25      \n",
              "5826 2020-06-24       2020-06-24      \n",
              "5827 2020-06-25       2020-06-25      \n",
              "5828 2020-04-20       2020-04-20      \n",
              "5829 2020-05-25       2020-05-25      \n",
              "5830 <NA>             <NA>            \n",
              "5831 2020-04-20       2020-04-20      \n",
              "5832 2020-06-12       2020-06-12      \n",
              "5833 2020-05-22       2020-05-22      \n",
              "5834 2020-05-30       2020-05-30      \n",
              "5835 <NA>             <NA>            \n",
              "5836 2020-06-20       2020-06-20      \n",
              "5837 2020-05-22       2020-05-22      "
            ]
          },
          "metadata": {}
        },
        {
          "output_type": "stream",
          "name": "stdout",
          "text": [
            "Classes ‘data.table’ and 'data.frame':\t5837 obs. of  29 variables:\n",
            " $ data_notificacao                             : Date, format: \"2020-06-07\" \"2020-06-05\" ...\n",
            " $ dor_garganta                                 : chr  \"SIM\" \"NAO\" \"SIM\" \"NAO\" ...\n",
            " $ dispneia                                     : chr  \"NAO\" \"NAO\" \"NAO\" \"NAO\" ...\n",
            " $ febre                                        : chr  \"NAO\" \"SIM\" \"NAO\" \"NAO\" ...\n",
            " $ tosse                                        : chr  \"NAO\" \"NAO\" \"SIM\" \"NAO\" ...\n",
            " $ outros                                       : chr  \"NAO\" \"SIM\" \"SIM\" \"SIM\" ...\n",
            " $ profissional_saude                           : chr  \"SIM\" \"NAO\" \"SIM\" \"NAO\" ...\n",
            " $ descricao_sintoma                            : chr  NA \"DOR TORACICA\" \"CEFALEIA\" \"CEFALEIA\" ...\n",
            " $ data_inicio_sintomas                         : chr  \"03/06/2020\" \"01/06/2020\" \"15/06/2020\" \"30/06/2020\" ...\n",
            " $ doencas_respiratorias_cronicas_descompensadas: chr  \"NAO\" \"NAO\" \"NAO\" \"NAO\" ...\n",
            " $ doencas_cardiacas_cronicas                   : chr  \"NAO\" \"NAO\" \"NAO\" \"NAO\" ...\n",
            " $ diabetes                                     : chr  \"NAO\" \"NAO\" \"NAO\" \"NAO\" ...\n",
            " $ doencas_renais_cronicas                      : chr  \"NAO\" \"NAO\" \"NAO\" \"NAO\" ...\n",
            " $ imunossupressao                              : chr  \"NAO\" \"NAO\" \"NAO\" \"NAO\" ...\n",
            " $ gestante_alto_risco                          : chr  \"NAO\" \"NAO\" \"NAO\" \"NAO\" ...\n",
            " $ doenca_cromossomica                          : chr  \"NAO\" \"NAO\" \"NAO\" \"NAO\" ...\n",
            " $ classificacao_final                          : chr  \"DESCARTADO LABORATORIALMENTE\" \"SUSPEITO\" \"DESCARTADO LABORATORIALMENTE\" \"CONFIRMADO LABORATORIALMENTE\" ...\n",
            " $ investigacao_concluida                       : chr  \"DESCARTADO\" \"SUSPEITO\" \"DESCARTADO\" \"CONFIRMADO\" ...\n",
            " $ estado_teste                                 : chr  \"COLETADO\" NA \"SOLICITADO\" \"COLETADO\" ...\n",
            " $ cbo                                          : chr  \"3241 - TECNOLOGO OU TECNICO EM METODOS DE DIGANOSTICO E TERAPEUTICA\" NA \"3516 - TECNICO DE SEGURANCA NO TRABALHO OU HIGIENE OCUPACIONAL\" NA ...\n",
            " $ data_coleta_teste                            : chr  \"07/06/2020\" NA NA \"30/06/2020\" ...\n",
            " $ idade_anos                                   : chr  \"31\" \"40\" \"36\" \"34\" ...\n",
            " $ tipo_teste                                   : chr  \"RT-PCR EM TEMPO REAL\" NA \"RT-PCR EM TEMPO REAL\" \"RT-PCR EM TEMPO REAL\" ...\n",
            " $ resultado_teste                              : chr  \"NEGATIVO\" NA \"NEGATIVO\" \"POSITIVO\" ...\n",
            " $ sexo                                         : chr  \"FEMININO\" \"FEMININO\" \"FEMININO\" \"FEMININO\" ...\n",
            " $ estado_residencia                            : chr  \"BAHIA\" \"BAHIA\" \"BAHIA\" \"BAHIA\" ...\n",
            " $ municipio_residencia                         : chr  \"FEIRA DE SANTANA\" \"SALVADOR\" \"OUTRO ESTADO\" \"MADRE DE DEUS\" ...\n",
            " $ raca                                         : chr  \"INDIGENA\" \"PARDA\" \"PRETA\" \"PARDA\" ...\n",
            " $ epidemia                                     : chr  \"COVID-19\" \"COVID-19\" \"COVID-19\" \"COVID-19\" ...\n",
            " - attr(*, \".internal.selfref\")=<externalptr> \n"
          ]
        }
      ]
    },
    {
      "cell_type": "code",
      "source": [
        "\n",
        "#Removendo colunas\n",
        "df[ , data_notificacao_teste := NULL]\n"
      ],
      "metadata": {
        "id": "0n-j_55-IWw8",
        "colab": {
          "base_uri": "https://localhost:8080/"
        },
        "outputId": "5e9ce5bc-8532-41ad-df84-a0321357a39a"
      },
      "execution_count": null,
      "outputs": [
        {
          "output_type": "stream",
          "name": "stderr",
          "text": [
            "Warning message in `[.data.table`(df, , `:=`(data_notificacao_teste, NULL)):\n",
            "“Column 'data_notificacao_teste' does not exist to remove”\n"
          ]
        }
      ]
    },
    {
      "cell_type": "code",
      "source": [
        "\n",
        "df[,data_notificacao := as.Date(data_notificacao,format = \"%d/%m/%Y\")]\n",
        "df[,data_inicio_sintomas := as.Date(data_inicio_sintomas,format = \"%d/%m/%Y\")]\n",
        "df[,data_coleta_teste := as.Date(data_coleta_teste,format = \"%d/%m/%Y\")]\n"
      ],
      "metadata": {
        "id": "ylsl8DRF1JIo"
      },
      "execution_count": null,
      "outputs": []
    },
    {
      "cell_type": "code",
      "source": [
        "\n",
        "# Transformando vari�veis em num�ricas\n",
        "df[ , idade_anos := as.numeric(idade_anos)]\n"
      ],
      "metadata": {
        "id": "Sc1AOKPEIXX9"
      },
      "execution_count": null,
      "outputs": []
    },
    {
      "cell_type": "code",
      "source": [
        "\n",
        "# Subsetting dataset\n",
        "df[ , 1:3]\n",
        "df[1:3, ]\n",
        "\n",
        "df <- df[estado_residencia == 'BAHIA']\n",
        "\n"
      ],
      "metadata": {
        "id": "moDBkLybIYHd",
        "colab": {
          "base_uri": "https://localhost:8080/",
          "height": 1000
        },
        "outputId": "723cabfd-140e-4fde-8e72-d9c2025d2b14"
      },
      "execution_count": null,
      "outputs": [
        {
          "output_type": "display_data",
          "data": {
            "text/html": [
              "<table class=\"dataframe\">\n",
              "<caption>A data.table: 5837 × 3</caption>\n",
              "<thead>\n",
              "\t<tr><th scope=col>data_notificacao</th><th scope=col>dor_garganta</th><th scope=col>dispneia</th></tr>\n",
              "\t<tr><th scope=col>&lt;date&gt;</th><th scope=col>&lt;chr&gt;</th><th scope=col>&lt;chr&gt;</th></tr>\n",
              "</thead>\n",
              "<tbody>\n",
              "\t<tr><td>2020-06-07</td><td>SIM</td><td>NAO</td></tr>\n",
              "\t<tr><td>2020-06-05</td><td>NAO</td><td>NAO</td></tr>\n",
              "\t<tr><td>2020-06-16</td><td>SIM</td><td>NAO</td></tr>\n",
              "\t<tr><td>2020-06-30</td><td>NAO</td><td>NAO</td></tr>\n",
              "\t<tr><td>2020-05-27</td><td>NAO</td><td>NAO</td></tr>\n",
              "\t<tr><td>2020-04-17</td><td>NAO</td><td>NAO</td></tr>\n",
              "\t<tr><td>2020-05-20</td><td>NAO</td><td>NAO</td></tr>\n",
              "\t<tr><td>2020-04-14</td><td>SIM</td><td>NAO</td></tr>\n",
              "\t<tr><td>2020-06-20</td><td>NAO</td><td>NAO</td></tr>\n",
              "\t<tr><td>2020-06-10</td><td>NAO</td><td>NAO</td></tr>\n",
              "\t<tr><td>2020-03-20</td><td>NAO</td><td>NAO</td></tr>\n",
              "\t<tr><td>2020-05-25</td><td>NAO</td><td>NAO</td></tr>\n",
              "\t<tr><td>2020-06-26</td><td>NAO</td><td>NAO</td></tr>\n",
              "\t<tr><td>2020-05-27</td><td>NAO</td><td>NAO</td></tr>\n",
              "\t<tr><td>2020-06-27</td><td>NAO</td><td>NAO</td></tr>\n",
              "\t<tr><td>2020-04-13</td><td>NAO</td><td>NAO</td></tr>\n",
              "\t<tr><td>2020-03-20</td><td>NAO</td><td>NAO</td></tr>\n",
              "\t<tr><td>2020-07-03</td><td>NAO</td><td>NAO</td></tr>\n",
              "\t<tr><td>2020-05-31</td><td>NAO</td><td>NAO</td></tr>\n",
              "\t<tr><td>2020-07-03</td><td>NAO</td><td>NAO</td></tr>\n",
              "\t<tr><td>2020-04-14</td><td>NAO</td><td>NAO</td></tr>\n",
              "\t<tr><td>2020-06-18</td><td>NAO</td><td>NAO</td></tr>\n",
              "\t<tr><td>2020-06-25</td><td>NAO</td><td>SIM</td></tr>\n",
              "\t<tr><td>2020-07-01</td><td>NAO</td><td>NAO</td></tr>\n",
              "\t<tr><td>2020-06-15</td><td>NAO</td><td>NAO</td></tr>\n",
              "\t<tr><td>2020-06-26</td><td>NAO</td><td>NAO</td></tr>\n",
              "\t<tr><td>2020-04-28</td><td>NA </td><td>NA </td></tr>\n",
              "\t<tr><td>2020-04-22</td><td>NAO</td><td>SIM</td></tr>\n",
              "\t<tr><td>2020-06-04</td><td>NAO</td><td>SIM</td></tr>\n",
              "\t<tr><td>2020-04-24</td><td>NAO</td><td>NAO</td></tr>\n",
              "\t<tr><td>⋮</td><td>⋮</td><td>⋮</td></tr>\n",
              "\t<tr><td>2020-03-21</td><td>SIM</td><td>NAO</td></tr>\n",
              "\t<tr><td>2020-04-25</td><td>SIM</td><td>SIM</td></tr>\n",
              "\t<tr><td>2020-06-24</td><td>NAO</td><td>NAO</td></tr>\n",
              "\t<tr><td>2020-06-04</td><td>SIM</td><td>NAO</td></tr>\n",
              "\t<tr><td>2020-06-22</td><td>NAO</td><td>NAO</td></tr>\n",
              "\t<tr><td>2020-06-10</td><td>NAO</td><td>NAO</td></tr>\n",
              "\t<tr><td>2020-06-16</td><td>NAO</td><td>SIM</td></tr>\n",
              "\t<tr><td>2020-05-20</td><td>NAO</td><td>NAO</td></tr>\n",
              "\t<tr><td>2020-06-24</td><td>NA </td><td>NA </td></tr>\n",
              "\t<tr><td>2020-04-14</td><td>NAO</td><td>NAO</td></tr>\n",
              "\t<tr><td>2020-06-25</td><td>NAO</td><td>NAO</td></tr>\n",
              "\t<tr><td>2020-07-03</td><td>SIM</td><td>NAO</td></tr>\n",
              "\t<tr><td>2020-06-22</td><td>SIM</td><td>SIM</td></tr>\n",
              "\t<tr><td>2020-05-29</td><td>NAO</td><td>NAO</td></tr>\n",
              "\t<tr><td>2020-06-17</td><td>NAO</td><td>NAO</td></tr>\n",
              "\t<tr><td>2020-06-29</td><td>NAO</td><td>NAO</td></tr>\n",
              "\t<tr><td>2020-06-14</td><td>NAO</td><td>NAO</td></tr>\n",
              "\t<tr><td>2020-06-25</td><td>NAO</td><td>NAO</td></tr>\n",
              "\t<tr><td>2020-06-24</td><td>NAO</td><td>NAO</td></tr>\n",
              "\t<tr><td>2020-06-25</td><td>NAO</td><td>NAO</td></tr>\n",
              "\t<tr><td>2020-04-20</td><td>SIM</td><td>NAO</td></tr>\n",
              "\t<tr><td>2020-05-25</td><td>NAO</td><td>NAO</td></tr>\n",
              "\t<tr><td>NA</td><td>NA </td><td>NA </td></tr>\n",
              "\t<tr><td>2020-04-20</td><td>NAO</td><td>NAO</td></tr>\n",
              "\t<tr><td>2020-06-12</td><td>SIM</td><td>NAO</td></tr>\n",
              "\t<tr><td>2020-05-22</td><td>SIM</td><td>NAO</td></tr>\n",
              "\t<tr><td>2020-05-30</td><td>NAO</td><td>SIM</td></tr>\n",
              "\t<tr><td>NA</td><td>NA </td><td>NA </td></tr>\n",
              "\t<tr><td>2020-06-20</td><td>NAO</td><td>SIM</td></tr>\n",
              "\t<tr><td>2020-05-22</td><td>SIM</td><td>SIM</td></tr>\n",
              "</tbody>\n",
              "</table>\n"
            ],
            "text/markdown": "\nA data.table: 5837 × 3\n\n| data_notificacao &lt;date&gt; | dor_garganta &lt;chr&gt; | dispneia &lt;chr&gt; |\n|---|---|---|\n| 2020-06-07 | SIM | NAO |\n| 2020-06-05 | NAO | NAO |\n| 2020-06-16 | SIM | NAO |\n| 2020-06-30 | NAO | NAO |\n| 2020-05-27 | NAO | NAO |\n| 2020-04-17 | NAO | NAO |\n| 2020-05-20 | NAO | NAO |\n| 2020-04-14 | SIM | NAO |\n| 2020-06-20 | NAO | NAO |\n| 2020-06-10 | NAO | NAO |\n| 2020-03-20 | NAO | NAO |\n| 2020-05-25 | NAO | NAO |\n| 2020-06-26 | NAO | NAO |\n| 2020-05-27 | NAO | NAO |\n| 2020-06-27 | NAO | NAO |\n| 2020-04-13 | NAO | NAO |\n| 2020-03-20 | NAO | NAO |\n| 2020-07-03 | NAO | NAO |\n| 2020-05-31 | NAO | NAO |\n| 2020-07-03 | NAO | NAO |\n| 2020-04-14 | NAO | NAO |\n| 2020-06-18 | NAO | NAO |\n| 2020-06-25 | NAO | SIM |\n| 2020-07-01 | NAO | NAO |\n| 2020-06-15 | NAO | NAO |\n| 2020-06-26 | NAO | NAO |\n| 2020-04-28 | NA  | NA  |\n| 2020-04-22 | NAO | SIM |\n| 2020-06-04 | NAO | SIM |\n| 2020-04-24 | NAO | NAO |\n| ⋮ | ⋮ | ⋮ |\n| 2020-03-21 | SIM | NAO |\n| 2020-04-25 | SIM | SIM |\n| 2020-06-24 | NAO | NAO |\n| 2020-06-04 | SIM | NAO |\n| 2020-06-22 | NAO | NAO |\n| 2020-06-10 | NAO | NAO |\n| 2020-06-16 | NAO | SIM |\n| 2020-05-20 | NAO | NAO |\n| 2020-06-24 | NA  | NA  |\n| 2020-04-14 | NAO | NAO |\n| 2020-06-25 | NAO | NAO |\n| 2020-07-03 | SIM | NAO |\n| 2020-06-22 | SIM | SIM |\n| 2020-05-29 | NAO | NAO |\n| 2020-06-17 | NAO | NAO |\n| 2020-06-29 | NAO | NAO |\n| 2020-06-14 | NAO | NAO |\n| 2020-06-25 | NAO | NAO |\n| 2020-06-24 | NAO | NAO |\n| 2020-06-25 | NAO | NAO |\n| 2020-04-20 | SIM | NAO |\n| 2020-05-25 | NAO | NAO |\n| NA | NA  | NA  |\n| 2020-04-20 | NAO | NAO |\n| 2020-06-12 | SIM | NAO |\n| 2020-05-22 | SIM | NAO |\n| 2020-05-30 | NAO | SIM |\n| NA | NA  | NA  |\n| 2020-06-20 | NAO | SIM |\n| 2020-05-22 | SIM | SIM |\n\n",
            "text/latex": "A data.table: 5837 × 3\n\\begin{tabular}{lll}\n data\\_notificacao & dor\\_garganta & dispneia\\\\\n <date> & <chr> & <chr>\\\\\n\\hline\n\t 2020-06-07 & SIM & NAO\\\\\n\t 2020-06-05 & NAO & NAO\\\\\n\t 2020-06-16 & SIM & NAO\\\\\n\t 2020-06-30 & NAO & NAO\\\\\n\t 2020-05-27 & NAO & NAO\\\\\n\t 2020-04-17 & NAO & NAO\\\\\n\t 2020-05-20 & NAO & NAO\\\\\n\t 2020-04-14 & SIM & NAO\\\\\n\t 2020-06-20 & NAO & NAO\\\\\n\t 2020-06-10 & NAO & NAO\\\\\n\t 2020-03-20 & NAO & NAO\\\\\n\t 2020-05-25 & NAO & NAO\\\\\n\t 2020-06-26 & NAO & NAO\\\\\n\t 2020-05-27 & NAO & NAO\\\\\n\t 2020-06-27 & NAO & NAO\\\\\n\t 2020-04-13 & NAO & NAO\\\\\n\t 2020-03-20 & NAO & NAO\\\\\n\t 2020-07-03 & NAO & NAO\\\\\n\t 2020-05-31 & NAO & NAO\\\\\n\t 2020-07-03 & NAO & NAO\\\\\n\t 2020-04-14 & NAO & NAO\\\\\n\t 2020-06-18 & NAO & NAO\\\\\n\t 2020-06-25 & NAO & SIM\\\\\n\t 2020-07-01 & NAO & NAO\\\\\n\t 2020-06-15 & NAO & NAO\\\\\n\t 2020-06-26 & NAO & NAO\\\\\n\t 2020-04-28 & NA  & NA \\\\\n\t 2020-04-22 & NAO & SIM\\\\\n\t 2020-06-04 & NAO & SIM\\\\\n\t 2020-04-24 & NAO & NAO\\\\\n\t ⋮ & ⋮ & ⋮\\\\\n\t 2020-03-21 & SIM & NAO\\\\\n\t 2020-04-25 & SIM & SIM\\\\\n\t 2020-06-24 & NAO & NAO\\\\\n\t 2020-06-04 & SIM & NAO\\\\\n\t 2020-06-22 & NAO & NAO\\\\\n\t 2020-06-10 & NAO & NAO\\\\\n\t 2020-06-16 & NAO & SIM\\\\\n\t 2020-05-20 & NAO & NAO\\\\\n\t 2020-06-24 & NA  & NA \\\\\n\t 2020-04-14 & NAO & NAO\\\\\n\t 2020-06-25 & NAO & NAO\\\\\n\t 2020-07-03 & SIM & NAO\\\\\n\t 2020-06-22 & SIM & SIM\\\\\n\t 2020-05-29 & NAO & NAO\\\\\n\t 2020-06-17 & NAO & NAO\\\\\n\t 2020-06-29 & NAO & NAO\\\\\n\t 2020-06-14 & NAO & NAO\\\\\n\t 2020-06-25 & NAO & NAO\\\\\n\t 2020-06-24 & NAO & NAO\\\\\n\t 2020-06-25 & NAO & NAO\\\\\n\t 2020-04-20 & SIM & NAO\\\\\n\t 2020-05-25 & NAO & NAO\\\\\n\t NA & NA  & NA \\\\\n\t 2020-04-20 & NAO & NAO\\\\\n\t 2020-06-12 & SIM & NAO\\\\\n\t 2020-05-22 & SIM & NAO\\\\\n\t 2020-05-30 & NAO & SIM\\\\\n\t NA & NA  & NA \\\\\n\t 2020-06-20 & NAO & SIM\\\\\n\t 2020-05-22 & SIM & SIM\\\\\n\\end{tabular}\n",
            "text/plain": [
              "     data_notificacao dor_garganta dispneia\n",
              "1    2020-06-07       SIM          NAO     \n",
              "2    2020-06-05       NAO          NAO     \n",
              "3    2020-06-16       SIM          NAO     \n",
              "4    2020-06-30       NAO          NAO     \n",
              "5    2020-05-27       NAO          NAO     \n",
              "6    2020-04-17       NAO          NAO     \n",
              "7    2020-05-20       NAO          NAO     \n",
              "8    2020-04-14       SIM          NAO     \n",
              "9    2020-06-20       NAO          NAO     \n",
              "10   2020-06-10       NAO          NAO     \n",
              "11   2020-03-20       NAO          NAO     \n",
              "12   2020-05-25       NAO          NAO     \n",
              "13   2020-06-26       NAO          NAO     \n",
              "14   2020-05-27       NAO          NAO     \n",
              "15   2020-06-27       NAO          NAO     \n",
              "16   2020-04-13       NAO          NAO     \n",
              "17   2020-03-20       NAO          NAO     \n",
              "18   2020-07-03       NAO          NAO     \n",
              "19   2020-05-31       NAO          NAO     \n",
              "20   2020-07-03       NAO          NAO     \n",
              "21   2020-04-14       NAO          NAO     \n",
              "22   2020-06-18       NAO          NAO     \n",
              "23   2020-06-25       NAO          SIM     \n",
              "24   2020-07-01       NAO          NAO     \n",
              "25   2020-06-15       NAO          NAO     \n",
              "26   2020-06-26       NAO          NAO     \n",
              "27   2020-04-28       NA           NA      \n",
              "28   2020-04-22       NAO          SIM     \n",
              "29   2020-06-04       NAO          SIM     \n",
              "30   2020-04-24       NAO          NAO     \n",
              "⋮    ⋮                ⋮            ⋮       \n",
              "5808 2020-03-21       SIM          NAO     \n",
              "5809 2020-04-25       SIM          SIM     \n",
              "5810 2020-06-24       NAO          NAO     \n",
              "5811 2020-06-04       SIM          NAO     \n",
              "5812 2020-06-22       NAO          NAO     \n",
              "5813 2020-06-10       NAO          NAO     \n",
              "5814 2020-06-16       NAO          SIM     \n",
              "5815 2020-05-20       NAO          NAO     \n",
              "5816 2020-06-24       NA           NA      \n",
              "5817 2020-04-14       NAO          NAO     \n",
              "5818 2020-06-25       NAO          NAO     \n",
              "5819 2020-07-03       SIM          NAO     \n",
              "5820 2020-06-22       SIM          SIM     \n",
              "5821 2020-05-29       NAO          NAO     \n",
              "5822 2020-06-17       NAO          NAO     \n",
              "5823 2020-06-29       NAO          NAO     \n",
              "5824 2020-06-14       NAO          NAO     \n",
              "5825 2020-06-25       NAO          NAO     \n",
              "5826 2020-06-24       NAO          NAO     \n",
              "5827 2020-06-25       NAO          NAO     \n",
              "5828 2020-04-20       SIM          NAO     \n",
              "5829 2020-05-25       NAO          NAO     \n",
              "5830 <NA>             NA           NA      \n",
              "5831 2020-04-20       NAO          NAO     \n",
              "5832 2020-06-12       SIM          NAO     \n",
              "5833 2020-05-22       SIM          NAO     \n",
              "5834 2020-05-30       NAO          SIM     \n",
              "5835 <NA>             NA           NA      \n",
              "5836 2020-06-20       NAO          SIM     \n",
              "5837 2020-05-22       SIM          SIM     "
            ]
          },
          "metadata": {}
        },
        {
          "output_type": "display_data",
          "data": {
            "text/html": [
              "<table class=\"dataframe\">\n",
              "<caption>A data.table: 3 × 29</caption>\n",
              "<thead>\n",
              "\t<tr><th scope=col>data_notificacao</th><th scope=col>dor_garganta</th><th scope=col>dispneia</th><th scope=col>febre</th><th scope=col>tosse</th><th scope=col>outros</th><th scope=col>profissional_saude</th><th scope=col>descricao_sintoma</th><th scope=col>data_inicio_sintomas</th><th scope=col>doencas_respiratorias_cronicas_descompensadas</th><th scope=col>⋯</th><th scope=col>cbo</th><th scope=col>data_coleta_teste</th><th scope=col>idade_anos</th><th scope=col>tipo_teste</th><th scope=col>resultado_teste</th><th scope=col>sexo</th><th scope=col>estado_residencia</th><th scope=col>municipio_residencia</th><th scope=col>raca</th><th scope=col>epidemia</th></tr>\n",
              "\t<tr><th scope=col>&lt;date&gt;</th><th scope=col>&lt;chr&gt;</th><th scope=col>&lt;chr&gt;</th><th scope=col>&lt;chr&gt;</th><th scope=col>&lt;chr&gt;</th><th scope=col>&lt;chr&gt;</th><th scope=col>&lt;chr&gt;</th><th scope=col>&lt;chr&gt;</th><th scope=col>&lt;date&gt;</th><th scope=col>&lt;chr&gt;</th><th scope=col>⋯</th><th scope=col>&lt;chr&gt;</th><th scope=col>&lt;date&gt;</th><th scope=col>&lt;dbl&gt;</th><th scope=col>&lt;chr&gt;</th><th scope=col>&lt;chr&gt;</th><th scope=col>&lt;chr&gt;</th><th scope=col>&lt;chr&gt;</th><th scope=col>&lt;chr&gt;</th><th scope=col>&lt;chr&gt;</th><th scope=col>&lt;chr&gt;</th></tr>\n",
              "</thead>\n",
              "<tbody>\n",
              "\t<tr><td>2020-06-07</td><td>SIM</td><td>NAO</td><td>NAO</td><td>NAO</td><td>NAO</td><td>SIM</td><td>NA          </td><td>2020-06-03</td><td>NAO</td><td>⋯</td><td>3241 - TECNOLOGO OU TECNICO EM METODOS DE DIGANOSTICO E TERAPEUTICA</td><td>2020-06-07</td><td>31</td><td>RT-PCR EM TEMPO REAL</td><td>NEGATIVO</td><td>FEMININO</td><td>BAHIA</td><td>FEIRA DE SANTANA</td><td>INDIGENA</td><td>COVID-19</td></tr>\n",
              "\t<tr><td>2020-06-05</td><td>NAO</td><td>NAO</td><td>SIM</td><td>NAO</td><td>SIM</td><td>NAO</td><td>DOR TORACICA</td><td>2020-06-01</td><td>NAO</td><td>⋯</td><td>NA                                                                 </td><td>NA</td><td>40</td><td>NA                  </td><td>NA      </td><td>FEMININO</td><td>BAHIA</td><td>SALVADOR        </td><td>PARDA   </td><td>COVID-19</td></tr>\n",
              "\t<tr><td>2020-06-16</td><td>SIM</td><td>NAO</td><td>NAO</td><td>SIM</td><td>SIM</td><td>SIM</td><td>CEFALEIA    </td><td>2020-06-15</td><td>NAO</td><td>⋯</td><td>3516 - TECNICO DE SEGURANCA NO TRABALHO OU HIGIENE OCUPACIONAL     </td><td>NA</td><td>36</td><td>RT-PCR EM TEMPO REAL</td><td>NEGATIVO</td><td>FEMININO</td><td>BAHIA</td><td>OUTRO ESTADO    </td><td>PRETA   </td><td>COVID-19</td></tr>\n",
              "</tbody>\n",
              "</table>\n"
            ],
            "text/markdown": "\nA data.table: 3 × 29\n\n| data_notificacao &lt;date&gt; | dor_garganta &lt;chr&gt; | dispneia &lt;chr&gt; | febre &lt;chr&gt; | tosse &lt;chr&gt; | outros &lt;chr&gt; | profissional_saude &lt;chr&gt; | descricao_sintoma &lt;chr&gt; | data_inicio_sintomas &lt;date&gt; | doencas_respiratorias_cronicas_descompensadas &lt;chr&gt; | ⋯ ⋯ | cbo &lt;chr&gt; | data_coleta_teste &lt;date&gt; | idade_anos &lt;dbl&gt; | tipo_teste &lt;chr&gt; | resultado_teste &lt;chr&gt; | sexo &lt;chr&gt; | estado_residencia &lt;chr&gt; | municipio_residencia &lt;chr&gt; | raca &lt;chr&gt; | epidemia &lt;chr&gt; |\n|---|---|---|---|---|---|---|---|---|---|---|---|---|---|---|---|---|---|---|---|---|\n| 2020-06-07 | SIM | NAO | NAO | NAO | NAO | SIM | NA           | 2020-06-03 | NAO | ⋯ | 3241 - TECNOLOGO OU TECNICO EM METODOS DE DIGANOSTICO E TERAPEUTICA | 2020-06-07 | 31 | RT-PCR EM TEMPO REAL | NEGATIVO | FEMININO | BAHIA | FEIRA DE SANTANA | INDIGENA | COVID-19 |\n| 2020-06-05 | NAO | NAO | SIM | NAO | SIM | NAO | DOR TORACICA | 2020-06-01 | NAO | ⋯ | NA                                                                  | NA | 40 | NA                   | NA       | FEMININO | BAHIA | SALVADOR         | PARDA    | COVID-19 |\n| 2020-06-16 | SIM | NAO | NAO | SIM | SIM | SIM | CEFALEIA     | 2020-06-15 | NAO | ⋯ | 3516 - TECNICO DE SEGURANCA NO TRABALHO OU HIGIENE OCUPACIONAL      | NA | 36 | RT-PCR EM TEMPO REAL | NEGATIVO | FEMININO | BAHIA | OUTRO ESTADO     | PRETA    | COVID-19 |\n\n",
            "text/latex": "A data.table: 3 × 29\n\\begin{tabular}{lllllllllllllllllllll}\n data\\_notificacao & dor\\_garganta & dispneia & febre & tosse & outros & profissional\\_saude & descricao\\_sintoma & data\\_inicio\\_sintomas & doencas\\_respiratorias\\_cronicas\\_descompensadas & ⋯ & cbo & data\\_coleta\\_teste & idade\\_anos & tipo\\_teste & resultado\\_teste & sexo & estado\\_residencia & municipio\\_residencia & raca & epidemia\\\\\n <date> & <chr> & <chr> & <chr> & <chr> & <chr> & <chr> & <chr> & <date> & <chr> & ⋯ & <chr> & <date> & <dbl> & <chr> & <chr> & <chr> & <chr> & <chr> & <chr> & <chr>\\\\\n\\hline\n\t 2020-06-07 & SIM & NAO & NAO & NAO & NAO & SIM & NA           & 2020-06-03 & NAO & ⋯ & 3241 - TECNOLOGO OU TECNICO EM METODOS DE DIGANOSTICO E TERAPEUTICA & 2020-06-07 & 31 & RT-PCR EM TEMPO REAL & NEGATIVO & FEMININO & BAHIA & FEIRA DE SANTANA & INDIGENA & COVID-19\\\\\n\t 2020-06-05 & NAO & NAO & SIM & NAO & SIM & NAO & DOR TORACICA & 2020-06-01 & NAO & ⋯ & NA                                                                  & NA & 40 & NA                   & NA       & FEMININO & BAHIA & SALVADOR         & PARDA    & COVID-19\\\\\n\t 2020-06-16 & SIM & NAO & NAO & SIM & SIM & SIM & CEFALEIA     & 2020-06-15 & NAO & ⋯ & 3516 - TECNICO DE SEGURANCA NO TRABALHO OU HIGIENE OCUPACIONAL      & NA & 36 & RT-PCR EM TEMPO REAL & NEGATIVO & FEMININO & BAHIA & OUTRO ESTADO     & PRETA    & COVID-19\\\\\n\\end{tabular}\n",
            "text/plain": [
              "  data_notificacao dor_garganta dispneia febre tosse outros profissional_saude\n",
              "1 2020-06-07       SIM          NAO      NAO   NAO   NAO    SIM               \n",
              "2 2020-06-05       NAO          NAO      SIM   NAO   SIM    NAO               \n",
              "3 2020-06-16       SIM          NAO      NAO   SIM   SIM    SIM               \n",
              "  descricao_sintoma data_inicio_sintomas\n",
              "1 NA                2020-06-03          \n",
              "2 DOR TORACICA      2020-06-01          \n",
              "3 CEFALEIA          2020-06-15          \n",
              "  doencas_respiratorias_cronicas_descompensadas ⋯\n",
              "1 NAO                                           ⋯\n",
              "2 NAO                                           ⋯\n",
              "3 NAO                                           ⋯\n",
              "  cbo                                                                \n",
              "1 3241 - TECNOLOGO OU TECNICO EM METODOS DE DIGANOSTICO E TERAPEUTICA\n",
              "2 NA                                                                 \n",
              "3 3516 - TECNICO DE SEGURANCA NO TRABALHO OU HIGIENE OCUPACIONAL     \n",
              "  data_coleta_teste idade_anos tipo_teste           resultado_teste sexo    \n",
              "1 2020-06-07        31         RT-PCR EM TEMPO REAL NEGATIVO        FEMININO\n",
              "2 <NA>              40         NA                   NA              FEMININO\n",
              "3 <NA>              36         RT-PCR EM TEMPO REAL NEGATIVO        FEMININO\n",
              "  estado_residencia municipio_residencia raca     epidemia\n",
              "1 BAHIA             FEIRA DE SANTANA     INDIGENA COVID-19\n",
              "2 BAHIA             SALVADOR             PARDA    COVID-19\n",
              "3 BAHIA             OUTRO ESTADO         PRETA    COVID-19"
            ]
          },
          "metadata": {}
        }
      ]
    }
  ]
}