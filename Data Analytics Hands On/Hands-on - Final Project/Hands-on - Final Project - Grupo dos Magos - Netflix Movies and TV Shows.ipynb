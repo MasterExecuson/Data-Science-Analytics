{
 "cells": [
  {
   "cell_type": "markdown",
   "id": "e54c12e9",
   "metadata": {},
   "source": [
    "## Hands On - Trabalho final \n",
    "### Netflix Movies and TV Shows\n",
    "\n",
    "#### Grupo de trabalho\n",
    "1. João Freitas,\n",
    "2. João Kruschewsky,\n",
    "3. Vinícius Matos,\n",
    "4. Vito Magarão\n",
    "\n",
    "\n",
    "#### Objetivo\n",
    "\n",
    "Sobre este conjunto de dados: Netflix é uma das plataformas de streaming de mídia e vídeo mais populares. Eles têm mais de 8.000 filmes ou programas de TV disponíveis em sua plataforma. Em meados de 2021, eles têm mais de 200 milhões de assinantes em todo o mundo. Este conjunto de dados tabulares consiste em listas de todos os filmes e programas de TV disponíveis no Netflix, juntamente com detalhes como elenco, diretores, classificações, ano de lançamento, duração, etc.\n",
    "\n",
    "1. Entender qual conteúdo está disponível em diferentes países.\n",
    "2. Identificando conteúdo semelhante combinando recursos baseados em texto.\n",
    "3. Análise de rede de atores/diretores e encontre insights interessantes.\n",
    "4. A Netflix tem mais foco em programas de TV do que em filmes nos últimos anos?"
   ]
  },
  {
   "cell_type": "code",
   "execution_count": 3,
   "id": "eed37e82",
   "metadata": {},
   "outputs": [],
   "source": [
    "import pandas as pd\n",
    "import matplotlib as plt"
   ]
  },
  {
   "cell_type": "code",
   "execution_count": null,
   "id": "87d7a1f6",
   "metadata": {},
   "outputs": [],
   "source": []
  }
 ],
 "metadata": {
  "kernelspec": {
   "display_name": "Python 3 (ipykernel)",
   "language": "python",
   "name": "python3"
  },
  "language_info": {
   "codemirror_mode": {
    "name": "ipython",
    "version": 3
   },
   "file_extension": ".py",
   "mimetype": "text/x-python",
   "name": "python",
   "nbconvert_exporter": "python",
   "pygments_lexer": "ipython3",
   "version": "3.10.9"
  }
 },
 "nbformat": 4,
 "nbformat_minor": 5
}
