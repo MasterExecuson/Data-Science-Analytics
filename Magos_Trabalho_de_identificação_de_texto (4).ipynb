{
  "cells": [
    {
      "cell_type": "markdown",
      "metadata": {
        "id": "gv-1C8MkqF0U"
      },
      "source": [
        "# O que está sendo pedido? \n",
        "\n",
        "Utilizando a base fornecida, as equipes devem gerar e avaliar um modelo preditivo que seja capaz de, a partir de um breve texto descritivo sobre uma tecnologia, classificá-la entre os rótulos existentes na base de treinamento.\n",
        "\n",
        "* Linguagens e Frameworks - 0 - com base na linha 46\n",
        "* Plataformas - 1 - com base na linha 15\n",
        "* Ferramentas - 2 - com base na linha 27"
      ]
    },
    {
      "cell_type": "markdown",
      "source": [
        "### Grupo de trabalho\n",
        "\n",
        "1. João Freitas,\n",
        "2. João Kruschewsky,\n",
        "3. Vinícius Matos, \n",
        "4. Vito Magarão "
      ],
      "metadata": {
        "id": "QOhGFA1FoAS6"
      }
    },
    {
      "cell_type": "markdown",
      "source": [
        "# Importação da Bibliotecas"
      ],
      "metadata": {
        "id": "FyNdniQRForK"
      }
    },
    {
      "cell_type": "code",
      "execution_count": 1172,
      "metadata": {
        "id": "6fxUWHFqqn1k"
      },
      "outputs": [],
      "source": [
        "import pandas as pd\n",
        "import matplotlib.pyplot as plt\n",
        "import pickle # muito bom para algoritmos já treinados, manipular o output dos algoritmos de ML \n",
        "import seaborn as sns\n",
        "sns.set_style(\"whitegrid\")\n",
        "import altair as alt\n",
        "\n",
        "from sklearn.feature_extraction.text import TfidfVectorizer\n",
        "from sklearn.model_selection import ShuffleSplit, cross_validate,GridSearchCV,RandomizedSearchCV,train_test_split\n",
        "from sklearn.feature_selection import SelectKBest, chi2\n",
        "from sklearn.metrics import accuracy_score, precision_score, recall_score, f1_score, confusion_matrix,make_scorer,classification_report\n",
        "from sklearn.ensemble import RandomForestClassifier\n",
        "from pprint import pprint\n",
        "import numpy as np\n",
        "import string\n",
        "import spacy\n",
        "from sklearn import svm\n",
        "from sklearn.naive_bayes import MultinomialNB \n",
        "import nltk # principal biblioteca do python para processamento de linguagem natural\n",
        "from nltk.corpus import stopwords, wordnet\n",
        "from nltk.stem import WordNetLemmatizer\n",
        "from nltk.stem import PorterStemmer\n",
        "from nltk.stem import LancasterStemmer\n",
        "from nltk.stem.snowball import SnowballStemmer\n",
        "from nltk.stem import WordNetLemmatizer\n",
        "\n",
        "# bibliotecas para esconder os avisos do seaborn\n",
        "import warnings\n",
        "warnings.filterwarnings(\"ignore\")\n",
        "import textwrap "
      ]
    },
    {
      "cell_type": "code",
      "execution_count": 1173,
      "metadata": {
        "colab": {
          "base_uri": "https://localhost:8080/"
        },
        "id": "yg4pfPeeNIQ1",
        "outputId": "2cfcad6b-2701-4cd7-cb9b-9d66a4eba7ab"
      },
      "outputs": [
        {
          "output_type": "stream",
          "name": "stderr",
          "text": [
            "[nltk_data] Downloading package punkt to /root/nltk_data...\n",
            "[nltk_data]   Package punkt is already up-to-date!\n",
            "[nltk_data] Downloading package averaged_perceptron_tagger to\n",
            "[nltk_data]     /root/nltk_data...\n",
            "[nltk_data]   Package averaged_perceptron_tagger is already up-to-\n",
            "[nltk_data]       date!\n",
            "[nltk_data] Downloading package wordnet to /root/nltk_data...\n",
            "[nltk_data]   Package wordnet is already up-to-date!\n",
            "[nltk_data] Downloading package averaged_perceptron_tagger to\n",
            "[nltk_data]     /root/nltk_data...\n",
            "[nltk_data]   Package averaged_perceptron_tagger is already up-to-\n",
            "[nltk_data]       date!\n",
            "[nltk_data] Downloading package omw-1.4 to /root/nltk_data...\n",
            "[nltk_data]   Package omw-1.4 is already up-to-date!\n",
            "[nltk_data] Downloading package stopwords to /root/nltk_data...\n",
            "[nltk_data]   Package stopwords is already up-to-date!\n"
          ]
        },
        {
          "output_type": "execute_result",
          "data": {
            "text/plain": [
              "True"
            ]
          },
          "metadata": {},
          "execution_count": 1173
        }
      ],
      "source": [
        "# comment after running\n",
        "nltk.download('punkt')\n",
        "nltk.download('averaged_perceptron_tagger')\n",
        "nltk.download('wordnet')\n",
        "nltk.download('averaged_perceptron_tagger')\n",
        "nltk.download('omw-1.4')\n",
        "nltk.download('stopwords')"
      ]
    },
    {
      "cell_type": "markdown",
      "metadata": {
        "id": "Mvv-b9TwNvGj"
      },
      "source": [
        "# Funções"
      ]
    },
    {
      "cell_type": "code",
      "execution_count": 1174,
      "metadata": {
        "id": "TCUUCql31fy4"
      },
      "outputs": [],
      "source": [
        "# Função que lista todos os caracteres únicos presentes em todo o dataframe\n",
        "def get_unique_chars(df): \n",
        "    text = ''.join(df['comentario'].astype(str).values.flatten())\n",
        "    unique_chars = list(set(text))\n",
        "    return unique_chars\n",
        "\n",
        "\n",
        "# Limpeza de colunas do dataframe para o primeiro parse \n",
        "def cleaning_df (df,column_name):\n",
        "    df_clean = df.copy()\n",
        "    exclude_chars = [\"’\", \"—\", \"–\",'™']\n",
        "    for char in exclude_chars:\n",
        "        # Essa expressão regular remove todos os caracteres que não estão no alfabeto ou que possuem comprimento menor que 2. Ela também removerá \"s\" e sinais de pontuação.\n",
        "        df_clean[column_name] = df_clean[column_name].replace(to_replace=r'[^a-zA-Z]|(\\b\\w{1}\\b)', value=' ', regex=True)\n",
        "    df_clean[column_name] = df_clean[column_name].replace(regex=r' +', value=' ') # remove quaisquer espaços duplicados ou triplicados que foram gerados como resultado da primeira linha.\n",
        "    df_clean[column_name] = [content.translate(str.maketrans('','', string.punctuation)) for content in df_clean[column_name]]\n",
        "    df_clean[column_name] = [content.translate(str.maketrans('','', string.digits)) for content in df_clean[column_name]]\n",
        "    df_clean[column_name] = df_clean[column_name].str.strip()\n",
        "    return(df_clean)"
      ]
    },
    {
      "cell_type": "code",
      "execution_count": 1175,
      "metadata": {
        "id": "WHKPskVRpeZk"
      },
      "outputs": [],
      "source": [
        "# importando o datafram do git\n",
        "df = pd.read_csv(r'https://raw.githubusercontent.com/MasterExecuson/Data-Science-Analytics/main/Data%20Analytics%20Hands%20on/datasets/base_textos_stack.csv', sep=',', encoding='utf-8')"
      ]
    },
    {
      "cell_type": "code",
      "execution_count": 1176,
      "metadata": {
        "id": "kgBSfvpcrKOc"
      },
      "outputs": [],
      "source": [
        "df_backup = df.copy()"
      ]
    },
    {
      "cell_type": "code",
      "execution_count": 1177,
      "metadata": {
        "id": "awC0CAf-4f5t"
      },
      "outputs": [],
      "source": [
        "df.set_axis(['comentario','classe'], inplace = True, axis = 1)"
      ]
    },
    {
      "cell_type": "markdown",
      "metadata": {
        "id": "HXOdfznqrWUf"
      },
      "source": [
        "O dataframe possui apenas dois atributos relevantes, um referente ao Código de classificação (nosso target) e outro referente ao corpo do texto.\n",
        "\n",
        "Objetivos:\n",
        "* Descobrir o que é cada categoria (0-2); \n",
        "* Treinar um algoritmo capaz de prever em qual categoria o comentário se enquadra."
      ]
    },
    {
      "cell_type": "code",
      "execution_count": 1178,
      "metadata": {
        "colab": {
          "base_uri": "https://localhost:8080/"
        },
        "id": "5LdbnCQ7tA8H",
        "outputId": "14972aa1-8913-43f6-a3b6-56bfeb965af8"
      },
      "outputs": [
        {
          "output_type": "execute_result",
          "data": {
            "text/plain": [
              "array([1, 0, 2])"
            ]
          },
          "metadata": {},
          "execution_count": 1178
        }
      ],
      "source": [
        "df['classe'].unique()"
      ]
    },
    {
      "cell_type": "markdown",
      "metadata": {
        "id": "aGb0InpSwG-Z"
      },
      "source": [
        "A base de dados fornecida já apresenta-se balanceada, considerando a existência do mesmo número de entradas para cada uma das categorias tidas como target. \n",
        "\n",
        "Para cada categoria, encontramos 89 entradas e identifcamos que não existem dados sem categoria ou dados nulos.\n",
        "\n",
        "Existem apenas duas linhas duplicadas com o mesmo target e mesmo comentário (linha 37 e 139), apenas uma delas foi preservada.\n",
        "\n",
        "Existem duas linhas com target dúbio, ou seja, mesmo texto com duas categorias diferentes. Ambos serão descartados, considerando um erro de coleta e que atrapalharia no treinamento do algoritmo. "
      ]
    },
    {
      "cell_type": "code",
      "execution_count": 1179,
      "metadata": {
        "colab": {
          "base_uri": "https://localhost:8080/"
        },
        "id": "7NppZh4CsfRS",
        "outputId": "57252c10-9389-4e67-a638-e1d010d424b9"
      },
      "outputs": [
        {
          "output_type": "execute_result",
          "data": {
            "text/plain": [
              "1    89\n",
              "0    89\n",
              "2    89\n",
              "Name: classe, dtype: int64"
            ]
          },
          "metadata": {},
          "execution_count": 1179
        }
      ],
      "source": [
        "df['classe'].value_counts()"
      ]
    },
    {
      "cell_type": "code",
      "execution_count": 1180,
      "metadata": {
        "colab": {
          "base_uri": "https://localhost:8080/"
        },
        "id": "h32FYZ55wp75",
        "outputId": "8289b519-2dbe-436f-ce34-2f6f3ae42324"
      },
      "outputs": [
        {
          "output_type": "execute_result",
          "data": {
            "text/plain": [
              "comentario    0\n",
              "classe        0\n",
              "dtype: int64"
            ]
          },
          "metadata": {},
          "execution_count": 1180
        }
      ],
      "source": [
        "df.isna().sum()"
      ]
    },
    {
      "cell_type": "code",
      "execution_count": 1181,
      "metadata": {
        "colab": {
          "base_uri": "https://localhost:8080/"
        },
        "id": "EMjgVUMPxoc8",
        "outputId": "a5820959-ae0e-41aa-d4e1-5655bd560c05"
      },
      "outputs": [
        {
          "output_type": "execute_result",
          "data": {
            "text/plain": [
              "Index(['comentario', 'classe'], dtype='object')"
            ]
          },
          "metadata": {},
          "execution_count": 1181
        }
      ],
      "source": [
        "df.columns"
      ]
    },
    {
      "cell_type": "code",
      "execution_count": 1182,
      "metadata": {
        "colab": {
          "base_uri": "https://localhost:8080/"
        },
        "id": "tdvIiH0gwu3y",
        "outputId": "f024ca32-638d-4072-e331-662831d3e6bf"
      },
      "outputs": [
        {
          "output_type": "stream",
          "name": "stdout",
          "text": [
            "O dataset apresenta 267 entradas e 2 atributos.\n",
            "A coluna \"comentario\", que é a que contem os comentários, possui 265 entradas únicas.\n"
          ]
        }
      ],
      "source": [
        "no_comentario_unique = len(df['comentario'].unique())\n",
        "print(f'O dataset apresenta {df.shape[0]} entradas e {df.shape[1]} atributos.')\n",
        "print(f'A coluna \"comentario\", que é a que contem os comentários, possui {no_comentario_unique} entradas únicas.')\n"
      ]
    },
    {
      "cell_type": "code",
      "execution_count": 1183,
      "metadata": {
        "id": "Hwbb4W6K3UL1"
      },
      "outputs": [],
      "source": [
        "df.drop_duplicates(inplace = True)"
      ]
    },
    {
      "cell_type": "code",
      "execution_count": 1184,
      "metadata": {
        "colab": {
          "base_uri": "https://localhost:8080/"
        },
        "id": "dnZmFmWXyHL9",
        "outputId": "898b842b-8708-4758-fddd-c8282b7b26a8"
      },
      "outputs": [
        {
          "output_type": "stream",
          "name": "stdout",
          "text": [
            "As linhas de índices 262 e 203 apresentam o mesmo comentário, porém classificações divergentes.\n"
          ]
        }
      ],
      "source": [
        "first_duplicate_index = df[df['comentario'].duplicated(keep = 'first')].index[0]\n",
        "last_duplicate_index = df[df['comentario'].duplicated(keep = 'last')].index[0]\n",
        "print(f'As linhas de índices {first_duplicate_index} e {last_duplicate_index} apresentam o mesmo comentário, porém classificações divergentes.')"
      ]
    },
    {
      "cell_type": "code",
      "execution_count": 1185,
      "metadata": {
        "colab": {
          "base_uri": "https://localhost:8080/"
        },
        "id": "jTi6oVnL08Vv",
        "outputId": "74782b8f-c6d0-4767-ed0c-7f49ce4272ac"
      },
      "outputs": [
        {
          "output_type": "stream",
          "name": "stdout",
          "text": [
            "                                            comentario  classe\n",
            "262  Docker provides a high-level API to containeri...       2\n",
            "203  Docker provides a high-level API to containeri...       1\n",
            "\n",
            " Essas linhas serão descartadas, conforme mencionado anteriormente.\n"
          ]
        }
      ],
      "source": [
        "print(df.iloc[[first_duplicate_index-1,last_duplicate_index-1]])\n",
        "print('\\n Essas linhas serão descartadas, conforme mencionado anteriormente.')"
      ]
    },
    {
      "cell_type": "code",
      "execution_count": 1186,
      "metadata": {
        "id": "48f7OEjnyy-W"
      },
      "outputs": [],
      "source": [
        "df.drop([first_duplicate_index,last_duplicate_index], inplace = True)"
      ]
    },
    {
      "cell_type": "markdown",
      "metadata": {
        "id": "m7QAtkKB4H3W"
      },
      "source": [
        "Verficou-se abaixo que não existe nenhum comentário com número de dígitos menor que 3, feito dessa forma a fim de verificar se existem entradas vazias ou problemáticas nesse sentido. "
      ]
    },
    {
      "cell_type": "code",
      "execution_count": 1187,
      "metadata": {
        "id": "11K0-Br0w4VB"
      },
      "outputs": [],
      "source": [
        "for comment in df['comentario']:\n",
        "    if len(comment) <= 3:\n",
        "        print(comment)"
      ]
    },
    {
      "cell_type": "code",
      "execution_count": 1188,
      "metadata": {
        "colab": {
          "base_uri": "https://localhost:8080/"
        },
        "id": "N3WK1gkq1nc_",
        "outputId": "f52a56f7-9efd-4ac3-ac56-9f3399b19cf7"
      },
      "outputs": [
        {
          "output_type": "stream",
          "name": "stdout",
          "text": [
            "['™', '’', '—', '–', '~', '|', 'z', 'y', 'x', 'w', 'v', 'u', 't', 's', 'r', 'q', 'p', 'o', 'n', 'm', 'l', 'k', 'j', 'i', 'h', 'g', 'f', 'e', 'd', 'c', 'b', 'a', '`', ']', '[', 'Z', 'Y', 'X', 'W', 'V', 'U', 'T', 'S', 'R', 'Q', 'P', 'O', 'N', 'M', 'L', 'K', 'J', 'I', 'H', 'G', 'F', 'E', 'D', 'C', 'B', 'A', '?', '=', ';', ':', '9', '8', '7', '6', '5', '4', '3', '2', '1', '0', '/', '.', '-', ',', '+', '*', ')', '(', \"'\", '&', '$', '#', '\"', '!', ' ']\n"
          ]
        }
      ],
      "source": [
        "unique_chars = get_unique_chars(df)\n",
        "unique_chars.sort(reverse = True)\n",
        "print(unique_chars)"
      ]
    },
    {
      "cell_type": "markdown",
      "metadata": {
        "id": "RauXTSNQ27tD"
      },
      "source": [
        "Após o output acima, podemos inferir que temos um exemplo razoavelmente bem comportado, onde não existe uma variedade de caracteres acentuados muito expressiva.\n",
        "\n",
        "O intuito dessa lista é nos ajudar a tomar uma decisão mais educada referente ao tipo de *ENCODING* que utilizaremos. `UTF-8` parece não trazer maiores problemas\n"
      ]
    },
    {
      "cell_type": "code",
      "execution_count": 1189,
      "metadata": {
        "colab": {
          "base_uri": "https://localhost:8080/"
        },
        "id": "bq-6vuQ48EP7",
        "outputId": "46527ed9-656e-4db5-b300-03692d8de57d"
      },
      "outputs": [
        {
          "output_type": "stream",
          "name": "stdout",
          "text": [
            "<class 'pandas.core.frame.DataFrame'>\n",
            "Int64Index: 264 entries, 0 to 266\n",
            "Data columns (total 2 columns):\n",
            " #   Column      Non-Null Count  Dtype \n",
            "---  ------      --------------  ----- \n",
            " 0   comentario  264 non-null    object\n",
            " 1   classe      264 non-null    int64 \n",
            "dtypes: int64(1), object(1)\n",
            "memory usage: 6.2+ KB\n"
          ]
        }
      ],
      "source": [
        "df.info()"
      ]
    },
    {
      "cell_type": "code",
      "execution_count": 1190,
      "metadata": {
        "id": "VDW9dmZk8L_z"
      },
      "outputs": [],
      "source": [
        "df['comentario'] = df['comentario'].astype(str)\n",
        "df['classe'] = df['classe'].astype('category')"
      ]
    },
    {
      "cell_type": "markdown",
      "metadata": {
        "id": "23Xg7sRq5cYP"
      },
      "source": [
        "## Verificando a distribuição do comprimento de cada comentário"
      ]
    },
    {
      "cell_type": "code",
      "execution_count": 1191,
      "metadata": {
        "colab": {
          "base_uri": "https://localhost:8080/",
          "height": 404
        },
        "id": "DYmIufS15fXv",
        "outputId": "8a622546-8a38-4547-e6fc-2351dfd34ee1"
      },
      "outputs": [
        {
          "output_type": "display_data",
          "data": {
            "text/plain": [
              "<Figure size 921.6x432 with 1 Axes>"
            ],
            "image/png": "[encoded data removed]"
          },
          "metadata": {}
        }
      ],
      "source": [
        "df['comprimento'] =  [len(sentence.split()) for sentence in df['comentario']]\n",
        "plt.figure(figsize=(12.8,6))\n",
        "sns.distplot(df['comprimento']).set_title('Distribuição do comprimento dos comentários');"
      ]
    },
    {
      "cell_type": "code",
      "execution_count": 1192,
      "metadata": {
        "colab": {
          "base_uri": "https://localhost:8080/",
          "height": 281
        },
        "id": "a4La4F746Gpv",
        "outputId": "3d6caf6c-83bd-42e3-93ca-b2e61b07dcc7"
      },
      "outputs": [
        {
          "output_type": "display_data",
          "data": {
            "text/plain": [
              "<Figure size 432x288 with 1 Axes>"
            ],
            "image/png": "[encoded data removed]"
          },
          "metadata": {}
        }
      ],
      "source": [
        "sns.boxplot(df['comprimento']).set_title('Distribuição do comprimento dos comentários');"
      ]
    },
    {
      "cell_type": "markdown",
      "metadata": {
        "id": "IXSrAwnF5zZ_"
      },
      "source": [
        "Desses gráficos podemos analisar que a distribuição do comprimento dos comentários não seguem o padrão normal. Há um uma assimétria para a direita, indicando que a maioria dos comentários possuem até 40 palavras, enquanto os comentários com 40+ palavras são uma minoria. "
      ]
    },
    {
      "cell_type": "code",
      "execution_count": 1193,
      "metadata": {
        "colab": {
          "base_uri": "https://localhost:8080/",
          "height": 388
        },
        "id": "qnlEnc3Q7hOt",
        "outputId": "322472f2-6a1c-42d6-e983-2c2c86f8eff2"
      },
      "outputs": [
        {
          "output_type": "display_data",
          "data": {
            "text/plain": [
              "<Figure size 921.6x432 with 1 Axes>"
            ],
            "image/png": "[encoded data removed]"
          },
          "metadata": {}
        }
      ],
      "source": [
        "plt.figure(figsize=(12.8,6))\n",
        "sns.boxplot(data=df, x='classe', y='comprimento', width=.5);"
      ]
    },
    {
      "cell_type": "markdown",
      "metadata": {
        "id": "fLyYioBT7l2U"
      },
      "source": [
        "Podemos ver que a classe de número 2 possui comprimento um pouco menor que as demais e que todas as classes possuem um leve desvio para a direita. Uma vez que a base de dados é balanceada e os dados são coerentes, não é necessária a exclusão de outliers para uma visualização conclusiva."
      ]
    },
    {
      "cell_type": "code",
      "execution_count": 1194,
      "metadata": {
        "colab": {
          "base_uri": "https://localhost:8080/",
          "height": 206
        },
        "id": "noGjiTTC8FOT",
        "outputId": "3b279d9c-b8ba-4c36-ff69-aa19bc3d2516"
      },
      "outputs": [
        {
          "output_type": "execute_result",
          "data": {
            "text/plain": [
              "       comprimento                                                     \n",
              "             count       mean        std  min    25%   50%    75%   max\n",
              "classe                                                                 \n",
              "0             88.0  28.340909  15.667439  3.0  15.75  25.5  39.00  68.0\n",
              "1             88.0  29.306818  15.240869  3.0  16.75  27.5  41.00  67.0\n",
              "2             88.0  24.693182  13.740918  5.0  14.00  23.0  32.25  61.0"
            ],
            "text/html": [
              "\n",
              "  <div id=\"df-53848c81-ce97-4f86-9c60-86298b022ca2\">\n",
              "    <div class=\"colab-df-container\">\n",
              "      <div>\n",
              "<style scoped>\n",
              "    .dataframe tbody tr th:only-of-type {\n",
              "        vertical-align: middle;\n",
              "    }\n",
              "\n",
              "    .dataframe tbody tr th {\n",
              "        vertical-align: top;\n",
              "    }\n",
              "\n",
              "    .dataframe thead tr th {\n",
              "        text-align: left;\n",
              "    }\n",
              "\n",
              "    .dataframe thead tr:last-of-type th {\n",
              "        text-align: right;\n",
              "    }\n",
              "</style>\n",
              "<table border=\"1\" class=\"dataframe\">\n",
              "  <thead>\n",
              "    <tr>\n",
              "      <th></th>\n",
              "      <th colspan=\"8\" halign=\"left\">comprimento</th>\n",
              "    </tr>\n",
              "    <tr>\n",
              "      <th></th>\n",
              "      <th>count</th>\n",
              "      <th>mean</th>\n",
              "      <th>std</th>\n",
              "      <th>min</th>\n",
              "      <th>25%</th>\n",
              "      <th>50%</th>\n",
              "      <th>75%</th>\n",
              "      <th>max</th>\n",
              "    </tr>\n",
              "    <tr>\n",
              "      <th>classe</th>\n",
              "      <th></th>\n",
              "      <th></th>\n",
              "      <th></th>\n",
              "      <th></th>\n",
              "      <th></th>\n",
              "      <th></th>\n",
              "      <th></th>\n",
              "      <th></th>\n",
              "    </tr>\n",
              "  </thead>\n",
              "  <tbody>\n",
              "    <tr>\n",
              "      <th>0</th>\n",
              "      <td>88.0</td>\n",
              "      <td>28.340909</td>\n",
              "      <td>15.667439</td>\n",
              "      <td>3.0</td>\n",
              "      <td>15.75</td>\n",
              "      <td>25.5</td>\n",
              "      <td>39.00</td>\n",
              "      <td>68.0</td>\n",
              "    </tr>\n",
              "    <tr>\n",
              "      <th>1</th>\n",
              "      <td>88.0</td>\n",
              "      <td>29.306818</td>\n",
              "      <td>15.240869</td>\n",
              "      <td>3.0</td>\n",
              "      <td>16.75</td>\n",
              "      <td>27.5</td>\n",
              "      <td>41.00</td>\n",
              "      <td>67.0</td>\n",
              "    </tr>\n",
              "    <tr>\n",
              "      <th>2</th>\n",
              "      <td>88.0</td>\n",
              "      <td>24.693182</td>\n",
              "      <td>13.740918</td>\n",
              "      <td>5.0</td>\n",
              "      <td>14.00</td>\n",
              "      <td>23.0</td>\n",
              "      <td>32.25</td>\n",
              "      <td>61.0</td>\n",
              "    </tr>\n",
              "  </tbody>\n",
              "</table>\n",
              "</div>\n",
              "      <button class=\"colab-df-convert\" onclick=\"convertToInteractive('df-53848c81-ce97-4f86-9c60-86298b022ca2')\"\n",
              "              title=\"Convert this dataframe to an interactive table.\"\n",
              "              style=\"display:none;\">\n",
              "        \n",
              "  <svg xmlns=\"http://www.w3.org/2000/svg\" height=\"24px\"viewBox=\"0 0 24 24\"\n",
              "       width=\"24px\">\n",
              "    <path d=\"M0 0h24v24H0V0z\" fill=\"none\"/>\n",
              "    <path d=\"M18.56 5.44l.94 2.06.94-2.06 2.06-.94-2.06-.94-.94-2.06-.94 2.06-2.06.94zm-11 1L8.5 8.5l.94-2.06 2.06-.94-2.06-.94L8.5 2.5l-.94 2.06-2.06.94zm10 10l.94 2.06.94-2.06 2.06-.94-2.06-.94-.94-2.06-.94 2.06-2.06.94z\"/><path d=\"M17.41 7.96l-1.37-1.37c-.4-.4-.92-.59-1.43-.59-.52 0-1.04.2-1.43.59L10.3 9.45l-7.72 7.72c-.78.78-.78 2.05 0 2.83L4 21.41c.39.39.9.59 1.41.59.51 0 1.02-.2 1.41-.59l7.78-7.78 2.81-2.81c.8-.78.8-2.07 0-2.86zM5.41 20L4 18.59l7.72-7.72 1.47 1.35L5.41 20z\"/>\n",
              "  </svg>\n",
              "      </button>\n",
              "      \n",
              "  <style>\n",
              "    .colab-df-container {\n",
              "      display:flex;\n",
              "      flex-wrap:wrap;\n",
              "      gap: 12px;\n",
              "    }\n",
              "\n",
              "    .colab-df-convert {\n",
              "      background-color: #E8F0FE;\n",
              "      border: none;\n",
              "      border-radius: 50%;\n",
              "      cursor: pointer;\n",
              "      display: none;\n",
              "      fill: #1967D2;\n",
              "      height: 32px;\n",
              "      padding: 0 0 0 0;\n",
              "      width: 32px;\n",
              "    }\n",
              "\n",
              "    .colab-df-convert:hover {\n",
              "      background-color: #E2EBFA;\n",
              "      box-shadow: 0px 1px 2px rgba(60, 64, 67, 0.3), 0px 1px 3px 1px rgba(60, 64, 67, 0.15);\n",
              "      fill: #174EA6;\n",
              "    }\n",
              "\n",
              "    [theme=dark] .colab-df-convert {\n",
              "      background-color: #3B4455;\n",
              "      fill: #D2E3FC;\n",
              "    }\n",
              "\n",
              "    [theme=dark] .colab-df-convert:hover {\n",
              "      background-color: #434B5C;\n",
              "      box-shadow: 0px 1px 3px 1px rgba(0, 0, 0, 0.15);\n",
              "      filter: drop-shadow(0px 1px 2px rgba(0, 0, 0, 0.3));\n",
              "      fill: #FFFFFF;\n",
              "    }\n",
              "  </style>\n",
              "\n",
              "      <script>\n",
              "        const buttonEl =\n",
              "          document.querySelector('#df-53848c81-ce97-4f86-9c60-86298b022ca2 button.colab-df-convert');\n",
              "        buttonEl.style.display =\n",
              "          google.colab.kernel.accessAllowed ? 'block' : 'none';\n",
              "\n",
              "        async function convertToInteractive(key) {\n",
              "          const element = document.querySelector('#df-53848c81-ce97-4f86-9c60-86298b022ca2');\n",
              "          const dataTable =\n",
              "            await google.colab.kernel.invokeFunction('convertToInteractive',\n",
              "                                                     [key], {});\n",
              "          if (!dataTable) return;\n",
              "\n",
              "          const docLinkHtml = 'Like what you see? Visit the ' +\n",
              "            '<a target=\"_blank\" href=https://colab.research.google.com/notebooks/data_table.ipynb>data table notebook</a>'\n",
              "            + ' to learn more about interactive tables.';\n",
              "          element.innerHTML = '';\n",
              "          dataTable['output_type'] = 'display_data';\n",
              "          await google.colab.output.renderOutput(dataTable, element);\n",
              "          const docLink = document.createElement('div');\n",
              "          docLink.innerHTML = docLinkHtml;\n",
              "          element.appendChild(docLink);\n",
              "        }\n",
              "      </script>\n",
              "    </div>\n",
              "  </div>\n",
              "  "
            ]
          },
          "metadata": {},
          "execution_count": 1194
        }
      ],
      "source": [
        "df.groupby('classe').describe()"
      ]
    },
    {
      "cell_type": "markdown",
      "metadata": {
        "id": "a1Yj-JkO8cC7"
      },
      "source": [
        "Podemos notar que tanto a média e o desvio padrão são praticamente idênticos nas três categorias. Todas estão com 88 comentários e podemos ver que os quartis se comportam levemente diferentes em cada categoria. Máximos e mínimos são quase constantes em todas as categorias presentes."
      ]
    },
    {
      "cell_type": "markdown",
      "metadata": {
        "id": "nj5HXnXHNZNE"
      },
      "source": [
        "#Remoção de caracteres especiais e números\n",
        "\n",
        "É possível identificar que no dataframe temos alguns caracteres que interferem e/ou não contribuem para os resultados finais, removeu-se tudo que era numérico, tudo que era pontuação e adicionalmente sinais gráficos como  [\" ’ \", \"—\", \"–\",'™']"
      ]
    },
    {
      "cell_type": "markdown",
      "metadata": {
        "id": "iGfGvpsn-N_J"
      },
      "source": [
        "Verificando se a limpeza foi apropriada, notamos que apenas temos letras na lista de caracteres."
      ]
    },
    {
      "cell_type": "code",
      "execution_count": 1195,
      "metadata": {
        "id": "Z-5H-FOM-SDP"
      },
      "outputs": [],
      "source": [
        "df_clean = cleaning_df(df,'comentario')\n",
        "unique_chars = get_unique_chars(df_clean)\n",
        "\n",
        "unique_chars.sort(reverse = True)"
      ]
    },
    {
      "cell_type": "code",
      "execution_count": 1196,
      "metadata": {
        "id": "vWzKHFE1L1on"
      },
      "outputs": [],
      "source": [
        "# adicionando a nova coluna como Parse_1 no df original\n",
        "df['parse_1'] = df_clean['comentario']\n"
      ]
    },
    {
      "cell_type": "markdown",
      "metadata": {
        "id": "FK_b_5RIORsQ"
      },
      "source": [
        "## Lematização e stematização"
      ]
    },
    {
      "cell_type": "code",
      "execution_count": 1197,
      "metadata": {
        "id": "vmrwKJNkOV8e"
      },
      "outputs": [],
      "source": [
        "# carregando a lista de stopwords em inglês\n",
        "stop_words = list(stopwords.words('english'))\n",
        "nlp = spacy.load(\"en_core_web_sm\")\n",
        "wnl = WordNetLemmatizer()\n",
        "# porter = PorterStemmer()\n",
        "lancaster=LancasterStemmer()\n",
        "snowball = SnowballStemmer(language=\"english\")\n",
        "\n",
        "func_lematizator = lambda x: \" \".join([w.lemma_ for w in nlp(x) if w.lemma_ not in stop_words])\n",
        "func_stemmizator = lambda x: \" \".join([lancaster.stem(w) for w in x.lower().split() if w not in stop_words])\n",
        "func_snowtizator = lambda x: \" \".join([snowball.stem(w) for w in x.lower().split() if w not in stop_words])\n",
        "\n",
        "df['parse_2a'] = df['parse_1'].apply(func_lematizator)\n",
        "df['parse_2b'] = df['parse_1'].apply(func_stemmizator)\n",
        "df['parse_2c'] = df['parse_1'].apply(func_snowtizator)"
      ]
    },
    {
      "cell_type": "markdown",
      "metadata": {
        "id": "U-YRPH2jWFZK"
      },
      "source": [
        "### Evolução após cada iteração"
      ]
    },
    {
      "cell_type": "code",
      "execution_count": 1198,
      "metadata": {
        "colab": {
          "base_uri": "https://localhost:8080/",
          "height": 53
        },
        "id": "1UHNI1P2VU1E",
        "outputId": "6e3d12c5-6386-41e4-fec7-34d2e6166db9"
      },
      "outputs": [
        {
          "output_type": "execute_result",
          "data": {
            "text/plain": [
              "'Google App Engine is a cloud computing technology for hosting web applications in Google-managed data centers. Google App Engine is a Platform as a Service (PaaS) offering for Java, Python, Go and PHP.'"
            ],
            "application/vnd.google.colaboratory.intrinsic+json": {
              "type": "string"
            }
          },
          "metadata": {},
          "execution_count": 1198
        }
      ],
      "source": [
        "df.loc[15]['comentario']"
      ]
    },
    {
      "cell_type": "code",
      "execution_count": 1199,
      "metadata": {
        "colab": {
          "base_uri": "https://localhost:8080/",
          "height": 35
        },
        "id": "iKCau1mVVbGb",
        "outputId": "0ebf399c-74f9-4622-c9db-6b79785fd4aa"
      },
      "outputs": [
        {
          "output_type": "execute_result",
          "data": {
            "text/plain": [
              "'Google App Engine is cloud computing technology for hosting web applications in Google managed data centers Google App Engine is Platform as Service PaaS offering for Java Python Go and PHP'"
            ],
            "application/vnd.google.colaboratory.intrinsic+json": {
              "type": "string"
            }
          },
          "metadata": {},
          "execution_count": 1199
        }
      ],
      "source": [
        "df.loc[15]['parse_1']"
      ]
    },
    {
      "cell_type": "code",
      "execution_count": 1200,
      "metadata": {
        "colab": {
          "base_uri": "https://localhost:8080/",
          "height": 35
        },
        "id": "NdmLysh1Vb-5",
        "outputId": "f614c2c7-4fd5-4dbb-ca06-c92bc5a19aee"
      },
      "outputs": [
        {
          "output_type": "execute_result",
          "data": {
            "text/plain": [
              "'Google App Engine cloud compute technology host web application Google manage datum center Google App Engine platform Service PaaS offering Java Python Go php'"
            ],
            "application/vnd.google.colaboratory.intrinsic+json": {
              "type": "string"
            }
          },
          "metadata": {},
          "execution_count": 1200
        }
      ],
      "source": [
        "df.loc[15]['parse_2a']"
      ]
    },
    {
      "cell_type": "code",
      "execution_count": 1201,
      "metadata": {
        "colab": {
          "base_uri": "https://localhost:8080/",
          "height": 35
        },
        "id": "-C4FR2qSVgGE",
        "outputId": "da179a58-8c6d-447a-95ba-97b16b0b5163"
      },
      "outputs": [
        {
          "output_type": "execute_result",
          "data": {
            "text/plain": [
              "'googl ap engin cloud comput technolog host web apply googl man dat cent googl ap engin platform serv paa off jav python go php'"
            ],
            "application/vnd.google.colaboratory.intrinsic+json": {
              "type": "string"
            }
          },
          "metadata": {},
          "execution_count": 1201
        }
      ],
      "source": [
        "df.loc[15]['parse_2b']"
      ]
    },
    {
      "cell_type": "code",
      "execution_count": 1202,
      "metadata": {
        "colab": {
          "base_uri": "https://localhost:8080/",
          "height": 35
        },
        "id": "Sb2HdhS5-00j",
        "outputId": "b4bcd61e-0f9a-4b82-9766-7d63e98135b9"
      },
      "outputs": [
        {
          "output_type": "execute_result",
          "data": {
            "text/plain": [
              "'googl app engin cloud comput technolog host web applic googl manag data center googl app engin platform servic paa offer java python go php'"
            ],
            "application/vnd.google.colaboratory.intrinsic+json": {
              "type": "string"
            }
          },
          "metadata": {},
          "execution_count": 1202
        }
      ],
      "source": [
        "df.loc[15]['parse_2c']"
      ]
    },
    {
      "cell_type": "code",
      "execution_count": 1203,
      "metadata": {
        "id": "uXlsDKobwnwT"
      },
      "outputs": [],
      "source": [
        "#selecionando o modelo que será utilizado\n",
        "\n",
        "df['parsed'] = df['parse_2b']\n",
        "\n",
        "\n"
      ]
    },
    {
      "cell_type": "markdown",
      "source": [
        "Foi analisado os modelos para todos os modelos, parse_2b e parse_2c obtiveram resultados semelhantes. Parse_2a foi o pior modelo (0.4 de diferença).\n",
        "\n",
        "parse_a\n",
        "\n",
        "|\tEstimator\t|Cross-validation| Scores|\tTest Set Scores|\n",
        "|-----|----|----|----|\n",
        "0|\tRandom Forest|\t(0.622, 0.628)|\t(0.55, 0.556)\n",
        "1|\tSVM|\t(0.517, 0.531)\t|(0.496, 0.481)\n",
        "2|\tMultinomialNB\t|(0.734, 0.737)|\t(0.704, 0.704)\n",
        "\n",
        "\n",
        "\n",
        "parse_b\n",
        "\n",
        "|\tEstimator\t|Cross-validation| Scores|\tTest Set Scores|\n",
        "|-----|----|----|----|\n",
        "0|\tRandom Forest\t|(0.597, 0.62)|\t(0.589, 0.593)\n",
        "1|\tSVM\t|(0.54, 0.556)|\t(0.694, 0.704)\n",
        "2|\tMultinomialNB\t|(0.749, 0.759)|\t(0.74, 0.741)\n",
        "\n",
        "\n",
        "\n",
        "parse_c\n",
        "\n",
        "\n",
        "|\tEstimator\t|Cross-validation| Scores|\tTest Set Scores|\n",
        "|-----|----|----|----|\n",
        "0\t|Random Forest\t|(0.6, 0.616)\t|(0.525, 0.519)\n",
        "1\t|SVM\t|(0.539, 0.556)\t|(0.453, 0.444)\n",
        "2\t|MultinomialNB\t|(0.747, 0.75)\t|(0.74, 0.741)"
      ],
      "metadata": {
        "id": "-s_WYhKxZAZ3"
      }
    },
    {
      "cell_type": "markdown",
      "metadata": {
        "id": "dKh_ggCSWIFw"
      },
      "source": [
        "# Divisão de conjuntos de treinamento e teste\n"
      ]
    },
    {
      "cell_type": "markdown",
      "metadata": {
        "id": "J96p6qlfW9qT"
      },
      "source": [
        "Como possuímos apenas 264 textos, iremos separar apenas 10% para o conjunto de validação."
      ]
    },
    {
      "cell_type": "code",
      "execution_count": 1204,
      "metadata": {
        "id": "zymQzTw9yMSK"
      },
      "outputs": [],
      "source": [
        "train_df, test_df, train_target, test_target  = train_test_split(df['parsed'], \n",
        "                                                    df['classe'], \n",
        "                                                    test_size=0.1, \n",
        "                                                    random_state=1)\n"
      ]
    },
    {
      "cell_type": "markdown",
      "metadata": {
        "id": "qkmdD0VSCXps"
      },
      "source": [
        "# Transformação dos Dados"
      ]
    },
    {
      "cell_type": "code",
      "execution_count": 1205,
      "metadata": {
        "id": "DcOA2wr-y8Qh"
      },
      "outputs": [],
      "source": [
        "class preProcess():\n",
        "    \n",
        "    def __init__(self,train_df, test_df, train_target, test_target,ngram_range = (1,2),min_df = 0.02,max_df = 0.98,max_features = None, stop_words = list(stopwords.words('english'))):\n",
        "\n",
        "        self.tfidf = TfidfVectorizer(encoding='utf-8',\n",
        "                                ngram_range=ngram_range,\n",
        "                                stop_words=stop_words,\n",
        "                                lowercase=True,\n",
        "                                max_df=max_df,\n",
        "                                min_df=min_df,\n",
        "                                max_features=max_features,\n",
        "                                sublinear_tf=True)\n",
        "                                \n",
        "        self.features_train = self.tfidf.fit_transform(train_df).toarray()\n",
        "        self.labels_train = train_target\n",
        "        print(self.features_train.shape)\n",
        "\n",
        "        self.features_test = self.tfidf.transform(test_df).toarray()\n",
        "        self.labels_test = test_target\n",
        "        print(self.features_test.shape)"
      ]
    },
    {
      "cell_type": "code",
      "execution_count": 1206,
      "metadata": {
        "colab": {
          "base_uri": "https://localhost:8080/"
        },
        "id": "zu06gMOR6uuz",
        "outputId": "d5002abb-633e-4a9d-ebe0-065331c72edc"
      },
      "outputs": [
        {
          "output_type": "stream",
          "name": "stdout",
          "text": [
            "(237, 206)\n",
            "(27, 206)\n"
          ]
        }
      ],
      "source": [
        "preProcessor = preProcess(train_df, test_df, train_target, test_target)"
      ]
    },
    {
      "cell_type": "markdown",
      "metadata": {
        "id": "pRXsm45U2kPe"
      },
      "source": [
        "Apesar de conservador, utilizar 2% como mínimo e 98% como máximo, o impacto nas features existentes é bem relevante. Passamos de (237, 4082) x (27, 4082) para (237, 206) x (27, 206)"
      ]
    },
    {
      "cell_type": "markdown",
      "metadata": {
        "id": "Z4zqYIn3Cd6v"
      },
      "source": [
        "## Identificação das Categorias\n"
      ]
    },
    {
      "cell_type": "code",
      "execution_count": 1207,
      "metadata": {
        "id": "mADNVGQR4JxA"
      },
      "outputs": [],
      "source": [
        "category_codes = {\n",
        "    'Linguagens e Frameworks': 0,\n",
        "    'Plataformas': 1,\n",
        "    'Ferramentas': 2\n",
        "}\n",
        "\n",
        "# Linguagens e Frameworks - 0 - identificado pela linha 46\n",
        "# Plataformas - 1 - identificado pela linha 15\n",
        "# Ferramentas - 2 - identificado pela linha 27"
      ]
    },
    {
      "cell_type": "markdown",
      "metadata": {
        "id": "EOFg_4p-Ck8x"
      },
      "source": [
        "## Correlação de Palavras com Categorias\n"
      ]
    },
    {
      "cell_type": "code",
      "execution_count": 1208,
      "metadata": {
        "colab": {
          "base_uri": "https://localhost:8080/",
          "height": 1000
        },
        "id": "_bVgqWN83vYc",
        "outputId": "6d504f53-44c3-4a21-b360-039c1027c47b"
      },
      "outputs": [
        {
          "output_type": "display_data",
          "data": {
            "text/plain": [
              "<Figure size 432x288 with 1 Axes>"
            ],
            "image/png": "[encoded data removed]"
          },
          "metadata": {}
        },
        {
          "output_type": "stream",
          "name": "stdout",
          "text": [
            "# Classe 'Ferramentas' :\n",
            "\n",
            " » Unigramas mais correlacionados:\n",
            ". tool\n",
            ". vis\n",
            ". config\n",
            ". test\n",
            ". man\n",
            "\n",
            " » Bigramas mais correlacionados:\n",
            ". op sourc\n",
            ". javascrib framework\n",
            ". virt machin\n",
            "\n",
            " » Principais correlações:\n",
            ". tool\n",
            ". vis\n",
            ". config\n",
            ". test\n",
            ". man\n",
            ". monit\n",
            ". task\n",
            ". integr\n",
            ". comput\n",
            ". project\n",
            ". autom\n",
            ". suit\n",
            ". sourc\n",
            ". control\n",
            ". io\n",
            ". program\n",
            ". dynam\n",
            ". php\n",
            ". react\n",
            ". langu\n",
            "----------------------------------------------------------------------------------------------------------------------------\n",
            "\n"
          ]
        },
        {
          "output_type": "display_data",
          "data": {
            "text/plain": [
              "<Figure size 432x288 with 1 Axes>"
            ],
            "image/png": "[encoded data removed]"
          },
          "metadata": {}
        },
        {
          "output_type": "stream",
          "name": "stdout",
          "text": [
            "# Classe 'Linguagens e Frameworks' :\n",
            "\n",
            " » Unigramas mais correlacionados:\n",
            ". langu\n",
            ". dynam\n",
            ". typ\n",
            ". react\n",
            ". program\n",
            "\n",
            " » Bigramas mais correlacionados:\n",
            ". program langu\n",
            ". op sourc\n",
            ". javascrib framework\n",
            "\n",
            " » Principais correlações:\n",
            ". langu\n",
            ". dynam\n",
            ". typ\n",
            ". react\n",
            ". program langu\n",
            ". program\n",
            ". funct\n",
            ". javascrib\n",
            ". serv\n",
            ". view\n",
            ". sourc\n",
            ". html\n",
            ". feat\n",
            ". without\n",
            ". clod\n",
            ". cli\n",
            ". op sourc\n",
            ". object\n",
            ". ad\n",
            ". lik\n",
            "----------------------------------------------------------------------------------------------------------------------------\n",
            "\n"
          ]
        },
        {
          "output_type": "display_data",
          "data": {
            "text/plain": [
              "<Figure size 432x288 with 1 Axes>"
            ],
            "image/png": "[encoded data removed]"
          },
          "metadata": {}
        },
        {
          "output_type": "stream",
          "name": "stdout",
          "text": [
            "# Classe 'Plataformas' :\n",
            "\n",
            " » Unigramas mais correlacionados:\n",
            ". cloud\n",
            ". comput\n",
            ". avail\n",
            ". databas\n",
            ". window\n",
            "\n",
            " » Bigramas mais correlacionados:\n",
            ". platform serv\n",
            ". sourc project\n",
            ". test framework\n",
            "\n",
            " » Principais correlações:\n",
            ". cloud\n",
            ". comput\n",
            ". platform serv\n",
            ". avail\n",
            ". databas\n",
            ". window\n",
            ". mobl\n",
            ". engin\n",
            ". host\n",
            ". protocol\n",
            ". libr\n",
            ". hadoop\n",
            ". query\n",
            ". platform\n",
            ". set\n",
            ". test\n",
            ". linux\n",
            ". cor\n",
            ". connect\n",
            ". stor\n",
            "----------------------------------------------------------------------------------------------------------------------------\n",
            "\n"
          ]
        }
      ],
      "source": [
        "def get_feature_names(preProcessor,category_id:int):\n",
        "    features_chi2 = chi2(preProcessor.features_train, preProcessor.labels_train == category_id)\n",
        "    indices = np.argsort(features_chi2[0])\n",
        "    feature_names = np.array(preProcessor.tfidf.get_feature_names_out())[indices]\n",
        "\n",
        "    sorted_indices = np.argsort(features_chi2[0])[::-1]\n",
        "\n",
        "    # Sort the chi2 scores\n",
        "    sorted_chi2 = features_chi2[0][sorted_indices]\n",
        "\n",
        "    # Create the line plot\n",
        "    plt.plot(sorted_chi2)\n",
        "    plt.xlabel('Feature Index')\n",
        "    plt.ylabel('Chi2 Score')\n",
        "    plt.title('Chi2 Scores of Features')\n",
        "    plt.show()\n",
        "    return feature_names\n",
        "\n",
        "def print_important_feature(product):\n",
        "\n",
        "    \n",
        "    unigrams = [word for word in feature_names if len(word.split(' ')) == 1]\n",
        "    bigrams = [word for word in feature_names if len(word.split(' ')) == 2]\n",
        "    \n",
        "    print(\"# Classe '{}' :\".format(product))\n",
        "    print(\"\")\n",
        "    print(\" » Unigramas mais correlacionados:\\n. {}\".format('\\n. '.join(unigrams[-5:][::-1])))\n",
        "    print(\"\")\n",
        "    print(\" » Bigramas mais correlacionados:\\n. {}\".format('\\n. '.join(bigrams[-3:][::-1])))\n",
        "    print(\"\")\n",
        "    print(\" » Principais correlações:\\n. {}\".format('\\n. '.join(feature_names[-20:][::-1])))\n",
        "    print(\"----------------------------------------------------------------------------------------------------------------------------\")\n",
        "    print(\"\")\n",
        "\n",
        "for product, category_id in sorted(category_codes.items()):\n",
        "\n",
        "    feature_names = get_feature_names(preProcessor, category_id)\n",
        "\n",
        "    print_important_feature(product)\n",
        "\n"
      ]
    },
    {
      "cell_type": "markdown",
      "metadata": {
        "id": "laBy83y-BGf2"
      },
      "source": [
        "A decisão de correlacionar os labels dados ('Ferramentas', 'Linguagens e Frameworks' e 'Plataformas') com os códigos do dataset baseado na análise de uma amostra dos registros do dataset (Linhas 15, 27 e 46) provou-se acertada na medida em que os unigramas e bigramas mais relevantes à cada classe tem bastante identificação com seus temas.\n",
        "\n",
        "*   Ferramentas = 'tool' / 'configuration \n",
        "*   Linguagens e Frameworks = 'language' / 'type'\n",
        "*   Plataformas = 'cloud' / 'platform service'\n",
        "\n"
      ]
    },
    {
      "cell_type": "markdown",
      "metadata": {
        "id": "r-u8PuJBC6z9"
      },
      "source": [
        "# Seleção de Atributos\n"
      ]
    },
    {
      "cell_type": "markdown",
      "metadata": {
        "id": "itMQXNi6Dmjc"
      },
      "source": [
        "Definiremos o k inicialmente como 100 para visualizar a efetividade do código e, posteriormente, modificá-lo se necessário."
      ]
    },
    {
      "cell_type": "code",
      "execution_count": 1209,
      "metadata": {
        "colab": {
          "base_uri": "https://localhost:8080/"
        },
        "id": "bismTpsO4b5e",
        "outputId": "9942f353-2ae1-4b29-820d-5c9d1618529b"
      },
      "outputs": [
        {
          "output_type": "stream",
          "name": "stdout",
          "text": [
            "(237, 100)\n",
            "(27, 100)\n"
          ]
        }
      ],
      "source": [
        "selector = SelectKBest(chi2, k=100)\n",
        "features_train = selector.fit_transform(preProcessor.features_train, preProcessor.labels_train)\n",
        "features_test = selector.transform(preProcessor.features_test)\n",
        "\n",
        "print(features_train.shape)\n",
        "print(features_test.shape)"
      ]
    },
    {
      "cell_type": "markdown",
      "source": [
        "Foi testado para todos os modelos k= 50,100,85,90,125, os melhores resultados estavam entre 85 e 100, sem diferenças relevantes."
      ],
      "metadata": {
        "id": "gWZ0ihH1XxqJ"
      }
    },
    {
      "cell_type": "markdown",
      "metadata": {
        "id": "RmkieNVMKcU6"
      },
      "source": [
        "# Criação do Modelo"
      ]
    },
    {
      "cell_type": "code",
      "source": [
        "\n",
        "def display_results(preProcessor,rfc_pred):\n",
        "    acc = accuracy_score(preProcessor.labels_test, rfc_pred)\n",
        "    f1 = f1_score(preProcessor.labels_test, rfc_pred, average='macro')\n",
        "    print(classification_report(preProcessor.labels_test,rfc_pred))\n",
        "\n",
        "    aux_df = preProcessor.labels_train.drop_duplicates().sort_values()\n",
        "    conf_matrix = confusion_matrix(preProcessor.labels_test, rfc_pred)\n",
        "    plt.figure(figsize=(12.8,6))\n",
        "    sns.heatmap(conf_matrix, \n",
        "                annot=True,\n",
        "                xticklabels=aux_df.values, \n",
        "                yticklabels=aux_df.values,\n",
        "                cmap=\"Blues\")\n",
        "    plt.ylabel('Actual')\n",
        "    plt.xlabel('Predicted')\n",
        "    plt.title('Confusion matrix')\n",
        "    plt.show()\n",
        "    return f1,acc"
      ],
      "metadata": {
        "id": "22XnrVlaAB4S"
      },
      "execution_count": 1210,
      "outputs": []
    },
    {
      "cell_type": "code",
      "execution_count": 1211,
      "metadata": {
        "id": "CFPH7A2jLFm2"
      },
      "outputs": [],
      "source": [
        "score_metrics = {'F1': 'f1_macro', 'Accuracy': make_scorer(accuracy_score)}\n"
      ]
    },
    {
      "cell_type": "markdown",
      "metadata": {
        "id": "KWJ1DEubR6uj"
      },
      "source": [
        "## 1. Random Forest"
      ]
    },
    {
      "cell_type": "markdown",
      "metadata": {
        "id": "bXdREqmubiC5"
      },
      "source": [
        "#### Cross Validation do Random Search"
      ]
    },
    {
      "cell_type": "code",
      "execution_count": 1212,
      "metadata": {
        "colab": {
          "base_uri": "https://localhost:8080/",
          "height": 135
        },
        "id": "q8o4RQ2aSXmO",
        "outputId": "180eb29a-e4e8-40a8-ff27-fc3a5ad35f70"
      },
      "outputs": [
        {
          "output_type": "stream",
          "name": "stdout",
          "text": [
            "Fitting 10 folds for each of 10 candidates, totalling 100 fits\n"
          ]
        },
        {
          "output_type": "execute_result",
          "data": {
            "text/plain": [
              "RandomizedSearchCV(cv=10, estimator=RandomForestClassifier(random_state=8),\n",
              "                   n_jobs=-1,\n",
              "                   param_distributions={'bootstrap': [True, False],\n",
              "                                        'max_depth': [2, 4, 6, 8, 10, None],\n",
              "                                        'max_features': ['auto', 'sqrt'],\n",
              "                                        'min_samples_leaf': [4],\n",
              "                                        'min_samples_split': [2, 5, 10],\n",
              "                                        'n_estimators': [20, 65, 110, 155,\n",
              "                                                         200]},\n",
              "                   random_state=8, refit='F1',\n",
              "                   scoring={'Accuracy': make_scorer(accuracy_score),\n",
              "                            'F1': 'f1_macro'},\n",
              "                   verbose=1)"
            ],
            "text/html": [
              "<style>#sk-container-id-19 {color: black;background-color: white;}#sk-container-id-19 pre{padding: 0;}#sk-container-id-19 div.sk-toggleable {background-color: white;}#sk-container-id-19 label.sk-toggleable__label {cursor: pointer;display: block;width: 100%;margin-bottom: 0;padding: 0.3em;box-sizing: border-box;text-align: center;}#sk-container-id-19 label.sk-toggleable__label-arrow:before {content: \"▸\";float: left;margin-right: 0.25em;color: #696969;}#sk-container-id-19 label.sk-toggleable__label-arrow:hover:before {color: black;}#sk-container-id-19 div.sk-estimator:hover label.sk-toggleable__label-arrow:before {color: black;}#sk-container-id-19 div.sk-toggleable__content {max-height: 0;max-width: 0;overflow: hidden;text-align: left;background-color: #f0f8ff;}#sk-container-id-19 div.sk-toggleable__content pre {margin: 0.2em;color: black;border-radius: 0.25em;background-color: #f0f8ff;}#sk-container-id-19 input.sk-toggleable__control:checked~div.sk-toggleable__content {max-height: 200px;max-width: 100%;overflow: auto;}#sk-container-id-19 input.sk-toggleable__control:checked~label.sk-toggleable__label-arrow:before {content: \"▾\";}#sk-container-id-19 div.sk-estimator input.sk-toggleable__control:checked~label.sk-toggleable__label {background-color: #d4ebff;}#sk-container-id-19 div.sk-label input.sk-toggleable__control:checked~label.sk-toggleable__label {background-color: #d4ebff;}#sk-container-id-19 input.sk-hidden--visually {border: 0;clip: rect(1px 1px 1px 1px);clip: rect(1px, 1px, 1px, 1px);height: 1px;margin: -1px;overflow: hidden;padding: 0;position: absolute;width: 1px;}#sk-container-id-19 div.sk-estimator {font-family: monospace;background-color: #f0f8ff;border: 1px dotted black;border-radius: 0.25em;box-sizing: border-box;margin-bottom: 0.5em;}#sk-container-id-19 div.sk-estimator:hover {background-color: #d4ebff;}#sk-container-id-19 div.sk-parallel-item::after {content: \"\";width: 100%;border-bottom: 1px solid gray;flex-grow: 1;}#sk-container-id-19 div.sk-label:hover label.sk-toggleable__label {background-color: #d4ebff;}#sk-container-id-19 div.sk-serial::before {content: \"\";position: absolute;border-left: 1px solid gray;box-sizing: border-box;top: 0;bottom: 0;left: 50%;z-index: 0;}#sk-container-id-19 div.sk-serial {display: flex;flex-direction: column;align-items: center;background-color: white;padding-right: 0.2em;padding-left: 0.2em;position: relative;}#sk-container-id-19 div.sk-item {position: relative;z-index: 1;}#sk-container-id-19 div.sk-parallel {display: flex;align-items: stretch;justify-content: center;background-color: white;position: relative;}#sk-container-id-19 div.sk-item::before, #sk-container-id-19 div.sk-parallel-item::before {content: \"\";position: absolute;border-left: 1px solid gray;box-sizing: border-box;top: 0;bottom: 0;left: 50%;z-index: -1;}#sk-container-id-19 div.sk-parallel-item {display: flex;flex-direction: column;z-index: 1;position: relative;background-color: white;}#sk-container-id-19 div.sk-parallel-item:first-child::after {align-self: flex-end;width: 50%;}#sk-container-id-19 div.sk-parallel-item:last-child::after {align-self: flex-start;width: 50%;}#sk-container-id-19 div.sk-parallel-item:only-child::after {width: 0;}#sk-container-id-19 div.sk-dashed-wrapped {border: 1px dashed gray;margin: 0 0.4em 0.5em 0.4em;box-sizing: border-box;padding-bottom: 0.4em;background-color: white;}#sk-container-id-19 div.sk-label label {font-family: monospace;font-weight: bold;display: inline-block;line-height: 1.2em;}#sk-container-id-19 div.sk-label-container {text-align: center;}#sk-container-id-19 div.sk-container {/* jupyter's `normalize.less` sets `[hidden] { display: none; }` but bootstrap.min.css set `[hidden] { display: none !important; }` so we also need the `!important` here to be able to override the default hidden behavior on the sphinx rendered scikit-learn.org. See: https://github.com/scikit-learn/scikit-learn/issues/21755 */display: inline-block !important;position: relative;}#sk-container-id-19 div.sk-text-repr-fallback {display: none;}</style><div id=\"sk-container-id-19\" class=\"sk-top-container\"><div class=\"sk-text-repr-fallback\"><pre>RandomizedSearchCV(cv=10, estimator=RandomForestClassifier(random_state=8),\n",
              "                   n_jobs=-1,\n",
              "                   param_distributions={&#x27;bootstrap&#x27;: [True, False],\n",
              "                                        &#x27;max_depth&#x27;: [2, 4, 6, 8, 10, None],\n",
              "                                        &#x27;max_features&#x27;: [&#x27;auto&#x27;, &#x27;sqrt&#x27;],\n",
              "                                        &#x27;min_samples_leaf&#x27;: [4],\n",
              "                                        &#x27;min_samples_split&#x27;: [2, 5, 10],\n",
              "                                        &#x27;n_estimators&#x27;: [20, 65, 110, 155,\n",
              "                                                         200]},\n",
              "                   random_state=8, refit=&#x27;F1&#x27;,\n",
              "                   scoring={&#x27;Accuracy&#x27;: make_scorer(accuracy_score),\n",
              "                            &#x27;F1&#x27;: &#x27;f1_macro&#x27;},\n",
              "                   verbose=1)</pre><b>In a Jupyter environment, please rerun this cell to show the HTML representation or trust the notebook. <br />On GitHub, the HTML representation is unable to render, please try loading this page with nbviewer.org.</b></div><div class=\"sk-container\" hidden><div class=\"sk-item sk-dashed-wrapped\"><div class=\"sk-label-container\"><div class=\"sk-label sk-toggleable\"><input class=\"sk-toggleable__control sk-hidden--visually\" id=\"sk-estimator-id-55\" type=\"checkbox\" ><label for=\"sk-estimator-id-55\" class=\"sk-toggleable__label sk-toggleable__label-arrow\">RandomizedSearchCV</label><div class=\"sk-toggleable__content\"><pre>RandomizedSearchCV(cv=10, estimator=RandomForestClassifier(random_state=8),\n",
              "                   n_jobs=-1,\n",
              "                   param_distributions={&#x27;bootstrap&#x27;: [True, False],\n",
              "                                        &#x27;max_depth&#x27;: [2, 4, 6, 8, 10, None],\n",
              "                                        &#x27;max_features&#x27;: [&#x27;auto&#x27;, &#x27;sqrt&#x27;],\n",
              "                                        &#x27;min_samples_leaf&#x27;: [4],\n",
              "                                        &#x27;min_samples_split&#x27;: [2, 5, 10],\n",
              "                                        &#x27;n_estimators&#x27;: [20, 65, 110, 155,\n",
              "                                                         200]},\n",
              "                   random_state=8, refit=&#x27;F1&#x27;,\n",
              "                   scoring={&#x27;Accuracy&#x27;: make_scorer(accuracy_score),\n",
              "                            &#x27;F1&#x27;: &#x27;f1_macro&#x27;},\n",
              "                   verbose=1)</pre></div></div></div><div class=\"sk-parallel\"><div class=\"sk-parallel-item\"><div class=\"sk-item\"><div class=\"sk-label-container\"><div class=\"sk-label sk-toggleable\"><input class=\"sk-toggleable__control sk-hidden--visually\" id=\"sk-estimator-id-56\" type=\"checkbox\" ><label for=\"sk-estimator-id-56\" class=\"sk-toggleable__label sk-toggleable__label-arrow\">estimator: RandomForestClassifier</label><div class=\"sk-toggleable__content\"><pre>RandomForestClassifier(random_state=8)</pre></div></div></div><div class=\"sk-serial\"><div class=\"sk-item\"><div class=\"sk-estimator sk-toggleable\"><input class=\"sk-toggleable__control sk-hidden--visually\" id=\"sk-estimator-id-57\" type=\"checkbox\" ><label for=\"sk-estimator-id-57\" class=\"sk-toggleable__label sk-toggleable__label-arrow\">RandomForestClassifier</label><div class=\"sk-toggleable__content\"><pre>RandomForestClassifier(random_state=8)</pre></div></div></div></div></div></div></div></div></div></div>"
            ]
          },
          "metadata": {},
          "execution_count": 1212
        }
      ],
      "source": [
        "n_estimators = [int(x) for x in np.linspace(start = 20, stop = 200, num = 5)]\n",
        "\n",
        "max_features = ['auto', 'sqrt']\n",
        "\n",
        "max_depth = [int(x) for x in np.linspace(2, 10, num = 5)]\n",
        "max_depth.append(None)\n",
        "\n",
        "min_samples_split = [2, 5, 10]\n",
        "\n",
        "min_samples_leaf = [4]\n",
        "\n",
        "bootstrap = [True, False]\n",
        "\n",
        "random_grid = {'n_estimators': n_estimators,\n",
        "               'max_features': max_features,\n",
        "               'max_depth': max_depth,\n",
        "               'min_samples_split': min_samples_split,\n",
        "               'min_samples_leaf': min_samples_leaf,\n",
        "               'bootstrap': bootstrap}\n",
        "\n",
        "rfc = RandomForestClassifier(random_state=8)\n",
        "\n",
        "random_search = RandomizedSearchCV(estimator=rfc,\n",
        "                                   param_distributions=random_grid,\n",
        "                                   n_iter=10, # número de combinações \n",
        "                                   scoring=score_metrics, # metodo de avaliação\n",
        "                                   refit='F1', # método utilizado para refitagem\n",
        "                                   cv=10, # número de folds\n",
        "                                   verbose=1, \n",
        "                                   random_state=8, \n",
        "                                   n_jobs =-1) # processamento paralelo\n",
        "\n",
        "random_search.fit(features_train, preProcessor.labels_train)"
      ]
    },
    {
      "cell_type": "code",
      "execution_count": 1213,
      "metadata": {
        "colab": {
          "base_uri": "https://localhost:8080/"
        },
        "id": "jIunre9tXyBt",
        "outputId": "6038ad47-2a35-4939-b87f-060ef3391210"
      },
      "outputs": [
        {
          "output_type": "stream",
          "name": "stdout",
          "text": [
            "Os melhores hiperparâmetros encontrados com o Random Search são:\n",
            "{'n_estimators': 65, 'min_samples_split': 5, 'min_samples_leaf': 4, 'max_features': 'auto', 'max_depth': 6, 'bootstrap': True}\n",
            "\n",
            "A macro F1 obtida com esses hiperparâmetros é:\n",
            "0.597365319927576\n"
          ]
        }
      ],
      "source": [
        "print(\"Os melhores hiperparâmetros encontrados com o Random Search são:\")\n",
        "print(random_search.best_params_)\n",
        "print(\"\")\n",
        "print(\"A macro F1 obtida com esses hiperparâmetros é:\")\n",
        "print(random_search.best_score_)"
      ]
    },
    {
      "cell_type": "markdown",
      "metadata": {
        "id": "0uvP7kFciwag"
      },
      "source": [
        "#### 1.2. Treinamento e avaliação do modelo"
      ]
    },
    {
      "cell_type": "code",
      "execution_count": 1214,
      "metadata": {
        "id": "CbnBQIq5jWVA",
        "colab": {
          "base_uri": "https://localhost:8080/",
          "height": 578
        },
        "outputId": "9d7fc8bc-9857-48ba-f81c-fbc229d5798b"
      },
      "outputs": [
        {
          "output_type": "stream",
          "name": "stdout",
          "text": [
            "              precision    recall  f1-score   support\n",
            "\n",
            "           0       0.67      0.67      0.67         9\n",
            "           1       0.86      0.46      0.60        13\n",
            "           2       0.36      0.80      0.50         5\n",
            "\n",
            "    accuracy                           0.59        27\n",
            "   macro avg       0.63      0.64      0.59        27\n",
            "weighted avg       0.70      0.59      0.60        27\n",
            "\n"
          ]
        },
        {
          "output_type": "display_data",
          "data": {
            "text/plain": [
              "<Figure size 921.6x432 with 2 Axes>"
            ],
            "image/png": "[encoded data removed]"
          },
          "metadata": {}
        }
      ],
      "source": [
        "results = random_search.cv_results_\n",
        "best_rfc = random_search.best_estimator_ \n",
        "best_scorer_index = np.nonzero(results['rank_test_F1'] == 1)[0][0]\n",
        "best_scorer_index\n",
        "\n",
        "best_rfc.fit(features_train, preProcessor.labels_train)\n",
        "rfc_pred = best_rfc.predict(features_test)\n",
        "\n",
        "\n",
        "f1,acc = display_results(preProcessor,rfc_pred)"
      ]
    },
    {
      "cell_type": "markdown",
      "source": [
        "Dada Matriz de confusão, podemos notar alguns pontos referentes à cada classe:\n",
        "\n",
        "Classe 0 - obteve uma boa performace\n",
        "\n",
        "Classe 1,2 - houve bastante confusão na hora de diferenciar classes 1 e 2 para o modelo, porém para estimar a classe 1 obtiveram-se bons resultados.\n"
      ],
      "metadata": {
        "id": "10lzEZr3e1J7"
      }
    },
    {
      "cell_type": "code",
      "source": [
        "print(train_target.value_counts(),'\\n', test_target.value_counts())"
      ],
      "metadata": {
        "id": "EkEczqMrhiKZ",
        "colab": {
          "base_uri": "https://localhost:8080/"
        },
        "outputId": "72183bab-24f3-4924-cf38-919a6ca8a591"
      },
      "execution_count": 1215,
      "outputs": [
        {
          "output_type": "stream",
          "name": "stdout",
          "text": [
            "2    83\n",
            "0    79\n",
            "1    75\n",
            "Name: classe, dtype: int64 \n",
            " 1    13\n",
            "0     9\n",
            "2     5\n",
            "Name: classe, dtype: int64\n"
          ]
        }
      ]
    },
    {
      "cell_type": "markdown",
      "source": [
        "- Verificamos que há um pequeno desbalanceamento na base de treino, que inicialmente possuiu mais exemplos da classe 2 e menos exemplos da classe 1. Isso pode justificar a dificuldade do modelo em primeira instancia em diferenciar 1 de 2"
      ],
      "metadata": {
        "id": "L9wnCNzfiVEy"
      }
    },
    {
      "cell_type": "code",
      "source": [
        "df_estimators_scores = pd.DataFrame(columns=['Estimator', 'Cross-validation Scores', 'Test Set Scores'])\n",
        "d = {\n",
        "     'Estimator': 'Random Forest',\n",
        "     'Cross-validation Scores': (round(results['mean_test_F1'][best_scorer_index],3), round(results['mean_test_Accuracy'][best_scorer_index],3)),\n",
        "     'Test Set Scores': (round(f1,3), round(acc,3))\n",
        "}\n",
        "\n",
        "df_estimators_scores = df_estimators_scores.append(d, ignore_index=True)\n",
        "df_estimators_scores"
      ],
      "metadata": {
        "colab": {
          "base_uri": "https://localhost:8080/",
          "height": 81
        },
        "id": "u68KQ802H3o0",
        "outputId": "04c2f37c-0deb-40bb-df2f-ff227b5f2289"
      },
      "execution_count": 1216,
      "outputs": [
        {
          "output_type": "execute_result",
          "data": {
            "text/plain": [
              "       Estimator Cross-validation Scores Test Set Scores\n",
              "0  Random Forest           (0.597, 0.62)  (0.589, 0.593)"
            ],
            "text/html": [
              "\n",
              "  <div id=\"df-b66faf9a-36fa-4e76-a4ef-818f551a6edc\">\n",
              "    <div class=\"colab-df-container\">\n",
              "      <div>\n",
              "<style scoped>\n",
              "    .dataframe tbody tr th:only-of-type {\n",
              "        vertical-align: middle;\n",
              "    }\n",
              "\n",
              "    .dataframe tbody tr th {\n",
              "        vertical-align: top;\n",
              "    }\n",
              "\n",
              "    .dataframe thead th {\n",
              "        text-align: right;\n",
              "    }\n",
              "</style>\n",
              "<table border=\"1\" class=\"dataframe\">\n",
              "  <thead>\n",
              "    <tr style=\"text-align: right;\">\n",
              "      <th></th>\n",
              "      <th>Estimator</th>\n",
              "      <th>Cross-validation Scores</th>\n",
              "      <th>Test Set Scores</th>\n",
              "    </tr>\n",
              "  </thead>\n",
              "  <tbody>\n",
              "    <tr>\n",
              "      <th>0</th>\n",
              "      <td>Random Forest</td>\n",
              "      <td>(0.597, 0.62)</td>\n",
              "      <td>(0.589, 0.593)</td>\n",
              "    </tr>\n",
              "  </tbody>\n",
              "</table>\n",
              "</div>\n",
              "      <button class=\"colab-df-convert\" onclick=\"convertToInteractive('df-b66faf9a-36fa-4e76-a4ef-818f551a6edc')\"\n",
              "              title=\"Convert this dataframe to an interactive table.\"\n",
              "              style=\"display:none;\">\n",
              "        \n",
              "  <svg xmlns=\"http://www.w3.org/2000/svg\" height=\"24px\"viewBox=\"0 0 24 24\"\n",
              "       width=\"24px\">\n",
              "    <path d=\"M0 0h24v24H0V0z\" fill=\"none\"/>\n",
              "    <path d=\"M18.56 5.44l.94 2.06.94-2.06 2.06-.94-2.06-.94-.94-2.06-.94 2.06-2.06.94zm-11 1L8.5 8.5l.94-2.06 2.06-.94-2.06-.94L8.5 2.5l-.94 2.06-2.06.94zm10 10l.94 2.06.94-2.06 2.06-.94-2.06-.94-.94-2.06-.94 2.06-2.06.94z\"/><path d=\"M17.41 7.96l-1.37-1.37c-.4-.4-.92-.59-1.43-.59-.52 0-1.04.2-1.43.59L10.3 9.45l-7.72 7.72c-.78.78-.78 2.05 0 2.83L4 21.41c.39.39.9.59 1.41.59.51 0 1.02-.2 1.41-.59l7.78-7.78 2.81-2.81c.8-.78.8-2.07 0-2.86zM5.41 20L4 18.59l7.72-7.72 1.47 1.35L5.41 20z\"/>\n",
              "  </svg>\n",
              "      </button>\n",
              "      \n",
              "  <style>\n",
              "    .colab-df-container {\n",
              "      display:flex;\n",
              "      flex-wrap:wrap;\n",
              "      gap: 12px;\n",
              "    }\n",
              "\n",
              "    .colab-df-convert {\n",
              "      background-color: #E8F0FE;\n",
              "      border: none;\n",
              "      border-radius: 50%;\n",
              "      cursor: pointer;\n",
              "      display: none;\n",
              "      fill: #1967D2;\n",
              "      height: 32px;\n",
              "      padding: 0 0 0 0;\n",
              "      width: 32px;\n",
              "    }\n",
              "\n",
              "    .colab-df-convert:hover {\n",
              "      background-color: #E2EBFA;\n",
              "      box-shadow: 0px 1px 2px rgba(60, 64, 67, 0.3), 0px 1px 3px 1px rgba(60, 64, 67, 0.15);\n",
              "      fill: #174EA6;\n",
              "    }\n",
              "\n",
              "    [theme=dark] .colab-df-convert {\n",
              "      background-color: #3B4455;\n",
              "      fill: #D2E3FC;\n",
              "    }\n",
              "\n",
              "    [theme=dark] .colab-df-convert:hover {\n",
              "      background-color: #434B5C;\n",
              "      box-shadow: 0px 1px 3px 1px rgba(0, 0, 0, 0.15);\n",
              "      filter: drop-shadow(0px 1px 2px rgba(0, 0, 0, 0.3));\n",
              "      fill: #FFFFFF;\n",
              "    }\n",
              "  </style>\n",
              "\n",
              "      <script>\n",
              "        const buttonEl =\n",
              "          document.querySelector('#df-b66faf9a-36fa-4e76-a4ef-818f551a6edc button.colab-df-convert');\n",
              "        buttonEl.style.display =\n",
              "          google.colab.kernel.accessAllowed ? 'block' : 'none';\n",
              "\n",
              "        async function convertToInteractive(key) {\n",
              "          const element = document.querySelector('#df-b66faf9a-36fa-4e76-a4ef-818f551a6edc');\n",
              "          const dataTable =\n",
              "            await google.colab.kernel.invokeFunction('convertToInteractive',\n",
              "                                                     [key], {});\n",
              "          if (!dataTable) return;\n",
              "\n",
              "          const docLinkHtml = 'Like what you see? Visit the ' +\n",
              "            '<a target=\"_blank\" href=https://colab.research.google.com/notebooks/data_table.ipynb>data table notebook</a>'\n",
              "            + ' to learn more about interactive tables.';\n",
              "          element.innerHTML = '';\n",
              "          dataTable['output_type'] = 'display_data';\n",
              "          await google.colab.output.renderOutput(dataTable, element);\n",
              "          const docLink = document.createElement('div');\n",
              "          docLink.innerHTML = docLinkHtml;\n",
              "          element.appendChild(docLink);\n",
              "        }\n",
              "      </script>\n",
              "    </div>\n",
              "  </div>\n",
              "  "
            ]
          },
          "metadata": {},
          "execution_count": 1216
        }
      ]
    },
    {
      "cell_type": "markdown",
      "metadata": {
        "id": "M0zDiFC0bu5a"
      },
      "source": [
        "#### Cross Validation do Grid Search"
      ]
    },
    {
      "cell_type": "markdown",
      "source": [
        "Como GRID SEARCH realiza todas as combinações lineares dos parâmetro, em aplicações que realmente desejamos variar os parâmetros ela não se faz muito útil (muito tempo de processamento), já que o número de modelos criados é igual à combinação linear de todas as possibilidades. Apenas realizado para fins de demonstração."
      ],
      "metadata": {
        "id": "BQ5t3Rzn1Jhk"
      }
    },
    {
      "cell_type": "code",
      "execution_count": 1217,
      "metadata": {
        "colab": {
          "base_uri": "https://localhost:8080/"
        },
        "id": "QT2hRnNwbuaq",
        "outputId": "826290a7-0d57-4364-eac7-77f8e9305ade"
      },
      "outputs": [
        {
          "output_type": "stream",
          "name": "stdout",
          "text": [
            "Fitting 10 folds for each of 9 candidates, totalling 90 fits\n",
            "Os melhores hiperparâmetros encontrados com o Random Search são:\n",
            "{'bootstrap': False, 'max_depth': 30, 'max_features': 'sqrt', 'min_samples_leaf': 4, 'min_samples_split': 5, 'n_estimators': 20}\n",
            "\n",
            "A acurácia média obtida com esses hiperparâmetros é:\n",
            "0.6083333333333333\n"
          ]
        }
      ],
      "source": [
        "bootstrap = [False]\n",
        "max_depth = [30, 40, 50]\n",
        "max_features = ['sqrt']\n",
        "min_samples_leaf = [4]\n",
        "min_samples_split = [5, 10, 15]\n",
        "n_estimators = [20]\n",
        "\n",
        "param_grid = {\n",
        "    'bootstrap': bootstrap,\n",
        "    'max_depth': max_depth,\n",
        "    'max_features': max_features,\n",
        "    'min_samples_leaf': min_samples_leaf,\n",
        "    'min_samples_split': min_samples_split,\n",
        "    'n_estimators': n_estimators\n",
        "}\n",
        "\n",
        "# Create a base model\n",
        "rfc = RandomForestClassifier(random_state=8)\n",
        "\n",
        "# Manually create the splits in CV in order to be able to fix a random_state (GridSearchCV doesn't have that argument)\n",
        "cv_sets = ShuffleSplit(n_splits = 10, test_size = None, random_state = 8)\n",
        "# testando com fold 10 e test 0 pois ja temos um teste separado\n",
        "\n",
        "# Instantiate the grid search model\n",
        "grid_search = GridSearchCV(estimator=rfc, \n",
        "                           param_grid=param_grid,\n",
        "                           scoring='accuracy',\n",
        "                           cv=cv_sets,\n",
        "                           verbose=2, n_jobs =-1)\n",
        "\n",
        "# Fit the grid search to the data\n",
        "grid_search.fit(features_train, preProcessor.labels_train)\n",
        "\n",
        "print(\"Os melhores hiperparâmetros encontrados com o Random Search são:\")\n",
        "print(grid_search.best_params_)\n",
        "print(\"\")\n",
        "print(\"A acurácia média obtida com esses hiperparâmetros é:\")\n",
        "print(grid_search.best_score_)"
      ]
    },
    {
      "cell_type": "markdown",
      "source": [
        "## 2. SVM"
      ],
      "metadata": {
        "id": "H78DTA9u9-pK"
      }
    },
    {
      "cell_type": "code",
      "source": [
        "\n",
        "C = [.0001, .001, .01]\n",
        "\n",
        "\n",
        "gamma = [.0001, .001, .01, .1, 1, 10, 100]\n",
        "\n",
        "\n",
        "degree = [1, 2, 3, 4, 5]\n",
        "\n",
        "\n",
        "kernel = ['linear', 'rbf', 'poly']\n",
        "\n",
        "\n",
        "probability = [True]\n",
        "\n",
        "\n",
        "random_grid = {'C': C,\n",
        "              'kernel': kernel,\n",
        "              'gamma': gamma,\n",
        "              'degree': degree,\n",
        "              'probability': probability\n",
        "             }\n",
        "\n",
        "svc = svm.SVC(random_state=8)\n",
        "\n",
        "\n",
        "random_search = RandomizedSearchCV(estimator=svc,\n",
        "                                   param_distributions=random_grid,\n",
        "                                   n_iter=10,\n",
        "                                   scoring=score_metrics,\n",
        "                                   refit='F1',\n",
        "                                   cv=10, \n",
        "                                   verbose=1, \n",
        "                                   random_state=8,\n",
        "                                   n_jobs =-1)\n",
        "\n",
        "\n",
        "random_search.fit(features_train, preProcessor.labels_train)\n",
        "\n",
        "print(\"Os melhores hiperparâmetros encontrados com o Radom Search são:\")\n",
        "print(random_search.best_params_)\n",
        "print(\"\")\n",
        "print(\"A macro F1 obtida com esses hiperparâmetros é:\")\n",
        "print(random_search.best_score_)"
      ],
      "metadata": {
        "colab": {
          "base_uri": "https://localhost:8080/"
        },
        "id": "8HP_mN1w-C3H",
        "outputId": "ed9a249f-6051-4a92-f560-4327a9779814"
      },
      "execution_count": 1218,
      "outputs": [
        {
          "output_type": "stream",
          "name": "stdout",
          "text": [
            "Fitting 10 folds for each of 10 candidates, totalling 100 fits\n",
            "Os melhores hiperparâmetros encontrados com o Radom Search são:\n",
            "{'probability': True, 'kernel': 'poly', 'gamma': 10, 'degree': 4, 'C': 0.01}\n",
            "\n",
            "A macro F1 obtida com esses hiperparâmetros é:\n",
            "0.5397300091387451\n"
          ]
        }
      ]
    },
    {
      "cell_type": "code",
      "source": [
        "results = random_search.cv_results_\n",
        "\n",
        "best_svm = random_search.best_estimator_ \n",
        "\n",
        "best_scorer_index = np.nonzero(results['rank_test_F1'] == 1)[0][0]\n",
        "best_svm.fit(features_train, preProcessor.labels_train)\n",
        "svm_pred = best_svm.predict(features_test)\n",
        "\n",
        "f1,acc = display_results(preProcessor,svm_pred)"
      ],
      "metadata": {
        "colab": {
          "base_uri": "https://localhost:8080/",
          "height": 578
        },
        "id": "-5OCmWN-_Syu",
        "outputId": "b9a6dcc5-6762-403d-d2e4-57a30f0400e4"
      },
      "execution_count": 1219,
      "outputs": [
        {
          "output_type": "stream",
          "name": "stdout",
          "text": [
            "              precision    recall  f1-score   support\n",
            "\n",
            "           0       0.83      0.56      0.67         9\n",
            "           1       0.82      0.69      0.75        13\n",
            "           2       0.50      1.00      0.67         5\n",
            "\n",
            "    accuracy                           0.70        27\n",
            "   macro avg       0.72      0.75      0.69        27\n",
            "weighted avg       0.76      0.70      0.71        27\n",
            "\n"
          ]
        },
        {
          "output_type": "display_data",
          "data": {
            "text/plain": [
              "<Figure size 921.6x432 with 2 Axes>"
            ],
            "image/png": "[encoded data removed]"
          },
          "metadata": {}
        }
      ]
    },
    {
      "cell_type": "markdown",
      "source": [
        "É notório que o modelo de SVM não performou bem, obtendo um bom resultado na classe 0 porém obtendo erros entre a classe 1 e 2, semelhante ao que observamos com o Random Forest. A classe 0 possui uma acurácia melhor utilizando este modelo. \n",
        "\n",
        "Visto que a classe 0 é a mais distinta em mais de um modelo, ratifica que a ideia de que há uma maior dificuldade entre as classes 1 e 2.\n"
      ],
      "metadata": {
        "id": "ki_qE85pBLsW"
      }
    },
    {
      "cell_type": "code",
      "source": [
        "d = {\n",
        "     'Estimator': 'SVM',\n",
        "     'Cross-validation Scores': (round(results['mean_test_F1'][best_scorer_index],3), round(results['mean_test_Accuracy'][best_scorer_index],3)),\n",
        "     'Test Set Scores': (round(f1,3), round(acc,3))\n",
        "}\n",
        "\n",
        "df_estimators_scores = df_estimators_scores.append(d, ignore_index=True)\n",
        "\n",
        "df_estimators_scores"
      ],
      "metadata": {
        "colab": {
          "base_uri": "https://localhost:8080/",
          "height": 112
        },
        "id": "LAbmq7lOHoEl",
        "outputId": "9110c6b8-fa32-485a-c418-a3a1900c5b12"
      },
      "execution_count": 1220,
      "outputs": [
        {
          "output_type": "execute_result",
          "data": {
            "text/plain": [
              "       Estimator Cross-validation Scores Test Set Scores\n",
              "0  Random Forest           (0.597, 0.62)  (0.589, 0.593)\n",
              "1            SVM           (0.54, 0.556)  (0.694, 0.704)"
            ],
            "text/html": [
              "\n",
              "  <div id=\"df-29f00502-90bb-4ae0-af2e-cd4c5e083441\">\n",
              "    <div class=\"colab-df-container\">\n",
              "      <div>\n",
              "<style scoped>\n",
              "    .dataframe tbody tr th:only-of-type {\n",
              "        vertical-align: middle;\n",
              "    }\n",
              "\n",
              "    .dataframe tbody tr th {\n",
              "        vertical-align: top;\n",
              "    }\n",
              "\n",
              "    .dataframe thead th {\n",
              "        text-align: right;\n",
              "    }\n",
              "</style>\n",
              "<table border=\"1\" class=\"dataframe\">\n",
              "  <thead>\n",
              "    <tr style=\"text-align: right;\">\n",
              "      <th></th>\n",
              "      <th>Estimator</th>\n",
              "      <th>Cross-validation Scores</th>\n",
              "      <th>Test Set Scores</th>\n",
              "    </tr>\n",
              "  </thead>\n",
              "  <tbody>\n",
              "    <tr>\n",
              "      <th>0</th>\n",
              "      <td>Random Forest</td>\n",
              "      <td>(0.597, 0.62)</td>\n",
              "      <td>(0.589, 0.593)</td>\n",
              "    </tr>\n",
              "    <tr>\n",
              "      <th>1</th>\n",
              "      <td>SVM</td>\n",
              "      <td>(0.54, 0.556)</td>\n",
              "      <td>(0.694, 0.704)</td>\n",
              "    </tr>\n",
              "  </tbody>\n",
              "</table>\n",
              "</div>\n",
              "      <button class=\"colab-df-convert\" onclick=\"convertToInteractive('df-29f00502-90bb-4ae0-af2e-cd4c5e083441')\"\n",
              "              title=\"Convert this dataframe to an interactive table.\"\n",
              "              style=\"display:none;\">\n",
              "        \n",
              "  <svg xmlns=\"http://www.w3.org/2000/svg\" height=\"24px\"viewBox=\"0 0 24 24\"\n",
              "       width=\"24px\">\n",
              "    <path d=\"M0 0h24v24H0V0z\" fill=\"none\"/>\n",
              "    <path d=\"M18.56 5.44l.94 2.06.94-2.06 2.06-.94-2.06-.94-.94-2.06-.94 2.06-2.06.94zm-11 1L8.5 8.5l.94-2.06 2.06-.94-2.06-.94L8.5 2.5l-.94 2.06-2.06.94zm10 10l.94 2.06.94-2.06 2.06-.94-2.06-.94-.94-2.06-.94 2.06-2.06.94z\"/><path d=\"M17.41 7.96l-1.37-1.37c-.4-.4-.92-.59-1.43-.59-.52 0-1.04.2-1.43.59L10.3 9.45l-7.72 7.72c-.78.78-.78 2.05 0 2.83L4 21.41c.39.39.9.59 1.41.59.51 0 1.02-.2 1.41-.59l7.78-7.78 2.81-2.81c.8-.78.8-2.07 0-2.86zM5.41 20L4 18.59l7.72-7.72 1.47 1.35L5.41 20z\"/>\n",
              "  </svg>\n",
              "      </button>\n",
              "      \n",
              "  <style>\n",
              "    .colab-df-container {\n",
              "      display:flex;\n",
              "      flex-wrap:wrap;\n",
              "      gap: 12px;\n",
              "    }\n",
              "\n",
              "    .colab-df-convert {\n",
              "      background-color: #E8F0FE;\n",
              "      border: none;\n",
              "      border-radius: 50%;\n",
              "      cursor: pointer;\n",
              "      display: none;\n",
              "      fill: #1967D2;\n",
              "      height: 32px;\n",
              "      padding: 0 0 0 0;\n",
              "      width: 32px;\n",
              "    }\n",
              "\n",
              "    .colab-df-convert:hover {\n",
              "      background-color: #E2EBFA;\n",
              "      box-shadow: 0px 1px 2px rgba(60, 64, 67, 0.3), 0px 1px 3px 1px rgba(60, 64, 67, 0.15);\n",
              "      fill: #174EA6;\n",
              "    }\n",
              "\n",
              "    [theme=dark] .colab-df-convert {\n",
              "      background-color: #3B4455;\n",
              "      fill: #D2E3FC;\n",
              "    }\n",
              "\n",
              "    [theme=dark] .colab-df-convert:hover {\n",
              "      background-color: #434B5C;\n",
              "      box-shadow: 0px 1px 3px 1px rgba(0, 0, 0, 0.15);\n",
              "      filter: drop-shadow(0px 1px 2px rgba(0, 0, 0, 0.3));\n",
              "      fill: #FFFFFF;\n",
              "    }\n",
              "  </style>\n",
              "\n",
              "      <script>\n",
              "        const buttonEl =\n",
              "          document.querySelector('#df-29f00502-90bb-4ae0-af2e-cd4c5e083441 button.colab-df-convert');\n",
              "        buttonEl.style.display =\n",
              "          google.colab.kernel.accessAllowed ? 'block' : 'none';\n",
              "\n",
              "        async function convertToInteractive(key) {\n",
              "          const element = document.querySelector('#df-29f00502-90bb-4ae0-af2e-cd4c5e083441');\n",
              "          const dataTable =\n",
              "            await google.colab.kernel.invokeFunction('convertToInteractive',\n",
              "                                                     [key], {});\n",
              "          if (!dataTable) return;\n",
              "\n",
              "          const docLinkHtml = 'Like what you see? Visit the ' +\n",
              "            '<a target=\"_blank\" href=https://colab.research.google.com/notebooks/data_table.ipynb>data table notebook</a>'\n",
              "            + ' to learn more about interactive tables.';\n",
              "          element.innerHTML = '';\n",
              "          dataTable['output_type'] = 'display_data';\n",
              "          await google.colab.output.renderOutput(dataTable, element);\n",
              "          const docLink = document.createElement('div');\n",
              "          docLink.innerHTML = docLinkHtml;\n",
              "          element.appendChild(docLink);\n",
              "        }\n",
              "      </script>\n",
              "    </div>\n",
              "  </div>\n",
              "  "
            ]
          },
          "metadata": {},
          "execution_count": 1220
        }
      ]
    },
    {
      "cell_type": "markdown",
      "source": [
        "## 3. Multinomial Naïve Bayes\n"
      ],
      "metadata": {
        "id": "BWhYjjP-Cs4g"
      }
    },
    {
      "cell_type": "code",
      "source": [
        "mnbc = MultinomialNB(alpha=0.433,force_alpha=False,fit_prior=True)\n",
        "mnbc.fit(features_train, preProcessor.labels_train)\n",
        "mnbc_pred = mnbc.predict(features_test)\n",
        "f1,acc = display_results(preProcessor, mnbc_pred)\n",
        "\n"
      ],
      "metadata": {
        "colab": {
          "base_uri": "https://localhost:8080/",
          "height": 578
        },
        "id": "ibjK8J1TDAyh",
        "outputId": "9f4a200e-38ec-4a53-8f2d-7a8b18d2cf07"
      },
      "execution_count": 1221,
      "outputs": [
        {
          "output_type": "stream",
          "name": "stdout",
          "text": [
            "              precision    recall  f1-score   support\n",
            "\n",
            "           0       0.78      0.78      0.78         9\n",
            "           1       0.89      0.62      0.73        13\n",
            "           2       0.56      1.00      0.71         5\n",
            "\n",
            "    accuracy                           0.74        27\n",
            "   macro avg       0.74      0.80      0.74        27\n",
            "weighted avg       0.79      0.74      0.74        27\n",
            "\n"
          ]
        },
        {
          "output_type": "display_data",
          "data": {
            "text/plain": [
              "<Figure size 921.6x432 with 2 Axes>"
            ],
            "image/png": "[encoded data removed]"
          },
          "metadata": {}
        }
      ]
    },
    {
      "cell_type": "markdown",
      "source": [
        "Fizemos a tunagem de parâmetro de 0.0, 0.5, 0.1, obtendo bons resultados entre 0.0 e 0.433. \n",
        "\n",
        "Semelhante aos demais modelos, podemos observar uma tendência de erro entre as a classificação da classe 1 como 2. "
      ],
      "metadata": {
        "id": "WZTQIJHOJku0"
      }
    },
    {
      "cell_type": "code",
      "source": [
        "\n",
        "\n",
        "scores = cross_validate(mnbc, features_train, preProcessor.labels_train, scoring=score_metrics, cv=10, return_train_score=True)\n",
        "print(scores.keys())\n",
        "print(scores['test_F1'])"
      ],
      "metadata": {
        "colab": {
          "base_uri": "https://localhost:8080/"
        },
        "id": "quhKzrl2RzxU",
        "outputId": "d8eca144-aaa7-4f39-e6d1-0d8285737aa7"
      },
      "execution_count": 1222,
      "outputs": [
        {
          "output_type": "stream",
          "name": "stdout",
          "text": [
            "dict_keys(['fit_time', 'score_time', 'test_F1', 'train_F1', 'test_Accuracy', 'train_Accuracy'])\n",
            "[0.83839406 0.81388889 0.79047619 0.6521164  0.82633053 0.77593431\n",
            " 0.77593431 0.65555556 0.75       0.61598441]\n"
          ]
        }
      ]
    },
    {
      "cell_type": "markdown",
      "source": [
        "Podemos notar que o Cross validation teve valores bem divergentes entre os folds, indicando que possuímos Folds mais reprentativos e outros menos representativos."
      ],
      "metadata": {
        "id": "d8nrz7RzR4wN"
      }
    },
    {
      "cell_type": "code",
      "source": [
        "print(\"Cross-validation scores\")\n",
        "print(\"F1: %.3f - Accuracy: %.3f \" % (round(np.mean(scores['test_F1']),3), round(np.mean(scores['test_Accuracy']),3)))\n",
        "print('---------------------------')\n",
        "print(\"Test scores\")\n",
        "print(\"F1: %.3f - Accuracy: %.3f \" % (f1, acc))"
      ],
      "metadata": {
        "colab": {
          "base_uri": "https://localhost:8080/"
        },
        "id": "ntPu9k-HDX-F",
        "outputId": "d7a876d5-5923-40e6-be22-3b43b9df3906"
      },
      "execution_count": 1223,
      "outputs": [
        {
          "output_type": "stream",
          "name": "stdout",
          "text": [
            "Cross-validation scores\n",
            "F1: 0.749 - Accuracy: 0.759 \n",
            "---------------------------\n",
            "Test scores\n",
            "F1: 0.740 - Accuracy: 0.741 \n"
          ]
        }
      ]
    },
    {
      "cell_type": "code",
      "source": [
        "d = {\n",
        "     'Estimator': 'MultinomialNB',\n",
        "     'Cross-validation Scores': (round(np.mean(scores['test_F1']),3), round(np.mean(scores['test_Accuracy']),3)),\n",
        "     'Test Set Scores': (round(f1,3), round(acc,3))\n",
        "}\n",
        "\n",
        "df_estimators_scores = df_estimators_scores.append(d, ignore_index=True)\n",
        "df_estimators_scores"
      ],
      "metadata": {
        "colab": {
          "base_uri": "https://localhost:8080/",
          "height": 143
        },
        "id": "pKYn5f3cHJTn",
        "outputId": "b421f18d-6a36-401e-aabe-7940241ccd22"
      },
      "execution_count": 1224,
      "outputs": [
        {
          "output_type": "execute_result",
          "data": {
            "text/plain": [
              "       Estimator Cross-validation Scores Test Set Scores\n",
              "0  Random Forest           (0.597, 0.62)  (0.589, 0.593)\n",
              "1            SVM           (0.54, 0.556)  (0.694, 0.704)\n",
              "2  MultinomialNB          (0.749, 0.759)   (0.74, 0.741)"
            ],
            "text/html": [
              "\n",
              "  <div id=\"df-3c2001c7-19ab-417e-93a3-73c7fd78d132\">\n",
              "    <div class=\"colab-df-container\">\n",
              "      <div>\n",
              "<style scoped>\n",
              "    .dataframe tbody tr th:only-of-type {\n",
              "        vertical-align: middle;\n",
              "    }\n",
              "\n",
              "    .dataframe tbody tr th {\n",
              "        vertical-align: top;\n",
              "    }\n",
              "\n",
              "    .dataframe thead th {\n",
              "        text-align: right;\n",
              "    }\n",
              "</style>\n",
              "<table border=\"1\" class=\"dataframe\">\n",
              "  <thead>\n",
              "    <tr style=\"text-align: right;\">\n",
              "      <th></th>\n",
              "      <th>Estimator</th>\n",
              "      <th>Cross-validation Scores</th>\n",
              "      <th>Test Set Scores</th>\n",
              "    </tr>\n",
              "  </thead>\n",
              "  <tbody>\n",
              "    <tr>\n",
              "      <th>0</th>\n",
              "      <td>Random Forest</td>\n",
              "      <td>(0.597, 0.62)</td>\n",
              "      <td>(0.589, 0.593)</td>\n",
              "    </tr>\n",
              "    <tr>\n",
              "      <th>1</th>\n",
              "      <td>SVM</td>\n",
              "      <td>(0.54, 0.556)</td>\n",
              "      <td>(0.694, 0.704)</td>\n",
              "    </tr>\n",
              "    <tr>\n",
              "      <th>2</th>\n",
              "      <td>MultinomialNB</td>\n",
              "      <td>(0.749, 0.759)</td>\n",
              "      <td>(0.74, 0.741)</td>\n",
              "    </tr>\n",
              "  </tbody>\n",
              "</table>\n",
              "</div>\n",
              "      <button class=\"colab-df-convert\" onclick=\"convertToInteractive('df-3c2001c7-19ab-417e-93a3-73c7fd78d132')\"\n",
              "              title=\"Convert this dataframe to an interactive table.\"\n",
              "              style=\"display:none;\">\n",
              "        \n",
              "  <svg xmlns=\"http://www.w3.org/2000/svg\" height=\"24px\"viewBox=\"0 0 24 24\"\n",
              "       width=\"24px\">\n",
              "    <path d=\"M0 0h24v24H0V0z\" fill=\"none\"/>\n",
              "    <path d=\"M18.56 5.44l.94 2.06.94-2.06 2.06-.94-2.06-.94-.94-2.06-.94 2.06-2.06.94zm-11 1L8.5 8.5l.94-2.06 2.06-.94-2.06-.94L8.5 2.5l-.94 2.06-2.06.94zm10 10l.94 2.06.94-2.06 2.06-.94-2.06-.94-.94-2.06-.94 2.06-2.06.94z\"/><path d=\"M17.41 7.96l-1.37-1.37c-.4-.4-.92-.59-1.43-.59-.52 0-1.04.2-1.43.59L10.3 9.45l-7.72 7.72c-.78.78-.78 2.05 0 2.83L4 21.41c.39.39.9.59 1.41.59.51 0 1.02-.2 1.41-.59l7.78-7.78 2.81-2.81c.8-.78.8-2.07 0-2.86zM5.41 20L4 18.59l7.72-7.72 1.47 1.35L5.41 20z\"/>\n",
              "  </svg>\n",
              "      </button>\n",
              "      \n",
              "  <style>\n",
              "    .colab-df-container {\n",
              "      display:flex;\n",
              "      flex-wrap:wrap;\n",
              "      gap: 12px;\n",
              "    }\n",
              "\n",
              "    .colab-df-convert {\n",
              "      background-color: #E8F0FE;\n",
              "      border: none;\n",
              "      border-radius: 50%;\n",
              "      cursor: pointer;\n",
              "      display: none;\n",
              "      fill: #1967D2;\n",
              "      height: 32px;\n",
              "      padding: 0 0 0 0;\n",
              "      width: 32px;\n",
              "    }\n",
              "\n",
              "    .colab-df-convert:hover {\n",
              "      background-color: #E2EBFA;\n",
              "      box-shadow: 0px 1px 2px rgba(60, 64, 67, 0.3), 0px 1px 3px 1px rgba(60, 64, 67, 0.15);\n",
              "      fill: #174EA6;\n",
              "    }\n",
              "\n",
              "    [theme=dark] .colab-df-convert {\n",
              "      background-color: #3B4455;\n",
              "      fill: #D2E3FC;\n",
              "    }\n",
              "\n",
              "    [theme=dark] .colab-df-convert:hover {\n",
              "      background-color: #434B5C;\n",
              "      box-shadow: 0px 1px 3px 1px rgba(0, 0, 0, 0.15);\n",
              "      filter: drop-shadow(0px 1px 2px rgba(0, 0, 0, 0.3));\n",
              "      fill: #FFFFFF;\n",
              "    }\n",
              "  </style>\n",
              "\n",
              "      <script>\n",
              "        const buttonEl =\n",
              "          document.querySelector('#df-3c2001c7-19ab-417e-93a3-73c7fd78d132 button.colab-df-convert');\n",
              "        buttonEl.style.display =\n",
              "          google.colab.kernel.accessAllowed ? 'block' : 'none';\n",
              "\n",
              "        async function convertToInteractive(key) {\n",
              "          const element = document.querySelector('#df-3c2001c7-19ab-417e-93a3-73c7fd78d132');\n",
              "          const dataTable =\n",
              "            await google.colab.kernel.invokeFunction('convertToInteractive',\n",
              "                                                     [key], {});\n",
              "          if (!dataTable) return;\n",
              "\n",
              "          const docLinkHtml = 'Like what you see? Visit the ' +\n",
              "            '<a target=\"_blank\" href=https://colab.research.google.com/notebooks/data_table.ipynb>data table notebook</a>'\n",
              "            + ' to learn more about interactive tables.';\n",
              "          element.innerHTML = '';\n",
              "          dataTable['output_type'] = 'display_data';\n",
              "          await google.colab.output.renderOutput(dataTable, element);\n",
              "          const docLink = document.createElement('div');\n",
              "          docLink.innerHTML = docLinkHtml;\n",
              "          element.appendChild(docLink);\n",
              "        }\n",
              "      </script>\n",
              "    </div>\n",
              "  </div>\n",
              "  "
            ]
          },
          "metadata": {},
          "execution_count": 1224
        }
      ]
    },
    {
      "cell_type": "markdown",
      "source": [
        "# Análise do modelo\n",
        "\n",
        "\n",
        "Vamos escolher o modelo gerado com o algoritmo Naive Bayes por ter alcançado os melhores indicadores."
      ],
      "metadata": {
        "id": "i3RnqvG1HKaT"
      }
    },
    {
      "cell_type": "code",
      "source": [
        "predictions = mnbc.predict(features_test)"
      ],
      "metadata": {
        "id": "XDAnAdtAKhl-"
      },
      "execution_count": 1225,
      "outputs": []
    },
    {
      "cell_type": "code",
      "source": [
        "# Indexes of the test set\n",
        "index_X_test = test_df.index\n",
        "\n",
        "# We get them from the original df\n",
        "df_test = df.loc[index_X_test]\n",
        "\n",
        "# Add the predictions\n",
        "\n",
        "df_test['Prediction'] = predictions\n",
        "\n",
        "# Clean columns\n",
        "df_test = df_test[['parsed', 'classe', 'Prediction']]\n",
        "\n",
        "# Decode\n",
        "df_test['classe_Predicted'] = df_test['Prediction']\n",
        "\n",
        "# Clean columns again\n",
        "df_test = df_test[['parsed', 'classe', 'classe_Predicted']]"
      ],
      "metadata": {
        "id": "oSlOnIL1O6h_"
      },
      "execution_count": 1226,
      "outputs": []
    },
    {
      "cell_type": "code",
      "source": [
        "condition = (df_test['classe'] != df_test['classe_Predicted'])\n",
        "\n",
        "df_misclassified = df_test[condition]\n",
        "\n",
        "df_misclassified"
      ],
      "metadata": {
        "colab": {
          "base_uri": "https://localhost:8080/",
          "height": 269
        },
        "id": "01RbdEdwNKJ4",
        "outputId": "702640af-b215-4561-e9dd-cf4e26c6c17a"
      },
      "execution_count": 1227,
      "outputs": [
        {
          "output_type": "execute_result",
          "data": {
            "text/plain": [
              "                                                parsed classe  \\\n",
              "95   oau op auth spec cli apply access protect reso...      1   \n",
              "12   nashorn op sourc jvm bas javascrib engin repla...      0   \n",
              "260  jruby op sourc jav impl ruby program langu rub...      1   \n",
              "78   graphql dat query langu describ complex nest d...      0   \n",
              "4             kubernet op sourc impl contain clust man      1   \n",
              "242  neventst ak jol eventst disambigu geteventst c...      1   \n",
              "181  tensorflow op sourc libr machin learn machin i...      1   \n",
              "\n",
              "     classe_Predicted  \n",
              "95                  0  \n",
              "12                  1  \n",
              "260                 0  \n",
              "78                  2  \n",
              "4                   2  \n",
              "242                 2  \n",
              "181                 2  "
            ],
            "text/html": [
              "\n",
              "  <div id=\"df-550bd931-dbff-481a-9ec9-eb84128654aa\">\n",
              "    <div class=\"colab-df-container\">\n",
              "      <div>\n",
              "<style scoped>\n",
              "    .dataframe tbody tr th:only-of-type {\n",
              "        vertical-align: middle;\n",
              "    }\n",
              "\n",
              "    .dataframe tbody tr th {\n",
              "        vertical-align: top;\n",
              "    }\n",
              "\n",
              "    .dataframe thead th {\n",
              "        text-align: right;\n",
              "    }\n",
              "</style>\n",
              "<table border=\"1\" class=\"dataframe\">\n",
              "  <thead>\n",
              "    <tr style=\"text-align: right;\">\n",
              "      <th></th>\n",
              "      <th>parsed</th>\n",
              "      <th>classe</th>\n",
              "      <th>classe_Predicted</th>\n",
              "    </tr>\n",
              "  </thead>\n",
              "  <tbody>\n",
              "    <tr>\n",
              "      <th>95</th>\n",
              "      <td>oau op auth spec cli apply access protect reso...</td>\n",
              "      <td>1</td>\n",
              "      <td>0</td>\n",
              "    </tr>\n",
              "    <tr>\n",
              "      <th>12</th>\n",
              "      <td>nashorn op sourc jvm bas javascrib engin repla...</td>\n",
              "      <td>0</td>\n",
              "      <td>1</td>\n",
              "    </tr>\n",
              "    <tr>\n",
              "      <th>260</th>\n",
              "      <td>jruby op sourc jav impl ruby program langu rub...</td>\n",
              "      <td>1</td>\n",
              "      <td>0</td>\n",
              "    </tr>\n",
              "    <tr>\n",
              "      <th>78</th>\n",
              "      <td>graphql dat query langu describ complex nest d...</td>\n",
              "      <td>0</td>\n",
              "      <td>2</td>\n",
              "    </tr>\n",
              "    <tr>\n",
              "      <th>4</th>\n",
              "      <td>kubernet op sourc impl contain clust man</td>\n",
              "      <td>1</td>\n",
              "      <td>2</td>\n",
              "    </tr>\n",
              "    <tr>\n",
              "      <th>242</th>\n",
              "      <td>neventst ak jol eventst disambigu geteventst c...</td>\n",
              "      <td>1</td>\n",
              "      <td>2</td>\n",
              "    </tr>\n",
              "    <tr>\n",
              "      <th>181</th>\n",
              "      <td>tensorflow op sourc libr machin learn machin i...</td>\n",
              "      <td>1</td>\n",
              "      <td>2</td>\n",
              "    </tr>\n",
              "  </tbody>\n",
              "</table>\n",
              "</div>\n",
              "      <button class=\"colab-df-convert\" onclick=\"convertToInteractive('df-550bd931-dbff-481a-9ec9-eb84128654aa')\"\n",
              "              title=\"Convert this dataframe to an interactive table.\"\n",
              "              style=\"display:none;\">\n",
              "        \n",
              "  <svg xmlns=\"http://www.w3.org/2000/svg\" height=\"24px\"viewBox=\"0 0 24 24\"\n",
              "       width=\"24px\">\n",
              "    <path d=\"M0 0h24v24H0V0z\" fill=\"none\"/>\n",
              "    <path d=\"M18.56 5.44l.94 2.06.94-2.06 2.06-.94-2.06-.94-.94-2.06-.94 2.06-2.06.94zm-11 1L8.5 8.5l.94-2.06 2.06-.94-2.06-.94L8.5 2.5l-.94 2.06-2.06.94zm10 10l.94 2.06.94-2.06 2.06-.94-2.06-.94-.94-2.06-.94 2.06-2.06.94z\"/><path d=\"M17.41 7.96l-1.37-1.37c-.4-.4-.92-.59-1.43-.59-.52 0-1.04.2-1.43.59L10.3 9.45l-7.72 7.72c-.78.78-.78 2.05 0 2.83L4 21.41c.39.39.9.59 1.41.59.51 0 1.02-.2 1.41-.59l7.78-7.78 2.81-2.81c.8-.78.8-2.07 0-2.86zM5.41 20L4 18.59l7.72-7.72 1.47 1.35L5.41 20z\"/>\n",
              "  </svg>\n",
              "      </button>\n",
              "      \n",
              "  <style>\n",
              "    .colab-df-container {\n",
              "      display:flex;\n",
              "      flex-wrap:wrap;\n",
              "      gap: 12px;\n",
              "    }\n",
              "\n",
              "    .colab-df-convert {\n",
              "      background-color: #E8F0FE;\n",
              "      border: none;\n",
              "      border-radius: 50%;\n",
              "      cursor: pointer;\n",
              "      display: none;\n",
              "      fill: #1967D2;\n",
              "      height: 32px;\n",
              "      padding: 0 0 0 0;\n",
              "      width: 32px;\n",
              "    }\n",
              "\n",
              "    .colab-df-convert:hover {\n",
              "      background-color: #E2EBFA;\n",
              "      box-shadow: 0px 1px 2px rgba(60, 64, 67, 0.3), 0px 1px 3px 1px rgba(60, 64, 67, 0.15);\n",
              "      fill: #174EA6;\n",
              "    }\n",
              "\n",
              "    [theme=dark] .colab-df-convert {\n",
              "      background-color: #3B4455;\n",
              "      fill: #D2E3FC;\n",
              "    }\n",
              "\n",
              "    [theme=dark] .colab-df-convert:hover {\n",
              "      background-color: #434B5C;\n",
              "      box-shadow: 0px 1px 3px 1px rgba(0, 0, 0, 0.15);\n",
              "      filter: drop-shadow(0px 1px 2px rgba(0, 0, 0, 0.3));\n",
              "      fill: #FFFFFF;\n",
              "    }\n",
              "  </style>\n",
              "\n",
              "      <script>\n",
              "        const buttonEl =\n",
              "          document.querySelector('#df-550bd931-dbff-481a-9ec9-eb84128654aa button.colab-df-convert');\n",
              "        buttonEl.style.display =\n",
              "          google.colab.kernel.accessAllowed ? 'block' : 'none';\n",
              "\n",
              "        async function convertToInteractive(key) {\n",
              "          const element = document.querySelector('#df-550bd931-dbff-481a-9ec9-eb84128654aa');\n",
              "          const dataTable =\n",
              "            await google.colab.kernel.invokeFunction('convertToInteractive',\n",
              "                                                     [key], {});\n",
              "          if (!dataTable) return;\n",
              "\n",
              "          const docLinkHtml = 'Like what you see? Visit the ' +\n",
              "            '<a target=\"_blank\" href=https://colab.research.google.com/notebooks/data_table.ipynb>data table notebook</a>'\n",
              "            + ' to learn more about interactive tables.';\n",
              "          element.innerHTML = '';\n",
              "          dataTable['output_type'] = 'display_data';\n",
              "          await google.colab.output.renderOutput(dataTable, element);\n",
              "          const docLink = document.createElement('div');\n",
              "          docLink.innerHTML = docLinkHtml;\n",
              "          element.appendChild(docLink);\n",
              "        }\n",
              "      </script>\n",
              "    </div>\n",
              "  </div>\n",
              "  "
            ]
          },
          "metadata": {},
          "execution_count": 1227
        }
      ]
    },
    {
      "cell_type": "code",
      "source": [
        "df_misclassified.classe_Predicted.value_counts()"
      ],
      "metadata": {
        "colab": {
          "base_uri": "https://localhost:8080/"
        },
        "id": "sddWWGQaNVQI",
        "outputId": "f3624c67-3543-4b65-b5a0-02d1671c84d1"
      },
      "execution_count": 1228,
      "outputs": [
        {
          "output_type": "execute_result",
          "data": {
            "text/plain": [
              "2    4\n",
              "0    2\n",
              "1    1\n",
              "Name: classe_Predicted, dtype: int64"
            ]
          },
          "metadata": {},
          "execution_count": 1228
        }
      ]
    },
    {
      "cell_type": "markdown",
      "source": [
        "Conforme haviamos analisado anteriormente, vemos que o modelo possui uma alta taxa de erro quando tenta classificar a classe 1. Nestes casos, ela é considerada como a classe 2. \n",
        "\n",
        "A fim de tentar resolver esse problema iremos tentar rebalancear a base de treino."
      ],
      "metadata": {
        "id": "yNx_-G_FOZ9r"
      }
    },
    {
      "cell_type": "markdown",
      "source": [
        "Dentre as linhas que não foram identificadas, podemos destacar a linha 95, OAuth, que foi classificada como Plataforma, porém, à vista dos analistas, poderia ser considerada uma ferramenta. \n",
        "\n",
        "Da mesma forma, na linha 181, Tensor Flow poderia ser classificado como uma ferramenta, já que é uma biblioteca dentro de uma linguagem. \n"
      ],
      "metadata": {
        "id": "H6wu2FsQQU-3"
      }
    },
    {
      "cell_type": "markdown",
      "source": [
        "1. Foi notado dentre as palavras identificadas que SOURC e suas variáveis são a maior parte da confusão entre o grupo 1 e 2. Iremos adicionar esse stemm no stop_words.\n",
        "\n",
        "Resultado:\n",
        "\n",
        "Não houve qualquer melhora ou piora. Os resultados do conjunto de teste foi idêntico.\n"
      ],
      "metadata": {
        "id": "8lE0miKNgxq5"
      }
    },
    {
      "cell_type": "markdown",
      "source": [
        "2. Outra tentativa que tentaremos realizar será a de diminuir ainda mais o min_df e aumentar o max_df do tfidf a fim de verificar se a análise identifica os nomes das plataformas como palavras chave.\n",
        "\n",
        "\n",
        "Resultado:\n",
        "\n",
        "Obtivemos um resultado bem pior que o anterior, mostrando que o modelo não conseguiu generalizar as classes.\n",
        "\n",
        "|Estimator|\tCross-validation| Scores|\tTest Set Scores|\n",
        "|----|----|----|---|\n",
        "0|\tRandom Forest|\t(0.173, 0.35)|\t(0.104, 0.185)|\n",
        "1|\tSVM\t|(0.173, 0.35)|\t(0.104, 0.185)|\n",
        "2|\tMultinomialNB\t|(0.173, 0.35)|\t(0.537, 0.556)|"
      ],
      "metadata": {
        "id": "yWKYxZQNhC2G"
      }
    },
    {
      "cell_type": "markdown",
      "source": [
        "3. Foi realizado a tentativa de aumentar min_df e diminuir max_df a fim de verificar a alteração na performance.\n",
        "\n",
        "Resultado:\n",
        "\n",
        "\n",
        "original \n",
        "\n",
        "\n",
        "|\tEstimator\t|Cross-validation| Scores|\tTest Set Scores|\n",
        "|-----|----|----|----|\n",
        "0|\tRandom Forest\t|(0.597, 0.62)|\t(0.589, 0.593)\n",
        "1|\tSVM\t|(0.54, 0.556)|\t(0.694, 0.704)\n",
        "2|\tMultinomialNB\t|(0.749, 0.759)|\t(0.74, 0.741)\n",
        "\n",
        "\n",
        "Foi notado uma melhora considerável utilizando min_df = 0.03 e max_df = 0.97.\n",
        "\n",
        "|Estimator|\tCross-validation| Scores|\tTest Set Scores|\n",
        "|----|----|----|---|\n",
        "0|\tRandom Forest|(0.605, 0.616)\t|(0.606, 0.63)\n",
        "1\t|SVM\t|(0.442, 0.484)\t|(0.622, 0.63)\n",
        "2\t|MultinomialNB\t|(0.659, 0.666)\t|(0.78, 0.778)\n",
        "\n",
        "\n",
        "\n",
        "\n",
        "min_df = 0.1 e max_df = 0.90.\n",
        "\n",
        "|Estimator|\tCross-validation| Scores|\tTest Set Scores|\n",
        "|----|----|----|---|\n",
        "0|\tRandom Forest|\t(0.545, 0.565)\t|(0.533, 0.556)\n",
        "1\t|SVM\t|(0.418, 0.439)\t|(0.408, 0.407)\n",
        "2\t|MultinomialNB\t|(0.515, 0.532)\t|(0.542, 0.556)\n",
        "\n",
        "min_df = 0.05 e max_df = 0.95.\n",
        "\n",
        "|Estimator|\tCross-validation| Scores|\tTest Set Scores|\n",
        "|----|----|----|---|\n",
        "0|\tRandom Forest|\t(0.575, 0.586)\t|(0.663, 0.667)\n",
        "1|\tSVM|\t(0.392, 0.486)|\t(0.433, 0.444)\n",
        "2|\tMultinomialNB\t|(0.626, 0.628)\t|(0.731, 0.741)\n",
        "\n",
        "min_df = 0.04 e max_df = 0.96.\n",
        "\n",
        "|Estimator|\tCross-validation| Scores|\tTest Set Scores|\n",
        "|----|----|----|---|\n",
        "0|\tRandom Forest|\t(0.568, 0.582)|\t(0.649, 0.667)\n",
        "1\t|SVM\t|(0.391, 0.489)\t|(0.353, 0.37)\n",
        "2\t|MultinomialNB|\t(0.638, 0.641)|\t(0.731, 0.741)\n",
        "\n",
        "\n",
        "\n",
        "Após essas análises, conluímos que o melhor resultado foi com  min_df = 0.03 e max_df = 0.97."
      ],
      "metadata": {
        "id": "6sxSw0NVjL9O"
      }
    },
    {
      "cell_type": "markdown",
      "source": [
        "4. Foi analisado se a distribuição desbalanceada entre as classes 1 e 2 para o conjunto de treino tem algum impacto na performance. Para isso utilizamos um conjunto (random_state=2) que possui apenas 2 dados a mais para a classe 2.\n",
        "\n",
        "Resultado:\n",
        "\n",
        "O modelo foi capaz de identificar as linhas da classe 1 que estavam sendo mal classificadas, porém obteve um resultado final pior, pois cometeu erros de classificação na classe 2. Isso nos leva a acreditar que um treinamento com todos os dados presentes pode gerar bons resultados finais.\n",
        "\n",
        "|Estimator|Cross-validation Scores|Test Set Scores\n",
        "|----|-----|----|\n",
        "0|Random Forest|(0.607, 0.616)|(0.608, 0.63)\n",
        "1|SVM|(0.392, 0.447)|(0.457, 0.519)\n",
        "2|MultinomialNB|(0.661, 0.662)|(0.777, 0.778)"
      ],
      "metadata": {
        "id": "tp5GphkCjmwz"
      }
    }
  ],
  "metadata": {
    "colab": {
      "provenance": [],
      "collapsed_sections": [
        "M0zDiFC0bu5a"
      ]
    },
    "kernelspec": {
      "display_name": "Python 3",
      "name": "python3"
    },
    "language_info": {
      "name": "python"
    }
  },
  "nbformat": 4,
  "nbformat_minor": 0
}